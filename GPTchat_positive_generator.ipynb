{
  "nbformat": 4,
  "nbformat_minor": 0,
  "metadata": {
    "colab": {
      "provenance": [],
      "authorship_tag": "ABX9TyMMqRkYeEI7vRicSrODnUaZ",
      "include_colab_link": true
    },
    "kernelspec": {
      "name": "python3",
      "display_name": "Python 3"
    },
    "language_info": {
      "name": "python"
    },
    "accelerator": "GPU",
    "gpuClass": "standard"
  },
  "cells": [
    {
      "cell_type": "markdown",
      "metadata": {
        "id": "view-in-github",
        "colab_type": "text"
      },
      "source": [
        "<a href=\"https://colab.research.google.com/github/advapplab/sentiment_analysis_election_2022/blob/main/GPTchat_positive_generator.ipynb\" target=\"_parent\"><img src=\"https://colab.research.google.com/assets/colab-badge.svg\" alt=\"Open In Colab\"/></a>"
      ]
    },
    {
      "cell_type": "markdown",
      "source": [
        "# Main code"
      ],
      "metadata": {
        "id": "qQWjzQpAJZw8"
      }
    },
    {
      "cell_type": "code",
      "execution_count": 3,
      "metadata": {
        "colab": {
          "base_uri": "https://localhost:8080/"
        },
        "id": "HZJNdUwFtQ9f",
        "outputId": "bea21c64-a417-4365-8cd6-74b6d8aa9b91"
      },
      "outputs": [
        {
          "output_type": "stream",
          "name": "stdout",
          "text": [
            "Looking in indexes: https://pypi.org/simple, https://us-python.pkg.dev/colab-wheels/public/simple/\n",
            "Requirement already satisfied: openai in /usr/local/lib/python3.8/dist-packages (0.25.0)\n",
            "Requirement already satisfied: openpyxl>=3.0.7 in /usr/local/lib/python3.8/dist-packages (from openai) (3.0.10)\n",
            "Requirement already satisfied: numpy in /usr/local/lib/python3.8/dist-packages (from openai) (1.21.6)\n",
            "Requirement already satisfied: requests>=2.20 in /usr/local/lib/python3.8/dist-packages (from openai) (2.23.0)\n",
            "Requirement already satisfied: pandas>=1.2.3 in /usr/local/lib/python3.8/dist-packages (from openai) (1.3.5)\n",
            "Requirement already satisfied: tqdm in /usr/local/lib/python3.8/dist-packages (from openai) (4.64.1)\n",
            "Requirement already satisfied: pandas-stubs>=1.1.0.11 in /usr/local/lib/python3.8/dist-packages (from openai) (1.5.2.221213)\n",
            "Requirement already satisfied: typing-extensions in /usr/local/lib/python3.8/dist-packages (from openai) (4.4.0)\n",
            "Requirement already satisfied: et-xmlfile in /usr/local/lib/python3.8/dist-packages (from openpyxl>=3.0.7->openai) (1.1.0)\n",
            "Requirement already satisfied: python-dateutil>=2.7.3 in /usr/local/lib/python3.8/dist-packages (from pandas>=1.2.3->openai) (2.8.2)\n",
            "Requirement already satisfied: pytz>=2017.3 in /usr/local/lib/python3.8/dist-packages (from pandas>=1.2.3->openai) (2022.6)\n",
            "Requirement already satisfied: types-pytz>=2022.1.1 in /usr/local/lib/python3.8/dist-packages (from pandas-stubs>=1.1.0.11->openai) (2022.6.0.1)\n",
            "Requirement already satisfied: six>=1.5 in /usr/local/lib/python3.8/dist-packages (from python-dateutil>=2.7.3->pandas>=1.2.3->openai) (1.15.0)\n",
            "Requirement already satisfied: certifi>=2017.4.17 in /usr/local/lib/python3.8/dist-packages (from requests>=2.20->openai) (2022.9.24)\n",
            "Requirement already satisfied: chardet<4,>=3.0.2 in /usr/local/lib/python3.8/dist-packages (from requests>=2.20->openai) (3.0.4)\n",
            "Requirement already satisfied: idna<3,>=2.5 in /usr/local/lib/python3.8/dist-packages (from requests>=2.20->openai) (2.10)\n",
            "Requirement already satisfied: urllib3!=1.25.0,!=1.25.1,<1.26,>=1.21.1 in /usr/local/lib/python3.8/dist-packages (from requests>=2.20->openai) (1.24.3)\n"
          ]
        }
      ],
      "source": [
        "#In this code we will get GPTchat to make us some positive sentences that we can use to train our model. \n",
        "! pip install openai"
      ]
    },
    {
      "cell_type": "code",
      "source": [
        "#get chatgpt to do some work, adjust prompts or number of requests in prompt if necessary.\n",
        "#it will usually not give you more than 20 sentences per request, even though we ask it to give us a 100. \n",
        "\n",
        "#used prompts:\"請給我100個喜歡國民黨的句子\",\"請給我100個支持蔣萬安的句子\", \"请给我30个称赞某个政治人物的句子\", \"请给我100个佩服一个人的能力的句子\", \"prompt=\"请给我100个称赞一个人的可靠性的句子\",\"\n",
        "#I used both traditional and simplified. \n",
        "import os\n",
        "import openai\n",
        "import json\n",
        "\n",
        "openai.api_key = 'INSERT KEY' #remove key when uploading to github\n",
        "bigstring = ''\n",
        "m=0\n",
        "while m<15:\n",
        "  response = openai.Completion.create(\n",
        "    model=\"text-davinci-003\",\n",
        "    prompt=\"請給我100個支持蔣萬安的句子\",\n",
        "    temperature=0.9,\n",
        "    max_tokens=4050,\n",
        "    top_p=1,\n",
        "    frequency_penalty=0.0,\n",
        "    presence_penalty=0.6,\n",
        "    stop=[\" Human:\", \" AI:\"]\n",
        "  )\n",
        "  response\n",
        "  json_object = json.loads(str(response))\n",
        "  text = json_object['choices'][0]['text']\n",
        "  bigstring = bigstring + text\n",
        "  m=m+1\n",
        "\n",
        "m=0\n",
        "while m<15:\n",
        "  response = openai.Completion.create(\n",
        "    model=\"text-davinci-003\",\n",
        "    prompt=\"請給我100個佩服蔣萬安的句子\",\n",
        "    temperature=0.9,\n",
        "    max_tokens=4050,\n",
        "    top_p=1,\n",
        "    frequency_penalty=0.0,\n",
        "    presence_penalty=0.6,\n",
        "    stop=[\" Human:\", \" AI:\"]\n",
        "  )\n",
        "  response\n",
        "  json_object = json.loads(str(response))\n",
        "  text = json_object['choices'][0]['text']\n",
        "  bigstring = bigstring + text\n",
        "  m=m+1\n",
        "\n",
        "m=0\n",
        "while m<10:\n",
        "  response = openai.Completion.create(\n",
        "    model=\"text-davinci-003\",\n",
        "    prompt=\"请给我30个称赞某个政治人物的句子\",\n",
        "    temperature=0.9,\n",
        "    max_tokens=3000,\n",
        "    top_p=1,\n",
        "    frequency_penalty=0.0,\n",
        "    presence_penalty=0.6,\n",
        "    stop=[\" Human:\", \" AI:\"]\n",
        "  )\n",
        "  response\n",
        "  json_object = json.loads(str(response))\n",
        "  text = json_object['choices'][0]['text']\n",
        "  bigstring = bigstring + text\n",
        "  m=m+1\n",
        "\n",
        "m=0\n",
        "while m<10:\n",
        "  response = openai.Completion.create(\n",
        "    model=\"text-davinci-003\",\n",
        "    prompt=\"请给我100个佩服一个人的能力的句子\",\n",
        "    temperature=0.9,\n",
        "    max_tokens=4050,\n",
        "    top_p=1,\n",
        "    frequency_penalty=0.0,\n",
        "    presence_penalty=0.6,\n",
        "    stop=[\" Human:\", \" AI:\"]\n",
        "  )\n",
        "  response\n",
        "  json_object = json.loads(str(response))\n",
        "  text = json_object['choices'][0]['text']\n",
        "  bigstring = bigstring + text\n",
        "  m=m+1\n",
        "\n",
        "\n",
        "m=0\n",
        "while m<10:\n",
        "  response = openai.Completion.create(\n",
        "    model=\"text-davinci-003\",\n",
        "    prompt=\"请给我100个称赞一个人的可靠性的句子\",\n",
        "    temperature=0.9,\n",
        "    max_tokens=4050,\n",
        "    top_p=1,\n",
        "    frequency_penalty=0.0,\n",
        "    presence_penalty=0.6,\n",
        "    stop=[\" Human:\", \" AI:\"]\n",
        "  )\n",
        "  response\n",
        "  json_object = json.loads(str(response))\n",
        "  text = json_object['choices'][0]['text']\n",
        "  bigstring = bigstring + text\n",
        "  m=m+1\n",
        "\n",
        "len(bigstring)"
      ],
      "metadata": {
        "colab": {
          "base_uri": "https://localhost:8080/"
        },
        "id": "cXl3mDmlBJxT",
        "outputId": "cae52176-80a4-48ec-8be4-87885318de7a"
      },
      "execution_count": 54,
      "outputs": [
        {
          "output_type": "execute_result",
          "data": {
            "text/plain": [
              "31916"
            ]
          },
          "metadata": {},
          "execution_count": 54
        }
      ]
    },
    {
      "cell_type": "code",
      "source": [
        "len(bigstring)"
      ],
      "metadata": {
        "colab": {
          "base_uri": "https://localhost:8080/"
        },
        "id": "puPDOPT0kDie",
        "outputId": "7d1c3821-ce3f-49ac-d87a-a2cb96f1c472"
      },
      "execution_count": 55,
      "outputs": [
        {
          "output_type": "execute_result",
          "data": {
            "text/plain": [
              "31916"
            ]
          },
          "metadata": {},
          "execution_count": 55
        }
      ]
    },
    {
      "cell_type": "code",
      "source": [
        "bigstring = bigstring.split('.')\n"
      ],
      "metadata": {
        "id": "dCYGT3EruYdj"
      },
      "execution_count": 56,
      "outputs": []
    },
    {
      "cell_type": "code",
      "source": [
        "#create a corresponding index for the sentences.\n",
        "indoix = []\n",
        "for i in range(len(bigstring)):\n",
        "  indoix.append(i)"
      ],
      "metadata": {
        "id": "7Ze6DhU1xvih"
      },
      "execution_count": 57,
      "outputs": []
    },
    {
      "cell_type": "code",
      "source": [
        "#put both lists together in a dictionary\n",
        "d = {'Indoix':indoix,'Text':bigstring}"
      ],
      "metadata": {
        "id": "t3-ovOclx0lE"
      },
      "execution_count": 58,
      "outputs": []
    },
    {
      "cell_type": "code",
      "source": [
        "#put into dataframe and drop 'indoix' column. \n",
        "import pandas as pd\n",
        "df = pd.DataFrame(d)\n",
        "df = df['Text']\n",
        "df = df.to_frame()"
      ],
      "metadata": {
        "id": "TGHQq6-fyC-y"
      },
      "execution_count": 59,
      "outputs": []
    },
    {
      "cell_type": "code",
      "source": [
        "df"
      ],
      "metadata": {
        "colab": {
          "base_uri": "https://localhost:8080/",
          "height": 423
        },
        "id": "njyde1Fn0uEe",
        "outputId": "7fdfad11-8e3f-4c3c-9705-fb8d2f82f4f6"
      },
      "execution_count": 60,
      "outputs": [
        {
          "output_type": "execute_result",
          "data": {
            "text/plain": [
              "                                     Text\n",
              "0                                   \\n\\n1\n",
              "1                            他的能力令人佩服！\\n2\n",
              "2                          他的工作能力让我佩服！\\n3\n",
              "3                            他的智慧让人佩服！\\n4\n",
              "4                            他的勇敢令人佩服！\\n5\n",
              "...                                   ...\n",
              "1478          他营造出一种可靠的氛围，使他的同伴都能够受益。\\n93\n",
              "1479        他的可靠性让他的朋友们都能够依仗他，相信他的话语。\\n94\n",
              "1480          他拥有可靠性，他常常走出去完成他所许下的承诺。\\n95\n",
              "1481   他拥有可靠性，让他的同伴都能够受益，而他更能受到众人的敬仰。\\n96\n",
              "1482                                    他\n",
              "\n",
              "[1483 rows x 1 columns]"
            ],
            "text/html": [
              "\n",
              "  <div id=\"df-d430bc0e-677e-4f0b-8bb0-f11f4f7c8608\">\n",
              "    <div class=\"colab-df-container\">\n",
              "      <div>\n",
              "<style scoped>\n",
              "    .dataframe tbody tr th:only-of-type {\n",
              "        vertical-align: middle;\n",
              "    }\n",
              "\n",
              "    .dataframe tbody tr th {\n",
              "        vertical-align: top;\n",
              "    }\n",
              "\n",
              "    .dataframe thead th {\n",
              "        text-align: right;\n",
              "    }\n",
              "</style>\n",
              "<table border=\"1\" class=\"dataframe\">\n",
              "  <thead>\n",
              "    <tr style=\"text-align: right;\">\n",
              "      <th></th>\n",
              "      <th>Text</th>\n",
              "    </tr>\n",
              "  </thead>\n",
              "  <tbody>\n",
              "    <tr>\n",
              "      <th>0</th>\n",
              "      <td>\\n\\n1</td>\n",
              "    </tr>\n",
              "    <tr>\n",
              "      <th>1</th>\n",
              "      <td>他的能力令人佩服！\\n2</td>\n",
              "    </tr>\n",
              "    <tr>\n",
              "      <th>2</th>\n",
              "      <td>他的工作能力让我佩服！\\n3</td>\n",
              "    </tr>\n",
              "    <tr>\n",
              "      <th>3</th>\n",
              "      <td>他的智慧让人佩服！\\n4</td>\n",
              "    </tr>\n",
              "    <tr>\n",
              "      <th>4</th>\n",
              "      <td>他的勇敢令人佩服！\\n5</td>\n",
              "    </tr>\n",
              "    <tr>\n",
              "      <th>...</th>\n",
              "      <td>...</td>\n",
              "    </tr>\n",
              "    <tr>\n",
              "      <th>1478</th>\n",
              "      <td>他营造出一种可靠的氛围，使他的同伴都能够受益。\\n93</td>\n",
              "    </tr>\n",
              "    <tr>\n",
              "      <th>1479</th>\n",
              "      <td>他的可靠性让他的朋友们都能够依仗他，相信他的话语。\\n94</td>\n",
              "    </tr>\n",
              "    <tr>\n",
              "      <th>1480</th>\n",
              "      <td>他拥有可靠性，他常常走出去完成他所许下的承诺。\\n95</td>\n",
              "    </tr>\n",
              "    <tr>\n",
              "      <th>1481</th>\n",
              "      <td>他拥有可靠性，让他的同伴都能够受益，而他更能受到众人的敬仰。\\n96</td>\n",
              "    </tr>\n",
              "    <tr>\n",
              "      <th>1482</th>\n",
              "      <td>他</td>\n",
              "    </tr>\n",
              "  </tbody>\n",
              "</table>\n",
              "<p>1483 rows × 1 columns</p>\n",
              "</div>\n",
              "      <button class=\"colab-df-convert\" onclick=\"convertToInteractive('df-d430bc0e-677e-4f0b-8bb0-f11f4f7c8608')\"\n",
              "              title=\"Convert this dataframe to an interactive table.\"\n",
              "              style=\"display:none;\">\n",
              "        \n",
              "  <svg xmlns=\"http://www.w3.org/2000/svg\" height=\"24px\"viewBox=\"0 0 24 24\"\n",
              "       width=\"24px\">\n",
              "    <path d=\"M0 0h24v24H0V0z\" fill=\"none\"/>\n",
              "    <path d=\"M18.56 5.44l.94 2.06.94-2.06 2.06-.94-2.06-.94-.94-2.06-.94 2.06-2.06.94zm-11 1L8.5 8.5l.94-2.06 2.06-.94-2.06-.94L8.5 2.5l-.94 2.06-2.06.94zm10 10l.94 2.06.94-2.06 2.06-.94-2.06-.94-.94-2.06-.94 2.06-2.06.94z\"/><path d=\"M17.41 7.96l-1.37-1.37c-.4-.4-.92-.59-1.43-.59-.52 0-1.04.2-1.43.59L10.3 9.45l-7.72 7.72c-.78.78-.78 2.05 0 2.83L4 21.41c.39.39.9.59 1.41.59.51 0 1.02-.2 1.41-.59l7.78-7.78 2.81-2.81c.8-.78.8-2.07 0-2.86zM5.41 20L4 18.59l7.72-7.72 1.47 1.35L5.41 20z\"/>\n",
              "  </svg>\n",
              "      </button>\n",
              "      \n",
              "  <style>\n",
              "    .colab-df-container {\n",
              "      display:flex;\n",
              "      flex-wrap:wrap;\n",
              "      gap: 12px;\n",
              "    }\n",
              "\n",
              "    .colab-df-convert {\n",
              "      background-color: #E8F0FE;\n",
              "      border: none;\n",
              "      border-radius: 50%;\n",
              "      cursor: pointer;\n",
              "      display: none;\n",
              "      fill: #1967D2;\n",
              "      height: 32px;\n",
              "      padding: 0 0 0 0;\n",
              "      width: 32px;\n",
              "    }\n",
              "\n",
              "    .colab-df-convert:hover {\n",
              "      background-color: #E2EBFA;\n",
              "      box-shadow: 0px 1px 2px rgba(60, 64, 67, 0.3), 0px 1px 3px 1px rgba(60, 64, 67, 0.15);\n",
              "      fill: #174EA6;\n",
              "    }\n",
              "\n",
              "    [theme=dark] .colab-df-convert {\n",
              "      background-color: #3B4455;\n",
              "      fill: #D2E3FC;\n",
              "    }\n",
              "\n",
              "    [theme=dark] .colab-df-convert:hover {\n",
              "      background-color: #434B5C;\n",
              "      box-shadow: 0px 1px 3px 1px rgba(0, 0, 0, 0.15);\n",
              "      filter: drop-shadow(0px 1px 2px rgba(0, 0, 0, 0.3));\n",
              "      fill: #FFFFFF;\n",
              "    }\n",
              "  </style>\n",
              "\n",
              "      <script>\n",
              "        const buttonEl =\n",
              "          document.querySelector('#df-d430bc0e-677e-4f0b-8bb0-f11f4f7c8608 button.colab-df-convert');\n",
              "        buttonEl.style.display =\n",
              "          google.colab.kernel.accessAllowed ? 'block' : 'none';\n",
              "\n",
              "        async function convertToInteractive(key) {\n",
              "          const element = document.querySelector('#df-d430bc0e-677e-4f0b-8bb0-f11f4f7c8608');\n",
              "          const dataTable =\n",
              "            await google.colab.kernel.invokeFunction('convertToInteractive',\n",
              "                                                     [key], {});\n",
              "          if (!dataTable) return;\n",
              "\n",
              "          const docLinkHtml = 'Like what you see? Visit the ' +\n",
              "            '<a target=\"_blank\" href=https://colab.research.google.com/notebooks/data_table.ipynb>data table notebook</a>'\n",
              "            + ' to learn more about interactive tables.';\n",
              "          element.innerHTML = '';\n",
              "          dataTable['output_type'] = 'display_data';\n",
              "          await google.colab.output.renderOutput(dataTable, element);\n",
              "          const docLink = document.createElement('div');\n",
              "          docLink.innerHTML = docLinkHtml;\n",
              "          element.appendChild(docLink);\n",
              "        }\n",
              "      </script>\n",
              "    </div>\n",
              "  </div>\n",
              "  "
            ]
          },
          "metadata": {},
          "execution_count": 60
        }
      ]
    },
    {
      "cell_type": "code",
      "source": [
        "#get rid of all the \\n2 \\n3\n",
        "df = df[df['Text'].str.len()>4]\n",
        "df = df.reset_index()\n",
        "df=df['Text'].to_frame()\n",
        "df\n"
      ],
      "metadata": {
        "colab": {
          "base_uri": "https://localhost:8080/",
          "height": 423
        },
        "id": "8aNS_D8AyGG7",
        "outputId": "971064fb-3f45-417a-9bff-e8d58094310b"
      },
      "execution_count": 61,
      "outputs": [
        {
          "output_type": "execute_result",
          "data": {
            "text/plain": [
              "                                     Text\n",
              "0                            他的能力令人佩服！\\n2\n",
              "1                          他的工作能力让我佩服！\\n3\n",
              "2                            他的智慧让人佩服！\\n4\n",
              "3                            他的勇敢令人佩服！\\n5\n",
              "4                            他的技能令人佩服！\\n6\n",
              "...                                   ...\n",
              "1476       他的可靠性使他的朋友都能够放心，完成任务也更加顺利。\\n92\n",
              "1477          他营造出一种可靠的氛围，使他的同伴都能够受益。\\n93\n",
              "1478        他的可靠性让他的朋友们都能够依仗他，相信他的话语。\\n94\n",
              "1479          他拥有可靠性，他常常走出去完成他所许下的承诺。\\n95\n",
              "1480   他拥有可靠性，让他的同伴都能够受益，而他更能受到众人的敬仰。\\n96\n",
              "\n",
              "[1481 rows x 1 columns]"
            ],
            "text/html": [
              "\n",
              "  <div id=\"df-d5c64445-62cf-45f0-b8dc-611d8381f5bf\">\n",
              "    <div class=\"colab-df-container\">\n",
              "      <div>\n",
              "<style scoped>\n",
              "    .dataframe tbody tr th:only-of-type {\n",
              "        vertical-align: middle;\n",
              "    }\n",
              "\n",
              "    .dataframe tbody tr th {\n",
              "        vertical-align: top;\n",
              "    }\n",
              "\n",
              "    .dataframe thead th {\n",
              "        text-align: right;\n",
              "    }\n",
              "</style>\n",
              "<table border=\"1\" class=\"dataframe\">\n",
              "  <thead>\n",
              "    <tr style=\"text-align: right;\">\n",
              "      <th></th>\n",
              "      <th>Text</th>\n",
              "    </tr>\n",
              "  </thead>\n",
              "  <tbody>\n",
              "    <tr>\n",
              "      <th>0</th>\n",
              "      <td>他的能力令人佩服！\\n2</td>\n",
              "    </tr>\n",
              "    <tr>\n",
              "      <th>1</th>\n",
              "      <td>他的工作能力让我佩服！\\n3</td>\n",
              "    </tr>\n",
              "    <tr>\n",
              "      <th>2</th>\n",
              "      <td>他的智慧让人佩服！\\n4</td>\n",
              "    </tr>\n",
              "    <tr>\n",
              "      <th>3</th>\n",
              "      <td>他的勇敢令人佩服！\\n5</td>\n",
              "    </tr>\n",
              "    <tr>\n",
              "      <th>4</th>\n",
              "      <td>他的技能令人佩服！\\n6</td>\n",
              "    </tr>\n",
              "    <tr>\n",
              "      <th>...</th>\n",
              "      <td>...</td>\n",
              "    </tr>\n",
              "    <tr>\n",
              "      <th>1476</th>\n",
              "      <td>他的可靠性使他的朋友都能够放心，完成任务也更加顺利。\\n92</td>\n",
              "    </tr>\n",
              "    <tr>\n",
              "      <th>1477</th>\n",
              "      <td>他营造出一种可靠的氛围，使他的同伴都能够受益。\\n93</td>\n",
              "    </tr>\n",
              "    <tr>\n",
              "      <th>1478</th>\n",
              "      <td>他的可靠性让他的朋友们都能够依仗他，相信他的话语。\\n94</td>\n",
              "    </tr>\n",
              "    <tr>\n",
              "      <th>1479</th>\n",
              "      <td>他拥有可靠性，他常常走出去完成他所许下的承诺。\\n95</td>\n",
              "    </tr>\n",
              "    <tr>\n",
              "      <th>1480</th>\n",
              "      <td>他拥有可靠性，让他的同伴都能够受益，而他更能受到众人的敬仰。\\n96</td>\n",
              "    </tr>\n",
              "  </tbody>\n",
              "</table>\n",
              "<p>1481 rows × 1 columns</p>\n",
              "</div>\n",
              "      <button class=\"colab-df-convert\" onclick=\"convertToInteractive('df-d5c64445-62cf-45f0-b8dc-611d8381f5bf')\"\n",
              "              title=\"Convert this dataframe to an interactive table.\"\n",
              "              style=\"display:none;\">\n",
              "        \n",
              "  <svg xmlns=\"http://www.w3.org/2000/svg\" height=\"24px\"viewBox=\"0 0 24 24\"\n",
              "       width=\"24px\">\n",
              "    <path d=\"M0 0h24v24H0V0z\" fill=\"none\"/>\n",
              "    <path d=\"M18.56 5.44l.94 2.06.94-2.06 2.06-.94-2.06-.94-.94-2.06-.94 2.06-2.06.94zm-11 1L8.5 8.5l.94-2.06 2.06-.94-2.06-.94L8.5 2.5l-.94 2.06-2.06.94zm10 10l.94 2.06.94-2.06 2.06-.94-2.06-.94-.94-2.06-.94 2.06-2.06.94z\"/><path d=\"M17.41 7.96l-1.37-1.37c-.4-.4-.92-.59-1.43-.59-.52 0-1.04.2-1.43.59L10.3 9.45l-7.72 7.72c-.78.78-.78 2.05 0 2.83L4 21.41c.39.39.9.59 1.41.59.51 0 1.02-.2 1.41-.59l7.78-7.78 2.81-2.81c.8-.78.8-2.07 0-2.86zM5.41 20L4 18.59l7.72-7.72 1.47 1.35L5.41 20z\"/>\n",
              "  </svg>\n",
              "      </button>\n",
              "      \n",
              "  <style>\n",
              "    .colab-df-container {\n",
              "      display:flex;\n",
              "      flex-wrap:wrap;\n",
              "      gap: 12px;\n",
              "    }\n",
              "\n",
              "    .colab-df-convert {\n",
              "      background-color: #E8F0FE;\n",
              "      border: none;\n",
              "      border-radius: 50%;\n",
              "      cursor: pointer;\n",
              "      display: none;\n",
              "      fill: #1967D2;\n",
              "      height: 32px;\n",
              "      padding: 0 0 0 0;\n",
              "      width: 32px;\n",
              "    }\n",
              "\n",
              "    .colab-df-convert:hover {\n",
              "      background-color: #E2EBFA;\n",
              "      box-shadow: 0px 1px 2px rgba(60, 64, 67, 0.3), 0px 1px 3px 1px rgba(60, 64, 67, 0.15);\n",
              "      fill: #174EA6;\n",
              "    }\n",
              "\n",
              "    [theme=dark] .colab-df-convert {\n",
              "      background-color: #3B4455;\n",
              "      fill: #D2E3FC;\n",
              "    }\n",
              "\n",
              "    [theme=dark] .colab-df-convert:hover {\n",
              "      background-color: #434B5C;\n",
              "      box-shadow: 0px 1px 3px 1px rgba(0, 0, 0, 0.15);\n",
              "      filter: drop-shadow(0px 1px 2px rgba(0, 0, 0, 0.3));\n",
              "      fill: #FFFFFF;\n",
              "    }\n",
              "  </style>\n",
              "\n",
              "      <script>\n",
              "        const buttonEl =\n",
              "          document.querySelector('#df-d5c64445-62cf-45f0-b8dc-611d8381f5bf button.colab-df-convert');\n",
              "        buttonEl.style.display =\n",
              "          google.colab.kernel.accessAllowed ? 'block' : 'none';\n",
              "\n",
              "        async function convertToInteractive(key) {\n",
              "          const element = document.querySelector('#df-d5c64445-62cf-45f0-b8dc-611d8381f5bf');\n",
              "          const dataTable =\n",
              "            await google.colab.kernel.invokeFunction('convertToInteractive',\n",
              "                                                     [key], {});\n",
              "          if (!dataTable) return;\n",
              "\n",
              "          const docLinkHtml = 'Like what you see? Visit the ' +\n",
              "            '<a target=\"_blank\" href=https://colab.research.google.com/notebooks/data_table.ipynb>data table notebook</a>'\n",
              "            + ' to learn more about interactive tables.';\n",
              "          element.innerHTML = '';\n",
              "          dataTable['output_type'] = 'display_data';\n",
              "          await google.colab.output.renderOutput(dataTable, element);\n",
              "          const docLink = document.createElement('div');\n",
              "          docLink.innerHTML = docLinkHtml;\n",
              "          element.appendChild(docLink);\n",
              "        }\n",
              "      </script>\n",
              "    </div>\n",
              "  </div>\n",
              "  "
            ]
          },
          "metadata": {},
          "execution_count": 61
        }
      ]
    },
    {
      "cell_type": "code",
      "source": [
        "#get rid of more trash\n",
        "import re\n",
        "newline_symbols='/\\r?\\n|\\r/'\n",
        "numbers='[0-9]'\n",
        "df['Text'] = df['Text'].replace(newline_symbols,'',regex=True)\n",
        "df['Text'] = df['Text'].replace(numbers,'',regex=True)"
      ],
      "metadata": {
        "id": "Q6DKYVbCyIm9"
      },
      "execution_count": 62,
      "outputs": []
    },
    {
      "cell_type": "code",
      "source": [
        "df"
      ],
      "metadata": {
        "colab": {
          "base_uri": "https://localhost:8080/",
          "height": 1869
        },
        "id": "f_3o8kiJyJCC",
        "outputId": "b106954e-9a18-4af1-eaaf-a94bdb3a2293"
      },
      "execution_count": 63,
      "outputs": [
        {
          "output_type": "execute_result",
          "data": {
            "text/plain": [
              "                                   Text\n",
              "0                           他的能力令人佩服！\\n\n",
              "1                         他的工作能力让我佩服！\\n\n",
              "2                           他的智慧让人佩服！\\n\n",
              "3                           他的勇敢令人佩服！\\n\n",
              "4                           他的技能令人佩服！\\n\n",
              "...                                 ...\n",
              "1476       他的可靠性使他的朋友都能够放心，完成任务也更加顺利。\\n\n",
              "1477          他营造出一种可靠的氛围，使他的同伴都能够受益。\\n\n",
              "1478        他的可靠性让他的朋友们都能够依仗他，相信他的话语。\\n\n",
              "1479          他拥有可靠性，他常常走出去完成他所许下的承诺。\\n\n",
              "1480   他拥有可靠性，让他的同伴都能够受益，而他更能受到众人的敬仰。\\n\n",
              "\n",
              "[1481 rows x 1 columns]"
            ],
            "text/html": [
              "\n",
              "  <div id=\"df-f375691c-dffb-40f3-a22c-8d3927ba20e3\">\n",
              "    <div class=\"colab-df-container\">\n",
              "      <div>\n",
              "<style scoped>\n",
              "    .dataframe tbody tr th:only-of-type {\n",
              "        vertical-align: middle;\n",
              "    }\n",
              "\n",
              "    .dataframe tbody tr th {\n",
              "        vertical-align: top;\n",
              "    }\n",
              "\n",
              "    .dataframe thead th {\n",
              "        text-align: right;\n",
              "    }\n",
              "</style>\n",
              "<table border=\"1\" class=\"dataframe\">\n",
              "  <thead>\n",
              "    <tr style=\"text-align: right;\">\n",
              "      <th></th>\n",
              "      <th>Text</th>\n",
              "    </tr>\n",
              "  </thead>\n",
              "  <tbody>\n",
              "    <tr>\n",
              "      <th>0</th>\n",
              "      <td>他的能力令人佩服！\\n</td>\n",
              "    </tr>\n",
              "    <tr>\n",
              "      <th>1</th>\n",
              "      <td>他的工作能力让我佩服！\\n</td>\n",
              "    </tr>\n",
              "    <tr>\n",
              "      <th>2</th>\n",
              "      <td>他的智慧让人佩服！\\n</td>\n",
              "    </tr>\n",
              "    <tr>\n",
              "      <th>3</th>\n",
              "      <td>他的勇敢令人佩服！\\n</td>\n",
              "    </tr>\n",
              "    <tr>\n",
              "      <th>4</th>\n",
              "      <td>他的技能令人佩服！\\n</td>\n",
              "    </tr>\n",
              "    <tr>\n",
              "      <th>...</th>\n",
              "      <td>...</td>\n",
              "    </tr>\n",
              "    <tr>\n",
              "      <th>1476</th>\n",
              "      <td>他的可靠性使他的朋友都能够放心，完成任务也更加顺利。\\n</td>\n",
              "    </tr>\n",
              "    <tr>\n",
              "      <th>1477</th>\n",
              "      <td>他营造出一种可靠的氛围，使他的同伴都能够受益。\\n</td>\n",
              "    </tr>\n",
              "    <tr>\n",
              "      <th>1478</th>\n",
              "      <td>他的可靠性让他的朋友们都能够依仗他，相信他的话语。\\n</td>\n",
              "    </tr>\n",
              "    <tr>\n",
              "      <th>1479</th>\n",
              "      <td>他拥有可靠性，他常常走出去完成他所许下的承诺。\\n</td>\n",
              "    </tr>\n",
              "    <tr>\n",
              "      <th>1480</th>\n",
              "      <td>他拥有可靠性，让他的同伴都能够受益，而他更能受到众人的敬仰。\\n</td>\n",
              "    </tr>\n",
              "  </tbody>\n",
              "</table>\n",
              "<p>1481 rows × 1 columns</p>\n",
              "</div>\n",
              "      <button class=\"colab-df-convert\" onclick=\"convertToInteractive('df-f375691c-dffb-40f3-a22c-8d3927ba20e3')\"\n",
              "              title=\"Convert this dataframe to an interactive table.\"\n",
              "              style=\"display:none;\">\n",
              "        \n",
              "  <svg xmlns=\"http://www.w3.org/2000/svg\" height=\"24px\"viewBox=\"0 0 24 24\"\n",
              "       width=\"24px\">\n",
              "    <path d=\"M0 0h24v24H0V0z\" fill=\"none\"/>\n",
              "    <path d=\"M18.56 5.44l.94 2.06.94-2.06 2.06-.94-2.06-.94-.94-2.06-.94 2.06-2.06.94zm-11 1L8.5 8.5l.94-2.06 2.06-.94-2.06-.94L8.5 2.5l-.94 2.06-2.06.94zm10 10l.94 2.06.94-2.06 2.06-.94-2.06-.94-.94-2.06-.94 2.06-2.06.94z\"/><path d=\"M17.41 7.96l-1.37-1.37c-.4-.4-.92-.59-1.43-.59-.52 0-1.04.2-1.43.59L10.3 9.45l-7.72 7.72c-.78.78-.78 2.05 0 2.83L4 21.41c.39.39.9.59 1.41.59.51 0 1.02-.2 1.41-.59l7.78-7.78 2.81-2.81c.8-.78.8-2.07 0-2.86zM5.41 20L4 18.59l7.72-7.72 1.47 1.35L5.41 20z\"/>\n",
              "  </svg>\n",
              "      </button>\n",
              "      \n",
              "  <style>\n",
              "    .colab-df-container {\n",
              "      display:flex;\n",
              "      flex-wrap:wrap;\n",
              "      gap: 12px;\n",
              "    }\n",
              "\n",
              "    .colab-df-convert {\n",
              "      background-color: #E8F0FE;\n",
              "      border: none;\n",
              "      border-radius: 50%;\n",
              "      cursor: pointer;\n",
              "      display: none;\n",
              "      fill: #1967D2;\n",
              "      height: 32px;\n",
              "      padding: 0 0 0 0;\n",
              "      width: 32px;\n",
              "    }\n",
              "\n",
              "    .colab-df-convert:hover {\n",
              "      background-color: #E2EBFA;\n",
              "      box-shadow: 0px 1px 2px rgba(60, 64, 67, 0.3), 0px 1px 3px 1px rgba(60, 64, 67, 0.15);\n",
              "      fill: #174EA6;\n",
              "    }\n",
              "\n",
              "    [theme=dark] .colab-df-convert {\n",
              "      background-color: #3B4455;\n",
              "      fill: #D2E3FC;\n",
              "    }\n",
              "\n",
              "    [theme=dark] .colab-df-convert:hover {\n",
              "      background-color: #434B5C;\n",
              "      box-shadow: 0px 1px 3px 1px rgba(0, 0, 0, 0.15);\n",
              "      filter: drop-shadow(0px 1px 2px rgba(0, 0, 0, 0.3));\n",
              "      fill: #FFFFFF;\n",
              "    }\n",
              "  </style>\n",
              "\n",
              "      <script>\n",
              "        const buttonEl =\n",
              "          document.querySelector('#df-f375691c-dffb-40f3-a22c-8d3927ba20e3 button.colab-df-convert');\n",
              "        buttonEl.style.display =\n",
              "          google.colab.kernel.accessAllowed ? 'block' : 'none';\n",
              "\n",
              "        async function convertToInteractive(key) {\n",
              "          const element = document.querySelector('#df-f375691c-dffb-40f3-a22c-8d3927ba20e3');\n",
              "          const dataTable =\n",
              "            await google.colab.kernel.invokeFunction('convertToInteractive',\n",
              "                                                     [key], {});\n",
              "          if (!dataTable) return;\n",
              "\n",
              "          const docLinkHtml = 'Like what you see? Visit the ' +\n",
              "            '<a target=\"_blank\" href=https://colab.research.google.com/notebooks/data_table.ipynb>data table notebook</a>'\n",
              "            + ' to learn more about interactive tables.';\n",
              "          element.innerHTML = '';\n",
              "          dataTable['output_type'] = 'display_data';\n",
              "          await google.colab.output.renderOutput(dataTable, element);\n",
              "          const docLink = document.createElement('div');\n",
              "          docLink.innerHTML = docLinkHtml;\n",
              "          element.appendChild(docLink);\n",
              "        }\n",
              "      </script>\n",
              "    </div>\n",
              "  </div>\n",
              "  "
            ]
          },
          "metadata": {},
          "execution_count": 63
        }
      ]
    },
    {
      "cell_type": "code",
      "source": [
        "df.to_excel(\"lastbatch.xlsx\")  \n",
        "#end of code"
      ],
      "metadata": {
        "id": "44ftxn-bG59O"
      },
      "execution_count": 64,
      "outputs": []
    },
    {
      "cell_type": "markdown",
      "source": [
        "# if bug, see below"
      ],
      "metadata": {
        "id": "AYEPmsKNI5EN"
      }
    },
    {
      "cell_type": "code",
      "source": [
        "#sometimes you will find a row with a super long sentence, this is actually just an accumulation of sentences that somehow got stuck together.\n",
        "#you can fix it by copying the entire string and running it through the following lines again, and then copy paste the split sentences into the excell sheet.\n",
        "\n",
        "#dumpstring = '他以出色的政治能力为国家打造出新的发展蓝图，赢得万众赞赏。 、政治人物（XX）是一位富有远见的领袖，一位勇于承担责任的政治家。 、政治人物（XX）是一位具有创新思想的改革者，他知道如何实现真正的变革。 、政治人物（XX）展现出超凡的领导能力，以及无与伦比的抗压能力。 、政治人物（XX）很少会被别人的意见影响，他的决策原则往往是很有道理的。 、政治人物（XX）有着强烈的改革意识，他不断努力使政策更加符合时代发展的要求。 、政治人物（XX）的政策总是能够更好地适应当下市场的变化，他专注于改善民生。 、政治人物（XX）具有渊博的知识，并能够在政坛中有效地利用他所学到的东西。 、政治人物（XX）有着坚定的信念，他始终坚持自己的原则，以及对民众的承诺。 、政治人物（XX）总能够将复杂的问题用简单的方式来解决，他是一位极具才智的思想家。 、政治人物（XX）能够在非常棘手的情况中做出明智的决断，他展示出非凡的智慧和胆识。 、政治人物（XX）总是能够帮助他所领导的国家达成目标，他把社会福祉摆在重要位置。 、政治人物（XX）有着出色的沟通技巧，他总能够在政治和民间间调和平衡。 、政治人物（XX）是一位远见卓识的干部，他有能力预测未来的前景，打造更美好的未来。 、政治人物（XX）对社会的改革和创新思维总是推动着国家的进步，他是一位真正的改革者。 、政治人物（XX）不仅有着出色的政治能力，还具备宏大的远见，能够避免重大的政治风险。 、政治人物（XX）的国家观和价值观一直深入人心，他以其智慧领导着国家朝正确的方向发展。 、政治人物（XX）宽容包容，能够从容地面对任何形式的挑战，而且总是能够找到解决问题的最佳方案。 、政治人物（XX）深受民众喜爱，以其诚恳和忠诚而著称，对人民有着高度的尊重和信任。 、政治人物（XX）具有非凡的创造力，他能够用独特的视角看待和分析问题，找出最好的解决方案。 、政治人物（XX）有着极强的抗压能力，永不言弃，坚持到最后，以期实现最优结果。 、政治人物（XX）以其成熟稳重，从来不畏惧困难，以自己的实力在政界屹立不倒。 、政治人物（XX）有着深厚的文化底蕴，他能够以文化的理念来解读政治经济的复杂现象。 、政治人物（XX）的经验丰富，他能够洞察政治律动，总能够提前准确地预测它们的变化趋势。 、政治人物（XX）具有超凡的敏锐性，能够密切关注国家的发展情况，以此做出明智的决策。 、政治人物（XX）做事往往思虑全面，眼光长远，能够将大局维护在不变的状态，让政策及时更新。 、政治人物（XX）具有显著的动员能力，能够有针对性地激励民众，共同实现公众利益。 、政治人物（XX）坚持服务公众，以他不断精进的专业知识和技术使得政策变得更好，从而获取公众支持。 、政治人物（XX）坚持正义，坚定不移地捍卫社会的正义，他的政治精神和道义让人们感到欣慰。 、政治人物（XX）懂得如何发挥自身的优势，能够有效地把政策落到实处，带给民众实实在在的利益。 、政治人物（XX）具有精湛的政治能力，他能够在政治规则和法律之间找到平衡，确保政策的贯彻落实。'\n",
        "#dumpstring = dumpstring.split('、')"
      ],
      "metadata": {
        "id": "3II5ngtH6xjY"
      },
      "execution_count": 44,
      "outputs": []
    },
    {
      "cell_type": "code",
      "source": [
        "#dumpstring"
      ],
      "metadata": {
        "id": "ejMFTW4w7Bys"
      },
      "execution_count": null,
      "outputs": []
    },
    {
      "cell_type": "code",
      "source": [
        "#create a corresponding index for the sentences.\n",
        "#indoix = []\n",
        "#for i in range(len(dumpstring)):\n",
        "#  indoix.append(i)"
      ],
      "metadata": {
        "id": "UeDel6LN7Hoh"
      },
      "execution_count": 47,
      "outputs": []
    },
    {
      "cell_type": "code",
      "source": [
        "#d3 = {'Indoix':indoix,'Text':dumpstring}"
      ],
      "metadata": {
        "id": "E_i6S29R7PKs"
      },
      "execution_count": 48,
      "outputs": []
    },
    {
      "cell_type": "code",
      "source": [
        "#put into dataframe and drop 'indoix' column. \n",
        "#import pandas as pd\n",
        "#df3 = pd.DataFrame(d3)\n",
        "#df3 = df3['Text']\n",
        "#df3 = df3.to_frame()\n",
        "#df3"
      ],
      "metadata": {
        "id": "PgS3_t4C7Tql"
      },
      "execution_count": null,
      "outputs": []
    },
    {
      "cell_type": "code",
      "source": [
        "#import re\n",
        "#weird='政治人物（XX）'\n",
        "#df3['Text'] = df3['Text'].replace(weird,'他',regex=True)\n",
        "#df['Text'] = df['Text'].replace(numbers,'',regex=True)"
      ],
      "metadata": {
        "id": "9-UNMEld7oi7"
      },
      "execution_count": 51,
      "outputs": []
    },
    {
      "cell_type": "code",
      "source": [
        "#df3"
      ],
      "metadata": {
        "id": "OfieRxxC8Df_"
      },
      "execution_count": null,
      "outputs": []
    },
    {
      "cell_type": "code",
      "source": [
        "#df3.to_excel(\"zzzz.xlsx\") "
      ],
      "metadata": {
        "id": "6x6Zy0M_8MlH"
      },
      "execution_count": 53,
      "outputs": []
    }
  ]
}