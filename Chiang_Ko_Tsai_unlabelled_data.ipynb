{
  "nbformat": 4,
  "nbformat_minor": 0,
  "metadata": {
    "colab": {
      "provenance": [],
      "collapsed_sections": [
        "vg32jJYgLEJg",
        "t3R_mmLdwl6l",
        "TIaBWwjswl6o",
        "t-Ytn1v_wl6q",
        "cqn8IKMhwl6s",
        "vE_WniFpLXI2",
        "dfXtWvSKNsnF",
        "rP3Dh_OfOCGt",
        "vH5AJfJM0ExQ",
        "Jr4X9dDe0ExV",
        "vhGysHDw0ExW",
        "JiGMLGJvztFw",
        "VTV-ooLSztF9",
        "b_--z1W3ztF-",
        "KkAbua19ztF_",
        "WERIEQ3u2FSD",
        "dt3REbqv2FSH",
        "BwWiYKbL2OjO",
        "CVG-oji92OjS",
        "INn0f0AC2OjU"
      ],
      "include_colab_link": true
    },
    "kernelspec": {
      "name": "python3",
      "display_name": "Python 3"
    },
    "language_info": {
      "name": "python"
    },
    "widgets": {
      "application/vnd.jupyter.widget-state+json": {
        "a35a826bb4054e71b3e00e9ac2f541aa": {
          "model_module": "@jupyter-widgets/controls",
          "model_name": "HBoxModel",
          "model_module_version": "1.5.0",
          "state": {
            "_dom_classes": [],
            "_model_module": "@jupyter-widgets/controls",
            "_model_module_version": "1.5.0",
            "_model_name": "HBoxModel",
            "_view_count": null,
            "_view_module": "@jupyter-widgets/controls",
            "_view_module_version": "1.5.0",
            "_view_name": "HBoxView",
            "box_style": "",
            "children": [
              "IPY_MODEL_1b133f2b3f36450c8d682bd106db7485",
              "IPY_MODEL_f3d2179786d54adf9d85d3dbf1b125c4",
              "IPY_MODEL_71428eabc960408a8f69344cf34d701e"
            ],
            "layout": "IPY_MODEL_9585c427d9194db5ad01f9828182b20c"
          }
        },
        "1b133f2b3f36450c8d682bd106db7485": {
          "model_module": "@jupyter-widgets/controls",
          "model_name": "HTMLModel",
          "model_module_version": "1.5.0",
          "state": {
            "_dom_classes": [],
            "_model_module": "@jupyter-widgets/controls",
            "_model_module_version": "1.5.0",
            "_model_name": "HTMLModel",
            "_view_count": null,
            "_view_module": "@jupyter-widgets/controls",
            "_view_module_version": "1.5.0",
            "_view_name": "HTMLView",
            "description": "",
            "description_tooltip": null,
            "layout": "IPY_MODEL_d1cb7ce29e5a414599c07fbbae9058c6",
            "placeholder": "​",
            "style": "IPY_MODEL_be49e4c917ac438db2f40b7e758df205",
            "value": "100%"
          }
        },
        "f3d2179786d54adf9d85d3dbf1b125c4": {
          "model_module": "@jupyter-widgets/controls",
          "model_name": "FloatProgressModel",
          "model_module_version": "1.5.0",
          "state": {
            "_dom_classes": [],
            "_model_module": "@jupyter-widgets/controls",
            "_model_module_version": "1.5.0",
            "_model_name": "FloatProgressModel",
            "_view_count": null,
            "_view_module": "@jupyter-widgets/controls",
            "_view_module_version": "1.5.0",
            "_view_name": "ProgressView",
            "bar_style": "success",
            "description": "",
            "description_tooltip": null,
            "layout": "IPY_MODEL_cc6865dc41814449ac6f62979ab77178",
            "max": 1,
            "min": 0,
            "orientation": "horizontal",
            "style": "IPY_MODEL_da8dcbf170314ae6a4d6a5862b735c20",
            "value": 1
          }
        },
        "71428eabc960408a8f69344cf34d701e": {
          "model_module": "@jupyter-widgets/controls",
          "model_name": "HTMLModel",
          "model_module_version": "1.5.0",
          "state": {
            "_dom_classes": [],
            "_model_module": "@jupyter-widgets/controls",
            "_model_module_version": "1.5.0",
            "_model_name": "HTMLModel",
            "_view_count": null,
            "_view_module": "@jupyter-widgets/controls",
            "_view_module_version": "1.5.0",
            "_view_name": "HTMLView",
            "description": "",
            "description_tooltip": null,
            "layout": "IPY_MODEL_a5c61d2239f34fc7a8979ef71dc1efd1",
            "placeholder": "​",
            "style": "IPY_MODEL_bb89b22b991746ebb3a1ba1eb96a29ed",
            "value": " 1/1 [00:00&lt;00:00,  4.08ba/s]"
          }
        },
        "9585c427d9194db5ad01f9828182b20c": {
          "model_module": "@jupyter-widgets/base",
          "model_name": "LayoutModel",
          "model_module_version": "1.2.0",
          "state": {
            "_model_module": "@jupyter-widgets/base",
            "_model_module_version": "1.2.0",
            "_model_name": "LayoutModel",
            "_view_count": null,
            "_view_module": "@jupyter-widgets/base",
            "_view_module_version": "1.2.0",
            "_view_name": "LayoutView",
            "align_content": null,
            "align_items": null,
            "align_self": null,
            "border": null,
            "bottom": null,
            "display": null,
            "flex": null,
            "flex_flow": null,
            "grid_area": null,
            "grid_auto_columns": null,
            "grid_auto_flow": null,
            "grid_auto_rows": null,
            "grid_column": null,
            "grid_gap": null,
            "grid_row": null,
            "grid_template_areas": null,
            "grid_template_columns": null,
            "grid_template_rows": null,
            "height": null,
            "justify_content": null,
            "justify_items": null,
            "left": null,
            "margin": null,
            "max_height": null,
            "max_width": null,
            "min_height": null,
            "min_width": null,
            "object_fit": null,
            "object_position": null,
            "order": null,
            "overflow": null,
            "overflow_x": null,
            "overflow_y": null,
            "padding": null,
            "right": null,
            "top": null,
            "visibility": null,
            "width": null
          }
        },
        "d1cb7ce29e5a414599c07fbbae9058c6": {
          "model_module": "@jupyter-widgets/base",
          "model_name": "LayoutModel",
          "model_module_version": "1.2.0",
          "state": {
            "_model_module": "@jupyter-widgets/base",
            "_model_module_version": "1.2.0",
            "_model_name": "LayoutModel",
            "_view_count": null,
            "_view_module": "@jupyter-widgets/base",
            "_view_module_version": "1.2.0",
            "_view_name": "LayoutView",
            "align_content": null,
            "align_items": null,
            "align_self": null,
            "border": null,
            "bottom": null,
            "display": null,
            "flex": null,
            "flex_flow": null,
            "grid_area": null,
            "grid_auto_columns": null,
            "grid_auto_flow": null,
            "grid_auto_rows": null,
            "grid_column": null,
            "grid_gap": null,
            "grid_row": null,
            "grid_template_areas": null,
            "grid_template_columns": null,
            "grid_template_rows": null,
            "height": null,
            "justify_content": null,
            "justify_items": null,
            "left": null,
            "margin": null,
            "max_height": null,
            "max_width": null,
            "min_height": null,
            "min_width": null,
            "object_fit": null,
            "object_position": null,
            "order": null,
            "overflow": null,
            "overflow_x": null,
            "overflow_y": null,
            "padding": null,
            "right": null,
            "top": null,
            "visibility": null,
            "width": null
          }
        },
        "be49e4c917ac438db2f40b7e758df205": {
          "model_module": "@jupyter-widgets/controls",
          "model_name": "DescriptionStyleModel",
          "model_module_version": "1.5.0",
          "state": {
            "_model_module": "@jupyter-widgets/controls",
            "_model_module_version": "1.5.0",
            "_model_name": "DescriptionStyleModel",
            "_view_count": null,
            "_view_module": "@jupyter-widgets/base",
            "_view_module_version": "1.2.0",
            "_view_name": "StyleView",
            "description_width": ""
          }
        },
        "cc6865dc41814449ac6f62979ab77178": {
          "model_module": "@jupyter-widgets/base",
          "model_name": "LayoutModel",
          "model_module_version": "1.2.0",
          "state": {
            "_model_module": "@jupyter-widgets/base",
            "_model_module_version": "1.2.0",
            "_model_name": "LayoutModel",
            "_view_count": null,
            "_view_module": "@jupyter-widgets/base",
            "_view_module_version": "1.2.0",
            "_view_name": "LayoutView",
            "align_content": null,
            "align_items": null,
            "align_self": null,
            "border": null,
            "bottom": null,
            "display": null,
            "flex": null,
            "flex_flow": null,
            "grid_area": null,
            "grid_auto_columns": null,
            "grid_auto_flow": null,
            "grid_auto_rows": null,
            "grid_column": null,
            "grid_gap": null,
            "grid_row": null,
            "grid_template_areas": null,
            "grid_template_columns": null,
            "grid_template_rows": null,
            "height": null,
            "justify_content": null,
            "justify_items": null,
            "left": null,
            "margin": null,
            "max_height": null,
            "max_width": null,
            "min_height": null,
            "min_width": null,
            "object_fit": null,
            "object_position": null,
            "order": null,
            "overflow": null,
            "overflow_x": null,
            "overflow_y": null,
            "padding": null,
            "right": null,
            "top": null,
            "visibility": null,
            "width": null
          }
        },
        "da8dcbf170314ae6a4d6a5862b735c20": {
          "model_module": "@jupyter-widgets/controls",
          "model_name": "ProgressStyleModel",
          "model_module_version": "1.5.0",
          "state": {
            "_model_module": "@jupyter-widgets/controls",
            "_model_module_version": "1.5.0",
            "_model_name": "ProgressStyleModel",
            "_view_count": null,
            "_view_module": "@jupyter-widgets/base",
            "_view_module_version": "1.2.0",
            "_view_name": "StyleView",
            "bar_color": null,
            "description_width": ""
          }
        },
        "a5c61d2239f34fc7a8979ef71dc1efd1": {
          "model_module": "@jupyter-widgets/base",
          "model_name": "LayoutModel",
          "model_module_version": "1.2.0",
          "state": {
            "_model_module": "@jupyter-widgets/base",
            "_model_module_version": "1.2.0",
            "_model_name": "LayoutModel",
            "_view_count": null,
            "_view_module": "@jupyter-widgets/base",
            "_view_module_version": "1.2.0",
            "_view_name": "LayoutView",
            "align_content": null,
            "align_items": null,
            "align_self": null,
            "border": null,
            "bottom": null,
            "display": null,
            "flex": null,
            "flex_flow": null,
            "grid_area": null,
            "grid_auto_columns": null,
            "grid_auto_flow": null,
            "grid_auto_rows": null,
            "grid_column": null,
            "grid_gap": null,
            "grid_row": null,
            "grid_template_areas": null,
            "grid_template_columns": null,
            "grid_template_rows": null,
            "height": null,
            "justify_content": null,
            "justify_items": null,
            "left": null,
            "margin": null,
            "max_height": null,
            "max_width": null,
            "min_height": null,
            "min_width": null,
            "object_fit": null,
            "object_position": null,
            "order": null,
            "overflow": null,
            "overflow_x": null,
            "overflow_y": null,
            "padding": null,
            "right": null,
            "top": null,
            "visibility": null,
            "width": null
          }
        },
        "bb89b22b991746ebb3a1ba1eb96a29ed": {
          "model_module": "@jupyter-widgets/controls",
          "model_name": "DescriptionStyleModel",
          "model_module_version": "1.5.0",
          "state": {
            "_model_module": "@jupyter-widgets/controls",
            "_model_module_version": "1.5.0",
            "_model_name": "DescriptionStyleModel",
            "_view_count": null,
            "_view_module": "@jupyter-widgets/base",
            "_view_module_version": "1.2.0",
            "_view_name": "StyleView",
            "description_width": ""
          }
        },
        "5871ec5d201046afb892002e9db56622": {
          "model_module": "@jupyter-widgets/controls",
          "model_name": "HBoxModel",
          "model_module_version": "1.5.0",
          "state": {
            "_dom_classes": [],
            "_model_module": "@jupyter-widgets/controls",
            "_model_module_version": "1.5.0",
            "_model_name": "HBoxModel",
            "_view_count": null,
            "_view_module": "@jupyter-widgets/controls",
            "_view_module_version": "1.5.0",
            "_view_name": "HBoxView",
            "box_style": "",
            "children": [
              "IPY_MODEL_6c5ebfe7932b4106a7344da6d6d3148f",
              "IPY_MODEL_843c9b20660d41eca1a71288add64927",
              "IPY_MODEL_fd7aff2ae81b41a387fd0debbb87bc9d"
            ],
            "layout": "IPY_MODEL_47906071f2f6440ba006738a8cf6be6b"
          }
        },
        "6c5ebfe7932b4106a7344da6d6d3148f": {
          "model_module": "@jupyter-widgets/controls",
          "model_name": "HTMLModel",
          "model_module_version": "1.5.0",
          "state": {
            "_dom_classes": [],
            "_model_module": "@jupyter-widgets/controls",
            "_model_module_version": "1.5.0",
            "_model_name": "HTMLModel",
            "_view_count": null,
            "_view_module": "@jupyter-widgets/controls",
            "_view_module_version": "1.5.0",
            "_view_name": "HTMLView",
            "description": "",
            "description_tooltip": null,
            "layout": "IPY_MODEL_386566647687483b8128636f578eb8cd",
            "placeholder": "​",
            "style": "IPY_MODEL_88f80ef0536b4bba956f3a54aef0f657",
            "value": "100%"
          }
        },
        "843c9b20660d41eca1a71288add64927": {
          "model_module": "@jupyter-widgets/controls",
          "model_name": "FloatProgressModel",
          "model_module_version": "1.5.0",
          "state": {
            "_dom_classes": [],
            "_model_module": "@jupyter-widgets/controls",
            "_model_module_version": "1.5.0",
            "_model_name": "FloatProgressModel",
            "_view_count": null,
            "_view_module": "@jupyter-widgets/controls",
            "_view_module_version": "1.5.0",
            "_view_name": "ProgressView",
            "bar_style": "success",
            "description": "",
            "description_tooltip": null,
            "layout": "IPY_MODEL_6d6bb1eb10ea43918bc65a45912fcb62",
            "max": 1,
            "min": 0,
            "orientation": "horizontal",
            "style": "IPY_MODEL_a7a4949903224dd2a72fe1e863a7388b",
            "value": 1
          }
        },
        "fd7aff2ae81b41a387fd0debbb87bc9d": {
          "model_module": "@jupyter-widgets/controls",
          "model_name": "HTMLModel",
          "model_module_version": "1.5.0",
          "state": {
            "_dom_classes": [],
            "_model_module": "@jupyter-widgets/controls",
            "_model_module_version": "1.5.0",
            "_model_name": "HTMLModel",
            "_view_count": null,
            "_view_module": "@jupyter-widgets/controls",
            "_view_module_version": "1.5.0",
            "_view_name": "HTMLView",
            "description": "",
            "description_tooltip": null,
            "layout": "IPY_MODEL_35004fdf596c40e69b43429475a01e68",
            "placeholder": "​",
            "style": "IPY_MODEL_8eec0fc410b447499e819342931844f6",
            "value": " 1/1 [00:00&lt;00:00, 11.09ba/s]"
          }
        },
        "47906071f2f6440ba006738a8cf6be6b": {
          "model_module": "@jupyter-widgets/base",
          "model_name": "LayoutModel",
          "model_module_version": "1.2.0",
          "state": {
            "_model_module": "@jupyter-widgets/base",
            "_model_module_version": "1.2.0",
            "_model_name": "LayoutModel",
            "_view_count": null,
            "_view_module": "@jupyter-widgets/base",
            "_view_module_version": "1.2.0",
            "_view_name": "LayoutView",
            "align_content": null,
            "align_items": null,
            "align_self": null,
            "border": null,
            "bottom": null,
            "display": null,
            "flex": null,
            "flex_flow": null,
            "grid_area": null,
            "grid_auto_columns": null,
            "grid_auto_flow": null,
            "grid_auto_rows": null,
            "grid_column": null,
            "grid_gap": null,
            "grid_row": null,
            "grid_template_areas": null,
            "grid_template_columns": null,
            "grid_template_rows": null,
            "height": null,
            "justify_content": null,
            "justify_items": null,
            "left": null,
            "margin": null,
            "max_height": null,
            "max_width": null,
            "min_height": null,
            "min_width": null,
            "object_fit": null,
            "object_position": null,
            "order": null,
            "overflow": null,
            "overflow_x": null,
            "overflow_y": null,
            "padding": null,
            "right": null,
            "top": null,
            "visibility": null,
            "width": null
          }
        },
        "386566647687483b8128636f578eb8cd": {
          "model_module": "@jupyter-widgets/base",
          "model_name": "LayoutModel",
          "model_module_version": "1.2.0",
          "state": {
            "_model_module": "@jupyter-widgets/base",
            "_model_module_version": "1.2.0",
            "_model_name": "LayoutModel",
            "_view_count": null,
            "_view_module": "@jupyter-widgets/base",
            "_view_module_version": "1.2.0",
            "_view_name": "LayoutView",
            "align_content": null,
            "align_items": null,
            "align_self": null,
            "border": null,
            "bottom": null,
            "display": null,
            "flex": null,
            "flex_flow": null,
            "grid_area": null,
            "grid_auto_columns": null,
            "grid_auto_flow": null,
            "grid_auto_rows": null,
            "grid_column": null,
            "grid_gap": null,
            "grid_row": null,
            "grid_template_areas": null,
            "grid_template_columns": null,
            "grid_template_rows": null,
            "height": null,
            "justify_content": null,
            "justify_items": null,
            "left": null,
            "margin": null,
            "max_height": null,
            "max_width": null,
            "min_height": null,
            "min_width": null,
            "object_fit": null,
            "object_position": null,
            "order": null,
            "overflow": null,
            "overflow_x": null,
            "overflow_y": null,
            "padding": null,
            "right": null,
            "top": null,
            "visibility": null,
            "width": null
          }
        },
        "88f80ef0536b4bba956f3a54aef0f657": {
          "model_module": "@jupyter-widgets/controls",
          "model_name": "DescriptionStyleModel",
          "model_module_version": "1.5.0",
          "state": {
            "_model_module": "@jupyter-widgets/controls",
            "_model_module_version": "1.5.0",
            "_model_name": "DescriptionStyleModel",
            "_view_count": null,
            "_view_module": "@jupyter-widgets/base",
            "_view_module_version": "1.2.0",
            "_view_name": "StyleView",
            "description_width": ""
          }
        },
        "6d6bb1eb10ea43918bc65a45912fcb62": {
          "model_module": "@jupyter-widgets/base",
          "model_name": "LayoutModel",
          "model_module_version": "1.2.0",
          "state": {
            "_model_module": "@jupyter-widgets/base",
            "_model_module_version": "1.2.0",
            "_model_name": "LayoutModel",
            "_view_count": null,
            "_view_module": "@jupyter-widgets/base",
            "_view_module_version": "1.2.0",
            "_view_name": "LayoutView",
            "align_content": null,
            "align_items": null,
            "align_self": null,
            "border": null,
            "bottom": null,
            "display": null,
            "flex": null,
            "flex_flow": null,
            "grid_area": null,
            "grid_auto_columns": null,
            "grid_auto_flow": null,
            "grid_auto_rows": null,
            "grid_column": null,
            "grid_gap": null,
            "grid_row": null,
            "grid_template_areas": null,
            "grid_template_columns": null,
            "grid_template_rows": null,
            "height": null,
            "justify_content": null,
            "justify_items": null,
            "left": null,
            "margin": null,
            "max_height": null,
            "max_width": null,
            "min_height": null,
            "min_width": null,
            "object_fit": null,
            "object_position": null,
            "order": null,
            "overflow": null,
            "overflow_x": null,
            "overflow_y": null,
            "padding": null,
            "right": null,
            "top": null,
            "visibility": null,
            "width": null
          }
        },
        "a7a4949903224dd2a72fe1e863a7388b": {
          "model_module": "@jupyter-widgets/controls",
          "model_name": "ProgressStyleModel",
          "model_module_version": "1.5.0",
          "state": {
            "_model_module": "@jupyter-widgets/controls",
            "_model_module_version": "1.5.0",
            "_model_name": "ProgressStyleModel",
            "_view_count": null,
            "_view_module": "@jupyter-widgets/base",
            "_view_module_version": "1.2.0",
            "_view_name": "StyleView",
            "bar_color": null,
            "description_width": ""
          }
        },
        "35004fdf596c40e69b43429475a01e68": {
          "model_module": "@jupyter-widgets/base",
          "model_name": "LayoutModel",
          "model_module_version": "1.2.0",
          "state": {
            "_model_module": "@jupyter-widgets/base",
            "_model_module_version": "1.2.0",
            "_model_name": "LayoutModel",
            "_view_count": null,
            "_view_module": "@jupyter-widgets/base",
            "_view_module_version": "1.2.0",
            "_view_name": "LayoutView",
            "align_content": null,
            "align_items": null,
            "align_self": null,
            "border": null,
            "bottom": null,
            "display": null,
            "flex": null,
            "flex_flow": null,
            "grid_area": null,
            "grid_auto_columns": null,
            "grid_auto_flow": null,
            "grid_auto_rows": null,
            "grid_column": null,
            "grid_gap": null,
            "grid_row": null,
            "grid_template_areas": null,
            "grid_template_columns": null,
            "grid_template_rows": null,
            "height": null,
            "justify_content": null,
            "justify_items": null,
            "left": null,
            "margin": null,
            "max_height": null,
            "max_width": null,
            "min_height": null,
            "min_width": null,
            "object_fit": null,
            "object_position": null,
            "order": null,
            "overflow": null,
            "overflow_x": null,
            "overflow_y": null,
            "padding": null,
            "right": null,
            "top": null,
            "visibility": null,
            "width": null
          }
        },
        "8eec0fc410b447499e819342931844f6": {
          "model_module": "@jupyter-widgets/controls",
          "model_name": "DescriptionStyleModel",
          "model_module_version": "1.5.0",
          "state": {
            "_model_module": "@jupyter-widgets/controls",
            "_model_module_version": "1.5.0",
            "_model_name": "DescriptionStyleModel",
            "_view_count": null,
            "_view_module": "@jupyter-widgets/base",
            "_view_module_version": "1.2.0",
            "_view_name": "StyleView",
            "description_width": ""
          }
        },
        "c2933392ca4942e496e50ac73520dada": {
          "model_module": "@jupyter-widgets/controls",
          "model_name": "HBoxModel",
          "model_module_version": "1.5.0",
          "state": {
            "_dom_classes": [],
            "_model_module": "@jupyter-widgets/controls",
            "_model_module_version": "1.5.0",
            "_model_name": "HBoxModel",
            "_view_count": null,
            "_view_module": "@jupyter-widgets/controls",
            "_view_module_version": "1.5.0",
            "_view_name": "HBoxView",
            "box_style": "",
            "children": [
              "IPY_MODEL_82b8ae0a295648ac867422d15011aa00",
              "IPY_MODEL_8afaaaa82cf641bd91c622fd0cebc38d",
              "IPY_MODEL_9bf8f317c3c34aec92628591773de13f"
            ],
            "layout": "IPY_MODEL_94386da8e7d641b184cbd6409d870f61"
          }
        },
        "82b8ae0a295648ac867422d15011aa00": {
          "model_module": "@jupyter-widgets/controls",
          "model_name": "HTMLModel",
          "model_module_version": "1.5.0",
          "state": {
            "_dom_classes": [],
            "_model_module": "@jupyter-widgets/controls",
            "_model_module_version": "1.5.0",
            "_model_name": "HTMLModel",
            "_view_count": null,
            "_view_module": "@jupyter-widgets/controls",
            "_view_module_version": "1.5.0",
            "_view_name": "HTMLView",
            "description": "",
            "description_tooltip": null,
            "layout": "IPY_MODEL_9f79404fd33247f681105f001b2b6d8c",
            "placeholder": "​",
            "style": "IPY_MODEL_73dda03b4abc4229b7afe889e50d87d3",
            "value": "100%"
          }
        },
        "8afaaaa82cf641bd91c622fd0cebc38d": {
          "model_module": "@jupyter-widgets/controls",
          "model_name": "FloatProgressModel",
          "model_module_version": "1.5.0",
          "state": {
            "_dom_classes": [],
            "_model_module": "@jupyter-widgets/controls",
            "_model_module_version": "1.5.0",
            "_model_name": "FloatProgressModel",
            "_view_count": null,
            "_view_module": "@jupyter-widgets/controls",
            "_view_module_version": "1.5.0",
            "_view_name": "ProgressView",
            "bar_style": "success",
            "description": "",
            "description_tooltip": null,
            "layout": "IPY_MODEL_d2966d235b114f98b5e56bb8e7e0d75e",
            "max": 1,
            "min": 0,
            "orientation": "horizontal",
            "style": "IPY_MODEL_651544affa644364b270a6348b5e640a",
            "value": 1
          }
        },
        "9bf8f317c3c34aec92628591773de13f": {
          "model_module": "@jupyter-widgets/controls",
          "model_name": "HTMLModel",
          "model_module_version": "1.5.0",
          "state": {
            "_dom_classes": [],
            "_model_module": "@jupyter-widgets/controls",
            "_model_module_version": "1.5.0",
            "_model_name": "HTMLModel",
            "_view_count": null,
            "_view_module": "@jupyter-widgets/controls",
            "_view_module_version": "1.5.0",
            "_view_name": "HTMLView",
            "description": "",
            "description_tooltip": null,
            "layout": "IPY_MODEL_107ca198b2824a5199ba97bb91789564",
            "placeholder": "​",
            "style": "IPY_MODEL_2cebfd03a076435683f204fd19a105ca",
            "value": " 1/1 [00:00&lt;00:00,  9.73ba/s]"
          }
        },
        "94386da8e7d641b184cbd6409d870f61": {
          "model_module": "@jupyter-widgets/base",
          "model_name": "LayoutModel",
          "model_module_version": "1.2.0",
          "state": {
            "_model_module": "@jupyter-widgets/base",
            "_model_module_version": "1.2.0",
            "_model_name": "LayoutModel",
            "_view_count": null,
            "_view_module": "@jupyter-widgets/base",
            "_view_module_version": "1.2.0",
            "_view_name": "LayoutView",
            "align_content": null,
            "align_items": null,
            "align_self": null,
            "border": null,
            "bottom": null,
            "display": null,
            "flex": null,
            "flex_flow": null,
            "grid_area": null,
            "grid_auto_columns": null,
            "grid_auto_flow": null,
            "grid_auto_rows": null,
            "grid_column": null,
            "grid_gap": null,
            "grid_row": null,
            "grid_template_areas": null,
            "grid_template_columns": null,
            "grid_template_rows": null,
            "height": null,
            "justify_content": null,
            "justify_items": null,
            "left": null,
            "margin": null,
            "max_height": null,
            "max_width": null,
            "min_height": null,
            "min_width": null,
            "object_fit": null,
            "object_position": null,
            "order": null,
            "overflow": null,
            "overflow_x": null,
            "overflow_y": null,
            "padding": null,
            "right": null,
            "top": null,
            "visibility": null,
            "width": null
          }
        },
        "9f79404fd33247f681105f001b2b6d8c": {
          "model_module": "@jupyter-widgets/base",
          "model_name": "LayoutModel",
          "model_module_version": "1.2.0",
          "state": {
            "_model_module": "@jupyter-widgets/base",
            "_model_module_version": "1.2.0",
            "_model_name": "LayoutModel",
            "_view_count": null,
            "_view_module": "@jupyter-widgets/base",
            "_view_module_version": "1.2.0",
            "_view_name": "LayoutView",
            "align_content": null,
            "align_items": null,
            "align_self": null,
            "border": null,
            "bottom": null,
            "display": null,
            "flex": null,
            "flex_flow": null,
            "grid_area": null,
            "grid_auto_columns": null,
            "grid_auto_flow": null,
            "grid_auto_rows": null,
            "grid_column": null,
            "grid_gap": null,
            "grid_row": null,
            "grid_template_areas": null,
            "grid_template_columns": null,
            "grid_template_rows": null,
            "height": null,
            "justify_content": null,
            "justify_items": null,
            "left": null,
            "margin": null,
            "max_height": null,
            "max_width": null,
            "min_height": null,
            "min_width": null,
            "object_fit": null,
            "object_position": null,
            "order": null,
            "overflow": null,
            "overflow_x": null,
            "overflow_y": null,
            "padding": null,
            "right": null,
            "top": null,
            "visibility": null,
            "width": null
          }
        },
        "73dda03b4abc4229b7afe889e50d87d3": {
          "model_module": "@jupyter-widgets/controls",
          "model_name": "DescriptionStyleModel",
          "model_module_version": "1.5.0",
          "state": {
            "_model_module": "@jupyter-widgets/controls",
            "_model_module_version": "1.5.0",
            "_model_name": "DescriptionStyleModel",
            "_view_count": null,
            "_view_module": "@jupyter-widgets/base",
            "_view_module_version": "1.2.0",
            "_view_name": "StyleView",
            "description_width": ""
          }
        },
        "d2966d235b114f98b5e56bb8e7e0d75e": {
          "model_module": "@jupyter-widgets/base",
          "model_name": "LayoutModel",
          "model_module_version": "1.2.0",
          "state": {
            "_model_module": "@jupyter-widgets/base",
            "_model_module_version": "1.2.0",
            "_model_name": "LayoutModel",
            "_view_count": null,
            "_view_module": "@jupyter-widgets/base",
            "_view_module_version": "1.2.0",
            "_view_name": "LayoutView",
            "align_content": null,
            "align_items": null,
            "align_self": null,
            "border": null,
            "bottom": null,
            "display": null,
            "flex": null,
            "flex_flow": null,
            "grid_area": null,
            "grid_auto_columns": null,
            "grid_auto_flow": null,
            "grid_auto_rows": null,
            "grid_column": null,
            "grid_gap": null,
            "grid_row": null,
            "grid_template_areas": null,
            "grid_template_columns": null,
            "grid_template_rows": null,
            "height": null,
            "justify_content": null,
            "justify_items": null,
            "left": null,
            "margin": null,
            "max_height": null,
            "max_width": null,
            "min_height": null,
            "min_width": null,
            "object_fit": null,
            "object_position": null,
            "order": null,
            "overflow": null,
            "overflow_x": null,
            "overflow_y": null,
            "padding": null,
            "right": null,
            "top": null,
            "visibility": null,
            "width": null
          }
        },
        "651544affa644364b270a6348b5e640a": {
          "model_module": "@jupyter-widgets/controls",
          "model_name": "ProgressStyleModel",
          "model_module_version": "1.5.0",
          "state": {
            "_model_module": "@jupyter-widgets/controls",
            "_model_module_version": "1.5.0",
            "_model_name": "ProgressStyleModel",
            "_view_count": null,
            "_view_module": "@jupyter-widgets/base",
            "_view_module_version": "1.2.0",
            "_view_name": "StyleView",
            "bar_color": null,
            "description_width": ""
          }
        },
        "107ca198b2824a5199ba97bb91789564": {
          "model_module": "@jupyter-widgets/base",
          "model_name": "LayoutModel",
          "model_module_version": "1.2.0",
          "state": {
            "_model_module": "@jupyter-widgets/base",
            "_model_module_version": "1.2.0",
            "_model_name": "LayoutModel",
            "_view_count": null,
            "_view_module": "@jupyter-widgets/base",
            "_view_module_version": "1.2.0",
            "_view_name": "LayoutView",
            "align_content": null,
            "align_items": null,
            "align_self": null,
            "border": null,
            "bottom": null,
            "display": null,
            "flex": null,
            "flex_flow": null,
            "grid_area": null,
            "grid_auto_columns": null,
            "grid_auto_flow": null,
            "grid_auto_rows": null,
            "grid_column": null,
            "grid_gap": null,
            "grid_row": null,
            "grid_template_areas": null,
            "grid_template_columns": null,
            "grid_template_rows": null,
            "height": null,
            "justify_content": null,
            "justify_items": null,
            "left": null,
            "margin": null,
            "max_height": null,
            "max_width": null,
            "min_height": null,
            "min_width": null,
            "object_fit": null,
            "object_position": null,
            "order": null,
            "overflow": null,
            "overflow_x": null,
            "overflow_y": null,
            "padding": null,
            "right": null,
            "top": null,
            "visibility": null,
            "width": null
          }
        },
        "2cebfd03a076435683f204fd19a105ca": {
          "model_module": "@jupyter-widgets/controls",
          "model_name": "DescriptionStyleModel",
          "model_module_version": "1.5.0",
          "state": {
            "_model_module": "@jupyter-widgets/controls",
            "_model_module_version": "1.5.0",
            "_model_name": "DescriptionStyleModel",
            "_view_count": null,
            "_view_module": "@jupyter-widgets/base",
            "_view_module_version": "1.2.0",
            "_view_name": "StyleView",
            "description_width": ""
          }
        },
        "dbf56ad45dcf45d5933bae1e3efbd5dd": {
          "model_module": "@jupyter-widgets/controls",
          "model_name": "HBoxModel",
          "model_module_version": "1.5.0",
          "state": {
            "_dom_classes": [],
            "_model_module": "@jupyter-widgets/controls",
            "_model_module_version": "1.5.0",
            "_model_name": "HBoxModel",
            "_view_count": null,
            "_view_module": "@jupyter-widgets/controls",
            "_view_module_version": "1.5.0",
            "_view_name": "HBoxView",
            "box_style": "",
            "children": [
              "IPY_MODEL_ab5f8fe3dcd1465b9c5b30ce041416f7",
              "IPY_MODEL_2b83c797ebad4b15a2eb3087ca60391f",
              "IPY_MODEL_d0779a929cd5440bac71a1208f362d58"
            ],
            "layout": "IPY_MODEL_3c07fa9c27654e10bff9a6fa7b0f2b2c"
          }
        },
        "ab5f8fe3dcd1465b9c5b30ce041416f7": {
          "model_module": "@jupyter-widgets/controls",
          "model_name": "HTMLModel",
          "model_module_version": "1.5.0",
          "state": {
            "_dom_classes": [],
            "_model_module": "@jupyter-widgets/controls",
            "_model_module_version": "1.5.0",
            "_model_name": "HTMLModel",
            "_view_count": null,
            "_view_module": "@jupyter-widgets/controls",
            "_view_module_version": "1.5.0",
            "_view_name": "HTMLView",
            "description": "",
            "description_tooltip": null,
            "layout": "IPY_MODEL_801d86a0fef24e40a144e09cf14befaa",
            "placeholder": "​",
            "style": "IPY_MODEL_38b7d88327e44139ac2040a9c3bea89e",
            "value": "100%"
          }
        },
        "2b83c797ebad4b15a2eb3087ca60391f": {
          "model_module": "@jupyter-widgets/controls",
          "model_name": "FloatProgressModel",
          "model_module_version": "1.5.0",
          "state": {
            "_dom_classes": [],
            "_model_module": "@jupyter-widgets/controls",
            "_model_module_version": "1.5.0",
            "_model_name": "FloatProgressModel",
            "_view_count": null,
            "_view_module": "@jupyter-widgets/controls",
            "_view_module_version": "1.5.0",
            "_view_name": "ProgressView",
            "bar_style": "success",
            "description": "",
            "description_tooltip": null,
            "layout": "IPY_MODEL_ffce2da9337d4a2a8d4d0ca5017524be",
            "max": 1,
            "min": 0,
            "orientation": "horizontal",
            "style": "IPY_MODEL_b928f505e20644a7968d2aa657ad5985",
            "value": 1
          }
        },
        "d0779a929cd5440bac71a1208f362d58": {
          "model_module": "@jupyter-widgets/controls",
          "model_name": "HTMLModel",
          "model_module_version": "1.5.0",
          "state": {
            "_dom_classes": [],
            "_model_module": "@jupyter-widgets/controls",
            "_model_module_version": "1.5.0",
            "_model_name": "HTMLModel",
            "_view_count": null,
            "_view_module": "@jupyter-widgets/controls",
            "_view_module_version": "1.5.0",
            "_view_name": "HTMLView",
            "description": "",
            "description_tooltip": null,
            "layout": "IPY_MODEL_e1c3c04266b14813a5b4cf85b41cc63a",
            "placeholder": "​",
            "style": "IPY_MODEL_b52ede3db9824b8dbfea9cc9ff28d3b6",
            "value": " 1/1 [00:00&lt;00:00,  9.38ba/s]"
          }
        },
        "3c07fa9c27654e10bff9a6fa7b0f2b2c": {
          "model_module": "@jupyter-widgets/base",
          "model_name": "LayoutModel",
          "model_module_version": "1.2.0",
          "state": {
            "_model_module": "@jupyter-widgets/base",
            "_model_module_version": "1.2.0",
            "_model_name": "LayoutModel",
            "_view_count": null,
            "_view_module": "@jupyter-widgets/base",
            "_view_module_version": "1.2.0",
            "_view_name": "LayoutView",
            "align_content": null,
            "align_items": null,
            "align_self": null,
            "border": null,
            "bottom": null,
            "display": null,
            "flex": null,
            "flex_flow": null,
            "grid_area": null,
            "grid_auto_columns": null,
            "grid_auto_flow": null,
            "grid_auto_rows": null,
            "grid_column": null,
            "grid_gap": null,
            "grid_row": null,
            "grid_template_areas": null,
            "grid_template_columns": null,
            "grid_template_rows": null,
            "height": null,
            "justify_content": null,
            "justify_items": null,
            "left": null,
            "margin": null,
            "max_height": null,
            "max_width": null,
            "min_height": null,
            "min_width": null,
            "object_fit": null,
            "object_position": null,
            "order": null,
            "overflow": null,
            "overflow_x": null,
            "overflow_y": null,
            "padding": null,
            "right": null,
            "top": null,
            "visibility": null,
            "width": null
          }
        },
        "801d86a0fef24e40a144e09cf14befaa": {
          "model_module": "@jupyter-widgets/base",
          "model_name": "LayoutModel",
          "model_module_version": "1.2.0",
          "state": {
            "_model_module": "@jupyter-widgets/base",
            "_model_module_version": "1.2.0",
            "_model_name": "LayoutModel",
            "_view_count": null,
            "_view_module": "@jupyter-widgets/base",
            "_view_module_version": "1.2.0",
            "_view_name": "LayoutView",
            "align_content": null,
            "align_items": null,
            "align_self": null,
            "border": null,
            "bottom": null,
            "display": null,
            "flex": null,
            "flex_flow": null,
            "grid_area": null,
            "grid_auto_columns": null,
            "grid_auto_flow": null,
            "grid_auto_rows": null,
            "grid_column": null,
            "grid_gap": null,
            "grid_row": null,
            "grid_template_areas": null,
            "grid_template_columns": null,
            "grid_template_rows": null,
            "height": null,
            "justify_content": null,
            "justify_items": null,
            "left": null,
            "margin": null,
            "max_height": null,
            "max_width": null,
            "min_height": null,
            "min_width": null,
            "object_fit": null,
            "object_position": null,
            "order": null,
            "overflow": null,
            "overflow_x": null,
            "overflow_y": null,
            "padding": null,
            "right": null,
            "top": null,
            "visibility": null,
            "width": null
          }
        },
        "38b7d88327e44139ac2040a9c3bea89e": {
          "model_module": "@jupyter-widgets/controls",
          "model_name": "DescriptionStyleModel",
          "model_module_version": "1.5.0",
          "state": {
            "_model_module": "@jupyter-widgets/controls",
            "_model_module_version": "1.5.0",
            "_model_name": "DescriptionStyleModel",
            "_view_count": null,
            "_view_module": "@jupyter-widgets/base",
            "_view_module_version": "1.2.0",
            "_view_name": "StyleView",
            "description_width": ""
          }
        },
        "ffce2da9337d4a2a8d4d0ca5017524be": {
          "model_module": "@jupyter-widgets/base",
          "model_name": "LayoutModel",
          "model_module_version": "1.2.0",
          "state": {
            "_model_module": "@jupyter-widgets/base",
            "_model_module_version": "1.2.0",
            "_model_name": "LayoutModel",
            "_view_count": null,
            "_view_module": "@jupyter-widgets/base",
            "_view_module_version": "1.2.0",
            "_view_name": "LayoutView",
            "align_content": null,
            "align_items": null,
            "align_self": null,
            "border": null,
            "bottom": null,
            "display": null,
            "flex": null,
            "flex_flow": null,
            "grid_area": null,
            "grid_auto_columns": null,
            "grid_auto_flow": null,
            "grid_auto_rows": null,
            "grid_column": null,
            "grid_gap": null,
            "grid_row": null,
            "grid_template_areas": null,
            "grid_template_columns": null,
            "grid_template_rows": null,
            "height": null,
            "justify_content": null,
            "justify_items": null,
            "left": null,
            "margin": null,
            "max_height": null,
            "max_width": null,
            "min_height": null,
            "min_width": null,
            "object_fit": null,
            "object_position": null,
            "order": null,
            "overflow": null,
            "overflow_x": null,
            "overflow_y": null,
            "padding": null,
            "right": null,
            "top": null,
            "visibility": null,
            "width": null
          }
        },
        "b928f505e20644a7968d2aa657ad5985": {
          "model_module": "@jupyter-widgets/controls",
          "model_name": "ProgressStyleModel",
          "model_module_version": "1.5.0",
          "state": {
            "_model_module": "@jupyter-widgets/controls",
            "_model_module_version": "1.5.0",
            "_model_name": "ProgressStyleModel",
            "_view_count": null,
            "_view_module": "@jupyter-widgets/base",
            "_view_module_version": "1.2.0",
            "_view_name": "StyleView",
            "bar_color": null,
            "description_width": ""
          }
        },
        "e1c3c04266b14813a5b4cf85b41cc63a": {
          "model_module": "@jupyter-widgets/base",
          "model_name": "LayoutModel",
          "model_module_version": "1.2.0",
          "state": {
            "_model_module": "@jupyter-widgets/base",
            "_model_module_version": "1.2.0",
            "_model_name": "LayoutModel",
            "_view_count": null,
            "_view_module": "@jupyter-widgets/base",
            "_view_module_version": "1.2.0",
            "_view_name": "LayoutView",
            "align_content": null,
            "align_items": null,
            "align_self": null,
            "border": null,
            "bottom": null,
            "display": null,
            "flex": null,
            "flex_flow": null,
            "grid_area": null,
            "grid_auto_columns": null,
            "grid_auto_flow": null,
            "grid_auto_rows": null,
            "grid_column": null,
            "grid_gap": null,
            "grid_row": null,
            "grid_template_areas": null,
            "grid_template_columns": null,
            "grid_template_rows": null,
            "height": null,
            "justify_content": null,
            "justify_items": null,
            "left": null,
            "margin": null,
            "max_height": null,
            "max_width": null,
            "min_height": null,
            "min_width": null,
            "object_fit": null,
            "object_position": null,
            "order": null,
            "overflow": null,
            "overflow_x": null,
            "overflow_y": null,
            "padding": null,
            "right": null,
            "top": null,
            "visibility": null,
            "width": null
          }
        },
        "b52ede3db9824b8dbfea9cc9ff28d3b6": {
          "model_module": "@jupyter-widgets/controls",
          "model_name": "DescriptionStyleModel",
          "model_module_version": "1.5.0",
          "state": {
            "_model_module": "@jupyter-widgets/controls",
            "_model_module_version": "1.5.0",
            "_model_name": "DescriptionStyleModel",
            "_view_count": null,
            "_view_module": "@jupyter-widgets/base",
            "_view_module_version": "1.2.0",
            "_view_name": "StyleView",
            "description_width": ""
          }
        },
        "e5bfc2cda9884011ac5db6c1426866af": {
          "model_module": "@jupyter-widgets/controls",
          "model_name": "HBoxModel",
          "model_module_version": "1.5.0",
          "state": {
            "_dom_classes": [],
            "_model_module": "@jupyter-widgets/controls",
            "_model_module_version": "1.5.0",
            "_model_name": "HBoxModel",
            "_view_count": null,
            "_view_module": "@jupyter-widgets/controls",
            "_view_module_version": "1.5.0",
            "_view_name": "HBoxView",
            "box_style": "",
            "children": [
              "IPY_MODEL_63972fcc99514dc2b491c8b864198e6c",
              "IPY_MODEL_0181bee1b5b742a1bcff499e61f80a38",
              "IPY_MODEL_fd36d48f3581495e8c005abbda5a9bdd"
            ],
            "layout": "IPY_MODEL_fc35245ea3824d64bb12e416e7feabdf"
          }
        },
        "63972fcc99514dc2b491c8b864198e6c": {
          "model_module": "@jupyter-widgets/controls",
          "model_name": "HTMLModel",
          "model_module_version": "1.5.0",
          "state": {
            "_dom_classes": [],
            "_model_module": "@jupyter-widgets/controls",
            "_model_module_version": "1.5.0",
            "_model_name": "HTMLModel",
            "_view_count": null,
            "_view_module": "@jupyter-widgets/controls",
            "_view_module_version": "1.5.0",
            "_view_name": "HTMLView",
            "description": "",
            "description_tooltip": null,
            "layout": "IPY_MODEL_8a77c4af7bab43da90dd20aa0857bafb",
            "placeholder": "​",
            "style": "IPY_MODEL_3a3f4295490f487db5a443f6cc91c03f",
            "value": "100%"
          }
        },
        "0181bee1b5b742a1bcff499e61f80a38": {
          "model_module": "@jupyter-widgets/controls",
          "model_name": "FloatProgressModel",
          "model_module_version": "1.5.0",
          "state": {
            "_dom_classes": [],
            "_model_module": "@jupyter-widgets/controls",
            "_model_module_version": "1.5.0",
            "_model_name": "FloatProgressModel",
            "_view_count": null,
            "_view_module": "@jupyter-widgets/controls",
            "_view_module_version": "1.5.0",
            "_view_name": "ProgressView",
            "bar_style": "success",
            "description": "",
            "description_tooltip": null,
            "layout": "IPY_MODEL_7a03887363114223bd4070d555b3e94d",
            "max": 1,
            "min": 0,
            "orientation": "horizontal",
            "style": "IPY_MODEL_bd42f6e65137469892ce639d70e1191f",
            "value": 1
          }
        },
        "fd36d48f3581495e8c005abbda5a9bdd": {
          "model_module": "@jupyter-widgets/controls",
          "model_name": "HTMLModel",
          "model_module_version": "1.5.0",
          "state": {
            "_dom_classes": [],
            "_model_module": "@jupyter-widgets/controls",
            "_model_module_version": "1.5.0",
            "_model_name": "HTMLModel",
            "_view_count": null,
            "_view_module": "@jupyter-widgets/controls",
            "_view_module_version": "1.5.0",
            "_view_name": "HTMLView",
            "description": "",
            "description_tooltip": null,
            "layout": "IPY_MODEL_ee604da0af5a4ecb80c6143c5e56cd90",
            "placeholder": "​",
            "style": "IPY_MODEL_232fbaf5623e4e9eb8565040f2561793",
            "value": " 1/1 [00:00&lt;00:00,  3.21ba/s]"
          }
        },
        "fc35245ea3824d64bb12e416e7feabdf": {
          "model_module": "@jupyter-widgets/base",
          "model_name": "LayoutModel",
          "model_module_version": "1.2.0",
          "state": {
            "_model_module": "@jupyter-widgets/base",
            "_model_module_version": "1.2.0",
            "_model_name": "LayoutModel",
            "_view_count": null,
            "_view_module": "@jupyter-widgets/base",
            "_view_module_version": "1.2.0",
            "_view_name": "LayoutView",
            "align_content": null,
            "align_items": null,
            "align_self": null,
            "border": null,
            "bottom": null,
            "display": null,
            "flex": null,
            "flex_flow": null,
            "grid_area": null,
            "grid_auto_columns": null,
            "grid_auto_flow": null,
            "grid_auto_rows": null,
            "grid_column": null,
            "grid_gap": null,
            "grid_row": null,
            "grid_template_areas": null,
            "grid_template_columns": null,
            "grid_template_rows": null,
            "height": null,
            "justify_content": null,
            "justify_items": null,
            "left": null,
            "margin": null,
            "max_height": null,
            "max_width": null,
            "min_height": null,
            "min_width": null,
            "object_fit": null,
            "object_position": null,
            "order": null,
            "overflow": null,
            "overflow_x": null,
            "overflow_y": null,
            "padding": null,
            "right": null,
            "top": null,
            "visibility": null,
            "width": null
          }
        },
        "8a77c4af7bab43da90dd20aa0857bafb": {
          "model_module": "@jupyter-widgets/base",
          "model_name": "LayoutModel",
          "model_module_version": "1.2.0",
          "state": {
            "_model_module": "@jupyter-widgets/base",
            "_model_module_version": "1.2.0",
            "_model_name": "LayoutModel",
            "_view_count": null,
            "_view_module": "@jupyter-widgets/base",
            "_view_module_version": "1.2.0",
            "_view_name": "LayoutView",
            "align_content": null,
            "align_items": null,
            "align_self": null,
            "border": null,
            "bottom": null,
            "display": null,
            "flex": null,
            "flex_flow": null,
            "grid_area": null,
            "grid_auto_columns": null,
            "grid_auto_flow": null,
            "grid_auto_rows": null,
            "grid_column": null,
            "grid_gap": null,
            "grid_row": null,
            "grid_template_areas": null,
            "grid_template_columns": null,
            "grid_template_rows": null,
            "height": null,
            "justify_content": null,
            "justify_items": null,
            "left": null,
            "margin": null,
            "max_height": null,
            "max_width": null,
            "min_height": null,
            "min_width": null,
            "object_fit": null,
            "object_position": null,
            "order": null,
            "overflow": null,
            "overflow_x": null,
            "overflow_y": null,
            "padding": null,
            "right": null,
            "top": null,
            "visibility": null,
            "width": null
          }
        },
        "3a3f4295490f487db5a443f6cc91c03f": {
          "model_module": "@jupyter-widgets/controls",
          "model_name": "DescriptionStyleModel",
          "model_module_version": "1.5.0",
          "state": {
            "_model_module": "@jupyter-widgets/controls",
            "_model_module_version": "1.5.0",
            "_model_name": "DescriptionStyleModel",
            "_view_count": null,
            "_view_module": "@jupyter-widgets/base",
            "_view_module_version": "1.2.0",
            "_view_name": "StyleView",
            "description_width": ""
          }
        },
        "7a03887363114223bd4070d555b3e94d": {
          "model_module": "@jupyter-widgets/base",
          "model_name": "LayoutModel",
          "model_module_version": "1.2.0",
          "state": {
            "_model_module": "@jupyter-widgets/base",
            "_model_module_version": "1.2.0",
            "_model_name": "LayoutModel",
            "_view_count": null,
            "_view_module": "@jupyter-widgets/base",
            "_view_module_version": "1.2.0",
            "_view_name": "LayoutView",
            "align_content": null,
            "align_items": null,
            "align_self": null,
            "border": null,
            "bottom": null,
            "display": null,
            "flex": null,
            "flex_flow": null,
            "grid_area": null,
            "grid_auto_columns": null,
            "grid_auto_flow": null,
            "grid_auto_rows": null,
            "grid_column": null,
            "grid_gap": null,
            "grid_row": null,
            "grid_template_areas": null,
            "grid_template_columns": null,
            "grid_template_rows": null,
            "height": null,
            "justify_content": null,
            "justify_items": null,
            "left": null,
            "margin": null,
            "max_height": null,
            "max_width": null,
            "min_height": null,
            "min_width": null,
            "object_fit": null,
            "object_position": null,
            "order": null,
            "overflow": null,
            "overflow_x": null,
            "overflow_y": null,
            "padding": null,
            "right": null,
            "top": null,
            "visibility": null,
            "width": null
          }
        },
        "bd42f6e65137469892ce639d70e1191f": {
          "model_module": "@jupyter-widgets/controls",
          "model_name": "ProgressStyleModel",
          "model_module_version": "1.5.0",
          "state": {
            "_model_module": "@jupyter-widgets/controls",
            "_model_module_version": "1.5.0",
            "_model_name": "ProgressStyleModel",
            "_view_count": null,
            "_view_module": "@jupyter-widgets/base",
            "_view_module_version": "1.2.0",
            "_view_name": "StyleView",
            "bar_color": null,
            "description_width": ""
          }
        },
        "ee604da0af5a4ecb80c6143c5e56cd90": {
          "model_module": "@jupyter-widgets/base",
          "model_name": "LayoutModel",
          "model_module_version": "1.2.0",
          "state": {
            "_model_module": "@jupyter-widgets/base",
            "_model_module_version": "1.2.0",
            "_model_name": "LayoutModel",
            "_view_count": null,
            "_view_module": "@jupyter-widgets/base",
            "_view_module_version": "1.2.0",
            "_view_name": "LayoutView",
            "align_content": null,
            "align_items": null,
            "align_self": null,
            "border": null,
            "bottom": null,
            "display": null,
            "flex": null,
            "flex_flow": null,
            "grid_area": null,
            "grid_auto_columns": null,
            "grid_auto_flow": null,
            "grid_auto_rows": null,
            "grid_column": null,
            "grid_gap": null,
            "grid_row": null,
            "grid_template_areas": null,
            "grid_template_columns": null,
            "grid_template_rows": null,
            "height": null,
            "justify_content": null,
            "justify_items": null,
            "left": null,
            "margin": null,
            "max_height": null,
            "max_width": null,
            "min_height": null,
            "min_width": null,
            "object_fit": null,
            "object_position": null,
            "order": null,
            "overflow": null,
            "overflow_x": null,
            "overflow_y": null,
            "padding": null,
            "right": null,
            "top": null,
            "visibility": null,
            "width": null
          }
        },
        "232fbaf5623e4e9eb8565040f2561793": {
          "model_module": "@jupyter-widgets/controls",
          "model_name": "DescriptionStyleModel",
          "model_module_version": "1.5.0",
          "state": {
            "_model_module": "@jupyter-widgets/controls",
            "_model_module_version": "1.5.0",
            "_model_name": "DescriptionStyleModel",
            "_view_count": null,
            "_view_module": "@jupyter-widgets/base",
            "_view_module_version": "1.2.0",
            "_view_name": "StyleView",
            "description_width": ""
          }
        },
        "e068dddebec2463485eae0792f0e84e1": {
          "model_module": "@jupyter-widgets/controls",
          "model_name": "HBoxModel",
          "model_module_version": "1.5.0",
          "state": {
            "_dom_classes": [],
            "_model_module": "@jupyter-widgets/controls",
            "_model_module_version": "1.5.0",
            "_model_name": "HBoxModel",
            "_view_count": null,
            "_view_module": "@jupyter-widgets/controls",
            "_view_module_version": "1.5.0",
            "_view_name": "HBoxView",
            "box_style": "",
            "children": [
              "IPY_MODEL_6115016909c647c8a0db53bf02d04dec",
              "IPY_MODEL_d07aab7f0d2f4fe1b6dff21cb4b63ec2",
              "IPY_MODEL_90ab2238db9145fd8c455b81e92143e0"
            ],
            "layout": "IPY_MODEL_f964ce5ef14a43509f6118f09e248172"
          }
        },
        "6115016909c647c8a0db53bf02d04dec": {
          "model_module": "@jupyter-widgets/controls",
          "model_name": "HTMLModel",
          "model_module_version": "1.5.0",
          "state": {
            "_dom_classes": [],
            "_model_module": "@jupyter-widgets/controls",
            "_model_module_version": "1.5.0",
            "_model_name": "HTMLModel",
            "_view_count": null,
            "_view_module": "@jupyter-widgets/controls",
            "_view_module_version": "1.5.0",
            "_view_name": "HTMLView",
            "description": "",
            "description_tooltip": null,
            "layout": "IPY_MODEL_24997f1f56014e3d830139e4d5edee92",
            "placeholder": "​",
            "style": "IPY_MODEL_0ed4340c5076496d8cc66b32522e7ef9",
            "value": "100%"
          }
        },
        "d07aab7f0d2f4fe1b6dff21cb4b63ec2": {
          "model_module": "@jupyter-widgets/controls",
          "model_name": "FloatProgressModel",
          "model_module_version": "1.5.0",
          "state": {
            "_dom_classes": [],
            "_model_module": "@jupyter-widgets/controls",
            "_model_module_version": "1.5.0",
            "_model_name": "FloatProgressModel",
            "_view_count": null,
            "_view_module": "@jupyter-widgets/controls",
            "_view_module_version": "1.5.0",
            "_view_name": "ProgressView",
            "bar_style": "success",
            "description": "",
            "description_tooltip": null,
            "layout": "IPY_MODEL_f26ebe6429414c63a68feade4e4e5781",
            "max": 1,
            "min": 0,
            "orientation": "horizontal",
            "style": "IPY_MODEL_e1e67136f8ed42c8a56e5a059c881502",
            "value": 1
          }
        },
        "90ab2238db9145fd8c455b81e92143e0": {
          "model_module": "@jupyter-widgets/controls",
          "model_name": "HTMLModel",
          "model_module_version": "1.5.0",
          "state": {
            "_dom_classes": [],
            "_model_module": "@jupyter-widgets/controls",
            "_model_module_version": "1.5.0",
            "_model_name": "HTMLModel",
            "_view_count": null,
            "_view_module": "@jupyter-widgets/controls",
            "_view_module_version": "1.5.0",
            "_view_name": "HTMLView",
            "description": "",
            "description_tooltip": null,
            "layout": "IPY_MODEL_19335200081245ba94b14cdc80304578",
            "placeholder": "​",
            "style": "IPY_MODEL_a8e70750f1f74e5fa2d02323619f0e29",
            "value": " 1/1 [00:00&lt;00:00,  6.41ba/s]"
          }
        },
        "f964ce5ef14a43509f6118f09e248172": {
          "model_module": "@jupyter-widgets/base",
          "model_name": "LayoutModel",
          "model_module_version": "1.2.0",
          "state": {
            "_model_module": "@jupyter-widgets/base",
            "_model_module_version": "1.2.0",
            "_model_name": "LayoutModel",
            "_view_count": null,
            "_view_module": "@jupyter-widgets/base",
            "_view_module_version": "1.2.0",
            "_view_name": "LayoutView",
            "align_content": null,
            "align_items": null,
            "align_self": null,
            "border": null,
            "bottom": null,
            "display": null,
            "flex": null,
            "flex_flow": null,
            "grid_area": null,
            "grid_auto_columns": null,
            "grid_auto_flow": null,
            "grid_auto_rows": null,
            "grid_column": null,
            "grid_gap": null,
            "grid_row": null,
            "grid_template_areas": null,
            "grid_template_columns": null,
            "grid_template_rows": null,
            "height": null,
            "justify_content": null,
            "justify_items": null,
            "left": null,
            "margin": null,
            "max_height": null,
            "max_width": null,
            "min_height": null,
            "min_width": null,
            "object_fit": null,
            "object_position": null,
            "order": null,
            "overflow": null,
            "overflow_x": null,
            "overflow_y": null,
            "padding": null,
            "right": null,
            "top": null,
            "visibility": null,
            "width": null
          }
        },
        "24997f1f56014e3d830139e4d5edee92": {
          "model_module": "@jupyter-widgets/base",
          "model_name": "LayoutModel",
          "model_module_version": "1.2.0",
          "state": {
            "_model_module": "@jupyter-widgets/base",
            "_model_module_version": "1.2.0",
            "_model_name": "LayoutModel",
            "_view_count": null,
            "_view_module": "@jupyter-widgets/base",
            "_view_module_version": "1.2.0",
            "_view_name": "LayoutView",
            "align_content": null,
            "align_items": null,
            "align_self": null,
            "border": null,
            "bottom": null,
            "display": null,
            "flex": null,
            "flex_flow": null,
            "grid_area": null,
            "grid_auto_columns": null,
            "grid_auto_flow": null,
            "grid_auto_rows": null,
            "grid_column": null,
            "grid_gap": null,
            "grid_row": null,
            "grid_template_areas": null,
            "grid_template_columns": null,
            "grid_template_rows": null,
            "height": null,
            "justify_content": null,
            "justify_items": null,
            "left": null,
            "margin": null,
            "max_height": null,
            "max_width": null,
            "min_height": null,
            "min_width": null,
            "object_fit": null,
            "object_position": null,
            "order": null,
            "overflow": null,
            "overflow_x": null,
            "overflow_y": null,
            "padding": null,
            "right": null,
            "top": null,
            "visibility": null,
            "width": null
          }
        },
        "0ed4340c5076496d8cc66b32522e7ef9": {
          "model_module": "@jupyter-widgets/controls",
          "model_name": "DescriptionStyleModel",
          "model_module_version": "1.5.0",
          "state": {
            "_model_module": "@jupyter-widgets/controls",
            "_model_module_version": "1.5.0",
            "_model_name": "DescriptionStyleModel",
            "_view_count": null,
            "_view_module": "@jupyter-widgets/base",
            "_view_module_version": "1.2.0",
            "_view_name": "StyleView",
            "description_width": ""
          }
        },
        "f26ebe6429414c63a68feade4e4e5781": {
          "model_module": "@jupyter-widgets/base",
          "model_name": "LayoutModel",
          "model_module_version": "1.2.0",
          "state": {
            "_model_module": "@jupyter-widgets/base",
            "_model_module_version": "1.2.0",
            "_model_name": "LayoutModel",
            "_view_count": null,
            "_view_module": "@jupyter-widgets/base",
            "_view_module_version": "1.2.0",
            "_view_name": "LayoutView",
            "align_content": null,
            "align_items": null,
            "align_self": null,
            "border": null,
            "bottom": null,
            "display": null,
            "flex": null,
            "flex_flow": null,
            "grid_area": null,
            "grid_auto_columns": null,
            "grid_auto_flow": null,
            "grid_auto_rows": null,
            "grid_column": null,
            "grid_gap": null,
            "grid_row": null,
            "grid_template_areas": null,
            "grid_template_columns": null,
            "grid_template_rows": null,
            "height": null,
            "justify_content": null,
            "justify_items": null,
            "left": null,
            "margin": null,
            "max_height": null,
            "max_width": null,
            "min_height": null,
            "min_width": null,
            "object_fit": null,
            "object_position": null,
            "order": null,
            "overflow": null,
            "overflow_x": null,
            "overflow_y": null,
            "padding": null,
            "right": null,
            "top": null,
            "visibility": null,
            "width": null
          }
        },
        "e1e67136f8ed42c8a56e5a059c881502": {
          "model_module": "@jupyter-widgets/controls",
          "model_name": "ProgressStyleModel",
          "model_module_version": "1.5.0",
          "state": {
            "_model_module": "@jupyter-widgets/controls",
            "_model_module_version": "1.5.0",
            "_model_name": "ProgressStyleModel",
            "_view_count": null,
            "_view_module": "@jupyter-widgets/base",
            "_view_module_version": "1.2.0",
            "_view_name": "StyleView",
            "bar_color": null,
            "description_width": ""
          }
        },
        "19335200081245ba94b14cdc80304578": {
          "model_module": "@jupyter-widgets/base",
          "model_name": "LayoutModel",
          "model_module_version": "1.2.0",
          "state": {
            "_model_module": "@jupyter-widgets/base",
            "_model_module_version": "1.2.0",
            "_model_name": "LayoutModel",
            "_view_count": null,
            "_view_module": "@jupyter-widgets/base",
            "_view_module_version": "1.2.0",
            "_view_name": "LayoutView",
            "align_content": null,
            "align_items": null,
            "align_self": null,
            "border": null,
            "bottom": null,
            "display": null,
            "flex": null,
            "flex_flow": null,
            "grid_area": null,
            "grid_auto_columns": null,
            "grid_auto_flow": null,
            "grid_auto_rows": null,
            "grid_column": null,
            "grid_gap": null,
            "grid_row": null,
            "grid_template_areas": null,
            "grid_template_columns": null,
            "grid_template_rows": null,
            "height": null,
            "justify_content": null,
            "justify_items": null,
            "left": null,
            "margin": null,
            "max_height": null,
            "max_width": null,
            "min_height": null,
            "min_width": null,
            "object_fit": null,
            "object_position": null,
            "order": null,
            "overflow": null,
            "overflow_x": null,
            "overflow_y": null,
            "padding": null,
            "right": null,
            "top": null,
            "visibility": null,
            "width": null
          }
        },
        "a8e70750f1f74e5fa2d02323619f0e29": {
          "model_module": "@jupyter-widgets/controls",
          "model_name": "DescriptionStyleModel",
          "model_module_version": "1.5.0",
          "state": {
            "_model_module": "@jupyter-widgets/controls",
            "_model_module_version": "1.5.0",
            "_model_name": "DescriptionStyleModel",
            "_view_count": null,
            "_view_module": "@jupyter-widgets/base",
            "_view_module_version": "1.2.0",
            "_view_name": "StyleView",
            "description_width": ""
          }
        }
      }
    },
    "accelerator": "GPU",
    "gpuClass": "standard"
  },
  "cells": [
    {
      "cell_type": "markdown",
      "metadata": {
        "id": "view-in-github",
        "colab_type": "text"
      },
      "source": [
        "<a href=\"https://colab.research.google.com/github/advapplab/sentiment_analysis_election_2022/blob/main/Chiang_Ko_Tsai_unlabelled_data.ipynb\" target=\"_parent\"><img src=\"https://colab.research.google.com/assets/colab-badge.svg\" alt=\"Open In Colab\"/></a>"
      ]
    },
    {
      "cell_type": "markdown",
      "source": [
        "# 0 Init"
      ],
      "metadata": {
        "id": "vg32jJYgLEJg"
      }
    },
    {
      "cell_type": "code",
      "source": [
        "!pip install datasets\n",
        "!pip install transformers\n",
        "!pip install --upgrade xlrd\n",
        "!pip install huggingface_hub"
      ],
      "metadata": {
        "id": "c6UwrI3zLJWu",
        "colab": {
          "base_uri": "https://localhost:8080/"
        },
        "outputId": "3c4b14b0-48a6-482e-dd31-4f1060e51f54"
      },
      "execution_count": null,
      "outputs": [
        {
          "output_type": "stream",
          "name": "stdout",
          "text": [
            "Looking in indexes: https://pypi.org/simple, https://us-python.pkg.dev/colab-wheels/public/simple/\n",
            "Requirement already satisfied: datasets in /usr/local/lib/python3.8/dist-packages (2.7.1)\n",
            "Requirement already satisfied: fsspec[http]>=2021.11.1 in /usr/local/lib/python3.8/dist-packages (from datasets) (2022.11.0)\n",
            "Requirement already satisfied: requests>=2.19.0 in /usr/local/lib/python3.8/dist-packages (from datasets) (2.23.0)\n",
            "Requirement already satisfied: huggingface-hub<1.0.0,>=0.2.0 in /usr/local/lib/python3.8/dist-packages (from datasets) (0.11.1)\n",
            "Requirement already satisfied: numpy>=1.17 in /usr/local/lib/python3.8/dist-packages (from datasets) (1.21.6)\n",
            "Requirement already satisfied: pyyaml>=5.1 in /usr/local/lib/python3.8/dist-packages (from datasets) (6.0)\n",
            "Requirement already satisfied: multiprocess in /usr/local/lib/python3.8/dist-packages (from datasets) (0.70.14)\n",
            "Requirement already satisfied: responses<0.19 in /usr/local/lib/python3.8/dist-packages (from datasets) (0.18.0)\n",
            "Requirement already satisfied: pandas in /usr/local/lib/python3.8/dist-packages (from datasets) (1.3.5)\n",
            "Requirement already satisfied: tqdm>=4.62.1 in /usr/local/lib/python3.8/dist-packages (from datasets) (4.64.1)\n",
            "Requirement already satisfied: packaging in /usr/local/lib/python3.8/dist-packages (from datasets) (21.3)\n",
            "Requirement already satisfied: dill<0.3.7 in /usr/local/lib/python3.8/dist-packages (from datasets) (0.3.6)\n",
            "Requirement already satisfied: xxhash in /usr/local/lib/python3.8/dist-packages (from datasets) (3.1.0)\n",
            "Requirement already satisfied: pyarrow>=6.0.0 in /usr/local/lib/python3.8/dist-packages (from datasets) (9.0.0)\n",
            "Requirement already satisfied: aiohttp in /usr/local/lib/python3.8/dist-packages (from datasets) (3.8.3)\n",
            "Requirement already satisfied: async-timeout<5.0,>=4.0.0a3 in /usr/local/lib/python3.8/dist-packages (from aiohttp->datasets) (4.0.2)\n",
            "Requirement already satisfied: yarl<2.0,>=1.0 in /usr/local/lib/python3.8/dist-packages (from aiohttp->datasets) (1.8.2)\n",
            "Requirement already satisfied: frozenlist>=1.1.1 in /usr/local/lib/python3.8/dist-packages (from aiohttp->datasets) (1.3.3)\n",
            "Requirement already satisfied: multidict<7.0,>=4.5 in /usr/local/lib/python3.8/dist-packages (from aiohttp->datasets) (6.0.3)\n",
            "Requirement already satisfied: aiosignal>=1.1.2 in /usr/local/lib/python3.8/dist-packages (from aiohttp->datasets) (1.3.1)\n",
            "Requirement already satisfied: attrs>=17.3.0 in /usr/local/lib/python3.8/dist-packages (from aiohttp->datasets) (22.1.0)\n",
            "Requirement already satisfied: charset-normalizer<3.0,>=2.0 in /usr/local/lib/python3.8/dist-packages (from aiohttp->datasets) (2.1.1)\n",
            "Requirement already satisfied: filelock in /usr/local/lib/python3.8/dist-packages (from huggingface-hub<1.0.0,>=0.2.0->datasets) (3.8.0)\n",
            "Requirement already satisfied: typing-extensions>=3.7.4.3 in /usr/local/lib/python3.8/dist-packages (from huggingface-hub<1.0.0,>=0.2.0->datasets) (4.4.0)\n",
            "Requirement already satisfied: pyparsing!=3.0.5,>=2.0.2 in /usr/local/lib/python3.8/dist-packages (from packaging->datasets) (3.0.9)\n",
            "Requirement already satisfied: idna<3,>=2.5 in /usr/local/lib/python3.8/dist-packages (from requests>=2.19.0->datasets) (2.10)\n",
            "Requirement already satisfied: urllib3!=1.25.0,!=1.25.1,<1.26,>=1.21.1 in /usr/local/lib/python3.8/dist-packages (from requests>=2.19.0->datasets) (1.25.11)\n",
            "Requirement already satisfied: certifi>=2017.4.17 in /usr/local/lib/python3.8/dist-packages (from requests>=2.19.0->datasets) (2022.9.24)\n",
            "Requirement already satisfied: chardet<4,>=3.0.2 in /usr/local/lib/python3.8/dist-packages (from requests>=2.19.0->datasets) (3.0.4)\n",
            "Requirement already satisfied: pytz>=2017.3 in /usr/local/lib/python3.8/dist-packages (from pandas->datasets) (2022.6)\n",
            "Requirement already satisfied: python-dateutil>=2.7.3 in /usr/local/lib/python3.8/dist-packages (from pandas->datasets) (2.8.2)\n",
            "Requirement already satisfied: six>=1.5 in /usr/local/lib/python3.8/dist-packages (from python-dateutil>=2.7.3->pandas->datasets) (1.15.0)\n",
            "Looking in indexes: https://pypi.org/simple, https://us-python.pkg.dev/colab-wheels/public/simple/\n",
            "Requirement already satisfied: transformers in /usr/local/lib/python3.8/dist-packages (4.25.1)\n",
            "Requirement already satisfied: pyyaml>=5.1 in /usr/local/lib/python3.8/dist-packages (from transformers) (6.0)\n",
            "Requirement already satisfied: numpy>=1.17 in /usr/local/lib/python3.8/dist-packages (from transformers) (1.21.6)\n",
            "Requirement already satisfied: requests in /usr/local/lib/python3.8/dist-packages (from transformers) (2.23.0)\n",
            "Requirement already satisfied: tqdm>=4.27 in /usr/local/lib/python3.8/dist-packages (from transformers) (4.64.1)\n",
            "Requirement already satisfied: regex!=2019.12.17 in /usr/local/lib/python3.8/dist-packages (from transformers) (2022.6.2)\n",
            "Requirement already satisfied: tokenizers!=0.11.3,<0.14,>=0.11.1 in /usr/local/lib/python3.8/dist-packages (from transformers) (0.13.2)\n",
            "Requirement already satisfied: huggingface-hub<1.0,>=0.10.0 in /usr/local/lib/python3.8/dist-packages (from transformers) (0.11.1)\n",
            "Requirement already satisfied: packaging>=20.0 in /usr/local/lib/python3.8/dist-packages (from transformers) (21.3)\n",
            "Requirement already satisfied: filelock in /usr/local/lib/python3.8/dist-packages (from transformers) (3.8.0)\n",
            "Requirement already satisfied: typing-extensions>=3.7.4.3 in /usr/local/lib/python3.8/dist-packages (from huggingface-hub<1.0,>=0.10.0->transformers) (4.4.0)\n",
            "Requirement already satisfied: pyparsing!=3.0.5,>=2.0.2 in /usr/local/lib/python3.8/dist-packages (from packaging>=20.0->transformers) (3.0.9)\n",
            "Requirement already satisfied: urllib3!=1.25.0,!=1.25.1,<1.26,>=1.21.1 in /usr/local/lib/python3.8/dist-packages (from requests->transformers) (1.25.11)\n",
            "Requirement already satisfied: certifi>=2017.4.17 in /usr/local/lib/python3.8/dist-packages (from requests->transformers) (2022.9.24)\n",
            "Requirement already satisfied: chardet<4,>=3.0.2 in /usr/local/lib/python3.8/dist-packages (from requests->transformers) (3.0.4)\n",
            "Requirement already satisfied: idna<3,>=2.5 in /usr/local/lib/python3.8/dist-packages (from requests->transformers) (2.10)\n",
            "Looking in indexes: https://pypi.org/simple, https://us-python.pkg.dev/colab-wheels/public/simple/\n",
            "Requirement already satisfied: xlrd in /usr/local/lib/python3.8/dist-packages (2.0.1)\n",
            "Looking in indexes: https://pypi.org/simple, https://us-python.pkg.dev/colab-wheels/public/simple/\n",
            "Requirement already satisfied: huggingface_hub in /usr/local/lib/python3.8/dist-packages (0.11.1)\n",
            "Requirement already satisfied: requests in /usr/local/lib/python3.8/dist-packages (from huggingface_hub) (2.23.0)\n",
            "Requirement already satisfied: filelock in /usr/local/lib/python3.8/dist-packages (from huggingface_hub) (3.8.0)\n",
            "Requirement already satisfied: packaging>=20.9 in /usr/local/lib/python3.8/dist-packages (from huggingface_hub) (21.3)\n",
            "Requirement already satisfied: typing-extensions>=3.7.4.3 in /usr/local/lib/python3.8/dist-packages (from huggingface_hub) (4.4.0)\n",
            "Requirement already satisfied: pyyaml>=5.1 in /usr/local/lib/python3.8/dist-packages (from huggingface_hub) (6.0)\n",
            "Requirement already satisfied: tqdm in /usr/local/lib/python3.8/dist-packages (from huggingface_hub) (4.64.1)\n",
            "Requirement already satisfied: pyparsing!=3.0.5,>=2.0.2 in /usr/local/lib/python3.8/dist-packages (from packaging>=20.9->huggingface_hub) (3.0.9)\n",
            "Requirement already satisfied: urllib3!=1.25.0,!=1.25.1,<1.26,>=1.21.1 in /usr/local/lib/python3.8/dist-packages (from requests->huggingface_hub) (1.25.11)\n",
            "Requirement already satisfied: chardet<4,>=3.0.2 in /usr/local/lib/python3.8/dist-packages (from requests->huggingface_hub) (3.0.4)\n",
            "Requirement already satisfied: idna<3,>=2.5 in /usr/local/lib/python3.8/dist-packages (from requests->huggingface_hub) (2.10)\n",
            "Requirement already satisfied: certifi>=2017.4.17 in /usr/local/lib/python3.8/dist-packages (from requests->huggingface_hub) (2022.9.24)\n"
          ]
        }
      ]
    },
    {
      "cell_type": "code",
      "source": [
        "#import our model from huggingface\n",
        "number_classes = 2\n",
        "model_tokenizer = \"hfl/chinese-bert-wwm\"\n",
        "\n",
        "if number_classes == 2:\n",
        "    model_classifier = \"owen198/weibo-wmmbert-2\"\n",
        "else:\n",
        "    model_classifier = \"owen198/weibo-wmmbert-6\"\n"
      ],
      "metadata": {
        "id": "K_81_M5G4I7N"
      },
      "execution_count": null,
      "outputs": []
    },
    {
      "cell_type": "code",
      "source": [
        "model_classifier"
      ],
      "metadata": {
        "colab": {
          "base_uri": "https://localhost:8080/"
        },
        "id": "ovh_WHren6ia",
        "outputId": "d007e650-6ff7-4600-9e92-f3d498e25b6f"
      },
      "execution_count": null,
      "outputs": [
        {
          "output_type": "execute_result",
          "data": {
            "text/plain": [
              "'owen198/weibo-wmmbert-2'"
            ],
            "application/vnd.google.colaboratory.intrinsic+json": {
              "type": "string"
            }
          },
          "metadata": {},
          "execution_count": 426
        }
      ]
    },
    {
      "cell_type": "markdown",
      "source": [
        "#**柯文哲_before**"
      ],
      "metadata": {
        "id": "14vaF42Vui_F"
      }
    },
    {
      "cell_type": "markdown",
      "source": [
        "# 1. load and clean data"
      ],
      "metadata": {
        "id": "t3R_mmLdwl6l"
      }
    },
    {
      "cell_type": "code",
      "source": [
        "#insert new xlsx file here\n",
        "! wget -nc https://raw.githubusercontent.com/advapplab/sentiment_analysis_election_2022/main/data/challange/柯文哲_before.xlsx"
      ],
      "metadata": {
        "colab": {
          "base_uri": "https://localhost:8080/"
        },
        "outputId": "635ac4f9-1d8e-45dc-be71-bc2c8b2a7d8a",
        "id": "9cn5Sv7Dwl6m"
      },
      "execution_count": null,
      "outputs": [
        {
          "output_type": "stream",
          "name": "stdout",
          "text": [
            "File ‘柯文哲_before.xlsx’ already there; not retrieving.\n",
            "\n"
          ]
        }
      ]
    },
    {
      "cell_type": "code",
      "source": [
        "import pandas as pd"
      ],
      "metadata": {
        "id": "4sGXmaqQwl6n"
      },
      "execution_count": null,
      "outputs": []
    },
    {
      "cell_type": "code",
      "source": [
        "#insert new xlsx file here\n",
        "testing_pd = pd.read_excel('/content/柯文哲_before.xlsx')\n",
        "\n",
        "testing_pd.rename(columns={'博文': 'text'},\n",
        "          inplace=True, errors='raise')\n",
        "\n",
        "testing_pd = testing_pd[['text']]"
      ],
      "metadata": {
        "colab": {
          "base_uri": "https://localhost:8080/"
        },
        "outputId": "e7652017-d5c0-4f5a-d772-d2f5813ea878",
        "id": "vRVU-BZLwl6n"
      },
      "execution_count": null,
      "outputs": [
        {
          "output_type": "stream",
          "name": "stderr",
          "text": [
            "/usr/local/lib/python3.8/dist-packages/openpyxl/styles/stylesheet.py:226: UserWarning: Workbook contains no default style, apply openpyxl's default\n",
            "  warn(\"Workbook contains no default style, apply openpyxl's default\")\n"
          ]
        }
      ]
    },
    {
      "cell_type": "code",
      "source": [
        "#dirty data\n",
        "testing_pd"
      ],
      "metadata": {
        "outputId": "02636a81-d8e7-4941-adfc-bef3303f6c91",
        "colab": {
          "base_uri": "https://localhost:8080/"
        },
        "id": "UwANhoLRwl6n"
      },
      "execution_count": null,
      "outputs": [
        {
          "output_type": "execute_result",
          "data": {
            "text/plain": [
              "                                                  text\n",
              "0    【参选后与柯P切割？黄珊珊：政绩息息相关 没什么好切割】台北市副市长黄珊珊明日将以无党籍平民...\n",
              "1    #关注台海# 湾湾冥进党不顾台海紧张情势拼选举，柯文哲怒呛: 把战争当游戏#消灭台独##解放...\n",
              "2    【柯文哲点评仇恨值高 陈时中亏：是他对我仇恨值高】台北市长柯文哲昨接受专访谈及台北市长选举「...\n",
              "3       冥进党不顾台海紧张情势拼选举，柯文哲怒呛:把战争当游戏#台湾# L泉州那些事儿的微博视频 ​\n",
              "4          【#民进党不顾台海紧张情势拼选举#  柯文哲呛:把战争当游戏】 L台海网的微博视频 ​\n",
              "..                                                 ...\n",
              "611                            学店仔笑死人。现在是柯文哲要选新竹市长？？ ​\n",
              "612  【台湾特稿：首次参与台湾“九合一”选举 蓝绿夹缝中 白营不投降】台湾政治版图长期由蓝绿（国民...\n",
              "613        #国台办称对团团病逝感到痛心和惋惜# 看看柯文哲这德行，他们不配！?  O网页链接 ​\n",
              "614  【柯文哲质疑竹市有不可告人之事 林智坚脸书长文反击】民众党新竹市长候选人高虹安助理费争议延烧...\n",
              "615              大陆赠台大熊猫“团团”离世，连战、马英九不舍，柯文哲发文告别O网页链接 ​\n",
              "\n",
              "[616 rows x 1 columns]"
            ],
            "text/html": [
              "\n",
              "  <div id=\"df-ff4d4a40-ee72-4f9a-9782-8a5737075b53\">\n",
              "    <div class=\"colab-df-container\">\n",
              "      <div>\n",
              "<style scoped>\n",
              "    .dataframe tbody tr th:only-of-type {\n",
              "        vertical-align: middle;\n",
              "    }\n",
              "\n",
              "    .dataframe tbody tr th {\n",
              "        vertical-align: top;\n",
              "    }\n",
              "\n",
              "    .dataframe thead th {\n",
              "        text-align: right;\n",
              "    }\n",
              "</style>\n",
              "<table border=\"1\" class=\"dataframe\">\n",
              "  <thead>\n",
              "    <tr style=\"text-align: right;\">\n",
              "      <th></th>\n",
              "      <th>text</th>\n",
              "    </tr>\n",
              "  </thead>\n",
              "  <tbody>\n",
              "    <tr>\n",
              "      <th>0</th>\n",
              "      <td>【参选后与柯P切割？黄珊珊：政绩息息相关 没什么好切割】台北市副市长黄珊珊明日将以无党籍平民...</td>\n",
              "    </tr>\n",
              "    <tr>\n",
              "      <th>1</th>\n",
              "      <td>#关注台海# 湾湾冥进党不顾台海紧张情势拼选举，柯文哲怒呛: 把战争当游戏#消灭台独##解放...</td>\n",
              "    </tr>\n",
              "    <tr>\n",
              "      <th>2</th>\n",
              "      <td>【柯文哲点评仇恨值高 陈时中亏：是他对我仇恨值高】台北市长柯文哲昨接受专访谈及台北市长选举「...</td>\n",
              "    </tr>\n",
              "    <tr>\n",
              "      <th>3</th>\n",
              "      <td>冥进党不顾台海紧张情势拼选举，柯文哲怒呛:把战争当游戏#台湾# L泉州那些事儿的微博视频 ​</td>\n",
              "    </tr>\n",
              "    <tr>\n",
              "      <th>4</th>\n",
              "      <td>【#民进党不顾台海紧张情势拼选举#  柯文哲呛:把战争当游戏】 L台海网的微博视频 ​</td>\n",
              "    </tr>\n",
              "    <tr>\n",
              "      <th>...</th>\n",
              "      <td>...</td>\n",
              "    </tr>\n",
              "    <tr>\n",
              "      <th>611</th>\n",
              "      <td>学店仔笑死人。现在是柯文哲要选新竹市长？？ ​</td>\n",
              "    </tr>\n",
              "    <tr>\n",
              "      <th>612</th>\n",
              "      <td>【台湾特稿：首次参与台湾“九合一”选举 蓝绿夹缝中 白营不投降】台湾政治版图长期由蓝绿（国民...</td>\n",
              "    </tr>\n",
              "    <tr>\n",
              "      <th>613</th>\n",
              "      <td>#国台办称对团团病逝感到痛心和惋惜# 看看柯文哲这德行，他们不配！?  O网页链接 ​</td>\n",
              "    </tr>\n",
              "    <tr>\n",
              "      <th>614</th>\n",
              "      <td>【柯文哲质疑竹市有不可告人之事 林智坚脸书长文反击】民众党新竹市长候选人高虹安助理费争议延烧...</td>\n",
              "    </tr>\n",
              "    <tr>\n",
              "      <th>615</th>\n",
              "      <td>大陆赠台大熊猫“团团”离世，连战、马英九不舍，柯文哲发文告别O网页链接 ​</td>\n",
              "    </tr>\n",
              "  </tbody>\n",
              "</table>\n",
              "<p>616 rows × 1 columns</p>\n",
              "</div>\n",
              "      <button class=\"colab-df-convert\" onclick=\"convertToInteractive('df-ff4d4a40-ee72-4f9a-9782-8a5737075b53')\"\n",
              "              title=\"Convert this dataframe to an interactive table.\"\n",
              "              style=\"display:none;\">\n",
              "        \n",
              "  <svg xmlns=\"http://www.w3.org/2000/svg\" height=\"24px\"viewBox=\"0 0 24 24\"\n",
              "       width=\"24px\">\n",
              "    <path d=\"M0 0h24v24H0V0z\" fill=\"none\"/>\n",
              "    <path d=\"M18.56 5.44l.94 2.06.94-2.06 2.06-.94-2.06-.94-.94-2.06-.94 2.06-2.06.94zm-11 1L8.5 8.5l.94-2.06 2.06-.94-2.06-.94L8.5 2.5l-.94 2.06-2.06.94zm10 10l.94 2.06.94-2.06 2.06-.94-2.06-.94-.94-2.06-.94 2.06-2.06.94z\"/><path d=\"M17.41 7.96l-1.37-1.37c-.4-.4-.92-.59-1.43-.59-.52 0-1.04.2-1.43.59L10.3 9.45l-7.72 7.72c-.78.78-.78 2.05 0 2.83L4 21.41c.39.39.9.59 1.41.59.51 0 1.02-.2 1.41-.59l7.78-7.78 2.81-2.81c.8-.78.8-2.07 0-2.86zM5.41 20L4 18.59l7.72-7.72 1.47 1.35L5.41 20z\"/>\n",
              "  </svg>\n",
              "      </button>\n",
              "      \n",
              "  <style>\n",
              "    .colab-df-container {\n",
              "      display:flex;\n",
              "      flex-wrap:wrap;\n",
              "      gap: 12px;\n",
              "    }\n",
              "\n",
              "    .colab-df-convert {\n",
              "      background-color: #E8F0FE;\n",
              "      border: none;\n",
              "      border-radius: 50%;\n",
              "      cursor: pointer;\n",
              "      display: none;\n",
              "      fill: #1967D2;\n",
              "      height: 32px;\n",
              "      padding: 0 0 0 0;\n",
              "      width: 32px;\n",
              "    }\n",
              "\n",
              "    .colab-df-convert:hover {\n",
              "      background-color: #E2EBFA;\n",
              "      box-shadow: 0px 1px 2px rgba(60, 64, 67, 0.3), 0px 1px 3px 1px rgba(60, 64, 67, 0.15);\n",
              "      fill: #174EA6;\n",
              "    }\n",
              "\n",
              "    [theme=dark] .colab-df-convert {\n",
              "      background-color: #3B4455;\n",
              "      fill: #D2E3FC;\n",
              "    }\n",
              "\n",
              "    [theme=dark] .colab-df-convert:hover {\n",
              "      background-color: #434B5C;\n",
              "      box-shadow: 0px 1px 3px 1px rgba(0, 0, 0, 0.15);\n",
              "      filter: drop-shadow(0px 1px 2px rgba(0, 0, 0, 0.3));\n",
              "      fill: #FFFFFF;\n",
              "    }\n",
              "  </style>\n",
              "\n",
              "      <script>\n",
              "        const buttonEl =\n",
              "          document.querySelector('#df-ff4d4a40-ee72-4f9a-9782-8a5737075b53 button.colab-df-convert');\n",
              "        buttonEl.style.display =\n",
              "          google.colab.kernel.accessAllowed ? 'block' : 'none';\n",
              "\n",
              "        async function convertToInteractive(key) {\n",
              "          const element = document.querySelector('#df-ff4d4a40-ee72-4f9a-9782-8a5737075b53');\n",
              "          const dataTable =\n",
              "            await google.colab.kernel.invokeFunction('convertToInteractive',\n",
              "                                                     [key], {});\n",
              "          if (!dataTable) return;\n",
              "\n",
              "          const docLinkHtml = 'Like what you see? Visit the ' +\n",
              "            '<a target=\"_blank\" href=https://colab.research.google.com/notebooks/data_table.ipynb>data table notebook</a>'\n",
              "            + ' to learn more about interactive tables.';\n",
              "          element.innerHTML = '';\n",
              "          dataTable['output_type'] = 'display_data';\n",
              "          await google.colab.output.renderOutput(dataTable, element);\n",
              "          const docLink = document.createElement('div');\n",
              "          docLink.innerHTML = docLinkHtml;\n",
              "          element.appendChild(docLink);\n",
              "        }\n",
              "      </script>\n",
              "    </div>\n",
              "  </div>\n",
              "  "
            ]
          },
          "metadata": {},
          "execution_count": 430
        }
      ]
    },
    {
      "cell_type": "code",
      "source": [
        "#we can consider not deleting the titles. This will be up to the ICI project group to decide\n",
        "#if you wish to preserve the titles. replace the corresponding block of code below with this one \n",
        "\n",
        "#testing_pd['text'] = testing_pd['text'].replace(span_pattern,'',regex=True).replace(span_pattern,'',regex=True)\n",
        "#testing_pd['text'] = testing_pd['text'].replace(http_pattern,'',regex=True).replace(html_pattern,'',regex=True)\n",
        "#testing_pd['text'] = testing_pd['text'].replace(image_pattern,'',regex=True)#.replace(title_pattern_1,'',regex=True)\n",
        "#testing_pd['text'] = testing_pd['text'].re place(link_pattern,'',regex=True).replace(html_pattern,'',regex=True)\n",
        "##testing_pd['text'] = testing_pd['text'].replace(title_pattern_2,'',regex=True)\n",
        "#________________________________________________________________________________________________________________________\n",
        "\n",
        "testing_pd = testing_pd[~testing_pd['text'].str.contains('a href', regex=True)]\n",
        "\n",
        "\n",
        "import re\n",
        "html_pattern = \"<(?:\\\"[^\\\"]*\\\"['\\\"]*|'[^']*'['\\\"]*|[^'\\\">])+>\"\n",
        "http_pattern = \"http\\S+\"\n",
        "image_pattern = \"<img\\s[^>]*?src\\s*=\\s*['\\\"]([^'\\\"]*?)['\\\"][^>]*?>\" \n",
        "#title_pattern = \"[【|《*】|》]\"\n",
        "title_pattern_1 = \"(?=【)(.*)(?<=】)\"\n",
        "title_pattern_2 = \"(?=《)(.*)(?<=》)\"\n",
        "link_pattern=\"网页链接\"\n",
        "span_pattern='<span.*?>(.+?)</span>'\n",
        "\n",
        "#replace with this block. Do some more research because it looks like some titles are still removed, like index 41\n",
        "testing_pd['text'] = testing_pd['text'].replace(span_pattern,'',regex=True).replace(span_pattern,'',regex=True)\n",
        "testing_pd['text'] = testing_pd['text'].replace(http_pattern,'',regex=True).replace(html_pattern,'',regex=True)\n",
        "testing_pd['text'] = testing_pd['text'].replace(image_pattern,'',regex=True).replace(title_pattern_1,'',regex=True)\n",
        "testing_pd['text'] = testing_pd['text'].replace(link_pattern,'',regex=True).replace(html_pattern,'',regex=True)\n",
        "testing_pd['text'] = testing_pd['text'].replace(title_pattern_2,'',regex=True)"
      ],
      "metadata": {
        "id": "7lynHIkDwl6n"
      },
      "execution_count": null,
      "outputs": []
    },
    {
      "cell_type": "code",
      "source": [
        "#delete empty rows\n",
        "testing_pd = testing_pd[testing_pd['text'].str.len()>2]   \n",
        "testing_pd = testing_pd[['text']]\n",
        "testing_pd = testing_pd.reset_index(drop=True)\n",
        "testing_pd"
      ],
      "metadata": {
        "outputId": "0456ca33-11f4-4168-d396-e7097ff404ed",
        "colab": {
          "base_uri": "https://localhost:8080/"
        },
        "id": "15acgImvwl6o"
      },
      "execution_count": null,
      "outputs": [
        {
          "output_type": "execute_result",
          "data": {
            "text/plain": [
              "                                                  text\n",
              "0    台北市副市长黄珊珊明日将以无党籍平民身份宣布参选台北市长，而传出市长柯文哲也有受邀出席参选记...\n",
              "1    #关注台海# 湾湾冥进党不顾台海紧张情势拼选举，柯文哲怒呛: 把战争当游戏#消灭台独##解放...\n",
              "2    台北市长柯文哲昨接受专访谈及台北市长选举「三脚督」，分析三人中只有民进党参选人陈时中仇恨值很...\n",
              "3       冥进党不顾台海紧张情势拼选举，柯文哲怒呛:把战争当游戏#台湾# L泉州那些事儿的微博视频 ​\n",
              "4                                          L台海网的微博视频 ​\n",
              "..                                                 ...\n",
              "611                            学店仔笑死人。现在是柯文哲要选新竹市长？？ ​\n",
              "612  台湾政治版图长期由蓝绿（国民党和民进党）瓜分，但也有异军突起的例外。八年前无党籍的医学教授柯...\n",
              "613            #国台办称对团团病逝感到痛心和惋惜# 看看柯文哲这德行，他们不配！?  O ​\n",
              "614  民众党新竹市长候选人高虹安助理费争议延烧，台北市长柯文哲为护高虹安，质疑新竹市有何不可告人之...\n",
              "615                  大陆赠台大熊猫“团团”离世，连战、马英九不舍，柯文哲发文告别O ​\n",
              "\n",
              "[616 rows x 1 columns]"
            ],
            "text/html": [
              "\n",
              "  <div id=\"df-0ffd1ece-c908-461f-8c6d-fbe26f007c5b\">\n",
              "    <div class=\"colab-df-container\">\n",
              "      <div>\n",
              "<style scoped>\n",
              "    .dataframe tbody tr th:only-of-type {\n",
              "        vertical-align: middle;\n",
              "    }\n",
              "\n",
              "    .dataframe tbody tr th {\n",
              "        vertical-align: top;\n",
              "    }\n",
              "\n",
              "    .dataframe thead th {\n",
              "        text-align: right;\n",
              "    }\n",
              "</style>\n",
              "<table border=\"1\" class=\"dataframe\">\n",
              "  <thead>\n",
              "    <tr style=\"text-align: right;\">\n",
              "      <th></th>\n",
              "      <th>text</th>\n",
              "    </tr>\n",
              "  </thead>\n",
              "  <tbody>\n",
              "    <tr>\n",
              "      <th>0</th>\n",
              "      <td>台北市副市长黄珊珊明日将以无党籍平民身份宣布参选台北市长，而传出市长柯文哲也有受邀出席参选记...</td>\n",
              "    </tr>\n",
              "    <tr>\n",
              "      <th>1</th>\n",
              "      <td>#关注台海# 湾湾冥进党不顾台海紧张情势拼选举，柯文哲怒呛: 把战争当游戏#消灭台独##解放...</td>\n",
              "    </tr>\n",
              "    <tr>\n",
              "      <th>2</th>\n",
              "      <td>台北市长柯文哲昨接受专访谈及台北市长选举「三脚督」，分析三人中只有民进党参选人陈时中仇恨值很...</td>\n",
              "    </tr>\n",
              "    <tr>\n",
              "      <th>3</th>\n",
              "      <td>冥进党不顾台海紧张情势拼选举，柯文哲怒呛:把战争当游戏#台湾# L泉州那些事儿的微博视频 ​</td>\n",
              "    </tr>\n",
              "    <tr>\n",
              "      <th>4</th>\n",
              "      <td>L台海网的微博视频 ​</td>\n",
              "    </tr>\n",
              "    <tr>\n",
              "      <th>...</th>\n",
              "      <td>...</td>\n",
              "    </tr>\n",
              "    <tr>\n",
              "      <th>611</th>\n",
              "      <td>学店仔笑死人。现在是柯文哲要选新竹市长？？ ​</td>\n",
              "    </tr>\n",
              "    <tr>\n",
              "      <th>612</th>\n",
              "      <td>台湾政治版图长期由蓝绿（国民党和民进党）瓜分，但也有异军突起的例外。八年前无党籍的医学教授柯...</td>\n",
              "    </tr>\n",
              "    <tr>\n",
              "      <th>613</th>\n",
              "      <td>#国台办称对团团病逝感到痛心和惋惜# 看看柯文哲这德行，他们不配！?  O ​</td>\n",
              "    </tr>\n",
              "    <tr>\n",
              "      <th>614</th>\n",
              "      <td>民众党新竹市长候选人高虹安助理费争议延烧，台北市长柯文哲为护高虹安，质疑新竹市有何不可告人之...</td>\n",
              "    </tr>\n",
              "    <tr>\n",
              "      <th>615</th>\n",
              "      <td>大陆赠台大熊猫“团团”离世，连战、马英九不舍，柯文哲发文告别O ​</td>\n",
              "    </tr>\n",
              "  </tbody>\n",
              "</table>\n",
              "<p>616 rows × 1 columns</p>\n",
              "</div>\n",
              "      <button class=\"colab-df-convert\" onclick=\"convertToInteractive('df-0ffd1ece-c908-461f-8c6d-fbe26f007c5b')\"\n",
              "              title=\"Convert this dataframe to an interactive table.\"\n",
              "              style=\"display:none;\">\n",
              "        \n",
              "  <svg xmlns=\"http://www.w3.org/2000/svg\" height=\"24px\"viewBox=\"0 0 24 24\"\n",
              "       width=\"24px\">\n",
              "    <path d=\"M0 0h24v24H0V0z\" fill=\"none\"/>\n",
              "    <path d=\"M18.56 5.44l.94 2.06.94-2.06 2.06-.94-2.06-.94-.94-2.06-.94 2.06-2.06.94zm-11 1L8.5 8.5l.94-2.06 2.06-.94-2.06-.94L8.5 2.5l-.94 2.06-2.06.94zm10 10l.94 2.06.94-2.06 2.06-.94-2.06-.94-.94-2.06-.94 2.06-2.06.94z\"/><path d=\"M17.41 7.96l-1.37-1.37c-.4-.4-.92-.59-1.43-.59-.52 0-1.04.2-1.43.59L10.3 9.45l-7.72 7.72c-.78.78-.78 2.05 0 2.83L4 21.41c.39.39.9.59 1.41.59.51 0 1.02-.2 1.41-.59l7.78-7.78 2.81-2.81c.8-.78.8-2.07 0-2.86zM5.41 20L4 18.59l7.72-7.72 1.47 1.35L5.41 20z\"/>\n",
              "  </svg>\n",
              "      </button>\n",
              "      \n",
              "  <style>\n",
              "    .colab-df-container {\n",
              "      display:flex;\n",
              "      flex-wrap:wrap;\n",
              "      gap: 12px;\n",
              "    }\n",
              "\n",
              "    .colab-df-convert {\n",
              "      background-color: #E8F0FE;\n",
              "      border: none;\n",
              "      border-radius: 50%;\n",
              "      cursor: pointer;\n",
              "      display: none;\n",
              "      fill: #1967D2;\n",
              "      height: 32px;\n",
              "      padding: 0 0 0 0;\n",
              "      width: 32px;\n",
              "    }\n",
              "\n",
              "    .colab-df-convert:hover {\n",
              "      background-color: #E2EBFA;\n",
              "      box-shadow: 0px 1px 2px rgba(60, 64, 67, 0.3), 0px 1px 3px 1px rgba(60, 64, 67, 0.15);\n",
              "      fill: #174EA6;\n",
              "    }\n",
              "\n",
              "    [theme=dark] .colab-df-convert {\n",
              "      background-color: #3B4455;\n",
              "      fill: #D2E3FC;\n",
              "    }\n",
              "\n",
              "    [theme=dark] .colab-df-convert:hover {\n",
              "      background-color: #434B5C;\n",
              "      box-shadow: 0px 1px 3px 1px rgba(0, 0, 0, 0.15);\n",
              "      filter: drop-shadow(0px 1px 2px rgba(0, 0, 0, 0.3));\n",
              "      fill: #FFFFFF;\n",
              "    }\n",
              "  </style>\n",
              "\n",
              "      <script>\n",
              "        const buttonEl =\n",
              "          document.querySelector('#df-0ffd1ece-c908-461f-8c6d-fbe26f007c5b button.colab-df-convert');\n",
              "        buttonEl.style.display =\n",
              "          google.colab.kernel.accessAllowed ? 'block' : 'none';\n",
              "\n",
              "        async function convertToInteractive(key) {\n",
              "          const element = document.querySelector('#df-0ffd1ece-c908-461f-8c6d-fbe26f007c5b');\n",
              "          const dataTable =\n",
              "            await google.colab.kernel.invokeFunction('convertToInteractive',\n",
              "                                                     [key], {});\n",
              "          if (!dataTable) return;\n",
              "\n",
              "          const docLinkHtml = 'Like what you see? Visit the ' +\n",
              "            '<a target=\"_blank\" href=https://colab.research.google.com/notebooks/data_table.ipynb>data table notebook</a>'\n",
              "            + ' to learn more about interactive tables.';\n",
              "          element.innerHTML = '';\n",
              "          dataTable['output_type'] = 'display_data';\n",
              "          await google.colab.output.renderOutput(dataTable, element);\n",
              "          const docLink = document.createElement('div');\n",
              "          docLink.innerHTML = docLinkHtml;\n",
              "          element.appendChild(docLink);\n",
              "        }\n",
              "      </script>\n",
              "    </div>\n",
              "  </div>\n",
              "  "
            ]
          },
          "metadata": {},
          "execution_count": 432
        }
      ]
    },
    {
      "cell_type": "markdown",
      "source": [
        "## 1-2 Tokenization"
      ],
      "metadata": {
        "id": "TIaBWwjswl6o"
      }
    },
    {
      "cell_type": "code",
      "source": [
        "from datasets import Dataset, DatasetDict\n",
        "\n",
        "weibo_dict = {\n",
        "              'test' : Dataset.from_pandas(testing_pd)}\n",
        "\n",
        "weibo_ds = DatasetDict(weibo_dict)"
      ],
      "metadata": {
        "id": "kpChCFS5wl6p"
      },
      "execution_count": null,
      "outputs": []
    },
    {
      "cell_type": "code",
      "source": [
        "from transformers import AutoTokenizer"
      ],
      "metadata": {
        "id": "CuUGdh42wl6p"
      },
      "execution_count": null,
      "outputs": []
    },
    {
      "cell_type": "code",
      "source": [
        "tokenizer = AutoTokenizer.from_pretrained(model_tokenizer)"
      ],
      "metadata": {
        "colab": {
          "base_uri": "https://localhost:8080/"
        },
        "outputId": "b6d3bb6f-f605-4a81-8703-ee6ccd02e007",
        "id": "hvsTvrs1wl6p"
      },
      "execution_count": null,
      "outputs": [
        {
          "output_type": "stream",
          "name": "stderr",
          "text": [
            "loading configuration file config.json from cache at /root/.cache/huggingface/hub/models--hfl--chinese-bert-wwm/snapshots/ab0aa81da273504efc8540aa4d0bbaa3016a1bb5/config.json\n",
            "Model config BertConfig {\n",
            "  \"_name_or_path\": \"hfl/chinese-bert-wwm\",\n",
            "  \"architectures\": [\n",
            "    \"BertForMaskedLM\"\n",
            "  ],\n",
            "  \"attention_probs_dropout_prob\": 0.1,\n",
            "  \"classifier_dropout\": null,\n",
            "  \"directionality\": \"bidi\",\n",
            "  \"hidden_act\": \"gelu\",\n",
            "  \"hidden_dropout_prob\": 0.1,\n",
            "  \"hidden_size\": 768,\n",
            "  \"initializer_range\": 0.02,\n",
            "  \"intermediate_size\": 3072,\n",
            "  \"layer_norm_eps\": 1e-12,\n",
            "  \"max_position_embeddings\": 512,\n",
            "  \"model_type\": \"bert\",\n",
            "  \"num_attention_heads\": 12,\n",
            "  \"num_hidden_layers\": 12,\n",
            "  \"output_past\": true,\n",
            "  \"pad_token_id\": 0,\n",
            "  \"pooler_fc_size\": 768,\n",
            "  \"pooler_num_attention_heads\": 12,\n",
            "  \"pooler_num_fc_layers\": 3,\n",
            "  \"pooler_size_per_head\": 128,\n",
            "  \"pooler_type\": \"first_token_transform\",\n",
            "  \"position_embedding_type\": \"absolute\",\n",
            "  \"transformers_version\": \"4.25.1\",\n",
            "  \"type_vocab_size\": 2,\n",
            "  \"use_cache\": true,\n",
            "  \"vocab_size\": 21128\n",
            "}\n",
            "\n",
            "loading file vocab.txt from cache at /root/.cache/huggingface/hub/models--hfl--chinese-bert-wwm/snapshots/ab0aa81da273504efc8540aa4d0bbaa3016a1bb5/vocab.txt\n",
            "loading file tokenizer.json from cache at /root/.cache/huggingface/hub/models--hfl--chinese-bert-wwm/snapshots/ab0aa81da273504efc8540aa4d0bbaa3016a1bb5/tokenizer.json\n",
            "loading file added_tokens.json from cache at /root/.cache/huggingface/hub/models--hfl--chinese-bert-wwm/snapshots/ab0aa81da273504efc8540aa4d0bbaa3016a1bb5/added_tokens.json\n",
            "loading file special_tokens_map.json from cache at /root/.cache/huggingface/hub/models--hfl--chinese-bert-wwm/snapshots/ab0aa81da273504efc8540aa4d0bbaa3016a1bb5/special_tokens_map.json\n",
            "loading file tokenizer_config.json from cache at /root/.cache/huggingface/hub/models--hfl--chinese-bert-wwm/snapshots/ab0aa81da273504efc8540aa4d0bbaa3016a1bb5/tokenizer_config.json\n",
            "loading configuration file config.json from cache at /root/.cache/huggingface/hub/models--hfl--chinese-bert-wwm/snapshots/ab0aa81da273504efc8540aa4d0bbaa3016a1bb5/config.json\n",
            "Model config BertConfig {\n",
            "  \"_name_or_path\": \"hfl/chinese-bert-wwm\",\n",
            "  \"architectures\": [\n",
            "    \"BertForMaskedLM\"\n",
            "  ],\n",
            "  \"attention_probs_dropout_prob\": 0.1,\n",
            "  \"classifier_dropout\": null,\n",
            "  \"directionality\": \"bidi\",\n",
            "  \"hidden_act\": \"gelu\",\n",
            "  \"hidden_dropout_prob\": 0.1,\n",
            "  \"hidden_size\": 768,\n",
            "  \"initializer_range\": 0.02,\n",
            "  \"intermediate_size\": 3072,\n",
            "  \"layer_norm_eps\": 1e-12,\n",
            "  \"max_position_embeddings\": 512,\n",
            "  \"model_type\": \"bert\",\n",
            "  \"num_attention_heads\": 12,\n",
            "  \"num_hidden_layers\": 12,\n",
            "  \"output_past\": true,\n",
            "  \"pad_token_id\": 0,\n",
            "  \"pooler_fc_size\": 768,\n",
            "  \"pooler_num_attention_heads\": 12,\n",
            "  \"pooler_num_fc_layers\": 3,\n",
            "  \"pooler_size_per_head\": 128,\n",
            "  \"pooler_type\": \"first_token_transform\",\n",
            "  \"position_embedding_type\": \"absolute\",\n",
            "  \"transformers_version\": \"4.25.1\",\n",
            "  \"type_vocab_size\": 2,\n",
            "  \"use_cache\": true,\n",
            "  \"vocab_size\": 21128\n",
            "}\n",
            "\n"
          ]
        }
      ]
    },
    {
      "cell_type": "code",
      "source": [
        "def tokenize_function(examples):\n",
        "    return tokenizer(examples[\"text\"], \n",
        "                     padding=\"max_length\", \n",
        "                     truncation=True, \n",
        "                     max_length=512)\n",
        "\n",
        "tokenized_datasets = weibo_ds.map(tokenize_function, batched=True)"
      ],
      "metadata": {
        "colab": {
          "base_uri": "https://localhost:8080/",
          "referenced_widgets": [
            "a35a826bb4054e71b3e00e9ac2f541aa",
            "1b133f2b3f36450c8d682bd106db7485",
            "f3d2179786d54adf9d85d3dbf1b125c4",
            "71428eabc960408a8f69344cf34d701e",
            "9585c427d9194db5ad01f9828182b20c",
            "d1cb7ce29e5a414599c07fbbae9058c6",
            "be49e4c917ac438db2f40b7e758df205",
            "cc6865dc41814449ac6f62979ab77178",
            "da8dcbf170314ae6a4d6a5862b735c20",
            "a5c61d2239f34fc7a8979ef71dc1efd1",
            "bb89b22b991746ebb3a1ba1eb96a29ed"
          ]
        },
        "outputId": "ef5d133c-f780-4d36-c87d-e7a888d1f2cd",
        "id": "lOv2FLtiwl6q"
      },
      "execution_count": null,
      "outputs": [
        {
          "output_type": "display_data",
          "data": {
            "text/plain": [
              "  0%|          | 0/1 [00:00<?, ?ba/s]"
            ],
            "application/vnd.jupyter.widget-view+json": {
              "version_major": 2,
              "version_minor": 0,
              "model_id": "a35a826bb4054e71b3e00e9ac2f541aa"
            }
          },
          "metadata": {}
        }
      ]
    },
    {
      "cell_type": "code",
      "source": [
        "full_test_dataset = tokenized_datasets[\"test\"]"
      ],
      "metadata": {
        "id": "RaEtn7Liwl6q"
      },
      "execution_count": null,
      "outputs": []
    },
    {
      "cell_type": "markdown",
      "source": [
        "# 2. preparing BERT\n"
      ],
      "metadata": {
        "id": "t-Ytn1v_wl6q"
      }
    },
    {
      "cell_type": "code",
      "source": [
        "from transformers import AutoModelForSequenceClassification\n",
        "\n",
        "# available chinese models: https://github.com/ymcui/Chinese-BERT-wwm\n",
        "\n",
        "model = AutoModelForSequenceClassification.from_pretrained(model_classifier, \n",
        "                                                           num_labels=2)"
      ],
      "metadata": {
        "colab": {
          "base_uri": "https://localhost:8080/"
        },
        "outputId": "c75b7977-e923-42b9-e76e-38d7853e2ac3",
        "id": "3w3FezZewl6q"
      },
      "execution_count": null,
      "outputs": [
        {
          "output_type": "stream",
          "name": "stderr",
          "text": [
            "loading configuration file config.json from cache at /root/.cache/huggingface/hub/models--owen198--weibo-wmmbert-2/snapshots/1c8b069ca4f42474887b1be5ddb45d0b190b785d/config.json\n",
            "Model config BertConfig {\n",
            "  \"_name_or_path\": \"owen198/weibo-wmmbert-2\",\n",
            "  \"architectures\": [\n",
            "    \"BertForSequenceClassification\"\n",
            "  ],\n",
            "  \"attention_probs_dropout_prob\": 0.1,\n",
            "  \"classifier_dropout\": null,\n",
            "  \"directionality\": \"bidi\",\n",
            "  \"hidden_act\": \"gelu\",\n",
            "  \"hidden_dropout_prob\": 0.1,\n",
            "  \"hidden_size\": 768,\n",
            "  \"initializer_range\": 0.02,\n",
            "  \"intermediate_size\": 3072,\n",
            "  \"layer_norm_eps\": 1e-12,\n",
            "  \"max_position_embeddings\": 512,\n",
            "  \"model_type\": \"bert\",\n",
            "  \"num_attention_heads\": 12,\n",
            "  \"num_hidden_layers\": 12,\n",
            "  \"output_past\": true,\n",
            "  \"pad_token_id\": 0,\n",
            "  \"pooler_fc_size\": 768,\n",
            "  \"pooler_num_attention_heads\": 12,\n",
            "  \"pooler_num_fc_layers\": 3,\n",
            "  \"pooler_size_per_head\": 128,\n",
            "  \"pooler_type\": \"first_token_transform\",\n",
            "  \"position_embedding_type\": \"absolute\",\n",
            "  \"problem_type\": \"single_label_classification\",\n",
            "  \"torch_dtype\": \"float32\",\n",
            "  \"transformers_version\": \"4.25.1\",\n",
            "  \"type_vocab_size\": 2,\n",
            "  \"use_cache\": true,\n",
            "  \"vocab_size\": 21128\n",
            "}\n",
            "\n",
            "loading weights file pytorch_model.bin from cache at /root/.cache/huggingface/hub/models--owen198--weibo-wmmbert-2/snapshots/1c8b069ca4f42474887b1be5ddb45d0b190b785d/pytorch_model.bin\n",
            "All model checkpoint weights were used when initializing BertForSequenceClassification.\n",
            "\n",
            "All the weights of BertForSequenceClassification were initialized from the model checkpoint at owen198/weibo-wmmbert-2.\n",
            "If your task is similar to the task the model of the checkpoint was trained on, you can already use BertForSequenceClassification for predictions without further training.\n"
          ]
        }
      ]
    },
    {
      "cell_type": "code",
      "source": [
        "from datasets import load_metric\n",
        "\n",
        "metric = load_metric(\"accuracy\")\n",
        "\n",
        "def compute_metrics(eval_pred):\n",
        "    logits, labels = eval_pred\n",
        "    predictions = np.argmax(logits, axis=-1)\n",
        "    return metric.compute(predictions=predictions, references=labels)"
      ],
      "metadata": {
        "id": "h8g580xGwl6r"
      },
      "execution_count": null,
      "outputs": []
    },
    {
      "cell_type": "code",
      "source": [
        "from transformers import Trainer\n",
        "\n",
        "trainer = Trainer(\n",
        "    model=model, \n",
        "    eval_dataset=full_test_dataset,\n",
        "    compute_metrics=compute_metrics,\n",
        ")"
      ],
      "metadata": {
        "colab": {
          "base_uri": "https://localhost:8080/"
        },
        "id": "uMUGMsJ-wl6r",
        "outputId": "e412606e-5a50-4f34-b5b4-58064843fc2a"
      },
      "execution_count": null,
      "outputs": [
        {
          "output_type": "stream",
          "name": "stderr",
          "text": [
            "No `TrainingArguments` passed, using `output_dir=tmp_trainer`.\n",
            "PyTorch: setting up devices\n",
            "The default value for the training argument `--report_to` will change in v5 (from all installed integrations to none). In v5, you will need to use `--report_to all` to get the same behavior as now. You should start updating your code and make this info disappear :-).\n"
          ]
        }
      ]
    },
    {
      "cell_type": "code",
      "source": [
        "import numpy as np"
      ],
      "metadata": {
        "id": "k5GitT-ewl6r"
      },
      "execution_count": null,
      "outputs": []
    },
    {
      "cell_type": "code",
      "source": [],
      "metadata": {
        "id": "jrMz0z1qwl6r"
      },
      "execution_count": null,
      "outputs": []
    },
    {
      "cell_type": "markdown",
      "source": [
        "#prediction results\n"
      ],
      "metadata": {
        "id": "cqn8IKMhwl6s"
      }
    },
    {
      "cell_type": "code",
      "source": [
        "pred = trainer.predict(test_dataset=full_test_dataset)"
      ],
      "metadata": {
        "colab": {
          "base_uri": "https://localhost:8080/"
        },
        "outputId": "8cd08041-c82c-4e34-fa39-5ee4cea9d1a2",
        "id": "7Qp6WwNUwl6s"
      },
      "execution_count": null,
      "outputs": [
        {
          "output_type": "stream",
          "name": "stderr",
          "text": [
            "The following columns in the test set don't have a corresponding argument in `BertForSequenceClassification.forward` and have been ignored: text. If text are not expected by `BertForSequenceClassification.forward`,  you can safely ignore this message.\n",
            "***** Running Prediction *****\n",
            "  Num examples = 616\n",
            "  Batch size = 8\n"
          ]
        },
        {
          "output_type": "display_data",
          "data": {
            "text/plain": [
              "<IPython.core.display.HTML object>"
            ],
            "text/html": []
          },
          "metadata": {}
        }
      ]
    },
    {
      "cell_type": "code",
      "source": [
        "pred"
      ],
      "metadata": {
        "outputId": "e8fee6ce-9cd5-4f2c-f9ad-ca4a1d0ca0ec",
        "colab": {
          "base_uri": "https://localhost:8080/"
        },
        "id": "puqORQkgwl6s"
      },
      "execution_count": null,
      "outputs": [
        {
          "output_type": "execute_result",
          "data": {
            "text/plain": [
              "PredictionOutput(predictions=array([[-2.3587575,  2.4713686],\n",
              "       [-1.7682393,  1.704234 ],\n",
              "       [ 1.5907078, -2.0266585],\n",
              "       ...,\n",
              "       [ 2.493084 , -3.7055945],\n",
              "       [ 1.9809694, -2.5836968],\n",
              "       [ 1.6942371, -2.218484 ]], dtype=float32), label_ids=None, metrics={'test_runtime': 18.2641, 'test_samples_per_second': 33.727, 'test_steps_per_second': 4.216})"
            ]
          },
          "metadata": {},
          "execution_count": 443
        }
      ]
    },
    {
      "cell_type": "code",
      "source": [
        "# logits, labels = pred.predictions\n",
        "np.argmax(pred.predictions, axis=-1)"
      ],
      "metadata": {
        "outputId": "dc0ed4b3-7c0a-40cf-deef-bc4196071dfc",
        "colab": {
          "base_uri": "https://localhost:8080/"
        },
        "id": "so0PH3nxwl6t"
      },
      "execution_count": null,
      "outputs": [
        {
          "output_type": "execute_result",
          "data": {
            "text/plain": [
              "array([1, 1, 0, 0, 0, 1, 1, 0, 0, 1, 0, 0, 0, 0, 0, 0, 1, 1, 0, 1, 0, 1,\n",
              "       0, 0, 0, 1, 0, 0, 0, 0, 1, 0, 0, 0, 1, 1, 1, 0, 1, 0, 0, 1, 0, 0,\n",
              "       0, 0, 0, 0, 0, 0, 0, 0, 0, 1, 0, 1, 1, 0, 0, 0, 1, 0, 1, 0, 0, 0,\n",
              "       1, 0, 0, 1, 0, 0, 1, 1, 0, 0, 0, 1, 0, 0, 1, 0, 1, 1, 1, 1, 1, 0,\n",
              "       0, 1, 1, 0, 0, 0, 0, 0, 1, 1, 1, 1, 0, 0, 1, 1, 0, 1, 1, 0, 0, 0,\n",
              "       0, 1, 0, 0, 1, 0, 1, 1, 0, 1, 1, 0, 0, 0, 0, 1, 0, 1, 1, 0, 0, 0,\n",
              "       0, 1, 0, 0, 1, 0, 1, 0, 0, 0, 0, 0, 0, 1, 1, 0, 0, 0, 1, 1, 0, 1,\n",
              "       1, 0, 0, 0, 0, 0, 1, 0, 0, 0, 1, 0, 0, 1, 0, 0, 1, 0, 0, 0, 1, 0,\n",
              "       0, 0, 0, 0, 1, 1, 1, 0, 0, 0, 1, 1, 1, 1, 1, 0, 1, 0, 0, 0, 0, 0,\n",
              "       0, 1, 0, 0, 0, 0, 0, 0, 1, 0, 0, 0, 0, 0, 1, 0, 0, 0, 1, 0, 1, 1,\n",
              "       0, 1, 0, 1, 0, 0, 1, 0, 1, 0, 1, 0, 0, 0, 0, 0, 0, 0, 1, 0, 0, 0,\n",
              "       0, 0, 0, 1, 0, 1, 0, 1, 0, 0, 0, 1, 0, 1, 0, 1, 1, 0, 0, 0, 0, 0,\n",
              "       0, 0, 0, 1, 1, 0, 0, 1, 1, 1, 0, 0, 1, 0, 1, 1, 0, 0, 0, 0, 1, 0,\n",
              "       1, 1, 1, 1, 1, 1, 0, 1, 1, 1, 1, 1, 1, 1, 0, 1, 1, 1, 0, 0, 1, 1,\n",
              "       0, 1, 0, 1, 0, 0, 0, 0, 0, 0, 0, 0, 0, 0, 0, 0, 0, 0, 0, 0, 0, 0,\n",
              "       1, 0, 0, 0, 0, 0, 1, 0, 0, 1, 0, 1, 0, 0, 1, 1, 0, 1, 0, 0, 0, 0,\n",
              "       0, 0, 0, 0, 0, 0, 0, 1, 0, 0, 0, 0, 0, 0, 1, 0, 0, 0, 1, 0, 0, 0,\n",
              "       0, 1, 1, 0, 1, 0, 0, 0, 0, 0, 0, 1, 0, 0, 0, 0, 1, 0, 1, 0, 0, 0,\n",
              "       0, 0, 1, 0, 1, 0, 0, 0, 0, 0, 0, 0, 1, 0, 1, 1, 0, 0, 0, 0, 0, 1,\n",
              "       1, 0, 0, 1, 1, 0, 0, 0, 0, 0, 0, 0, 0, 0, 0, 0, 0, 0, 1, 1, 1, 1,\n",
              "       0, 0, 1, 1, 1, 1, 0, 1, 0, 1, 0, 1, 0, 0, 1, 1, 0, 0, 0, 1, 1, 0,\n",
              "       0, 0, 1, 0, 1, 1, 1, 0, 1, 0, 0, 0, 0, 1, 0, 1, 0, 0, 0, 0, 0, 0,\n",
              "       0, 1, 0, 0, 0, 0, 0, 0, 1, 0, 0, 1, 0, 0, 0, 0, 0, 0, 1, 1, 1, 1,\n",
              "       0, 0, 1, 0, 0, 0, 1, 0, 0, 1, 1, 0, 1, 0, 1, 0, 1, 1, 0, 0, 0, 0,\n",
              "       0, 0, 0, 0, 0, 0, 1, 0, 0, 1, 0, 0, 0, 0, 0, 0, 0, 0, 0, 0, 1, 1,\n",
              "       1, 0, 0, 0, 0, 0, 1, 1, 0, 0, 0, 1, 1, 0, 0, 1, 0, 0, 1, 1, 1, 0,\n",
              "       1, 0, 0, 1, 0, 0, 0, 0, 1, 0, 1, 0, 0, 0, 1, 0, 1, 0, 1, 1, 1, 0,\n",
              "       0, 1, 0, 0, 0, 0, 0, 0, 1, 1, 0, 1, 0, 0, 1, 1, 1, 1, 1, 0, 0, 0])"
            ]
          },
          "metadata": {},
          "execution_count": 444
        }
      ]
    },
    {
      "cell_type": "code",
      "source": [
        "testing_pd['pred'] = np.argmax(pred.predictions, axis=-1)"
      ],
      "metadata": {
        "id": "bwui5cg3wl6t"
      },
      "execution_count": null,
      "outputs": []
    },
    {
      "cell_type": "code",
      "source": [
        "#final table\n",
        "testing_pd"
      ],
      "metadata": {
        "outputId": "f1e158c3-45fa-4176-cffa-3caabf914758",
        "colab": {
          "base_uri": "https://localhost:8080/"
        },
        "id": "UgipYrwlwl6t"
      },
      "execution_count": null,
      "outputs": [
        {
          "output_type": "execute_result",
          "data": {
            "text/plain": [
              "                                                  text  pred\n",
              "0    台北市副市长黄珊珊明日将以无党籍平民身份宣布参选台北市长，而传出市长柯文哲也有受邀出席参选记...     1\n",
              "1    #关注台海# 湾湾冥进党不顾台海紧张情势拼选举，柯文哲怒呛: 把战争当游戏#消灭台独##解放...     1\n",
              "2    台北市长柯文哲昨接受专访谈及台北市长选举「三脚督」，分析三人中只有民进党参选人陈时中仇恨值很...     0\n",
              "3       冥进党不顾台海紧张情势拼选举，柯文哲怒呛:把战争当游戏#台湾# L泉州那些事儿的微博视频 ​     0\n",
              "4                                          L台海网的微博视频 ​     0\n",
              "..                                                 ...   ...\n",
              "611                            学店仔笑死人。现在是柯文哲要选新竹市长？？ ​     1\n",
              "612  台湾政治版图长期由蓝绿（国民党和民进党）瓜分，但也有异军突起的例外。八年前无党籍的医学教授柯...     1\n",
              "613            #国台办称对团团病逝感到痛心和惋惜# 看看柯文哲这德行，他们不配！?  O ​     0\n",
              "614  民众党新竹市长候选人高虹安助理费争议延烧，台北市长柯文哲为护高虹安，质疑新竹市有何不可告人之...     0\n",
              "615                  大陆赠台大熊猫“团团”离世，连战、马英九不舍，柯文哲发文告别O ​     0\n",
              "\n",
              "[616 rows x 2 columns]"
            ],
            "text/html": [
              "\n",
              "  <div id=\"df-1780ae87-02c3-4bec-9fd8-c0ce4730634b\">\n",
              "    <div class=\"colab-df-container\">\n",
              "      <div>\n",
              "<style scoped>\n",
              "    .dataframe tbody tr th:only-of-type {\n",
              "        vertical-align: middle;\n",
              "    }\n",
              "\n",
              "    .dataframe tbody tr th {\n",
              "        vertical-align: top;\n",
              "    }\n",
              "\n",
              "    .dataframe thead th {\n",
              "        text-align: right;\n",
              "    }\n",
              "</style>\n",
              "<table border=\"1\" class=\"dataframe\">\n",
              "  <thead>\n",
              "    <tr style=\"text-align: right;\">\n",
              "      <th></th>\n",
              "      <th>text</th>\n",
              "      <th>pred</th>\n",
              "    </tr>\n",
              "  </thead>\n",
              "  <tbody>\n",
              "    <tr>\n",
              "      <th>0</th>\n",
              "      <td>台北市副市长黄珊珊明日将以无党籍平民身份宣布参选台北市长，而传出市长柯文哲也有受邀出席参选记...</td>\n",
              "      <td>1</td>\n",
              "    </tr>\n",
              "    <tr>\n",
              "      <th>1</th>\n",
              "      <td>#关注台海# 湾湾冥进党不顾台海紧张情势拼选举，柯文哲怒呛: 把战争当游戏#消灭台独##解放...</td>\n",
              "      <td>1</td>\n",
              "    </tr>\n",
              "    <tr>\n",
              "      <th>2</th>\n",
              "      <td>台北市长柯文哲昨接受专访谈及台北市长选举「三脚督」，分析三人中只有民进党参选人陈时中仇恨值很...</td>\n",
              "      <td>0</td>\n",
              "    </tr>\n",
              "    <tr>\n",
              "      <th>3</th>\n",
              "      <td>冥进党不顾台海紧张情势拼选举，柯文哲怒呛:把战争当游戏#台湾# L泉州那些事儿的微博视频 ​</td>\n",
              "      <td>0</td>\n",
              "    </tr>\n",
              "    <tr>\n",
              "      <th>4</th>\n",
              "      <td>L台海网的微博视频 ​</td>\n",
              "      <td>0</td>\n",
              "    </tr>\n",
              "    <tr>\n",
              "      <th>...</th>\n",
              "      <td>...</td>\n",
              "      <td>...</td>\n",
              "    </tr>\n",
              "    <tr>\n",
              "      <th>611</th>\n",
              "      <td>学店仔笑死人。现在是柯文哲要选新竹市长？？ ​</td>\n",
              "      <td>1</td>\n",
              "    </tr>\n",
              "    <tr>\n",
              "      <th>612</th>\n",
              "      <td>台湾政治版图长期由蓝绿（国民党和民进党）瓜分，但也有异军突起的例外。八年前无党籍的医学教授柯...</td>\n",
              "      <td>1</td>\n",
              "    </tr>\n",
              "    <tr>\n",
              "      <th>613</th>\n",
              "      <td>#国台办称对团团病逝感到痛心和惋惜# 看看柯文哲这德行，他们不配！?  O ​</td>\n",
              "      <td>0</td>\n",
              "    </tr>\n",
              "    <tr>\n",
              "      <th>614</th>\n",
              "      <td>民众党新竹市长候选人高虹安助理费争议延烧，台北市长柯文哲为护高虹安，质疑新竹市有何不可告人之...</td>\n",
              "      <td>0</td>\n",
              "    </tr>\n",
              "    <tr>\n",
              "      <th>615</th>\n",
              "      <td>大陆赠台大熊猫“团团”离世，连战、马英九不舍，柯文哲发文告别O ​</td>\n",
              "      <td>0</td>\n",
              "    </tr>\n",
              "  </tbody>\n",
              "</table>\n",
              "<p>616 rows × 2 columns</p>\n",
              "</div>\n",
              "      <button class=\"colab-df-convert\" onclick=\"convertToInteractive('df-1780ae87-02c3-4bec-9fd8-c0ce4730634b')\"\n",
              "              title=\"Convert this dataframe to an interactive table.\"\n",
              "              style=\"display:none;\">\n",
              "        \n",
              "  <svg xmlns=\"http://www.w3.org/2000/svg\" height=\"24px\"viewBox=\"0 0 24 24\"\n",
              "       width=\"24px\">\n",
              "    <path d=\"M0 0h24v24H0V0z\" fill=\"none\"/>\n",
              "    <path d=\"M18.56 5.44l.94 2.06.94-2.06 2.06-.94-2.06-.94-.94-2.06-.94 2.06-2.06.94zm-11 1L8.5 8.5l.94-2.06 2.06-.94-2.06-.94L8.5 2.5l-.94 2.06-2.06.94zm10 10l.94 2.06.94-2.06 2.06-.94-2.06-.94-.94-2.06-.94 2.06-2.06.94z\"/><path d=\"M17.41 7.96l-1.37-1.37c-.4-.4-.92-.59-1.43-.59-.52 0-1.04.2-1.43.59L10.3 9.45l-7.72 7.72c-.78.78-.78 2.05 0 2.83L4 21.41c.39.39.9.59 1.41.59.51 0 1.02-.2 1.41-.59l7.78-7.78 2.81-2.81c.8-.78.8-2.07 0-2.86zM5.41 20L4 18.59l7.72-7.72 1.47 1.35L5.41 20z\"/>\n",
              "  </svg>\n",
              "      </button>\n",
              "      \n",
              "  <style>\n",
              "    .colab-df-container {\n",
              "      display:flex;\n",
              "      flex-wrap:wrap;\n",
              "      gap: 12px;\n",
              "    }\n",
              "\n",
              "    .colab-df-convert {\n",
              "      background-color: #E8F0FE;\n",
              "      border: none;\n",
              "      border-radius: 50%;\n",
              "      cursor: pointer;\n",
              "      display: none;\n",
              "      fill: #1967D2;\n",
              "      height: 32px;\n",
              "      padding: 0 0 0 0;\n",
              "      width: 32px;\n",
              "    }\n",
              "\n",
              "    .colab-df-convert:hover {\n",
              "      background-color: #E2EBFA;\n",
              "      box-shadow: 0px 1px 2px rgba(60, 64, 67, 0.3), 0px 1px 3px 1px rgba(60, 64, 67, 0.15);\n",
              "      fill: #174EA6;\n",
              "    }\n",
              "\n",
              "    [theme=dark] .colab-df-convert {\n",
              "      background-color: #3B4455;\n",
              "      fill: #D2E3FC;\n",
              "    }\n",
              "\n",
              "    [theme=dark] .colab-df-convert:hover {\n",
              "      background-color: #434B5C;\n",
              "      box-shadow: 0px 1px 3px 1px rgba(0, 0, 0, 0.15);\n",
              "      filter: drop-shadow(0px 1px 2px rgba(0, 0, 0, 0.3));\n",
              "      fill: #FFFFFF;\n",
              "    }\n",
              "  </style>\n",
              "\n",
              "      <script>\n",
              "        const buttonEl =\n",
              "          document.querySelector('#df-1780ae87-02c3-4bec-9fd8-c0ce4730634b button.colab-df-convert');\n",
              "        buttonEl.style.display =\n",
              "          google.colab.kernel.accessAllowed ? 'block' : 'none';\n",
              "\n",
              "        async function convertToInteractive(key) {\n",
              "          const element = document.querySelector('#df-1780ae87-02c3-4bec-9fd8-c0ce4730634b');\n",
              "          const dataTable =\n",
              "            await google.colab.kernel.invokeFunction('convertToInteractive',\n",
              "                                                     [key], {});\n",
              "          if (!dataTable) return;\n",
              "\n",
              "          const docLinkHtml = 'Like what you see? Visit the ' +\n",
              "            '<a target=\"_blank\" href=https://colab.research.google.com/notebooks/data_table.ipynb>data table notebook</a>'\n",
              "            + ' to learn more about interactive tables.';\n",
              "          element.innerHTML = '';\n",
              "          dataTable['output_type'] = 'display_data';\n",
              "          await google.colab.output.renderOutput(dataTable, element);\n",
              "          const docLink = document.createElement('div');\n",
              "          docLink.innerHTML = docLinkHtml;\n",
              "          element.appendChild(docLink);\n",
              "        }\n",
              "      </script>\n",
              "    </div>\n",
              "  </div>\n",
              "  "
            ]
          },
          "metadata": {},
          "execution_count": 446
        }
      ]
    },
    {
      "cell_type": "markdown",
      "source": [
        "# graphs"
      ],
      "metadata": {
        "id": "dahN1PQ_emAJ"
      }
    },
    {
      "cell_type": "code",
      "source": [
        "count0 = (testing_pd['pred'] == 0).sum()\n",
        "count1 = (testing_pd['pred'] == 1).sum()\n",
        "print(count0, count1)"
      ],
      "metadata": {
        "colab": {
          "base_uri": "https://localhost:8080/"
        },
        "outputId": "815fbe3a-4598-46b7-dced-3dff680248db",
        "id": "RP1XlQO7wl6u"
      },
      "execution_count": null,
      "outputs": [
        {
          "output_type": "stream",
          "name": "stdout",
          "text": [
            "401 215\n"
          ]
        }
      ]
    },
    {
      "cell_type": "code",
      "source": [
        "import matplotlib.pyplot as plt\n",
        "count0 = (testing_pd['pred'] == 0).sum()\n",
        "count1 = (testing_pd['pred'] == 1).sum()\n",
        "df_plot=pd.DataFrame({'result in numbers': ['_'], 'negative':[count0], 'positive': [count1]})\n",
        "df_plot.plot.bar(x='result in numbers', figsize=(10, 10))\n",
        "plt.show()"
      ],
      "metadata": {
        "id": "pYQ-vvvfZeGi",
        "colab": {
          "base_uri": "https://localhost:8080/",
          "height": 601
        },
        "outputId": "6d6e802c-c118-49f7-d4d7-0f9f041ffda3"
      },
      "execution_count": null,
      "outputs": [
        {
          "output_type": "display_data",
          "data": {
            "text/plain": [
              "<Figure size 720x720 with 1 Axes>"
            ],
            "image/png": "[encoded data removed]"
          },
          "metadata": {
            "needs_background": "light"
          }
        }
      ]
    },
    {
      "cell_type": "code",
      "source": [
        "#def Percentage(num1, num2):\n",
        "#    return num1 / (num1 + num2) * 100\n",
        "    \n",
        "#print(Percentage(count0, count1))\n",
        "#print(Percentage(215, 401))\n",
        "\n",
        "#plot in percentage. Remember, 0 = negative, 1 = positive\n",
        "def Percentage(num1, num2):\n",
        "    return num1 / (num1 + num2) * 100\n",
        "\n",
        "per1=Percentage(count0, count1)\n",
        "per2=Percentage(count1, count0)\n",
        "\n",
        "label = ['negative', 'positive']\n",
        "shares = [per1, per2]\n",
        "fig, ax = plt.subplots(figsize=(10,10))\n",
        "ax.pie(shares, labels=label, autopct='%.2f%%', shadow=False, labeldistance=1.1,  textprops={'fontsize': 14})\n",
        "ax.set_title('Ko Wen-je before', fontsize=18, y=0.95);"
      ],
      "metadata": {
        "colab": {
          "base_uri": "https://localhost:8080/",
          "height": 575
        },
        "outputId": "a0cc613a-e023-495b-c94b-77afb1497948",
        "id": "wFKJQrZswl6u"
      },
      "execution_count": null,
      "outputs": [
        {
          "output_type": "display_data",
          "data": {
            "text/plain": [
              "<Figure size 720x720 with 1 Axes>"
            ],
            "image/png": "[encoded data removed]"
          },
          "metadata": {}
        }
      ]
    },
    {
      "cell_type": "markdown",
      "source": [
        "#**柯文哲_after**"
      ],
      "metadata": {
        "id": "X7r6DsWZzBwW"
      }
    },
    {
      "cell_type": "markdown",
      "source": [
        "# 1. load and clean data"
      ],
      "metadata": {
        "id": "vE_WniFpLXI2"
      }
    },
    {
      "cell_type": "code",
      "source": [
        "#insert new xlsx file here\n",
        "! wget -nc https://raw.githubusercontent.com/advapplab/sentiment_analysis_election_2022/main/data/challange/柯文哲_after.xlsx"
      ],
      "metadata": {
        "colab": {
          "base_uri": "https://localhost:8080/"
        },
        "id": "unXqx8kLLaNi",
        "outputId": "d5be8a7b-b66e-4af2-ebbf-e7a41757656a"
      },
      "execution_count": null,
      "outputs": [
        {
          "output_type": "stream",
          "name": "stdout",
          "text": [
            "File ‘柯文哲_after.xlsx’ already there; not retrieving.\n",
            "\n"
          ]
        }
      ]
    },
    {
      "cell_type": "code",
      "source": [
        "import pandas as pd"
      ],
      "metadata": {
        "id": "wvVr4ksNLfBE"
      },
      "execution_count": null,
      "outputs": []
    },
    {
      "cell_type": "code",
      "source": [
        "#insert new xlsx file here\n",
        "testing_pd = pd.read_excel('/content/柯文哲_after.xlsx')\n",
        "\n",
        "testing_pd.rename(columns={'博文': 'text'},\n",
        "          inplace=True, errors='raise')\n",
        "\n",
        "testing_pd = testing_pd[['text']]"
      ],
      "metadata": {
        "id": "kOpI-oJHLgmk",
        "colab": {
          "base_uri": "https://localhost:8080/"
        },
        "outputId": "0df35324-b879-4294-cafd-f6c072484d42"
      },
      "execution_count": null,
      "outputs": [
        {
          "output_type": "stream",
          "name": "stderr",
          "text": [
            "/usr/local/lib/python3.8/dist-packages/openpyxl/styles/stylesheet.py:226: UserWarning: Workbook contains no default style, apply openpyxl's default\n",
            "  warn(\"Workbook contains no default style, apply openpyxl's default\")\n"
          ]
        }
      ]
    },
    {
      "cell_type": "code",
      "source": [
        "#dirty data\n",
        "testing_pd"
      ],
      "metadata": {
        "id": "JY9u0xqolKrO",
        "outputId": "597f69cf-e3cb-48f5-c146-9baf08916abe",
        "colab": {
          "base_uri": "https://localhost:8080/"
        }
      },
      "execution_count": null,
      "outputs": [
        {
          "output_type": "execute_result",
          "data": {
            "text/plain": [
              "                                                 text\n",
              "0   公務員是服務人民不是管理人民因為老百姓繳錢給政府是叫政府來服務他不是叫政府來管他難道你會繳一...\n",
              "1            訂了明天的文華東方辦開票趴，希望結果是好的，彌補我眼瞎投了柯文哲兩次的錯誤。 ​\n",
              "2   還有35分鐘，我到底要不要去投呢？藍綠都討厭，想投柯文哲民眾黨，可是想想，會不會又是一個怪獸...\n",
              "3   这年头整天自我感动的感性废物疯批好多。前些天团团在台北动物园安乐死了。看到熊猫粉中的脑残还真...\n",
              "4   【柯建铭选前脸书道歉 高虹安：应向全台、全新竹市民道歉】立委高金素梅25日中午到竹市与民众党...\n",
              "5                                  柯文哲完成投票#台湾县市长选举# ​\n",
              "6   【黄珊珊市长落马 与柯革命情感祝续拚2024】无党籍黄珊珊于台北市长选战落马，市政专家形象终...\n",
              "7                    柯文哲可能回台大当医生去了。搞不好2年后出来竞争大统领之位。 ​\n",
              "8   【国民党大胜 学者分析：朱立伦势必进取2024】#蔡英文辞去民进党主席职务# 新竹市长候选人...\n",
              "9                                       柯文哲哭了...... ​\n",
              "10  #蔡英文辞去民进党主席职务#九合一大选结束，国民党大获全胜，这里面有几个点：      1....\n",
              "11              刷到了台湾选举的消息→去看看柯文哲怎么样了→刷到了团团前两天过世的消息 ​\n",
              "12                                    柯文哲称将回台大继续当医生 ​\n",
              "13            和侯或郭搭档，大概率拿下24年ZT//@点绛唇_5099:柯文哲会选2024吗\n",
              "14  #台湾县市长选举#尘埃落定了。观看对岸选举，我们大陆人应该有很复杂的想法。我就谈谈这次九合一...\n",
              "15                   台北市长柯文哲成立的。//@覅非:民众党是啥？拿下了科教重镇新竹\n",
              "16  浊水溪分界，蓝绿分别明显～关键的“桃园市”被张善政拿下，朱立伦党主席大位稳固，蔡英文党主席的...\n",
              "17               #台湾县市长选举# 高虹安胜选感言感谢郭台铭，没有感谢柯文哲，媒体啊 ​\n",
              "18         #台湾县市长选举#高虹安大胜 避免了民众党的泡沫化 柯文哲2024一定会出来搅局 ​\n",
              "19  回复@超级瞄准已部署i:没关系，柯文哲又可以嘴硬了不是第二个时代力量了。//@超级瞄准已部署...\n",
              "20               #台湾县市长选举# 议员选举总得票数，柯文哲的民众党依然过不了4%。 ​\n",
              "21                       精英不敵藍綠！黃珊珊偕同柯文哲抵總部發表談話#台湾# ​\n",
              "22  【想团团了！柯P、黄珊珊投完票合体逛动物园 来看圆圆】今日为九合一选举投票日，台北市长柯文哲...\n",
              "23  今天的結果，確認2024兩位選手一定入局，賴可以說毫無懸念，柯文哲有了新竹市（還要看各地議員...\n",
              "24                           看不到柯文哲和王世堅互懟了，我會又少一個樂趣 ​\n",
              "25                             回看民众党的开票画面，被柯文哲这造型笑死 ​\n",
              "26                                 應景的重溫一下柯文哲上席地不想聊 ​\n",
              "27  【高虹安当选、黄珊珊获34万票 柯文哲：第三势力正在茁壮】民众党这次餐与九合一选举，高虹安在...\n",
              "28  【新闻人物】【蒋万安：成为最年轻台北市长的蒋家后代】台湾九合一选举落幕，国民党候选人蒋万安打...\n",
              "29  #误伤中华大学高虹安出面道歉##高虹安 38岁当选#台湾#科技重镇#新竹市#市长感谢他的老师...\n",
              "30  #误伤中华大学高虹安出面道歉##高虹安 38岁当选#台湾#科技重镇#新竹市#市长感谢他的老师...\n",
              "31  【柯文哲圣诞节卸任台北市长 已物色竞选总统办公室】柯文哲执政八年的台北市在九合一选举中“由白...\n",
              "32        前市长柯文哲模糊九二共识，新市长蒋万安支持九二共识。这的确是统一大业事实上的推进进展。\n",
              "33  【高虹安拿下新竹市 民众党撼动传统蓝绿版图】台湾民众党在星期六（11月26日）举行的县市长选...\n",
              "34  基层民意代表dpp选的不差，上升趋势，所以还是蔡ee没收初选以及选战操盘的问题大。比如新竹，...\n",
              "35  台湾地区地方选举蓝绿版图对此，2014年国民党在22个县市席位只有6个，民进党占席13个，无...\n",
              "36  #蔡英文辞去民进党主席职务#九合一大选结束，国民党大获全胜，这里面有几个点：      1....\n",
              "37  【台北变天！王世坚放话紧盯蒋万安“看看8年来我怎么处理柯文哲”】九合一选举落幕，台北市长宝座...\n",
              "38                                            柯文哲 加油?\n",
              "39  现在谁不承认92共识，才是大业的推进者//@锹夺天工杨大眼:前市长柯文哲模糊九二共识，新市长...\n",
              "40  【海峡对岸】送礼达人王世坚连任成功，扬言将紧盯蒋万安不放。他说：“你看看这八年我如何处理柯文...\n",
              "41  【“白色力量”崛起？分析：短期内难以撼动蓝绿】国民党籍前民意代表雷倩向深圳卫视表示，柯文哲代...\n",
              "42     柯文哲还是回台大医院当他的医生了#海峡两岸#海峡两岸 2厦门 L仰望弗洛伊德的微博视频 ​\n",
              "43  吹狗蕾不会真要出来选吧？她越来越自信了还拿当年打柯文哲说事她当年不打 柯文哲都不会那么高票#...\n",
              "44  柯P要卸任了了，坚哥会不会思念他？最后来几集#王世坚# 大战#柯文哲# ，让大家怀念怀念第一...\n",
              "45  【“白色力量”崛起？分析: 短期内难以撼动蓝绿】       国民党籍前民意代表雷倩向深圳卫...\n",
              "46  【柯文哲指派彭振声任交接召集人 蒋万安强调谢票优先】台北市长当选人蒋万安小内阁名单备受关注，...\n",
              "47  《台湾民众党拿下新竹市长，柯文哲叹：要对岛内民意有敬畏之心》台湾民众党拿下新竹市长，柯文哲叹..."
            ],
            "text/html": [
              "\n",
              "  <div id=\"df-1ac8ef44-3510-4113-b8a5-1b93d056566d\">\n",
              "    <div class=\"colab-df-container\">\n",
              "      <div>\n",
              "<style scoped>\n",
              "    .dataframe tbody tr th:only-of-type {\n",
              "        vertical-align: middle;\n",
              "    }\n",
              "\n",
              "    .dataframe tbody tr th {\n",
              "        vertical-align: top;\n",
              "    }\n",
              "\n",
              "    .dataframe thead th {\n",
              "        text-align: right;\n",
              "    }\n",
              "</style>\n",
              "<table border=\"1\" class=\"dataframe\">\n",
              "  <thead>\n",
              "    <tr style=\"text-align: right;\">\n",
              "      <th></th>\n",
              "      <th>text</th>\n",
              "    </tr>\n",
              "  </thead>\n",
              "  <tbody>\n",
              "    <tr>\n",
              "      <th>0</th>\n",
              "      <td>公務員是服務人民不是管理人民因為老百姓繳錢給政府是叫政府來服務他不是叫政府來管他難道你會繳一...</td>\n",
              "    </tr>\n",
              "    <tr>\n",
              "      <th>1</th>\n",
              "      <td>訂了明天的文華東方辦開票趴，希望結果是好的，彌補我眼瞎投了柯文哲兩次的錯誤。 ​</td>\n",
              "    </tr>\n",
              "    <tr>\n",
              "      <th>2</th>\n",
              "      <td>還有35分鐘，我到底要不要去投呢？藍綠都討厭，想投柯文哲民眾黨，可是想想，會不會又是一個怪獸...</td>\n",
              "    </tr>\n",
              "    <tr>\n",
              "      <th>3</th>\n",
              "      <td>这年头整天自我感动的感性废物疯批好多。前些天团团在台北动物园安乐死了。看到熊猫粉中的脑残还真...</td>\n",
              "    </tr>\n",
              "    <tr>\n",
              "      <th>4</th>\n",
              "      <td>【柯建铭选前脸书道歉 高虹安：应向全台、全新竹市民道歉】立委高金素梅25日中午到竹市与民众党...</td>\n",
              "    </tr>\n",
              "    <tr>\n",
              "      <th>5</th>\n",
              "      <td>柯文哲完成投票#台湾县市长选举# ​</td>\n",
              "    </tr>\n",
              "    <tr>\n",
              "      <th>6</th>\n",
              "      <td>【黄珊珊市长落马 与柯革命情感祝续拚2024】无党籍黄珊珊于台北市长选战落马，市政专家形象终...</td>\n",
              "    </tr>\n",
              "    <tr>\n",
              "      <th>7</th>\n",
              "      <td>柯文哲可能回台大当医生去了。搞不好2年后出来竞争大统领之位。 ​</td>\n",
              "    </tr>\n",
              "    <tr>\n",
              "      <th>8</th>\n",
              "      <td>【国民党大胜 学者分析：朱立伦势必进取2024】#蔡英文辞去民进党主席职务# 新竹市长候选人...</td>\n",
              "    </tr>\n",
              "    <tr>\n",
              "      <th>9</th>\n",
              "      <td>柯文哲哭了...... ​</td>\n",
              "    </tr>\n",
              "    <tr>\n",
              "      <th>10</th>\n",
              "      <td>#蔡英文辞去民进党主席职务#九合一大选结束，国民党大获全胜，这里面有几个点：      1....</td>\n",
              "    </tr>\n",
              "    <tr>\n",
              "      <th>11</th>\n",
              "      <td>刷到了台湾选举的消息→去看看柯文哲怎么样了→刷到了团团前两天过世的消息 ​</td>\n",
              "    </tr>\n",
              "    <tr>\n",
              "      <th>12</th>\n",
              "      <td>柯文哲称将回台大继续当医生 ​</td>\n",
              "    </tr>\n",
              "    <tr>\n",
              "      <th>13</th>\n",
              "      <td>和侯或郭搭档，大概率拿下24年ZT//@点绛唇_5099:柯文哲会选2024吗</td>\n",
              "    </tr>\n",
              "    <tr>\n",
              "      <th>14</th>\n",
              "      <td>#台湾县市长选举#尘埃落定了。观看对岸选举，我们大陆人应该有很复杂的想法。我就谈谈这次九合一...</td>\n",
              "    </tr>\n",
              "    <tr>\n",
              "      <th>15</th>\n",
              "      <td>台北市长柯文哲成立的。//@覅非:民众党是啥？拿下了科教重镇新竹</td>\n",
              "    </tr>\n",
              "    <tr>\n",
              "      <th>16</th>\n",
              "      <td>浊水溪分界，蓝绿分别明显～关键的“桃园市”被张善政拿下，朱立伦党主席大位稳固，蔡英文党主席的...</td>\n",
              "    </tr>\n",
              "    <tr>\n",
              "      <th>17</th>\n",
              "      <td>#台湾县市长选举# 高虹安胜选感言感谢郭台铭，没有感谢柯文哲，媒体啊 ​</td>\n",
              "    </tr>\n",
              "    <tr>\n",
              "      <th>18</th>\n",
              "      <td>#台湾县市长选举#高虹安大胜 避免了民众党的泡沫化 柯文哲2024一定会出来搅局 ​</td>\n",
              "    </tr>\n",
              "    <tr>\n",
              "      <th>19</th>\n",
              "      <td>回复@超级瞄准已部署i:没关系，柯文哲又可以嘴硬了不是第二个时代力量了。//@超级瞄准已部署...</td>\n",
              "    </tr>\n",
              "    <tr>\n",
              "      <th>20</th>\n",
              "      <td>#台湾县市长选举# 议员选举总得票数，柯文哲的民众党依然过不了4%。 ​</td>\n",
              "    </tr>\n",
              "    <tr>\n",
              "      <th>21</th>\n",
              "      <td>精英不敵藍綠！黃珊珊偕同柯文哲抵總部發表談話#台湾# ​</td>\n",
              "    </tr>\n",
              "    <tr>\n",
              "      <th>22</th>\n",
              "      <td>【想团团了！柯P、黄珊珊投完票合体逛动物园 来看圆圆】今日为九合一选举投票日，台北市长柯文哲...</td>\n",
              "    </tr>\n",
              "    <tr>\n",
              "      <th>23</th>\n",
              "      <td>今天的結果，確認2024兩位選手一定入局，賴可以說毫無懸念，柯文哲有了新竹市（還要看各地議員...</td>\n",
              "    </tr>\n",
              "    <tr>\n",
              "      <th>24</th>\n",
              "      <td>看不到柯文哲和王世堅互懟了，我會又少一個樂趣 ​</td>\n",
              "    </tr>\n",
              "    <tr>\n",
              "      <th>25</th>\n",
              "      <td>回看民众党的开票画面，被柯文哲这造型笑死 ​</td>\n",
              "    </tr>\n",
              "    <tr>\n",
              "      <th>26</th>\n",
              "      <td>應景的重溫一下柯文哲上席地不想聊 ​</td>\n",
              "    </tr>\n",
              "    <tr>\n",
              "      <th>27</th>\n",
              "      <td>【高虹安当选、黄珊珊获34万票 柯文哲：第三势力正在茁壮】民众党这次餐与九合一选举，高虹安在...</td>\n",
              "    </tr>\n",
              "    <tr>\n",
              "      <th>28</th>\n",
              "      <td>【新闻人物】【蒋万安：成为最年轻台北市长的蒋家后代】台湾九合一选举落幕，国民党候选人蒋万安打...</td>\n",
              "    </tr>\n",
              "    <tr>\n",
              "      <th>29</th>\n",
              "      <td>#误伤中华大学高虹安出面道歉##高虹安 38岁当选#台湾#科技重镇#新竹市#市长感谢他的老师...</td>\n",
              "    </tr>\n",
              "    <tr>\n",
              "      <th>30</th>\n",
              "      <td>#误伤中华大学高虹安出面道歉##高虹安 38岁当选#台湾#科技重镇#新竹市#市长感谢他的老师...</td>\n",
              "    </tr>\n",
              "    <tr>\n",
              "      <th>31</th>\n",
              "      <td>【柯文哲圣诞节卸任台北市长 已物色竞选总统办公室】柯文哲执政八年的台北市在九合一选举中“由白...</td>\n",
              "    </tr>\n",
              "    <tr>\n",
              "      <th>32</th>\n",
              "      <td>前市长柯文哲模糊九二共识，新市长蒋万安支持九二共识。这的确是统一大业事实上的推进进展。</td>\n",
              "    </tr>\n",
              "    <tr>\n",
              "      <th>33</th>\n",
              "      <td>【高虹安拿下新竹市 民众党撼动传统蓝绿版图】台湾民众党在星期六（11月26日）举行的县市长选...</td>\n",
              "    </tr>\n",
              "    <tr>\n",
              "      <th>34</th>\n",
              "      <td>基层民意代表dpp选的不差，上升趋势，所以还是蔡ee没收初选以及选战操盘的问题大。比如新竹，...</td>\n",
              "    </tr>\n",
              "    <tr>\n",
              "      <th>35</th>\n",
              "      <td>台湾地区地方选举蓝绿版图对此，2014年国民党在22个县市席位只有6个，民进党占席13个，无...</td>\n",
              "    </tr>\n",
              "    <tr>\n",
              "      <th>36</th>\n",
              "      <td>#蔡英文辞去民进党主席职务#九合一大选结束，国民党大获全胜，这里面有几个点：      1....</td>\n",
              "    </tr>\n",
              "    <tr>\n",
              "      <th>37</th>\n",
              "      <td>【台北变天！王世坚放话紧盯蒋万安“看看8年来我怎么处理柯文哲”】九合一选举落幕，台北市长宝座...</td>\n",
              "    </tr>\n",
              "    <tr>\n",
              "      <th>38</th>\n",
              "      <td>柯文哲 加油?</td>\n",
              "    </tr>\n",
              "    <tr>\n",
              "      <th>39</th>\n",
              "      <td>现在谁不承认92共识，才是大业的推进者//@锹夺天工杨大眼:前市长柯文哲模糊九二共识，新市长...</td>\n",
              "    </tr>\n",
              "    <tr>\n",
              "      <th>40</th>\n",
              "      <td>【海峡对岸】送礼达人王世坚连任成功，扬言将紧盯蒋万安不放。他说：“你看看这八年我如何处理柯文...</td>\n",
              "    </tr>\n",
              "    <tr>\n",
              "      <th>41</th>\n",
              "      <td>【“白色力量”崛起？分析：短期内难以撼动蓝绿】国民党籍前民意代表雷倩向深圳卫视表示，柯文哲代...</td>\n",
              "    </tr>\n",
              "    <tr>\n",
              "      <th>42</th>\n",
              "      <td>柯文哲还是回台大医院当他的医生了#海峡两岸#海峡两岸 2厦门 L仰望弗洛伊德的微博视频 ​</td>\n",
              "    </tr>\n",
              "    <tr>\n",
              "      <th>43</th>\n",
              "      <td>吹狗蕾不会真要出来选吧？她越来越自信了还拿当年打柯文哲说事她当年不打 柯文哲都不会那么高票#...</td>\n",
              "    </tr>\n",
              "    <tr>\n",
              "      <th>44</th>\n",
              "      <td>柯P要卸任了了，坚哥会不会思念他？最后来几集#王世坚# 大战#柯文哲# ，让大家怀念怀念第一...</td>\n",
              "    </tr>\n",
              "    <tr>\n",
              "      <th>45</th>\n",
              "      <td>【“白色力量”崛起？分析: 短期内难以撼动蓝绿】       国民党籍前民意代表雷倩向深圳卫...</td>\n",
              "    </tr>\n",
              "    <tr>\n",
              "      <th>46</th>\n",
              "      <td>【柯文哲指派彭振声任交接召集人 蒋万安强调谢票优先】台北市长当选人蒋万安小内阁名单备受关注，...</td>\n",
              "    </tr>\n",
              "    <tr>\n",
              "      <th>47</th>\n",
              "      <td>《台湾民众党拿下新竹市长，柯文哲叹：要对岛内民意有敬畏之心》台湾民众党拿下新竹市长，柯文哲叹...</td>\n",
              "    </tr>\n",
              "  </tbody>\n",
              "</table>\n",
              "</div>\n",
              "      <button class=\"colab-df-convert\" onclick=\"convertToInteractive('df-1ac8ef44-3510-4113-b8a5-1b93d056566d')\"\n",
              "              title=\"Convert this dataframe to an interactive table.\"\n",
              "              style=\"display:none;\">\n",
              "        \n",
              "  <svg xmlns=\"http://www.w3.org/2000/svg\" height=\"24px\"viewBox=\"0 0 24 24\"\n",
              "       width=\"24px\">\n",
              "    <path d=\"M0 0h24v24H0V0z\" fill=\"none\"/>\n",
              "    <path d=\"M18.56 5.44l.94 2.06.94-2.06 2.06-.94-2.06-.94-.94-2.06-.94 2.06-2.06.94zm-11 1L8.5 8.5l.94-2.06 2.06-.94-2.06-.94L8.5 2.5l-.94 2.06-2.06.94zm10 10l.94 2.06.94-2.06 2.06-.94-2.06-.94-.94-2.06-.94 2.06-2.06.94z\"/><path d=\"M17.41 7.96l-1.37-1.37c-.4-.4-.92-.59-1.43-.59-.52 0-1.04.2-1.43.59L10.3 9.45l-7.72 7.72c-.78.78-.78 2.05 0 2.83L4 21.41c.39.39.9.59 1.41.59.51 0 1.02-.2 1.41-.59l7.78-7.78 2.81-2.81c.8-.78.8-2.07 0-2.86zM5.41 20L4 18.59l7.72-7.72 1.47 1.35L5.41 20z\"/>\n",
              "  </svg>\n",
              "      </button>\n",
              "      \n",
              "  <style>\n",
              "    .colab-df-container {\n",
              "      display:flex;\n",
              "      flex-wrap:wrap;\n",
              "      gap: 12px;\n",
              "    }\n",
              "\n",
              "    .colab-df-convert {\n",
              "      background-color: #E8F0FE;\n",
              "      border: none;\n",
              "      border-radius: 50%;\n",
              "      cursor: pointer;\n",
              "      display: none;\n",
              "      fill: #1967D2;\n",
              "      height: 32px;\n",
              "      padding: 0 0 0 0;\n",
              "      width: 32px;\n",
              "    }\n",
              "\n",
              "    .colab-df-convert:hover {\n",
              "      background-color: #E2EBFA;\n",
              "      box-shadow: 0px 1px 2px rgba(60, 64, 67, 0.3), 0px 1px 3px 1px rgba(60, 64, 67, 0.15);\n",
              "      fill: #174EA6;\n",
              "    }\n",
              "\n",
              "    [theme=dark] .colab-df-convert {\n",
              "      background-color: #3B4455;\n",
              "      fill: #D2E3FC;\n",
              "    }\n",
              "\n",
              "    [theme=dark] .colab-df-convert:hover {\n",
              "      background-color: #434B5C;\n",
              "      box-shadow: 0px 1px 3px 1px rgba(0, 0, 0, 0.15);\n",
              "      filter: drop-shadow(0px 1px 2px rgba(0, 0, 0, 0.3));\n",
              "      fill: #FFFFFF;\n",
              "    }\n",
              "  </style>\n",
              "\n",
              "      <script>\n",
              "        const buttonEl =\n",
              "          document.querySelector('#df-1ac8ef44-3510-4113-b8a5-1b93d056566d button.colab-df-convert');\n",
              "        buttonEl.style.display =\n",
              "          google.colab.kernel.accessAllowed ? 'block' : 'none';\n",
              "\n",
              "        async function convertToInteractive(key) {\n",
              "          const element = document.querySelector('#df-1ac8ef44-3510-4113-b8a5-1b93d056566d');\n",
              "          const dataTable =\n",
              "            await google.colab.kernel.invokeFunction('convertToInteractive',\n",
              "                                                     [key], {});\n",
              "          if (!dataTable) return;\n",
              "\n",
              "          const docLinkHtml = 'Like what you see? Visit the ' +\n",
              "            '<a target=\"_blank\" href=https://colab.research.google.com/notebooks/data_table.ipynb>data table notebook</a>'\n",
              "            + ' to learn more about interactive tables.';\n",
              "          element.innerHTML = '';\n",
              "          dataTable['output_type'] = 'display_data';\n",
              "          await google.colab.output.renderOutput(dataTable, element);\n",
              "          const docLink = document.createElement('div');\n",
              "          docLink.innerHTML = docLinkHtml;\n",
              "          element.appendChild(docLink);\n",
              "        }\n",
              "      </script>\n",
              "    </div>\n",
              "  </div>\n",
              "  "
            ]
          },
          "metadata": {},
          "execution_count": 453
        }
      ]
    },
    {
      "cell_type": "code",
      "source": [
        "#we can consider not deleting the titles. This will be up to the ICI project group to decide\n",
        "#if you wish to preserve the titles. replace the corresponding block of code below with this one \n",
        "\n",
        "#testing_pd['text'] = testing_pd['text'].replace(span_pattern,'',regex=True).replace(span_pattern,'',regex=True)\n",
        "#testing_pd['text'] = testing_pd['text'].replace(http_pattern,'',regex=True).replace(html_pattern,'',regex=True)\n",
        "#testing_pd['text'] = testing_pd['text'].replace(image_pattern,'',regex=True)#.replace(title_pattern_1,'',regex=True)\n",
        "#testing_pd['text'] = testing_pd['text'].re place(link_pattern,'',regex=True).replace(html_pattern,'',regex=True)\n",
        "##testing_pd['text'] = testing_pd['text'].replace(title_pattern_2,'',regex=True)\n",
        "#________________________________________________________________________________________________________________________\n",
        "\n",
        "testing_pd = testing_pd[~testing_pd['text'].str.contains('a href', regex=True)]\n",
        "\n",
        "\n",
        "import re\n",
        "html_pattern = \"<(?:\\\"[^\\\"]*\\\"['\\\"]*|'[^']*'['\\\"]*|[^'\\\">])+>\"\n",
        "http_pattern = \"http\\S+\"\n",
        "image_pattern = \"<img\\s[^>]*?src\\s*=\\s*['\\\"]([^'\\\"]*?)['\\\"][^>]*?>\" \n",
        "#title_pattern = \"[【|《*】|》]\"\n",
        "title_pattern_1 = \"(?=【)(.*)(?<=】)\"\n",
        "title_pattern_2 = \"(?=《)(.*)(?<=》)\"\n",
        "link_pattern=\"网页链接\"\n",
        "span_pattern='<span.*?>(.+?)</span>'\n",
        "\n",
        "#replace with this block. Do some more research because it looks like some titles are still removed, like index 41\n",
        "testing_pd['text'] = testing_pd['text'].replace(span_pattern,'',regex=True).replace(span_pattern,'',regex=True)\n",
        "testing_pd['text'] = testing_pd['text'].replace(http_pattern,'',regex=True).replace(html_pattern,'',regex=True)\n",
        "testing_pd['text'] = testing_pd['text'].replace(image_pattern,'',regex=True).replace(title_pattern_1,'',regex=True)\n",
        "testing_pd['text'] = testing_pd['text'].replace(link_pattern,'',regex=True).replace(html_pattern,'',regex=True)\n",
        "testing_pd['text'] = testing_pd['text'].replace(title_pattern_2,'',regex=True)"
      ],
      "metadata": {
        "id": "JNdBz5HSLjLi"
      },
      "execution_count": null,
      "outputs": []
    },
    {
      "cell_type": "code",
      "source": [
        "#delete empty rows\n",
        "testing_pd = testing_pd[testing_pd['text'].str.len()>2]   \n",
        "testing_pd = testing_pd[['text']]\n",
        "testing_pd = testing_pd.reset_index(drop=True)\n",
        "testing_pd"
      ],
      "metadata": {
        "id": "I0iiKBCQGYM3",
        "outputId": "8f553c17-2a14-492c-82a0-334fe9ced588",
        "colab": {
          "base_uri": "https://localhost:8080/"
        }
      },
      "execution_count": null,
      "outputs": [
        {
          "output_type": "execute_result",
          "data": {
            "text/plain": [
              "                                                 text\n",
              "0   公務員是服務人民不是管理人民因為老百姓繳錢給政府是叫政府來服務他不是叫政府來管他難道你會繳一...\n",
              "1            訂了明天的文華東方辦開票趴，希望結果是好的，彌補我眼瞎投了柯文哲兩次的錯誤。 ​\n",
              "2   還有35分鐘，我到底要不要去投呢？藍綠都討厭，想投柯文哲民眾黨，可是想想，會不會又是一個怪獸...\n",
              "3   这年头整天自我感动的感性废物疯批好多。前些天团团在台北动物园安乐死了。看到熊猫粉中的脑残还真...\n",
              "4   立委高金素梅25日中午到竹市与民众党新竹市长候选人高虹安合体车扫，针对立委柯建铭在脸书对柯文...\n",
              "5                                  柯文哲完成投票#台湾县市长选举# ​\n",
              "6   无党籍黄珊珊于台北市长选战落马，市政专家形象终不敌蓝绿框架。由于选战中民众党大力支持黄珊珊，...\n",
              "7                    柯文哲可能回台大当医生去了。搞不好2年后出来竞争大统领之位。 ​\n",
              "8   #蔡英文辞去民进党主席职务# 新竹市长候选人高虹安当选新竹市长，文化大学广告学系专任教授兼系...\n",
              "9                                       柯文哲哭了...... ​\n",
              "10  #蔡英文辞去民进党主席职务#九合一大选结束，国民党大获全胜，这里面有几个点：      1....\n",
              "11              刷到了台湾选举的消息→去看看柯文哲怎么样了→刷到了团团前两天过世的消息 ​\n",
              "12                                    柯文哲称将回台大继续当医生 ​\n",
              "13            和侯或郭搭档，大概率拿下24年ZT//@点绛唇_5099:柯文哲会选2024吗\n",
              "14  #台湾县市长选举#尘埃落定了。观看对岸选举，我们大陆人应该有很复杂的想法。我就谈谈这次九合一...\n",
              "15                   台北市长柯文哲成立的。//@覅非:民众党是啥？拿下了科教重镇新竹\n",
              "16  浊水溪分界，蓝绿分别明显～关键的“桃园市”被张善政拿下，朱立伦党主席大位稳固，蔡英文党主席的...\n",
              "17               #台湾县市长选举# 高虹安胜选感言感谢郭台铭，没有感谢柯文哲，媒体啊 ​\n",
              "18         #台湾县市长选举#高虹安大胜 避免了民众党的泡沫化 柯文哲2024一定会出来搅局 ​\n",
              "19  回复@超级瞄准已部署i:没关系，柯文哲又可以嘴硬了不是第二个时代力量了。//@超级瞄准已部署...\n",
              "20               #台湾县市长选举# 议员选举总得票数，柯文哲的民众党依然过不了4%。 ​\n",
              "21                       精英不敵藍綠！黃珊珊偕同柯文哲抵總部發表談話#台湾# ​\n",
              "22  今日为九合一选举投票日，台北市长柯文哲、无党籍台北市长候选人黄珊珊两人先后前往投票后，竟于中...\n",
              "23  今天的結果，確認2024兩位選手一定入局，賴可以說毫無懸念，柯文哲有了新竹市（還要看各地議員...\n",
              "24                           看不到柯文哲和王世堅互懟了，我會又少一個樂趣 ​\n",
              "25                             回看民众党的开票画面，被柯文哲这造型笑死 ​\n",
              "26                                 應景的重溫一下柯文哲上席地不想聊 ​\n",
              "27  民众党这次餐与九合一选举，高虹安在民进党下重手之下，还是当选新竹市长，不过以无党籍身分参选的...\n",
              "28  台湾九合一选举落幕，国民党候选人蒋万安打败代表民进党参选的前防疫指挥官陈时中以及现任市长柯文...\n",
              "29  #误伤中华大学高虹安出面道歉##高虹安 38岁当选#台湾#科技重镇#新竹市#市长感谢他的老师...\n",
              "30  #误伤中华大学高虹安出面道歉##高虹安 38岁当选#台湾#科技重镇#新竹市#市长感谢他的老师...\n",
              "31  柯文哲执政八年的台北市在九合一选举中“由白转蓝”，但他率领的台湾民众党夺下了科技重镇新竹市，...\n",
              "32        前市长柯文哲模糊九二共识，新市长蒋万安支持九二共识。这的确是统一大业事实上的推进进展。\n",
              "33  台湾民众党在星期六（11月26日）举行的县市长选举中成功拿下新竹市，撼动传统蓝绿版图。曾多次...\n",
              "34  基层民意代表dpp选的不差，上升趋势，所以还是蔡ee没收初选以及选战操盘的问题大。比如新竹，...\n",
              "35  台湾地区地方选举蓝绿版图对此，2014年国民党在22个县市席位只有6个，民进党占席13个，无...\n",
              "36  #蔡英文辞去民进党主席职务#九合一大选结束，国民党大获全胜，这里面有几个点：      1....\n",
              "37  九合一选举落幕，台北市长宝座由国民党前立委蒋万安拿下，甫连任的民进党台北市议员王世坚27日被...\n",
              "38                                            柯文哲 加油?\n",
              "39  现在谁不承认92共识，才是大业的推进者//@锹夺天工杨大眼:前市长柯文哲模糊九二共识，新市长...\n",
              "40  送礼达人王世坚连任成功，扬言将紧盯蒋万安不放。他说：“你看看这八年我如何处理柯文哲？”蒋万安...\n",
              "41  国民党籍前民意代表雷倩向深圳卫视表示，柯文哲代表的“白色力量”，虽然取得了新竹这个阵地，但距...\n",
              "42     柯文哲还是回台大医院当他的医生了#海峡两岸#海峡两岸 2厦门 L仰望弗洛伊德的微博视频 ​\n",
              "43  吹狗蕾不会真要出来选吧？她越来越自信了还拿当年打柯文哲说事她当年不打 柯文哲都不会那么高票#...\n",
              "44  柯P要卸任了了，坚哥会不会思念他？最后来几集#王世坚# 大战#柯文哲# ，让大家怀念怀念第一...\n",
              "45         国民党籍前民意代表雷倩向深圳卫视表示，柯文哲代表的“白色力量”，虽然取得了新竹...\n",
              "46  台北市长当选人蒋万安小内阁名单备受关注，但今日被问及交接小组是否已有规划，蒋万安仅表示“积极...\n",
              "47                    台湾民众党拿下新竹市长，柯文哲叹：要对岛内民意有敬畏之心O ​"
            ],
            "text/html": [
              "\n",
              "  <div id=\"df-d63a8db9-4acd-4d59-b25b-89cf70bcacb7\">\n",
              "    <div class=\"colab-df-container\">\n",
              "      <div>\n",
              "<style scoped>\n",
              "    .dataframe tbody tr th:only-of-type {\n",
              "        vertical-align: middle;\n",
              "    }\n",
              "\n",
              "    .dataframe tbody tr th {\n",
              "        vertical-align: top;\n",
              "    }\n",
              "\n",
              "    .dataframe thead th {\n",
              "        text-align: right;\n",
              "    }\n",
              "</style>\n",
              "<table border=\"1\" class=\"dataframe\">\n",
              "  <thead>\n",
              "    <tr style=\"text-align: right;\">\n",
              "      <th></th>\n",
              "      <th>text</th>\n",
              "    </tr>\n",
              "  </thead>\n",
              "  <tbody>\n",
              "    <tr>\n",
              "      <th>0</th>\n",
              "      <td>公務員是服務人民不是管理人民因為老百姓繳錢給政府是叫政府來服務他不是叫政府來管他難道你會繳一...</td>\n",
              "    </tr>\n",
              "    <tr>\n",
              "      <th>1</th>\n",
              "      <td>訂了明天的文華東方辦開票趴，希望結果是好的，彌補我眼瞎投了柯文哲兩次的錯誤。 ​</td>\n",
              "    </tr>\n",
              "    <tr>\n",
              "      <th>2</th>\n",
              "      <td>還有35分鐘，我到底要不要去投呢？藍綠都討厭，想投柯文哲民眾黨，可是想想，會不會又是一個怪獸...</td>\n",
              "    </tr>\n",
              "    <tr>\n",
              "      <th>3</th>\n",
              "      <td>这年头整天自我感动的感性废物疯批好多。前些天团团在台北动物园安乐死了。看到熊猫粉中的脑残还真...</td>\n",
              "    </tr>\n",
              "    <tr>\n",
              "      <th>4</th>\n",
              "      <td>立委高金素梅25日中午到竹市与民众党新竹市长候选人高虹安合体车扫，针对立委柯建铭在脸书对柯文...</td>\n",
              "    </tr>\n",
              "    <tr>\n",
              "      <th>5</th>\n",
              "      <td>柯文哲完成投票#台湾县市长选举# ​</td>\n",
              "    </tr>\n",
              "    <tr>\n",
              "      <th>6</th>\n",
              "      <td>无党籍黄珊珊于台北市长选战落马，市政专家形象终不敌蓝绿框架。由于选战中民众党大力支持黄珊珊，...</td>\n",
              "    </tr>\n",
              "    <tr>\n",
              "      <th>7</th>\n",
              "      <td>柯文哲可能回台大当医生去了。搞不好2年后出来竞争大统领之位。 ​</td>\n",
              "    </tr>\n",
              "    <tr>\n",
              "      <th>8</th>\n",
              "      <td>#蔡英文辞去民进党主席职务# 新竹市长候选人高虹安当选新竹市长，文化大学广告学系专任教授兼系...</td>\n",
              "    </tr>\n",
              "    <tr>\n",
              "      <th>9</th>\n",
              "      <td>柯文哲哭了...... ​</td>\n",
              "    </tr>\n",
              "    <tr>\n",
              "      <th>10</th>\n",
              "      <td>#蔡英文辞去民进党主席职务#九合一大选结束，国民党大获全胜，这里面有几个点：      1....</td>\n",
              "    </tr>\n",
              "    <tr>\n",
              "      <th>11</th>\n",
              "      <td>刷到了台湾选举的消息→去看看柯文哲怎么样了→刷到了团团前两天过世的消息 ​</td>\n",
              "    </tr>\n",
              "    <tr>\n",
              "      <th>12</th>\n",
              "      <td>柯文哲称将回台大继续当医生 ​</td>\n",
              "    </tr>\n",
              "    <tr>\n",
              "      <th>13</th>\n",
              "      <td>和侯或郭搭档，大概率拿下24年ZT//@点绛唇_5099:柯文哲会选2024吗</td>\n",
              "    </tr>\n",
              "    <tr>\n",
              "      <th>14</th>\n",
              "      <td>#台湾县市长选举#尘埃落定了。观看对岸选举，我们大陆人应该有很复杂的想法。我就谈谈这次九合一...</td>\n",
              "    </tr>\n",
              "    <tr>\n",
              "      <th>15</th>\n",
              "      <td>台北市长柯文哲成立的。//@覅非:民众党是啥？拿下了科教重镇新竹</td>\n",
              "    </tr>\n",
              "    <tr>\n",
              "      <th>16</th>\n",
              "      <td>浊水溪分界，蓝绿分别明显～关键的“桃园市”被张善政拿下，朱立伦党主席大位稳固，蔡英文党主席的...</td>\n",
              "    </tr>\n",
              "    <tr>\n",
              "      <th>17</th>\n",
              "      <td>#台湾县市长选举# 高虹安胜选感言感谢郭台铭，没有感谢柯文哲，媒体啊 ​</td>\n",
              "    </tr>\n",
              "    <tr>\n",
              "      <th>18</th>\n",
              "      <td>#台湾县市长选举#高虹安大胜 避免了民众党的泡沫化 柯文哲2024一定会出来搅局 ​</td>\n",
              "    </tr>\n",
              "    <tr>\n",
              "      <th>19</th>\n",
              "      <td>回复@超级瞄准已部署i:没关系，柯文哲又可以嘴硬了不是第二个时代力量了。//@超级瞄准已部署...</td>\n",
              "    </tr>\n",
              "    <tr>\n",
              "      <th>20</th>\n",
              "      <td>#台湾县市长选举# 议员选举总得票数，柯文哲的民众党依然过不了4%。 ​</td>\n",
              "    </tr>\n",
              "    <tr>\n",
              "      <th>21</th>\n",
              "      <td>精英不敵藍綠！黃珊珊偕同柯文哲抵總部發表談話#台湾# ​</td>\n",
              "    </tr>\n",
              "    <tr>\n",
              "      <th>22</th>\n",
              "      <td>今日为九合一选举投票日，台北市长柯文哲、无党籍台北市长候选人黄珊珊两人先后前往投票后，竟于中...</td>\n",
              "    </tr>\n",
              "    <tr>\n",
              "      <th>23</th>\n",
              "      <td>今天的結果，確認2024兩位選手一定入局，賴可以說毫無懸念，柯文哲有了新竹市（還要看各地議員...</td>\n",
              "    </tr>\n",
              "    <tr>\n",
              "      <th>24</th>\n",
              "      <td>看不到柯文哲和王世堅互懟了，我會又少一個樂趣 ​</td>\n",
              "    </tr>\n",
              "    <tr>\n",
              "      <th>25</th>\n",
              "      <td>回看民众党的开票画面，被柯文哲这造型笑死 ​</td>\n",
              "    </tr>\n",
              "    <tr>\n",
              "      <th>26</th>\n",
              "      <td>應景的重溫一下柯文哲上席地不想聊 ​</td>\n",
              "    </tr>\n",
              "    <tr>\n",
              "      <th>27</th>\n",
              "      <td>民众党这次餐与九合一选举，高虹安在民进党下重手之下，还是当选新竹市长，不过以无党籍身分参选的...</td>\n",
              "    </tr>\n",
              "    <tr>\n",
              "      <th>28</th>\n",
              "      <td>台湾九合一选举落幕，国民党候选人蒋万安打败代表民进党参选的前防疫指挥官陈时中以及现任市长柯文...</td>\n",
              "    </tr>\n",
              "    <tr>\n",
              "      <th>29</th>\n",
              "      <td>#误伤中华大学高虹安出面道歉##高虹安 38岁当选#台湾#科技重镇#新竹市#市长感谢他的老师...</td>\n",
              "    </tr>\n",
              "    <tr>\n",
              "      <th>30</th>\n",
              "      <td>#误伤中华大学高虹安出面道歉##高虹安 38岁当选#台湾#科技重镇#新竹市#市长感谢他的老师...</td>\n",
              "    </tr>\n",
              "    <tr>\n",
              "      <th>31</th>\n",
              "      <td>柯文哲执政八年的台北市在九合一选举中“由白转蓝”，但他率领的台湾民众党夺下了科技重镇新竹市，...</td>\n",
              "    </tr>\n",
              "    <tr>\n",
              "      <th>32</th>\n",
              "      <td>前市长柯文哲模糊九二共识，新市长蒋万安支持九二共识。这的确是统一大业事实上的推进进展。</td>\n",
              "    </tr>\n",
              "    <tr>\n",
              "      <th>33</th>\n",
              "      <td>台湾民众党在星期六（11月26日）举行的县市长选举中成功拿下新竹市，撼动传统蓝绿版图。曾多次...</td>\n",
              "    </tr>\n",
              "    <tr>\n",
              "      <th>34</th>\n",
              "      <td>基层民意代表dpp选的不差，上升趋势，所以还是蔡ee没收初选以及选战操盘的问题大。比如新竹，...</td>\n",
              "    </tr>\n",
              "    <tr>\n",
              "      <th>35</th>\n",
              "      <td>台湾地区地方选举蓝绿版图对此，2014年国民党在22个县市席位只有6个，民进党占席13个，无...</td>\n",
              "    </tr>\n",
              "    <tr>\n",
              "      <th>36</th>\n",
              "      <td>#蔡英文辞去民进党主席职务#九合一大选结束，国民党大获全胜，这里面有几个点：      1....</td>\n",
              "    </tr>\n",
              "    <tr>\n",
              "      <th>37</th>\n",
              "      <td>九合一选举落幕，台北市长宝座由国民党前立委蒋万安拿下，甫连任的民进党台北市议员王世坚27日被...</td>\n",
              "    </tr>\n",
              "    <tr>\n",
              "      <th>38</th>\n",
              "      <td>柯文哲 加油?</td>\n",
              "    </tr>\n",
              "    <tr>\n",
              "      <th>39</th>\n",
              "      <td>现在谁不承认92共识，才是大业的推进者//@锹夺天工杨大眼:前市长柯文哲模糊九二共识，新市长...</td>\n",
              "    </tr>\n",
              "    <tr>\n",
              "      <th>40</th>\n",
              "      <td>送礼达人王世坚连任成功，扬言将紧盯蒋万安不放。他说：“你看看这八年我如何处理柯文哲？”蒋万安...</td>\n",
              "    </tr>\n",
              "    <tr>\n",
              "      <th>41</th>\n",
              "      <td>国民党籍前民意代表雷倩向深圳卫视表示，柯文哲代表的“白色力量”，虽然取得了新竹这个阵地，但距...</td>\n",
              "    </tr>\n",
              "    <tr>\n",
              "      <th>42</th>\n",
              "      <td>柯文哲还是回台大医院当他的医生了#海峡两岸#海峡两岸 2厦门 L仰望弗洛伊德的微博视频 ​</td>\n",
              "    </tr>\n",
              "    <tr>\n",
              "      <th>43</th>\n",
              "      <td>吹狗蕾不会真要出来选吧？她越来越自信了还拿当年打柯文哲说事她当年不打 柯文哲都不会那么高票#...</td>\n",
              "    </tr>\n",
              "    <tr>\n",
              "      <th>44</th>\n",
              "      <td>柯P要卸任了了，坚哥会不会思念他？最后来几集#王世坚# 大战#柯文哲# ，让大家怀念怀念第一...</td>\n",
              "    </tr>\n",
              "    <tr>\n",
              "      <th>45</th>\n",
              "      <td>国民党籍前民意代表雷倩向深圳卫视表示，柯文哲代表的“白色力量”，虽然取得了新竹...</td>\n",
              "    </tr>\n",
              "    <tr>\n",
              "      <th>46</th>\n",
              "      <td>台北市长当选人蒋万安小内阁名单备受关注，但今日被问及交接小组是否已有规划，蒋万安仅表示“积极...</td>\n",
              "    </tr>\n",
              "    <tr>\n",
              "      <th>47</th>\n",
              "      <td>台湾民众党拿下新竹市长，柯文哲叹：要对岛内民意有敬畏之心O ​</td>\n",
              "    </tr>\n",
              "  </tbody>\n",
              "</table>\n",
              "</div>\n",
              "      <button class=\"colab-df-convert\" onclick=\"convertToInteractive('df-d63a8db9-4acd-4d59-b25b-89cf70bcacb7')\"\n",
              "              title=\"Convert this dataframe to an interactive table.\"\n",
              "              style=\"display:none;\">\n",
              "        \n",
              "  <svg xmlns=\"http://www.w3.org/2000/svg\" height=\"24px\"viewBox=\"0 0 24 24\"\n",
              "       width=\"24px\">\n",
              "    <path d=\"M0 0h24v24H0V0z\" fill=\"none\"/>\n",
              "    <path d=\"M18.56 5.44l.94 2.06.94-2.06 2.06-.94-2.06-.94-.94-2.06-.94 2.06-2.06.94zm-11 1L8.5 8.5l.94-2.06 2.06-.94-2.06-.94L8.5 2.5l-.94 2.06-2.06.94zm10 10l.94 2.06.94-2.06 2.06-.94-2.06-.94-.94-2.06-.94 2.06-2.06.94z\"/><path d=\"M17.41 7.96l-1.37-1.37c-.4-.4-.92-.59-1.43-.59-.52 0-1.04.2-1.43.59L10.3 9.45l-7.72 7.72c-.78.78-.78 2.05 0 2.83L4 21.41c.39.39.9.59 1.41.59.51 0 1.02-.2 1.41-.59l7.78-7.78 2.81-2.81c.8-.78.8-2.07 0-2.86zM5.41 20L4 18.59l7.72-7.72 1.47 1.35L5.41 20z\"/>\n",
              "  </svg>\n",
              "      </button>\n",
              "      \n",
              "  <style>\n",
              "    .colab-df-container {\n",
              "      display:flex;\n",
              "      flex-wrap:wrap;\n",
              "      gap: 12px;\n",
              "    }\n",
              "\n",
              "    .colab-df-convert {\n",
              "      background-color: #E8F0FE;\n",
              "      border: none;\n",
              "      border-radius: 50%;\n",
              "      cursor: pointer;\n",
              "      display: none;\n",
              "      fill: #1967D2;\n",
              "      height: 32px;\n",
              "      padding: 0 0 0 0;\n",
              "      width: 32px;\n",
              "    }\n",
              "\n",
              "    .colab-df-convert:hover {\n",
              "      background-color: #E2EBFA;\n",
              "      box-shadow: 0px 1px 2px rgba(60, 64, 67, 0.3), 0px 1px 3px 1px rgba(60, 64, 67, 0.15);\n",
              "      fill: #174EA6;\n",
              "    }\n",
              "\n",
              "    [theme=dark] .colab-df-convert {\n",
              "      background-color: #3B4455;\n",
              "      fill: #D2E3FC;\n",
              "    }\n",
              "\n",
              "    [theme=dark] .colab-df-convert:hover {\n",
              "      background-color: #434B5C;\n",
              "      box-shadow: 0px 1px 3px 1px rgba(0, 0, 0, 0.15);\n",
              "      filter: drop-shadow(0px 1px 2px rgba(0, 0, 0, 0.3));\n",
              "      fill: #FFFFFF;\n",
              "    }\n",
              "  </style>\n",
              "\n",
              "      <script>\n",
              "        const buttonEl =\n",
              "          document.querySelector('#df-d63a8db9-4acd-4d59-b25b-89cf70bcacb7 button.colab-df-convert');\n",
              "        buttonEl.style.display =\n",
              "          google.colab.kernel.accessAllowed ? 'block' : 'none';\n",
              "\n",
              "        async function convertToInteractive(key) {\n",
              "          const element = document.querySelector('#df-d63a8db9-4acd-4d59-b25b-89cf70bcacb7');\n",
              "          const dataTable =\n",
              "            await google.colab.kernel.invokeFunction('convertToInteractive',\n",
              "                                                     [key], {});\n",
              "          if (!dataTable) return;\n",
              "\n",
              "          const docLinkHtml = 'Like what you see? Visit the ' +\n",
              "            '<a target=\"_blank\" href=https://colab.research.google.com/notebooks/data_table.ipynb>data table notebook</a>'\n",
              "            + ' to learn more about interactive tables.';\n",
              "          element.innerHTML = '';\n",
              "          dataTable['output_type'] = 'display_data';\n",
              "          await google.colab.output.renderOutput(dataTable, element);\n",
              "          const docLink = document.createElement('div');\n",
              "          docLink.innerHTML = docLinkHtml;\n",
              "          element.appendChild(docLink);\n",
              "        }\n",
              "      </script>\n",
              "    </div>\n",
              "  </div>\n",
              "  "
            ]
          },
          "metadata": {},
          "execution_count": 455
        }
      ]
    },
    {
      "cell_type": "markdown",
      "source": [
        "## 1-2 Tokenization"
      ],
      "metadata": {
        "id": "09FrmbHTNmKB"
      }
    },
    {
      "cell_type": "code",
      "source": [
        "from datasets import Dataset, DatasetDict\n",
        "\n",
        "weibo_dict = {\n",
        "              'test' : Dataset.from_pandas(testing_pd)}\n",
        "\n",
        "weibo_ds = DatasetDict(weibo_dict)"
      ],
      "metadata": {
        "id": "vwr-JcAGLlmQ"
      },
      "execution_count": null,
      "outputs": []
    },
    {
      "cell_type": "code",
      "source": [
        "from transformers import AutoTokenizer"
      ],
      "metadata": {
        "id": "vcZp5RbWLn_x"
      },
      "execution_count": null,
      "outputs": []
    },
    {
      "cell_type": "code",
      "source": [
        "tokenizer = AutoTokenizer.from_pretrained(model_tokenizer)"
      ],
      "metadata": {
        "id": "ad2UZ9i5L0J6",
        "colab": {
          "base_uri": "https://localhost:8080/"
        },
        "outputId": "aeeb483e-78dd-4b3b-cceb-930271aedd96"
      },
      "execution_count": null,
      "outputs": [
        {
          "output_type": "stream",
          "name": "stderr",
          "text": [
            "loading configuration file config.json from cache at /root/.cache/huggingface/hub/models--hfl--chinese-bert-wwm/snapshots/ab0aa81da273504efc8540aa4d0bbaa3016a1bb5/config.json\n",
            "Model config BertConfig {\n",
            "  \"_name_or_path\": \"hfl/chinese-bert-wwm\",\n",
            "  \"architectures\": [\n",
            "    \"BertForMaskedLM\"\n",
            "  ],\n",
            "  \"attention_probs_dropout_prob\": 0.1,\n",
            "  \"classifier_dropout\": null,\n",
            "  \"directionality\": \"bidi\",\n",
            "  \"hidden_act\": \"gelu\",\n",
            "  \"hidden_dropout_prob\": 0.1,\n",
            "  \"hidden_size\": 768,\n",
            "  \"initializer_range\": 0.02,\n",
            "  \"intermediate_size\": 3072,\n",
            "  \"layer_norm_eps\": 1e-12,\n",
            "  \"max_position_embeddings\": 512,\n",
            "  \"model_type\": \"bert\",\n",
            "  \"num_attention_heads\": 12,\n",
            "  \"num_hidden_layers\": 12,\n",
            "  \"output_past\": true,\n",
            "  \"pad_token_id\": 0,\n",
            "  \"pooler_fc_size\": 768,\n",
            "  \"pooler_num_attention_heads\": 12,\n",
            "  \"pooler_num_fc_layers\": 3,\n",
            "  \"pooler_size_per_head\": 128,\n",
            "  \"pooler_type\": \"first_token_transform\",\n",
            "  \"position_embedding_type\": \"absolute\",\n",
            "  \"transformers_version\": \"4.25.1\",\n",
            "  \"type_vocab_size\": 2,\n",
            "  \"use_cache\": true,\n",
            "  \"vocab_size\": 21128\n",
            "}\n",
            "\n",
            "loading file vocab.txt from cache at /root/.cache/huggingface/hub/models--hfl--chinese-bert-wwm/snapshots/ab0aa81da273504efc8540aa4d0bbaa3016a1bb5/vocab.txt\n",
            "loading file tokenizer.json from cache at /root/.cache/huggingface/hub/models--hfl--chinese-bert-wwm/snapshots/ab0aa81da273504efc8540aa4d0bbaa3016a1bb5/tokenizer.json\n",
            "loading file added_tokens.json from cache at /root/.cache/huggingface/hub/models--hfl--chinese-bert-wwm/snapshots/ab0aa81da273504efc8540aa4d0bbaa3016a1bb5/added_tokens.json\n",
            "loading file special_tokens_map.json from cache at /root/.cache/huggingface/hub/models--hfl--chinese-bert-wwm/snapshots/ab0aa81da273504efc8540aa4d0bbaa3016a1bb5/special_tokens_map.json\n",
            "loading file tokenizer_config.json from cache at /root/.cache/huggingface/hub/models--hfl--chinese-bert-wwm/snapshots/ab0aa81da273504efc8540aa4d0bbaa3016a1bb5/tokenizer_config.json\n",
            "loading configuration file config.json from cache at /root/.cache/huggingface/hub/models--hfl--chinese-bert-wwm/snapshots/ab0aa81da273504efc8540aa4d0bbaa3016a1bb5/config.json\n",
            "Model config BertConfig {\n",
            "  \"_name_or_path\": \"hfl/chinese-bert-wwm\",\n",
            "  \"architectures\": [\n",
            "    \"BertForMaskedLM\"\n",
            "  ],\n",
            "  \"attention_probs_dropout_prob\": 0.1,\n",
            "  \"classifier_dropout\": null,\n",
            "  \"directionality\": \"bidi\",\n",
            "  \"hidden_act\": \"gelu\",\n",
            "  \"hidden_dropout_prob\": 0.1,\n",
            "  \"hidden_size\": 768,\n",
            "  \"initializer_range\": 0.02,\n",
            "  \"intermediate_size\": 3072,\n",
            "  \"layer_norm_eps\": 1e-12,\n",
            "  \"max_position_embeddings\": 512,\n",
            "  \"model_type\": \"bert\",\n",
            "  \"num_attention_heads\": 12,\n",
            "  \"num_hidden_layers\": 12,\n",
            "  \"output_past\": true,\n",
            "  \"pad_token_id\": 0,\n",
            "  \"pooler_fc_size\": 768,\n",
            "  \"pooler_num_attention_heads\": 12,\n",
            "  \"pooler_num_fc_layers\": 3,\n",
            "  \"pooler_size_per_head\": 128,\n",
            "  \"pooler_type\": \"first_token_transform\",\n",
            "  \"position_embedding_type\": \"absolute\",\n",
            "  \"transformers_version\": \"4.25.1\",\n",
            "  \"type_vocab_size\": 2,\n",
            "  \"use_cache\": true,\n",
            "  \"vocab_size\": 21128\n",
            "}\n",
            "\n"
          ]
        }
      ]
    },
    {
      "cell_type": "code",
      "source": [
        "def tokenize_function(examples):\n",
        "    return tokenizer(examples[\"text\"], \n",
        "                     padding=\"max_length\", \n",
        "                     truncation=True, \n",
        "                     max_length=512)\n",
        "\n",
        "tokenized_datasets = weibo_ds.map(tokenize_function, batched=True)"
      ],
      "metadata": {
        "colab": {
          "base_uri": "https://localhost:8080/",
          "referenced_widgets": [
            "5871ec5d201046afb892002e9db56622",
            "6c5ebfe7932b4106a7344da6d6d3148f",
            "843c9b20660d41eca1a71288add64927",
            "fd7aff2ae81b41a387fd0debbb87bc9d",
            "47906071f2f6440ba006738a8cf6be6b",
            "386566647687483b8128636f578eb8cd",
            "88f80ef0536b4bba956f3a54aef0f657",
            "6d6bb1eb10ea43918bc65a45912fcb62",
            "a7a4949903224dd2a72fe1e863a7388b",
            "35004fdf596c40e69b43429475a01e68",
            "8eec0fc410b447499e819342931844f6"
          ]
        },
        "id": "xRMbAYtkL1eC",
        "outputId": "1175ab9d-de98-48dc-a0ac-882dfdfe901a"
      },
      "execution_count": null,
      "outputs": [
        {
          "output_type": "display_data",
          "data": {
            "text/plain": [
              "  0%|          | 0/1 [00:00<?, ?ba/s]"
            ],
            "application/vnd.jupyter.widget-view+json": {
              "version_major": 2,
              "version_minor": 0,
              "model_id": "5871ec5d201046afb892002e9db56622"
            }
          },
          "metadata": {}
        }
      ]
    },
    {
      "cell_type": "code",
      "source": [
        "full_test_dataset = tokenized_datasets[\"test\"]"
      ],
      "metadata": {
        "id": "YLglgJdgMnED"
      },
      "execution_count": null,
      "outputs": []
    },
    {
      "cell_type": "markdown",
      "source": [
        "# 2. preparing BERT\n"
      ],
      "metadata": {
        "id": "dfXtWvSKNsnF"
      }
    },
    {
      "cell_type": "code",
      "source": [
        "from transformers import AutoModelForSequenceClassification\n",
        "\n",
        "# available chinese models: https://github.com/ymcui/Chinese-BERT-wwm\n",
        "\n",
        "model = AutoModelForSequenceClassification.from_pretrained(model_classifier, \n",
        "                                                           num_labels=2)"
      ],
      "metadata": {
        "id": "Oc5WyyYoL8nk",
        "colab": {
          "base_uri": "https://localhost:8080/"
        },
        "outputId": "b041aad0-2578-4c40-9c4e-114d22d693ce"
      },
      "execution_count": null,
      "outputs": [
        {
          "output_type": "stream",
          "name": "stderr",
          "text": [
            "loading configuration file config.json from cache at /root/.cache/huggingface/hub/models--owen198--weibo-wmmbert-2/snapshots/1c8b069ca4f42474887b1be5ddb45d0b190b785d/config.json\n",
            "Model config BertConfig {\n",
            "  \"_name_or_path\": \"owen198/weibo-wmmbert-2\",\n",
            "  \"architectures\": [\n",
            "    \"BertForSequenceClassification\"\n",
            "  ],\n",
            "  \"attention_probs_dropout_prob\": 0.1,\n",
            "  \"classifier_dropout\": null,\n",
            "  \"directionality\": \"bidi\",\n",
            "  \"hidden_act\": \"gelu\",\n",
            "  \"hidden_dropout_prob\": 0.1,\n",
            "  \"hidden_size\": 768,\n",
            "  \"initializer_range\": 0.02,\n",
            "  \"intermediate_size\": 3072,\n",
            "  \"layer_norm_eps\": 1e-12,\n",
            "  \"max_position_embeddings\": 512,\n",
            "  \"model_type\": \"bert\",\n",
            "  \"num_attention_heads\": 12,\n",
            "  \"num_hidden_layers\": 12,\n",
            "  \"output_past\": true,\n",
            "  \"pad_token_id\": 0,\n",
            "  \"pooler_fc_size\": 768,\n",
            "  \"pooler_num_attention_heads\": 12,\n",
            "  \"pooler_num_fc_layers\": 3,\n",
            "  \"pooler_size_per_head\": 128,\n",
            "  \"pooler_type\": \"first_token_transform\",\n",
            "  \"position_embedding_type\": \"absolute\",\n",
            "  \"problem_type\": \"single_label_classification\",\n",
            "  \"torch_dtype\": \"float32\",\n",
            "  \"transformers_version\": \"4.25.1\",\n",
            "  \"type_vocab_size\": 2,\n",
            "  \"use_cache\": true,\n",
            "  \"vocab_size\": 21128\n",
            "}\n",
            "\n",
            "loading weights file pytorch_model.bin from cache at /root/.cache/huggingface/hub/models--owen198--weibo-wmmbert-2/snapshots/1c8b069ca4f42474887b1be5ddb45d0b190b785d/pytorch_model.bin\n",
            "All model checkpoint weights were used when initializing BertForSequenceClassification.\n",
            "\n",
            "All the weights of BertForSequenceClassification were initialized from the model checkpoint at owen198/weibo-wmmbert-2.\n",
            "If your task is similar to the task the model of the checkpoint was trained on, you can already use BertForSequenceClassification for predictions without further training.\n"
          ]
        }
      ]
    },
    {
      "cell_type": "code",
      "source": [
        "from datasets import load_metric\n",
        "\n",
        "metric = load_metric(\"accuracy\")\n",
        "\n",
        "def compute_metrics(eval_pred):\n",
        "    logits, labels = eval_pred\n",
        "    predictions = np.argmax(logits, axis=-1)\n",
        "    return metric.compute(predictions=predictions, references=labels)"
      ],
      "metadata": {
        "id": "qX3SdsbPMzAh"
      },
      "execution_count": null,
      "outputs": []
    },
    {
      "cell_type": "code",
      "source": [
        "from transformers import Trainer\n",
        "\n",
        "trainer = Trainer(\n",
        "    model=model, \n",
        "    eval_dataset=full_test_dataset,\n",
        "    compute_metrics=compute_metrics,\n",
        ")"
      ],
      "metadata": {
        "id": "gS-bhmcGMR-x",
        "colab": {
          "base_uri": "https://localhost:8080/"
        },
        "outputId": "adf25459-9092-4983-857f-0f9e0012c895"
      },
      "execution_count": null,
      "outputs": [
        {
          "output_type": "stream",
          "name": "stderr",
          "text": [
            "No `TrainingArguments` passed, using `output_dir=tmp_trainer`.\n",
            "PyTorch: setting up devices\n",
            "The default value for the training argument `--report_to` will change in v5 (from all installed integrations to none). In v5, you will need to use `--report_to all` to get the same behavior as now. You should start updating your code and make this info disappear :-).\n"
          ]
        }
      ]
    },
    {
      "cell_type": "code",
      "source": [
        "import numpy as np"
      ],
      "metadata": {
        "id": "d8lF7w4MM-vT"
      },
      "execution_count": null,
      "outputs": []
    },
    {
      "cell_type": "code",
      "source": [],
      "metadata": {
        "id": "Opien-pwOBv9"
      },
      "execution_count": null,
      "outputs": []
    },
    {
      "cell_type": "markdown",
      "source": [
        "#prediction results\n"
      ],
      "metadata": {
        "id": "rP3Dh_OfOCGt"
      }
    },
    {
      "cell_type": "code",
      "source": [
        "pred = trainer.predict(test_dataset=full_test_dataset)"
      ],
      "metadata": {
        "id": "peZx2W-4NDIk",
        "colab": {
          "base_uri": "https://localhost:8080/"
        },
        "outputId": "1845770d-d7d3-47a8-e196-9ee092681b73"
      },
      "execution_count": null,
      "outputs": [
        {
          "output_type": "stream",
          "name": "stderr",
          "text": [
            "The following columns in the test set don't have a corresponding argument in `BertForSequenceClassification.forward` and have been ignored: text. If text are not expected by `BertForSequenceClassification.forward`,  you can safely ignore this message.\n",
            "***** Running Prediction *****\n",
            "  Num examples = 48\n",
            "  Batch size = 8\n"
          ]
        },
        {
          "output_type": "display_data",
          "data": {
            "text/plain": [
              "<IPython.core.display.HTML object>"
            ],
            "text/html": []
          },
          "metadata": {}
        }
      ]
    },
    {
      "cell_type": "code",
      "source": [
        "pred"
      ],
      "metadata": {
        "id": "pMiO3K-84E-f",
        "outputId": "da238a50-54c1-491d-d76f-a661d267db97",
        "colab": {
          "base_uri": "https://localhost:8080/"
        }
      },
      "execution_count": null,
      "outputs": [
        {
          "output_type": "execute_result",
          "data": {
            "text/plain": [
              "PredictionOutput(predictions=array([[ 2.3000846, -3.089892 ],\n",
              "       [ 2.0297022, -2.6360624],\n",
              "       [ 2.4181595, -3.521895 ],\n",
              "       [ 1.7067906, -2.239171 ],\n",
              "       [ 2.2244601, -2.8827317],\n",
              "       [-2.2901123,  2.4149146],\n",
              "       [-2.3027048,  2.4257994],\n",
              "       [ 2.270879 , -2.9862933],\n",
              "       [-2.5620396,  2.609875 ],\n",
              "       [ 2.4219365, -3.532211 ],\n",
              "       [-2.1363456,  2.2541666],\n",
              "       [-1.8009067,  1.753889 ],\n",
              "       [-1.4535959,  1.3877133],\n",
              "       [ 1.6195251, -2.0823445],\n",
              "       [-1.8636042,  1.8563294],\n",
              "       [-1.7485774,  1.6762344],\n",
              "       [-2.5131073,  2.579449 ],\n",
              "       [-2.3281453,  2.4470212],\n",
              "       [ 1.7055103, -2.2369993],\n",
              "       [ 2.4874506, -3.6936104],\n",
              "       [ 1.4387561, -1.6031312],\n",
              "       [-2.1811795,  2.3070695],\n",
              "       [-1.068967 ,  1.152286 ],\n",
              "       [-1.8526328,  1.8381355],\n",
              "       [-2.2559137,  2.3838875],\n",
              "       [-2.552341 ,  2.6039512],\n",
              "       [ 1.6721215, -2.180447 ],\n",
              "       [-2.110547 ,  2.2214901],\n",
              "       [-2.0864017,  2.1896741],\n",
              "       [-2.1057727,  2.215286 ],\n",
              "       [-2.1057727,  2.215286 ],\n",
              "       [-2.0236692,  2.1029465],\n",
              "       [-2.5305862,  2.590489 ],\n",
              "       [-2.1413074,  2.2602742],\n",
              "       [ 2.0434375, -2.6509366],\n",
              "       [-1.8521073,  1.8372656],\n",
              "       [-2.1363456,  2.2541666],\n",
              "       [ 1.5617793, -1.9661609],\n",
              "       [-2.4227252,  2.518769 ],\n",
              "       [-2.2589931,  2.3867724],\n",
              "       [-1.3897977,  1.3447233],\n",
              "       [-2.1764517,  2.301744 ],\n",
              "       [-1.9127686,  1.9366562],\n",
              "       [ 1.7528276, -2.309513 ],\n",
              "       [ 2.353746 , -3.323746 ],\n",
              "       [-2.1565268,  2.2786252],\n",
              "       [-2.1549575,  2.2767503],\n",
              "       [-2.271048 ,  2.3978972]], dtype=float32), label_ids=None, metrics={'test_runtime': 1.4807, 'test_samples_per_second': 32.417, 'test_steps_per_second': 4.052})"
            ]
          },
          "metadata": {},
          "execution_count": 466
        }
      ]
    },
    {
      "cell_type": "code",
      "source": [
        "# logits, labels = pred.predictions\n",
        "np.argmax(pred.predictions, axis=-1)"
      ],
      "metadata": {
        "id": "jblfREBo42M0",
        "outputId": "914876b4-e8b4-483f-83a7-abaf5109fe36",
        "colab": {
          "base_uri": "https://localhost:8080/"
        }
      },
      "execution_count": null,
      "outputs": [
        {
          "output_type": "execute_result",
          "data": {
            "text/plain": [
              "array([0, 0, 0, 0, 0, 1, 1, 0, 1, 0, 1, 1, 1, 0, 1, 1, 1, 1, 0, 0, 0, 1,\n",
              "       1, 1, 1, 1, 0, 1, 1, 1, 1, 1, 1, 1, 0, 1, 1, 0, 1, 1, 1, 1, 1, 0,\n",
              "       0, 1, 1, 1])"
            ]
          },
          "metadata": {},
          "execution_count": 467
        }
      ]
    },
    {
      "cell_type": "code",
      "source": [
        "testing_pd['pred'] = np.argmax(pred.predictions, axis=-1)"
      ],
      "metadata": {
        "id": "EK9DAtXa5rXb"
      },
      "execution_count": null,
      "outputs": []
    },
    {
      "cell_type": "code",
      "source": [
        "#final table\n",
        "testing_pd"
      ],
      "metadata": {
        "id": "Chu7Zagq58zI",
        "outputId": "a86c025f-c8ca-4fc1-beec-f39d63b9072d",
        "colab": {
          "base_uri": "https://localhost:8080/"
        }
      },
      "execution_count": null,
      "outputs": [
        {
          "output_type": "execute_result",
          "data": {
            "text/plain": [
              "                                                 text  pred\n",
              "0   公務員是服務人民不是管理人民因為老百姓繳錢給政府是叫政府來服務他不是叫政府來管他難道你會繳一...     0\n",
              "1            訂了明天的文華東方辦開票趴，希望結果是好的，彌補我眼瞎投了柯文哲兩次的錯誤。 ​     0\n",
              "2   還有35分鐘，我到底要不要去投呢？藍綠都討厭，想投柯文哲民眾黨，可是想想，會不會又是一個怪獸...     0\n",
              "3   这年头整天自我感动的感性废物疯批好多。前些天团团在台北动物园安乐死了。看到熊猫粉中的脑残还真...     0\n",
              "4   立委高金素梅25日中午到竹市与民众党新竹市长候选人高虹安合体车扫，针对立委柯建铭在脸书对柯文...     0\n",
              "5                                  柯文哲完成投票#台湾县市长选举# ​     1\n",
              "6   无党籍黄珊珊于台北市长选战落马，市政专家形象终不敌蓝绿框架。由于选战中民众党大力支持黄珊珊，...     1\n",
              "7                    柯文哲可能回台大当医生去了。搞不好2年后出来竞争大统领之位。 ​     0\n",
              "8   #蔡英文辞去民进党主席职务# 新竹市长候选人高虹安当选新竹市长，文化大学广告学系专任教授兼系...     1\n",
              "9                                       柯文哲哭了...... ​     0\n",
              "10  #蔡英文辞去民进党主席职务#九合一大选结束，国民党大获全胜，这里面有几个点：      1....     1\n",
              "11              刷到了台湾选举的消息→去看看柯文哲怎么样了→刷到了团团前两天过世的消息 ​     1\n",
              "12                                    柯文哲称将回台大继续当医生 ​     1\n",
              "13            和侯或郭搭档，大概率拿下24年ZT//@点绛唇_5099:柯文哲会选2024吗     0\n",
              "14  #台湾县市长选举#尘埃落定了。观看对岸选举，我们大陆人应该有很复杂的想法。我就谈谈这次九合一...     1\n",
              "15                   台北市长柯文哲成立的。//@覅非:民众党是啥？拿下了科教重镇新竹     1\n",
              "16  浊水溪分界，蓝绿分别明显～关键的“桃园市”被张善政拿下，朱立伦党主席大位稳固，蔡英文党主席的...     1\n",
              "17               #台湾县市长选举# 高虹安胜选感言感谢郭台铭，没有感谢柯文哲，媒体啊 ​     1\n",
              "18         #台湾县市长选举#高虹安大胜 避免了民众党的泡沫化 柯文哲2024一定会出来搅局 ​     0\n",
              "19  回复@超级瞄准已部署i:没关系，柯文哲又可以嘴硬了不是第二个时代力量了。//@超级瞄准已部署...     0\n",
              "20               #台湾县市长选举# 议员选举总得票数，柯文哲的民众党依然过不了4%。 ​     0\n",
              "21                       精英不敵藍綠！黃珊珊偕同柯文哲抵總部發表談話#台湾# ​     1\n",
              "22  今日为九合一选举投票日，台北市长柯文哲、无党籍台北市长候选人黄珊珊两人先后前往投票后，竟于中...     1\n",
              "23  今天的結果，確認2024兩位選手一定入局，賴可以說毫無懸念，柯文哲有了新竹市（還要看各地議員...     1\n",
              "24                           看不到柯文哲和王世堅互懟了，我會又少一個樂趣 ​     1\n",
              "25                             回看民众党的开票画面，被柯文哲这造型笑死 ​     1\n",
              "26                                 應景的重溫一下柯文哲上席地不想聊 ​     0\n",
              "27  民众党这次餐与九合一选举，高虹安在民进党下重手之下，还是当选新竹市长，不过以无党籍身分参选的...     1\n",
              "28  台湾九合一选举落幕，国民党候选人蒋万安打败代表民进党参选的前防疫指挥官陈时中以及现任市长柯文...     1\n",
              "29  #误伤中华大学高虹安出面道歉##高虹安 38岁当选#台湾#科技重镇#新竹市#市长感谢他的老师...     1\n",
              "30  #误伤中华大学高虹安出面道歉##高虹安 38岁当选#台湾#科技重镇#新竹市#市长感谢他的老师...     1\n",
              "31  柯文哲执政八年的台北市在九合一选举中“由白转蓝”，但他率领的台湾民众党夺下了科技重镇新竹市，...     1\n",
              "32        前市长柯文哲模糊九二共识，新市长蒋万安支持九二共识。这的确是统一大业事实上的推进进展。     1\n",
              "33  台湾民众党在星期六（11月26日）举行的县市长选举中成功拿下新竹市，撼动传统蓝绿版图。曾多次...     1\n",
              "34  基层民意代表dpp选的不差，上升趋势，所以还是蔡ee没收初选以及选战操盘的问题大。比如新竹，...     0\n",
              "35  台湾地区地方选举蓝绿版图对此，2014年国民党在22个县市席位只有6个，民进党占席13个，无...     1\n",
              "36  #蔡英文辞去民进党主席职务#九合一大选结束，国民党大获全胜，这里面有几个点：      1....     1\n",
              "37  九合一选举落幕，台北市长宝座由国民党前立委蒋万安拿下，甫连任的民进党台北市议员王世坚27日被...     0\n",
              "38                                            柯文哲 加油?     1\n",
              "39  现在谁不承认92共识，才是大业的推进者//@锹夺天工杨大眼:前市长柯文哲模糊九二共识，新市长...     1\n",
              "40  送礼达人王世坚连任成功，扬言将紧盯蒋万安不放。他说：“你看看这八年我如何处理柯文哲？”蒋万安...     1\n",
              "41  国民党籍前民意代表雷倩向深圳卫视表示，柯文哲代表的“白色力量”，虽然取得了新竹这个阵地，但距...     1\n",
              "42     柯文哲还是回台大医院当他的医生了#海峡两岸#海峡两岸 2厦门 L仰望弗洛伊德的微博视频 ​     1\n",
              "43  吹狗蕾不会真要出来选吧？她越来越自信了还拿当年打柯文哲说事她当年不打 柯文哲都不会那么高票#...     0\n",
              "44  柯P要卸任了了，坚哥会不会思念他？最后来几集#王世坚# 大战#柯文哲# ，让大家怀念怀念第一...     0\n",
              "45         国民党籍前民意代表雷倩向深圳卫视表示，柯文哲代表的“白色力量”，虽然取得了新竹...     1\n",
              "46  台北市长当选人蒋万安小内阁名单备受关注，但今日被问及交接小组是否已有规划，蒋万安仅表示“积极...     1\n",
              "47                    台湾民众党拿下新竹市长，柯文哲叹：要对岛内民意有敬畏之心O ​     1"
            ],
            "text/html": [
              "\n",
              "  <div id=\"df-1f283669-18fb-461b-9a31-d1193090e33c\">\n",
              "    <div class=\"colab-df-container\">\n",
              "      <div>\n",
              "<style scoped>\n",
              "    .dataframe tbody tr th:only-of-type {\n",
              "        vertical-align: middle;\n",
              "    }\n",
              "\n",
              "    .dataframe tbody tr th {\n",
              "        vertical-align: top;\n",
              "    }\n",
              "\n",
              "    .dataframe thead th {\n",
              "        text-align: right;\n",
              "    }\n",
              "</style>\n",
              "<table border=\"1\" class=\"dataframe\">\n",
              "  <thead>\n",
              "    <tr style=\"text-align: right;\">\n",
              "      <th></th>\n",
              "      <th>text</th>\n",
              "      <th>pred</th>\n",
              "    </tr>\n",
              "  </thead>\n",
              "  <tbody>\n",
              "    <tr>\n",
              "      <th>0</th>\n",
              "      <td>公務員是服務人民不是管理人民因為老百姓繳錢給政府是叫政府來服務他不是叫政府來管他難道你會繳一...</td>\n",
              "      <td>0</td>\n",
              "    </tr>\n",
              "    <tr>\n",
              "      <th>1</th>\n",
              "      <td>訂了明天的文華東方辦開票趴，希望結果是好的，彌補我眼瞎投了柯文哲兩次的錯誤。 ​</td>\n",
              "      <td>0</td>\n",
              "    </tr>\n",
              "    <tr>\n",
              "      <th>2</th>\n",
              "      <td>還有35分鐘，我到底要不要去投呢？藍綠都討厭，想投柯文哲民眾黨，可是想想，會不會又是一個怪獸...</td>\n",
              "      <td>0</td>\n",
              "    </tr>\n",
              "    <tr>\n",
              "      <th>3</th>\n",
              "      <td>这年头整天自我感动的感性废物疯批好多。前些天团团在台北动物园安乐死了。看到熊猫粉中的脑残还真...</td>\n",
              "      <td>0</td>\n",
              "    </tr>\n",
              "    <tr>\n",
              "      <th>4</th>\n",
              "      <td>立委高金素梅25日中午到竹市与民众党新竹市长候选人高虹安合体车扫，针对立委柯建铭在脸书对柯文...</td>\n",
              "      <td>0</td>\n",
              "    </tr>\n",
              "    <tr>\n",
              "      <th>5</th>\n",
              "      <td>柯文哲完成投票#台湾县市长选举# ​</td>\n",
              "      <td>1</td>\n",
              "    </tr>\n",
              "    <tr>\n",
              "      <th>6</th>\n",
              "      <td>无党籍黄珊珊于台北市长选战落马，市政专家形象终不敌蓝绿框架。由于选战中民众党大力支持黄珊珊，...</td>\n",
              "      <td>1</td>\n",
              "    </tr>\n",
              "    <tr>\n",
              "      <th>7</th>\n",
              "      <td>柯文哲可能回台大当医生去了。搞不好2年后出来竞争大统领之位。 ​</td>\n",
              "      <td>0</td>\n",
              "    </tr>\n",
              "    <tr>\n",
              "      <th>8</th>\n",
              "      <td>#蔡英文辞去民进党主席职务# 新竹市长候选人高虹安当选新竹市长，文化大学广告学系专任教授兼系...</td>\n",
              "      <td>1</td>\n",
              "    </tr>\n",
              "    <tr>\n",
              "      <th>9</th>\n",
              "      <td>柯文哲哭了...... ​</td>\n",
              "      <td>0</td>\n",
              "    </tr>\n",
              "    <tr>\n",
              "      <th>10</th>\n",
              "      <td>#蔡英文辞去民进党主席职务#九合一大选结束，国民党大获全胜，这里面有几个点：      1....</td>\n",
              "      <td>1</td>\n",
              "    </tr>\n",
              "    <tr>\n",
              "      <th>11</th>\n",
              "      <td>刷到了台湾选举的消息→去看看柯文哲怎么样了→刷到了团团前两天过世的消息 ​</td>\n",
              "      <td>1</td>\n",
              "    </tr>\n",
              "    <tr>\n",
              "      <th>12</th>\n",
              "      <td>柯文哲称将回台大继续当医生 ​</td>\n",
              "      <td>1</td>\n",
              "    </tr>\n",
              "    <tr>\n",
              "      <th>13</th>\n",
              "      <td>和侯或郭搭档，大概率拿下24年ZT//@点绛唇_5099:柯文哲会选2024吗</td>\n",
              "      <td>0</td>\n",
              "    </tr>\n",
              "    <tr>\n",
              "      <th>14</th>\n",
              "      <td>#台湾县市长选举#尘埃落定了。观看对岸选举，我们大陆人应该有很复杂的想法。我就谈谈这次九合一...</td>\n",
              "      <td>1</td>\n",
              "    </tr>\n",
              "    <tr>\n",
              "      <th>15</th>\n",
              "      <td>台北市长柯文哲成立的。//@覅非:民众党是啥？拿下了科教重镇新竹</td>\n",
              "      <td>1</td>\n",
              "    </tr>\n",
              "    <tr>\n",
              "      <th>16</th>\n",
              "      <td>浊水溪分界，蓝绿分别明显～关键的“桃园市”被张善政拿下，朱立伦党主席大位稳固，蔡英文党主席的...</td>\n",
              "      <td>1</td>\n",
              "    </tr>\n",
              "    <tr>\n",
              "      <th>17</th>\n",
              "      <td>#台湾县市长选举# 高虹安胜选感言感谢郭台铭，没有感谢柯文哲，媒体啊 ​</td>\n",
              "      <td>1</td>\n",
              "    </tr>\n",
              "    <tr>\n",
              "      <th>18</th>\n",
              "      <td>#台湾县市长选举#高虹安大胜 避免了民众党的泡沫化 柯文哲2024一定会出来搅局 ​</td>\n",
              "      <td>0</td>\n",
              "    </tr>\n",
              "    <tr>\n",
              "      <th>19</th>\n",
              "      <td>回复@超级瞄准已部署i:没关系，柯文哲又可以嘴硬了不是第二个时代力量了。//@超级瞄准已部署...</td>\n",
              "      <td>0</td>\n",
              "    </tr>\n",
              "    <tr>\n",
              "      <th>20</th>\n",
              "      <td>#台湾县市长选举# 议员选举总得票数，柯文哲的民众党依然过不了4%。 ​</td>\n",
              "      <td>0</td>\n",
              "    </tr>\n",
              "    <tr>\n",
              "      <th>21</th>\n",
              "      <td>精英不敵藍綠！黃珊珊偕同柯文哲抵總部發表談話#台湾# ​</td>\n",
              "      <td>1</td>\n",
              "    </tr>\n",
              "    <tr>\n",
              "      <th>22</th>\n",
              "      <td>今日为九合一选举投票日，台北市长柯文哲、无党籍台北市长候选人黄珊珊两人先后前往投票后，竟于中...</td>\n",
              "      <td>1</td>\n",
              "    </tr>\n",
              "    <tr>\n",
              "      <th>23</th>\n",
              "      <td>今天的結果，確認2024兩位選手一定入局，賴可以說毫無懸念，柯文哲有了新竹市（還要看各地議員...</td>\n",
              "      <td>1</td>\n",
              "    </tr>\n",
              "    <tr>\n",
              "      <th>24</th>\n",
              "      <td>看不到柯文哲和王世堅互懟了，我會又少一個樂趣 ​</td>\n",
              "      <td>1</td>\n",
              "    </tr>\n",
              "    <tr>\n",
              "      <th>25</th>\n",
              "      <td>回看民众党的开票画面，被柯文哲这造型笑死 ​</td>\n",
              "      <td>1</td>\n",
              "    </tr>\n",
              "    <tr>\n",
              "      <th>26</th>\n",
              "      <td>應景的重溫一下柯文哲上席地不想聊 ​</td>\n",
              "      <td>0</td>\n",
              "    </tr>\n",
              "    <tr>\n",
              "      <th>27</th>\n",
              "      <td>民众党这次餐与九合一选举，高虹安在民进党下重手之下，还是当选新竹市长，不过以无党籍身分参选的...</td>\n",
              "      <td>1</td>\n",
              "    </tr>\n",
              "    <tr>\n",
              "      <th>28</th>\n",
              "      <td>台湾九合一选举落幕，国民党候选人蒋万安打败代表民进党参选的前防疫指挥官陈时中以及现任市长柯文...</td>\n",
              "      <td>1</td>\n",
              "    </tr>\n",
              "    <tr>\n",
              "      <th>29</th>\n",
              "      <td>#误伤中华大学高虹安出面道歉##高虹安 38岁当选#台湾#科技重镇#新竹市#市长感谢他的老师...</td>\n",
              "      <td>1</td>\n",
              "    </tr>\n",
              "    <tr>\n",
              "      <th>30</th>\n",
              "      <td>#误伤中华大学高虹安出面道歉##高虹安 38岁当选#台湾#科技重镇#新竹市#市长感谢他的老师...</td>\n",
              "      <td>1</td>\n",
              "    </tr>\n",
              "    <tr>\n",
              "      <th>31</th>\n",
              "      <td>柯文哲执政八年的台北市在九合一选举中“由白转蓝”，但他率领的台湾民众党夺下了科技重镇新竹市，...</td>\n",
              "      <td>1</td>\n",
              "    </tr>\n",
              "    <tr>\n",
              "      <th>32</th>\n",
              "      <td>前市长柯文哲模糊九二共识，新市长蒋万安支持九二共识。这的确是统一大业事实上的推进进展。</td>\n",
              "      <td>1</td>\n",
              "    </tr>\n",
              "    <tr>\n",
              "      <th>33</th>\n",
              "      <td>台湾民众党在星期六（11月26日）举行的县市长选举中成功拿下新竹市，撼动传统蓝绿版图。曾多次...</td>\n",
              "      <td>1</td>\n",
              "    </tr>\n",
              "    <tr>\n",
              "      <th>34</th>\n",
              "      <td>基层民意代表dpp选的不差，上升趋势，所以还是蔡ee没收初选以及选战操盘的问题大。比如新竹，...</td>\n",
              "      <td>0</td>\n",
              "    </tr>\n",
              "    <tr>\n",
              "      <th>35</th>\n",
              "      <td>台湾地区地方选举蓝绿版图对此，2014年国民党在22个县市席位只有6个，民进党占席13个，无...</td>\n",
              "      <td>1</td>\n",
              "    </tr>\n",
              "    <tr>\n",
              "      <th>36</th>\n",
              "      <td>#蔡英文辞去民进党主席职务#九合一大选结束，国民党大获全胜，这里面有几个点：      1....</td>\n",
              "      <td>1</td>\n",
              "    </tr>\n",
              "    <tr>\n",
              "      <th>37</th>\n",
              "      <td>九合一选举落幕，台北市长宝座由国民党前立委蒋万安拿下，甫连任的民进党台北市议员王世坚27日被...</td>\n",
              "      <td>0</td>\n",
              "    </tr>\n",
              "    <tr>\n",
              "      <th>38</th>\n",
              "      <td>柯文哲 加油?</td>\n",
              "      <td>1</td>\n",
              "    </tr>\n",
              "    <tr>\n",
              "      <th>39</th>\n",
              "      <td>现在谁不承认92共识，才是大业的推进者//@锹夺天工杨大眼:前市长柯文哲模糊九二共识，新市长...</td>\n",
              "      <td>1</td>\n",
              "    </tr>\n",
              "    <tr>\n",
              "      <th>40</th>\n",
              "      <td>送礼达人王世坚连任成功，扬言将紧盯蒋万安不放。他说：“你看看这八年我如何处理柯文哲？”蒋万安...</td>\n",
              "      <td>1</td>\n",
              "    </tr>\n",
              "    <tr>\n",
              "      <th>41</th>\n",
              "      <td>国民党籍前民意代表雷倩向深圳卫视表示，柯文哲代表的“白色力量”，虽然取得了新竹这个阵地，但距...</td>\n",
              "      <td>1</td>\n",
              "    </tr>\n",
              "    <tr>\n",
              "      <th>42</th>\n",
              "      <td>柯文哲还是回台大医院当他的医生了#海峡两岸#海峡两岸 2厦门 L仰望弗洛伊德的微博视频 ​</td>\n",
              "      <td>1</td>\n",
              "    </tr>\n",
              "    <tr>\n",
              "      <th>43</th>\n",
              "      <td>吹狗蕾不会真要出来选吧？她越来越自信了还拿当年打柯文哲说事她当年不打 柯文哲都不会那么高票#...</td>\n",
              "      <td>0</td>\n",
              "    </tr>\n",
              "    <tr>\n",
              "      <th>44</th>\n",
              "      <td>柯P要卸任了了，坚哥会不会思念他？最后来几集#王世坚# 大战#柯文哲# ，让大家怀念怀念第一...</td>\n",
              "      <td>0</td>\n",
              "    </tr>\n",
              "    <tr>\n",
              "      <th>45</th>\n",
              "      <td>国民党籍前民意代表雷倩向深圳卫视表示，柯文哲代表的“白色力量”，虽然取得了新竹...</td>\n",
              "      <td>1</td>\n",
              "    </tr>\n",
              "    <tr>\n",
              "      <th>46</th>\n",
              "      <td>台北市长当选人蒋万安小内阁名单备受关注，但今日被问及交接小组是否已有规划，蒋万安仅表示“积极...</td>\n",
              "      <td>1</td>\n",
              "    </tr>\n",
              "    <tr>\n",
              "      <th>47</th>\n",
              "      <td>台湾民众党拿下新竹市长，柯文哲叹：要对岛内民意有敬畏之心O ​</td>\n",
              "      <td>1</td>\n",
              "    </tr>\n",
              "  </tbody>\n",
              "</table>\n",
              "</div>\n",
              "      <button class=\"colab-df-convert\" onclick=\"convertToInteractive('df-1f283669-18fb-461b-9a31-d1193090e33c')\"\n",
              "              title=\"Convert this dataframe to an interactive table.\"\n",
              "              style=\"display:none;\">\n",
              "        \n",
              "  <svg xmlns=\"http://www.w3.org/2000/svg\" height=\"24px\"viewBox=\"0 0 24 24\"\n",
              "       width=\"24px\">\n",
              "    <path d=\"M0 0h24v24H0V0z\" fill=\"none\"/>\n",
              "    <path d=\"M18.56 5.44l.94 2.06.94-2.06 2.06-.94-2.06-.94-.94-2.06-.94 2.06-2.06.94zm-11 1L8.5 8.5l.94-2.06 2.06-.94-2.06-.94L8.5 2.5l-.94 2.06-2.06.94zm10 10l.94 2.06.94-2.06 2.06-.94-2.06-.94-.94-2.06-.94 2.06-2.06.94z\"/><path d=\"M17.41 7.96l-1.37-1.37c-.4-.4-.92-.59-1.43-.59-.52 0-1.04.2-1.43.59L10.3 9.45l-7.72 7.72c-.78.78-.78 2.05 0 2.83L4 21.41c.39.39.9.59 1.41.59.51 0 1.02-.2 1.41-.59l7.78-7.78 2.81-2.81c.8-.78.8-2.07 0-2.86zM5.41 20L4 18.59l7.72-7.72 1.47 1.35L5.41 20z\"/>\n",
              "  </svg>\n",
              "      </button>\n",
              "      \n",
              "  <style>\n",
              "    .colab-df-container {\n",
              "      display:flex;\n",
              "      flex-wrap:wrap;\n",
              "      gap: 12px;\n",
              "    }\n",
              "\n",
              "    .colab-df-convert {\n",
              "      background-color: #E8F0FE;\n",
              "      border: none;\n",
              "      border-radius: 50%;\n",
              "      cursor: pointer;\n",
              "      display: none;\n",
              "      fill: #1967D2;\n",
              "      height: 32px;\n",
              "      padding: 0 0 0 0;\n",
              "      width: 32px;\n",
              "    }\n",
              "\n",
              "    .colab-df-convert:hover {\n",
              "      background-color: #E2EBFA;\n",
              "      box-shadow: 0px 1px 2px rgba(60, 64, 67, 0.3), 0px 1px 3px 1px rgba(60, 64, 67, 0.15);\n",
              "      fill: #174EA6;\n",
              "    }\n",
              "\n",
              "    [theme=dark] .colab-df-convert {\n",
              "      background-color: #3B4455;\n",
              "      fill: #D2E3FC;\n",
              "    }\n",
              "\n",
              "    [theme=dark] .colab-df-convert:hover {\n",
              "      background-color: #434B5C;\n",
              "      box-shadow: 0px 1px 3px 1px rgba(0, 0, 0, 0.15);\n",
              "      filter: drop-shadow(0px 1px 2px rgba(0, 0, 0, 0.3));\n",
              "      fill: #FFFFFF;\n",
              "    }\n",
              "  </style>\n",
              "\n",
              "      <script>\n",
              "        const buttonEl =\n",
              "          document.querySelector('#df-1f283669-18fb-461b-9a31-d1193090e33c button.colab-df-convert');\n",
              "        buttonEl.style.display =\n",
              "          google.colab.kernel.accessAllowed ? 'block' : 'none';\n",
              "\n",
              "        async function convertToInteractive(key) {\n",
              "          const element = document.querySelector('#df-1f283669-18fb-461b-9a31-d1193090e33c');\n",
              "          const dataTable =\n",
              "            await google.colab.kernel.invokeFunction('convertToInteractive',\n",
              "                                                     [key], {});\n",
              "          if (!dataTable) return;\n",
              "\n",
              "          const docLinkHtml = 'Like what you see? Visit the ' +\n",
              "            '<a target=\"_blank\" href=https://colab.research.google.com/notebooks/data_table.ipynb>data table notebook</a>'\n",
              "            + ' to learn more about interactive tables.';\n",
              "          element.innerHTML = '';\n",
              "          dataTable['output_type'] = 'display_data';\n",
              "          await google.colab.output.renderOutput(dataTable, element);\n",
              "          const docLink = document.createElement('div');\n",
              "          docLink.innerHTML = docLinkHtml;\n",
              "          element.appendChild(docLink);\n",
              "        }\n",
              "      </script>\n",
              "    </div>\n",
              "  </div>\n",
              "  "
            ]
          },
          "metadata": {},
          "execution_count": 469
        }
      ]
    },
    {
      "cell_type": "markdown",
      "source": [
        "# graphs"
      ],
      "metadata": {
        "id": "00pe-Pl8ejTu"
      }
    },
    {
      "cell_type": "code",
      "source": [
        "count0 = (testing_pd['pred'] == 0).sum()\n",
        "count1 = (testing_pd['pred'] == 1).sum()\n",
        "print(count0, count1)"
      ],
      "metadata": {
        "colab": {
          "base_uri": "https://localhost:8080/"
        },
        "id": "yACAEl1ZsUWl",
        "outputId": "e3f21c58-f85d-4218-ed5d-9a2d590b5648"
      },
      "execution_count": null,
      "outputs": [
        {
          "output_type": "stream",
          "name": "stdout",
          "text": [
            "16 32\n"
          ]
        }
      ]
    },
    {
      "cell_type": "code",
      "source": [
        "#plot in total amounts. Remember, 0 = negative, 1 = positive\n",
        "import matplotlib.pyplot as plt\n",
        "count0 = (testing_pd['pred'] == 0).sum()\n",
        "count1 = (testing_pd['pred'] == 1).sum()\n",
        "df_plot=pd.DataFrame({'result in numbers': ['_'], 'negative':[count0], 'positive': [count1]})\n",
        "df_plot.plot.bar(x='result in numbers', figsize=(10, 10))\n",
        "plt.show()"
      ],
      "metadata": {
        "id": "L4tiTMxxZr1q",
        "colab": {
          "base_uri": "https://localhost:8080/",
          "height": 601
        },
        "outputId": "079e3dc2-81ac-4954-d40c-56676caf668d"
      },
      "execution_count": null,
      "outputs": [
        {
          "output_type": "display_data",
          "data": {
            "text/plain": [
              "<Figure size 720x720 with 1 Axes>"
            ],
            "image/png": "[encoded data removed]"
          },
          "metadata": {
            "needs_background": "light"
          }
        }
      ]
    },
    {
      "cell_type": "code",
      "source": [
        "#def Percentage(num1, num2):\n",
        "#    return num1 / (num1 + num2) * 100\n",
        "    \n",
        "#print(Percentage(count0, count1))\n",
        "#print(Percentage(count1, count0))\n",
        "\n",
        "def Percentage(num1, num2):\n",
        "    return num1 / (num1 + num2) * 100\n",
        "\n",
        "#plot in percentage. Remember, 0 = negative, 1 = positive\n",
        "per1=Percentage(count0, count1)\n",
        "per2=Percentage(count1, count0)\n",
        "\n",
        "label = ['negative', 'positive']\n",
        "shares = [per1, per2]\n",
        "fig, ax = plt.subplots(figsize=(10,10))\n",
        "ax.pie(shares, labels=label, autopct='%.2f%%', shadow=False, labeldistance=1.1,  textprops={'fontsize': 14})\n",
        "ax.set_title('Ko Wen-je after', fontsize=18, y=0.95);"
      ],
      "metadata": {
        "colab": {
          "base_uri": "https://localhost:8080/",
          "height": 575
        },
        "id": "v5iRq7Oht0AK",
        "outputId": "a4cd3b4d-7ba6-4e5f-b6c2-bab241c44373"
      },
      "execution_count": null,
      "outputs": [
        {
          "output_type": "display_data",
          "data": {
            "text/plain": [
              "<Figure size 720x720 with 1 Axes>"
            ],
            "image/png": "[encoded data removed]"
          },
          "metadata": {}
        }
      ]
    },
    {
      "cell_type": "markdown",
      "source": [
        "#**蔡英文_before**"
      ],
      "metadata": {
        "id": "5imN4LQmzw_t"
      }
    },
    {
      "cell_type": "markdown",
      "source": [
        "# 1. load and clean data"
      ],
      "metadata": {
        "id": "vH5AJfJM0ExQ"
      }
    },
    {
      "cell_type": "code",
      "source": [
        "#insert new xlsx file here\n",
        "! wget -nc https://raw.githubusercontent.com/advapplab/sentiment_analysis_election_2022/main/data/challange/蔡英文_before.xlsx"
      ],
      "metadata": {
        "colab": {
          "base_uri": "https://localhost:8080/"
        },
        "outputId": "123fcce1-09fc-4d44-c9bf-ae05c1fec609",
        "id": "jylfWgMf0ExR"
      },
      "execution_count": null,
      "outputs": [
        {
          "output_type": "stream",
          "name": "stdout",
          "text": [
            "File ‘蔡英文_before.xlsx’ already there; not retrieving.\n",
            "\n"
          ]
        }
      ]
    },
    {
      "cell_type": "code",
      "source": [
        "import pandas as pd"
      ],
      "metadata": {
        "id": "oMgTz-hI0ExS"
      },
      "execution_count": null,
      "outputs": []
    },
    {
      "cell_type": "code",
      "source": [
        "#insert new xlsx file here\n",
        "testing_pd = pd.read_excel('/content/蔡英文_before.xlsx')\n",
        "\n",
        "testing_pd.rename(columns={'博文': 'text'},\n",
        "          inplace=True, errors='raise')\n",
        "\n",
        "testing_pd = testing_pd[['text']]"
      ],
      "metadata": {
        "colab": {
          "base_uri": "https://localhost:8080/"
        },
        "outputId": "5dadbbc7-9e9f-45e5-c1d8-158c88dda20b",
        "id": "XMNFDIOx0ExS"
      },
      "execution_count": null,
      "outputs": [
        {
          "output_type": "stream",
          "name": "stderr",
          "text": [
            "/usr/local/lib/python3.8/dist-packages/openpyxl/styles/stylesheet.py:226: UserWarning: Workbook contains no default style, apply openpyxl's default\n",
            "  warn(\"Workbook contains no default style, apply openpyxl's default\")\n"
          ]
        }
      ]
    },
    {
      "cell_type": "code",
      "source": [
        "#dirty data\n",
        "testing_pd"
      ],
      "metadata": {
        "outputId": "d832b86e-8cd6-42c7-940d-613d278913e1",
        "colab": {
          "base_uri": "https://localhost:8080/"
        },
        "id": "9KpTvqcu0ExS"
      },
      "execution_count": null,
      "outputs": [
        {
          "output_type": "execute_result",
          "data": {
            "text/plain": [
              "                                                  text\n",
              "0    声光伴读《蔡英文撑手Joke只系吹水？香港移民「台湾梦」破碎》作者：只抽侠移居台湾的YouT...\n",
              "1    粤读博览《台湾特区大势所趋！蔡英文太阿Q随时仆直！》作者：说书人当地有记者问拜登：「乌克兰现...\n",
              "2    【台媒：綠營“大佬”相繼“狂倒戈”，前“立委”也出面批評民進黨】據台灣中時新聞網16日報道，...\n",
              "3    【台积电创办人张忠谋第六次代表台湾出席APEC】蔡英文20日宣布由现年91岁的台积电创办人张...\n",
              "4    #湾湾发电姬# 【台北没戏了！#蔡英文心腹捅出大娄子# ，疫苗黑幕败露成民进党噩梦】陈时中的...\n",
              "..                                                 ...\n",
              "181  【悼念拜登的狗  对“团团”不闻不问  #马英九轰蔡英文“太过分”#】#赠台大熊猫“团团”不...\n",
              "182      【今日網圖】「小英」技窮？ //蔡英文獨孤一味搞政治，台灣民眾仲咁蠢想繼續捱窮咩？// ​\n",
              "183  【Residentes de Taiwan lloran la partida de Tua...\n",
              "184  【熊猫旅台14年，不如拜登的狗？】大陆赠台大熊猫“团团”离世，岛内民众和许多政治人物都相当不...\n",
              "185     赵少康痛批蔡英文冷血：对“团团”离世不吭声，拜登的狗死了立即哀悼 L中国台湾网的微博视频 ​\n",
              "\n",
              "[186 rows x 1 columns]"
            ],
            "text/html": [
              "\n",
              "  <div id=\"df-9ddd4015-814d-48ac-bc91-2140f49d7a7f\">\n",
              "    <div class=\"colab-df-container\">\n",
              "      <div>\n",
              "<style scoped>\n",
              "    .dataframe tbody tr th:only-of-type {\n",
              "        vertical-align: middle;\n",
              "    }\n",
              "\n",
              "    .dataframe tbody tr th {\n",
              "        vertical-align: top;\n",
              "    }\n",
              "\n",
              "    .dataframe thead th {\n",
              "        text-align: right;\n",
              "    }\n",
              "</style>\n",
              "<table border=\"1\" class=\"dataframe\">\n",
              "  <thead>\n",
              "    <tr style=\"text-align: right;\">\n",
              "      <th></th>\n",
              "      <th>text</th>\n",
              "    </tr>\n",
              "  </thead>\n",
              "  <tbody>\n",
              "    <tr>\n",
              "      <th>0</th>\n",
              "      <td>声光伴读《蔡英文撑手Joke只系吹水？香港移民「台湾梦」破碎》作者：只抽侠移居台湾的YouT...</td>\n",
              "    </tr>\n",
              "    <tr>\n",
              "      <th>1</th>\n",
              "      <td>粤读博览《台湾特区大势所趋！蔡英文太阿Q随时仆直！》作者：说书人当地有记者问拜登：「乌克兰现...</td>\n",
              "    </tr>\n",
              "    <tr>\n",
              "      <th>2</th>\n",
              "      <td>【台媒：綠營“大佬”相繼“狂倒戈”，前“立委”也出面批評民進黨】據台灣中時新聞網16日報道，...</td>\n",
              "    </tr>\n",
              "    <tr>\n",
              "      <th>3</th>\n",
              "      <td>【台积电创办人张忠谋第六次代表台湾出席APEC】蔡英文20日宣布由现年91岁的台积电创办人张...</td>\n",
              "    </tr>\n",
              "    <tr>\n",
              "      <th>4</th>\n",
              "      <td>#湾湾发电姬# 【台北没戏了！#蔡英文心腹捅出大娄子# ，疫苗黑幕败露成民进党噩梦】陈时中的...</td>\n",
              "    </tr>\n",
              "    <tr>\n",
              "      <th>...</th>\n",
              "      <td>...</td>\n",
              "    </tr>\n",
              "    <tr>\n",
              "      <th>181</th>\n",
              "      <td>【悼念拜登的狗  对“团团”不闻不问  #马英九轰蔡英文“太过分”#】#赠台大熊猫“团团”不...</td>\n",
              "    </tr>\n",
              "    <tr>\n",
              "      <th>182</th>\n",
              "      <td>【今日網圖】「小英」技窮？ //蔡英文獨孤一味搞政治，台灣民眾仲咁蠢想繼續捱窮咩？// ​</td>\n",
              "    </tr>\n",
              "    <tr>\n",
              "      <th>183</th>\n",
              "      <td>【Residentes de Taiwan lloran la partida de Tua...</td>\n",
              "    </tr>\n",
              "    <tr>\n",
              "      <th>184</th>\n",
              "      <td>【熊猫旅台14年，不如拜登的狗？】大陆赠台大熊猫“团团”离世，岛内民众和许多政治人物都相当不...</td>\n",
              "    </tr>\n",
              "    <tr>\n",
              "      <th>185</th>\n",
              "      <td>赵少康痛批蔡英文冷血：对“团团”离世不吭声，拜登的狗死了立即哀悼 L中国台湾网的微博视频 ​</td>\n",
              "    </tr>\n",
              "  </tbody>\n",
              "</table>\n",
              "<p>186 rows × 1 columns</p>\n",
              "</div>\n",
              "      <button class=\"colab-df-convert\" onclick=\"convertToInteractive('df-9ddd4015-814d-48ac-bc91-2140f49d7a7f')\"\n",
              "              title=\"Convert this dataframe to an interactive table.\"\n",
              "              style=\"display:none;\">\n",
              "        \n",
              "  <svg xmlns=\"http://www.w3.org/2000/svg\" height=\"24px\"viewBox=\"0 0 24 24\"\n",
              "       width=\"24px\">\n",
              "    <path d=\"M0 0h24v24H0V0z\" fill=\"none\"/>\n",
              "    <path d=\"M18.56 5.44l.94 2.06.94-2.06 2.06-.94-2.06-.94-.94-2.06-.94 2.06-2.06.94zm-11 1L8.5 8.5l.94-2.06 2.06-.94-2.06-.94L8.5 2.5l-.94 2.06-2.06.94zm10 10l.94 2.06.94-2.06 2.06-.94-2.06-.94-.94-2.06-.94 2.06-2.06.94z\"/><path d=\"M17.41 7.96l-1.37-1.37c-.4-.4-.92-.59-1.43-.59-.52 0-1.04.2-1.43.59L10.3 9.45l-7.72 7.72c-.78.78-.78 2.05 0 2.83L4 21.41c.39.39.9.59 1.41.59.51 0 1.02-.2 1.41-.59l7.78-7.78 2.81-2.81c.8-.78.8-2.07 0-2.86zM5.41 20L4 18.59l7.72-7.72 1.47 1.35L5.41 20z\"/>\n",
              "  </svg>\n",
              "      </button>\n",
              "      \n",
              "  <style>\n",
              "    .colab-df-container {\n",
              "      display:flex;\n",
              "      flex-wrap:wrap;\n",
              "      gap: 12px;\n",
              "    }\n",
              "\n",
              "    .colab-df-convert {\n",
              "      background-color: #E8F0FE;\n",
              "      border: none;\n",
              "      border-radius: 50%;\n",
              "      cursor: pointer;\n",
              "      display: none;\n",
              "      fill: #1967D2;\n",
              "      height: 32px;\n",
              "      padding: 0 0 0 0;\n",
              "      width: 32px;\n",
              "    }\n",
              "\n",
              "    .colab-df-convert:hover {\n",
              "      background-color: #E2EBFA;\n",
              "      box-shadow: 0px 1px 2px rgba(60, 64, 67, 0.3), 0px 1px 3px 1px rgba(60, 64, 67, 0.15);\n",
              "      fill: #174EA6;\n",
              "    }\n",
              "\n",
              "    [theme=dark] .colab-df-convert {\n",
              "      background-color: #3B4455;\n",
              "      fill: #D2E3FC;\n",
              "    }\n",
              "\n",
              "    [theme=dark] .colab-df-convert:hover {\n",
              "      background-color: #434B5C;\n",
              "      box-shadow: 0px 1px 3px 1px rgba(0, 0, 0, 0.15);\n",
              "      filter: drop-shadow(0px 1px 2px rgba(0, 0, 0, 0.3));\n",
              "      fill: #FFFFFF;\n",
              "    }\n",
              "  </style>\n",
              "\n",
              "      <script>\n",
              "        const buttonEl =\n",
              "          document.querySelector('#df-9ddd4015-814d-48ac-bc91-2140f49d7a7f button.colab-df-convert');\n",
              "        buttonEl.style.display =\n",
              "          google.colab.kernel.accessAllowed ? 'block' : 'none';\n",
              "\n",
              "        async function convertToInteractive(key) {\n",
              "          const element = document.querySelector('#df-9ddd4015-814d-48ac-bc91-2140f49d7a7f');\n",
              "          const dataTable =\n",
              "            await google.colab.kernel.invokeFunction('convertToInteractive',\n",
              "                                                     [key], {});\n",
              "          if (!dataTable) return;\n",
              "\n",
              "          const docLinkHtml = 'Like what you see? Visit the ' +\n",
              "            '<a target=\"_blank\" href=https://colab.research.google.com/notebooks/data_table.ipynb>data table notebook</a>'\n",
              "            + ' to learn more about interactive tables.';\n",
              "          element.innerHTML = '';\n",
              "          dataTable['output_type'] = 'display_data';\n",
              "          await google.colab.output.renderOutput(dataTable, element);\n",
              "          const docLink = document.createElement('div');\n",
              "          docLink.innerHTML = docLinkHtml;\n",
              "          element.appendChild(docLink);\n",
              "        }\n",
              "      </script>\n",
              "    </div>\n",
              "  </div>\n",
              "  "
            ]
          },
          "metadata": {},
          "execution_count": 476
        }
      ]
    },
    {
      "cell_type": "code",
      "source": [
        "#we can consider not deleting the titles. This will be up to the ICI project group to decide\n",
        "#if you wish to preserve the titles. replace the corresponding block of code below with this one \n",
        "\n",
        "#testing_pd['text'] = testing_pd['text'].replace(span_pattern,'',regex=True).replace(span_pattern,'',regex=True)\n",
        "#testing_pd['text'] = testing_pd['text'].replace(http_pattern,'',regex=True).replace(html_pattern,'',regex=True)\n",
        "#testing_pd['text'] = testing_pd['text'].replace(image_pattern,'',regex=True)#.replace(title_pattern_1,'',regex=True)\n",
        "#testing_pd['text'] = testing_pd['text'].re place(link_pattern,'',regex=True).replace(html_pattern,'',regex=True)\n",
        "##testing_pd['text'] = testing_pd['text'].replace(title_pattern_2,'',regex=True)\n",
        "#________________________________________________________________________________________________________________________\n",
        "\n",
        "testing_pd = testing_pd[~testing_pd['text'].str.contains('a href', regex=True)]\n",
        "\n",
        "\n",
        "import re\n",
        "html_pattern = \"<(?:\\\"[^\\\"]*\\\"['\\\"]*|'[^']*'['\\\"]*|[^'\\\">])+>\"\n",
        "http_pattern = \"http\\S+\"\n",
        "image_pattern = \"<img\\s[^>]*?src\\s*=\\s*['\\\"]([^'\\\"]*?)['\\\"][^>]*?>\" \n",
        "#title_pattern = \"[【|《*】|》]\"\n",
        "title_pattern_1 = \"(?=【)(.*)(?<=】)\"\n",
        "title_pattern_2 = \"(?=《)(.*)(?<=》)\"\n",
        "link_pattern=\"网页链接\"\n",
        "span_pattern='<span.*?>(.+?)</span>'\n",
        "\n",
        "#replace with this block. Do some more research because it looks like some titles are still removed, like index 41\n",
        "testing_pd['text'] = testing_pd['text'].replace(span_pattern,'',regex=True).replace(span_pattern,'',regex=True)\n",
        "testing_pd['text'] = testing_pd['text'].replace(http_pattern,'',regex=True).replace(html_pattern,'',regex=True)\n",
        "testing_pd['text'] = testing_pd['text'].replace(image_pattern,'',regex=True).replace(title_pattern_1,'',regex=True)\n",
        "testing_pd['text'] = testing_pd['text'].replace(link_pattern,'',regex=True).replace(html_pattern,'',regex=True)\n",
        "testing_pd['text'] = testing_pd['text'].replace(title_pattern_2,'',regex=True)"
      ],
      "metadata": {
        "id": "KRqFcBnV0ExS"
      },
      "execution_count": null,
      "outputs": []
    },
    {
      "cell_type": "code",
      "source": [
        "#delete empty rows\n",
        "testing_pd = testing_pd[testing_pd['text'].str.len()>2]   \n",
        "testing_pd = testing_pd[['text']]\n",
        "testing_pd = testing_pd.reset_index(drop=True)\n",
        "testing_pd"
      ],
      "metadata": {
        "outputId": "a811564e-38b8-4ba8-ff0d-bdcefaa2eb28",
        "colab": {
          "base_uri": "https://localhost:8080/"
        },
        "id": "ry4WZitf0ExT"
      },
      "execution_count": null,
      "outputs": [
        {
          "output_type": "execute_result",
          "data": {
            "text/plain": [
              "                                                  text\n",
              "0    声光伴读作者：只抽侠移居台湾的YouTuber拍片，用亲身经历告诉大家：移民台湾撞板多个食饭...\n",
              "1    粤读博览作者：说书人当地有记者问拜登：「乌克兰现在真的必须割地才能换取和平吗？」拜登如此回应...\n",
              "2    據台灣中時新聞網16日報道，台民進黨近期諸多爭議引發討論，針對民進黨前主席許信良胞弟、前“立...\n",
              "3    蔡英文20日宣布由现年91岁的台积电创办人张忠谋担任代表，出席11月18日至19日在泰国举行...\n",
              "4    #湾湾发电姬# 陈时中的仇恨值为什么这么高？他自己说不知道，我们就来帮他知道。台湾老百姓在防...\n",
              "..                                                 ...\n",
              "181                        #赠台大熊猫“团团”不幸离世# L台海网的微博视频 ​\n",
              "182            「小英」技窮？ //蔡英文獨孤一味搞政治，台灣民眾仲咁蠢想繼續捱窮咩？// ​\n",
              "183  Residentes de ambos lados del estrecho de Taiw...\n",
              "184  大陆赠台大熊猫“团团”离世，岛内民众和许多政治人物都相当不舍。但蔡英文和其他民进党政客几乎都...\n",
              "185     赵少康痛批蔡英文冷血：对“团团”离世不吭声，拜登的狗死了立即哀悼 L中国台湾网的微博视频 ​\n",
              "\n",
              "[186 rows x 1 columns]"
            ],
            "text/html": [
              "\n",
              "  <div id=\"df-87ca0d56-e371-4172-80bf-2795369d4739\">\n",
              "    <div class=\"colab-df-container\">\n",
              "      <div>\n",
              "<style scoped>\n",
              "    .dataframe tbody tr th:only-of-type {\n",
              "        vertical-align: middle;\n",
              "    }\n",
              "\n",
              "    .dataframe tbody tr th {\n",
              "        vertical-align: top;\n",
              "    }\n",
              "\n",
              "    .dataframe thead th {\n",
              "        text-align: right;\n",
              "    }\n",
              "</style>\n",
              "<table border=\"1\" class=\"dataframe\">\n",
              "  <thead>\n",
              "    <tr style=\"text-align: right;\">\n",
              "      <th></th>\n",
              "      <th>text</th>\n",
              "    </tr>\n",
              "  </thead>\n",
              "  <tbody>\n",
              "    <tr>\n",
              "      <th>0</th>\n",
              "      <td>声光伴读作者：只抽侠移居台湾的YouTuber拍片，用亲身经历告诉大家：移民台湾撞板多个食饭...</td>\n",
              "    </tr>\n",
              "    <tr>\n",
              "      <th>1</th>\n",
              "      <td>粤读博览作者：说书人当地有记者问拜登：「乌克兰现在真的必须割地才能换取和平吗？」拜登如此回应...</td>\n",
              "    </tr>\n",
              "    <tr>\n",
              "      <th>2</th>\n",
              "      <td>據台灣中時新聞網16日報道，台民進黨近期諸多爭議引發討論，針對民進黨前主席許信良胞弟、前“立...</td>\n",
              "    </tr>\n",
              "    <tr>\n",
              "      <th>3</th>\n",
              "      <td>蔡英文20日宣布由现年91岁的台积电创办人张忠谋担任代表，出席11月18日至19日在泰国举行...</td>\n",
              "    </tr>\n",
              "    <tr>\n",
              "      <th>4</th>\n",
              "      <td>#湾湾发电姬# 陈时中的仇恨值为什么这么高？他自己说不知道，我们就来帮他知道。台湾老百姓在防...</td>\n",
              "    </tr>\n",
              "    <tr>\n",
              "      <th>...</th>\n",
              "      <td>...</td>\n",
              "    </tr>\n",
              "    <tr>\n",
              "      <th>181</th>\n",
              "      <td>#赠台大熊猫“团团”不幸离世# L台海网的微博视频 ​</td>\n",
              "    </tr>\n",
              "    <tr>\n",
              "      <th>182</th>\n",
              "      <td>「小英」技窮？ //蔡英文獨孤一味搞政治，台灣民眾仲咁蠢想繼續捱窮咩？// ​</td>\n",
              "    </tr>\n",
              "    <tr>\n",
              "      <th>183</th>\n",
              "      <td>Residentes de ambos lados del estrecho de Taiw...</td>\n",
              "    </tr>\n",
              "    <tr>\n",
              "      <th>184</th>\n",
              "      <td>大陆赠台大熊猫“团团”离世，岛内民众和许多政治人物都相当不舍。但蔡英文和其他民进党政客几乎都...</td>\n",
              "    </tr>\n",
              "    <tr>\n",
              "      <th>185</th>\n",
              "      <td>赵少康痛批蔡英文冷血：对“团团”离世不吭声，拜登的狗死了立即哀悼 L中国台湾网的微博视频 ​</td>\n",
              "    </tr>\n",
              "  </tbody>\n",
              "</table>\n",
              "<p>186 rows × 1 columns</p>\n",
              "</div>\n",
              "      <button class=\"colab-df-convert\" onclick=\"convertToInteractive('df-87ca0d56-e371-4172-80bf-2795369d4739')\"\n",
              "              title=\"Convert this dataframe to an interactive table.\"\n",
              "              style=\"display:none;\">\n",
              "        \n",
              "  <svg xmlns=\"http://www.w3.org/2000/svg\" height=\"24px\"viewBox=\"0 0 24 24\"\n",
              "       width=\"24px\">\n",
              "    <path d=\"M0 0h24v24H0V0z\" fill=\"none\"/>\n",
              "    <path d=\"M18.56 5.44l.94 2.06.94-2.06 2.06-.94-2.06-.94-.94-2.06-.94 2.06-2.06.94zm-11 1L8.5 8.5l.94-2.06 2.06-.94-2.06-.94L8.5 2.5l-.94 2.06-2.06.94zm10 10l.94 2.06.94-2.06 2.06-.94-2.06-.94-.94-2.06-.94 2.06-2.06.94z\"/><path d=\"M17.41 7.96l-1.37-1.37c-.4-.4-.92-.59-1.43-.59-.52 0-1.04.2-1.43.59L10.3 9.45l-7.72 7.72c-.78.78-.78 2.05 0 2.83L4 21.41c.39.39.9.59 1.41.59.51 0 1.02-.2 1.41-.59l7.78-7.78 2.81-2.81c.8-.78.8-2.07 0-2.86zM5.41 20L4 18.59l7.72-7.72 1.47 1.35L5.41 20z\"/>\n",
              "  </svg>\n",
              "      </button>\n",
              "      \n",
              "  <style>\n",
              "    .colab-df-container {\n",
              "      display:flex;\n",
              "      flex-wrap:wrap;\n",
              "      gap: 12px;\n",
              "    }\n",
              "\n",
              "    .colab-df-convert {\n",
              "      background-color: #E8F0FE;\n",
              "      border: none;\n",
              "      border-radius: 50%;\n",
              "      cursor: pointer;\n",
              "      display: none;\n",
              "      fill: #1967D2;\n",
              "      height: 32px;\n",
              "      padding: 0 0 0 0;\n",
              "      width: 32px;\n",
              "    }\n",
              "\n",
              "    .colab-df-convert:hover {\n",
              "      background-color: #E2EBFA;\n",
              "      box-shadow: 0px 1px 2px rgba(60, 64, 67, 0.3), 0px 1px 3px 1px rgba(60, 64, 67, 0.15);\n",
              "      fill: #174EA6;\n",
              "    }\n",
              "\n",
              "    [theme=dark] .colab-df-convert {\n",
              "      background-color: #3B4455;\n",
              "      fill: #D2E3FC;\n",
              "    }\n",
              "\n",
              "    [theme=dark] .colab-df-convert:hover {\n",
              "      background-color: #434B5C;\n",
              "      box-shadow: 0px 1px 3px 1px rgba(0, 0, 0, 0.15);\n",
              "      filter: drop-shadow(0px 1px 2px rgba(0, 0, 0, 0.3));\n",
              "      fill: #FFFFFF;\n",
              "    }\n",
              "  </style>\n",
              "\n",
              "      <script>\n",
              "        const buttonEl =\n",
              "          document.querySelector('#df-87ca0d56-e371-4172-80bf-2795369d4739 button.colab-df-convert');\n",
              "        buttonEl.style.display =\n",
              "          google.colab.kernel.accessAllowed ? 'block' : 'none';\n",
              "\n",
              "        async function convertToInteractive(key) {\n",
              "          const element = document.querySelector('#df-87ca0d56-e371-4172-80bf-2795369d4739');\n",
              "          const dataTable =\n",
              "            await google.colab.kernel.invokeFunction('convertToInteractive',\n",
              "                                                     [key], {});\n",
              "          if (!dataTable) return;\n",
              "\n",
              "          const docLinkHtml = 'Like what you see? Visit the ' +\n",
              "            '<a target=\"_blank\" href=https://colab.research.google.com/notebooks/data_table.ipynb>data table notebook</a>'\n",
              "            + ' to learn more about interactive tables.';\n",
              "          element.innerHTML = '';\n",
              "          dataTable['output_type'] = 'display_data';\n",
              "          await google.colab.output.renderOutput(dataTable, element);\n",
              "          const docLink = document.createElement('div');\n",
              "          docLink.innerHTML = docLinkHtml;\n",
              "          element.appendChild(docLink);\n",
              "        }\n",
              "      </script>\n",
              "    </div>\n",
              "  </div>\n",
              "  "
            ]
          },
          "metadata": {},
          "execution_count": 478
        }
      ]
    },
    {
      "cell_type": "markdown",
      "source": [
        "## 1-2 Tokenization"
      ],
      "metadata": {
        "id": "UI-D9j9_0ExT"
      }
    },
    {
      "cell_type": "code",
      "source": [
        "from datasets import Dataset, DatasetDict\n",
        "\n",
        "weibo_dict = {\n",
        "              'test' : Dataset.from_pandas(testing_pd)\n",
        "              }\n",
        "\n",
        "weibo_ds = DatasetDict(weibo_dict)"
      ],
      "metadata": {
        "id": "tjy9hviJ0ExT"
      },
      "execution_count": null,
      "outputs": []
    },
    {
      "cell_type": "code",
      "source": [
        "from transformers import AutoTokenizer"
      ],
      "metadata": {
        "id": "svfvaByk0ExU"
      },
      "execution_count": null,
      "outputs": []
    },
    {
      "cell_type": "code",
      "source": [
        "tokenizer = AutoTokenizer.from_pretrained(model_tokenizer)"
      ],
      "metadata": {
        "colab": {
          "base_uri": "https://localhost:8080/"
        },
        "outputId": "bdc46b27-f8ed-4853-cee1-d32afd99cf13",
        "id": "IuVcb4P60ExU"
      },
      "execution_count": null,
      "outputs": [
        {
          "output_type": "stream",
          "name": "stderr",
          "text": [
            "loading configuration file config.json from cache at /root/.cache/huggingface/hub/models--hfl--chinese-bert-wwm/snapshots/ab0aa81da273504efc8540aa4d0bbaa3016a1bb5/config.json\n",
            "Model config BertConfig {\n",
            "  \"_name_or_path\": \"hfl/chinese-bert-wwm\",\n",
            "  \"architectures\": [\n",
            "    \"BertForMaskedLM\"\n",
            "  ],\n",
            "  \"attention_probs_dropout_prob\": 0.1,\n",
            "  \"classifier_dropout\": null,\n",
            "  \"directionality\": \"bidi\",\n",
            "  \"hidden_act\": \"gelu\",\n",
            "  \"hidden_dropout_prob\": 0.1,\n",
            "  \"hidden_size\": 768,\n",
            "  \"initializer_range\": 0.02,\n",
            "  \"intermediate_size\": 3072,\n",
            "  \"layer_norm_eps\": 1e-12,\n",
            "  \"max_position_embeddings\": 512,\n",
            "  \"model_type\": \"bert\",\n",
            "  \"num_attention_heads\": 12,\n",
            "  \"num_hidden_layers\": 12,\n",
            "  \"output_past\": true,\n",
            "  \"pad_token_id\": 0,\n",
            "  \"pooler_fc_size\": 768,\n",
            "  \"pooler_num_attention_heads\": 12,\n",
            "  \"pooler_num_fc_layers\": 3,\n",
            "  \"pooler_size_per_head\": 128,\n",
            "  \"pooler_type\": \"first_token_transform\",\n",
            "  \"position_embedding_type\": \"absolute\",\n",
            "  \"transformers_version\": \"4.25.1\",\n",
            "  \"type_vocab_size\": 2,\n",
            "  \"use_cache\": true,\n",
            "  \"vocab_size\": 21128\n",
            "}\n",
            "\n",
            "loading file vocab.txt from cache at /root/.cache/huggingface/hub/models--hfl--chinese-bert-wwm/snapshots/ab0aa81da273504efc8540aa4d0bbaa3016a1bb5/vocab.txt\n",
            "loading file tokenizer.json from cache at /root/.cache/huggingface/hub/models--hfl--chinese-bert-wwm/snapshots/ab0aa81da273504efc8540aa4d0bbaa3016a1bb5/tokenizer.json\n",
            "loading file added_tokens.json from cache at /root/.cache/huggingface/hub/models--hfl--chinese-bert-wwm/snapshots/ab0aa81da273504efc8540aa4d0bbaa3016a1bb5/added_tokens.json\n",
            "loading file special_tokens_map.json from cache at /root/.cache/huggingface/hub/models--hfl--chinese-bert-wwm/snapshots/ab0aa81da273504efc8540aa4d0bbaa3016a1bb5/special_tokens_map.json\n",
            "loading file tokenizer_config.json from cache at /root/.cache/huggingface/hub/models--hfl--chinese-bert-wwm/snapshots/ab0aa81da273504efc8540aa4d0bbaa3016a1bb5/tokenizer_config.json\n",
            "loading configuration file config.json from cache at /root/.cache/huggingface/hub/models--hfl--chinese-bert-wwm/snapshots/ab0aa81da273504efc8540aa4d0bbaa3016a1bb5/config.json\n",
            "Model config BertConfig {\n",
            "  \"_name_or_path\": \"hfl/chinese-bert-wwm\",\n",
            "  \"architectures\": [\n",
            "    \"BertForMaskedLM\"\n",
            "  ],\n",
            "  \"attention_probs_dropout_prob\": 0.1,\n",
            "  \"classifier_dropout\": null,\n",
            "  \"directionality\": \"bidi\",\n",
            "  \"hidden_act\": \"gelu\",\n",
            "  \"hidden_dropout_prob\": 0.1,\n",
            "  \"hidden_size\": 768,\n",
            "  \"initializer_range\": 0.02,\n",
            "  \"intermediate_size\": 3072,\n",
            "  \"layer_norm_eps\": 1e-12,\n",
            "  \"max_position_embeddings\": 512,\n",
            "  \"model_type\": \"bert\",\n",
            "  \"num_attention_heads\": 12,\n",
            "  \"num_hidden_layers\": 12,\n",
            "  \"output_past\": true,\n",
            "  \"pad_token_id\": 0,\n",
            "  \"pooler_fc_size\": 768,\n",
            "  \"pooler_num_attention_heads\": 12,\n",
            "  \"pooler_num_fc_layers\": 3,\n",
            "  \"pooler_size_per_head\": 128,\n",
            "  \"pooler_type\": \"first_token_transform\",\n",
            "  \"position_embedding_type\": \"absolute\",\n",
            "  \"transformers_version\": \"4.25.1\",\n",
            "  \"type_vocab_size\": 2,\n",
            "  \"use_cache\": true,\n",
            "  \"vocab_size\": 21128\n",
            "}\n",
            "\n"
          ]
        }
      ]
    },
    {
      "cell_type": "code",
      "source": [
        "def tokenize_function(examples):\n",
        "    return tokenizer(examples[\"text\"], \n",
        "                     padding=\"max_length\", \n",
        "                     truncation=True, \n",
        "                     max_length=512)\n",
        "\n",
        "tokenized_datasets = weibo_ds.map(tokenize_function, batched=True)"
      ],
      "metadata": {
        "colab": {
          "base_uri": "https://localhost:8080/",
          "referenced_widgets": [
            "c2933392ca4942e496e50ac73520dada",
            "82b8ae0a295648ac867422d15011aa00",
            "8afaaaa82cf641bd91c622fd0cebc38d",
            "9bf8f317c3c34aec92628591773de13f",
            "94386da8e7d641b184cbd6409d870f61",
            "9f79404fd33247f681105f001b2b6d8c",
            "73dda03b4abc4229b7afe889e50d87d3",
            "d2966d235b114f98b5e56bb8e7e0d75e",
            "651544affa644364b270a6348b5e640a",
            "107ca198b2824a5199ba97bb91789564",
            "2cebfd03a076435683f204fd19a105ca"
          ]
        },
        "outputId": "abeaab18-6145-479b-96b4-bdbd956146d1",
        "id": "8gztXW4Q0ExU"
      },
      "execution_count": null,
      "outputs": [
        {
          "output_type": "display_data",
          "data": {
            "text/plain": [
              "  0%|          | 0/1 [00:00<?, ?ba/s]"
            ],
            "application/vnd.jupyter.widget-view+json": {
              "version_major": 2,
              "version_minor": 0,
              "model_id": "c2933392ca4942e496e50ac73520dada"
            }
          },
          "metadata": {}
        }
      ]
    },
    {
      "cell_type": "code",
      "source": [
        "full_test_dataset = tokenized_datasets[\"test\"]"
      ],
      "metadata": {
        "id": "Vaw451Gm0ExU"
      },
      "execution_count": null,
      "outputs": []
    },
    {
      "cell_type": "markdown",
      "source": [
        "# 2. preparing BERT\n"
      ],
      "metadata": {
        "id": "Jr4X9dDe0ExV"
      }
    },
    {
      "cell_type": "code",
      "source": [
        "from transformers import AutoModelForSequenceClassification\n",
        "\n",
        "# available chinese models: https://github.com/ymcui/Chinese-BERT-wwm\n",
        "\n",
        "model = AutoModelForSequenceClassification.from_pretrained(model_classifier, \n",
        "                                                           num_labels=2)"
      ],
      "metadata": {
        "colab": {
          "base_uri": "https://localhost:8080/"
        },
        "outputId": "33b493d0-28a2-4c01-fcef-53ecfb26ffd1",
        "id": "-OHuBPe40ExV"
      },
      "execution_count": null,
      "outputs": [
        {
          "output_type": "stream",
          "name": "stderr",
          "text": [
            "loading configuration file config.json from cache at /root/.cache/huggingface/hub/models--owen198--weibo-wmmbert-2/snapshots/1c8b069ca4f42474887b1be5ddb45d0b190b785d/config.json\n",
            "Model config BertConfig {\n",
            "  \"_name_or_path\": \"owen198/weibo-wmmbert-2\",\n",
            "  \"architectures\": [\n",
            "    \"BertForSequenceClassification\"\n",
            "  ],\n",
            "  \"attention_probs_dropout_prob\": 0.1,\n",
            "  \"classifier_dropout\": null,\n",
            "  \"directionality\": \"bidi\",\n",
            "  \"hidden_act\": \"gelu\",\n",
            "  \"hidden_dropout_prob\": 0.1,\n",
            "  \"hidden_size\": 768,\n",
            "  \"initializer_range\": 0.02,\n",
            "  \"intermediate_size\": 3072,\n",
            "  \"layer_norm_eps\": 1e-12,\n",
            "  \"max_position_embeddings\": 512,\n",
            "  \"model_type\": \"bert\",\n",
            "  \"num_attention_heads\": 12,\n",
            "  \"num_hidden_layers\": 12,\n",
            "  \"output_past\": true,\n",
            "  \"pad_token_id\": 0,\n",
            "  \"pooler_fc_size\": 768,\n",
            "  \"pooler_num_attention_heads\": 12,\n",
            "  \"pooler_num_fc_layers\": 3,\n",
            "  \"pooler_size_per_head\": 128,\n",
            "  \"pooler_type\": \"first_token_transform\",\n",
            "  \"position_embedding_type\": \"absolute\",\n",
            "  \"problem_type\": \"single_label_classification\",\n",
            "  \"torch_dtype\": \"float32\",\n",
            "  \"transformers_version\": \"4.25.1\",\n",
            "  \"type_vocab_size\": 2,\n",
            "  \"use_cache\": true,\n",
            "  \"vocab_size\": 21128\n",
            "}\n",
            "\n",
            "loading weights file pytorch_model.bin from cache at /root/.cache/huggingface/hub/models--owen198--weibo-wmmbert-2/snapshots/1c8b069ca4f42474887b1be5ddb45d0b190b785d/pytorch_model.bin\n",
            "All model checkpoint weights were used when initializing BertForSequenceClassification.\n",
            "\n",
            "All the weights of BertForSequenceClassification were initialized from the model checkpoint at owen198/weibo-wmmbert-2.\n",
            "If your task is similar to the task the model of the checkpoint was trained on, you can already use BertForSequenceClassification for predictions without further training.\n"
          ]
        }
      ]
    },
    {
      "cell_type": "code",
      "source": [
        "from datasets import load_metric\n",
        "\n",
        "metric = load_metric(\"accuracy\")\n",
        "\n",
        "def compute_metrics(eval_pred):\n",
        "    logits, labels = eval_pred\n",
        "    predictions = np.argmax(logits, axis=-1)\n",
        "    return metric.compute(predictions=predictions, references=labels)"
      ],
      "metadata": {
        "id": "Mq6QDalX0ExV"
      },
      "execution_count": null,
      "outputs": []
    },
    {
      "cell_type": "code",
      "source": [
        "from transformers import Trainer\n",
        "\n",
        "trainer = Trainer(\n",
        "    model=model, \n",
        "    eval_dataset=full_test_dataset,\n",
        "    compute_metrics=compute_metrics,\n",
        ")"
      ],
      "metadata": {
        "colab": {
          "base_uri": "https://localhost:8080/"
        },
        "outputId": "3d95644c-5c5c-4bfa-d5bd-c1b139538e2b",
        "id": "rDNtTxGo0ExW"
      },
      "execution_count": null,
      "outputs": [
        {
          "output_type": "stream",
          "name": "stderr",
          "text": [
            "No `TrainingArguments` passed, using `output_dir=tmp_trainer`.\n",
            "PyTorch: setting up devices\n",
            "The default value for the training argument `--report_to` will change in v5 (from all installed integrations to none). In v5, you will need to use `--report_to all` to get the same behavior as now. You should start updating your code and make this info disappear :-).\n"
          ]
        }
      ]
    },
    {
      "cell_type": "code",
      "source": [
        "import numpy as np"
      ],
      "metadata": {
        "id": "6D4cNAPB0ExW"
      },
      "execution_count": null,
      "outputs": []
    },
    {
      "cell_type": "code",
      "source": [],
      "metadata": {
        "id": "zdp3c8n90ExW"
      },
      "execution_count": null,
      "outputs": []
    },
    {
      "cell_type": "markdown",
      "source": [
        "#prediction results\n"
      ],
      "metadata": {
        "id": "vhGysHDw0ExW"
      }
    },
    {
      "cell_type": "code",
      "source": [
        "pred = trainer.predict(test_dataset=full_test_dataset)"
      ],
      "metadata": {
        "colab": {
          "base_uri": "https://localhost:8080/"
        },
        "outputId": "9f667805-1f71-4d86-80cc-074af97ae754",
        "id": "x2tLRH5k0ExX"
      },
      "execution_count": null,
      "outputs": [
        {
          "output_type": "stream",
          "name": "stderr",
          "text": [
            "The following columns in the test set don't have a corresponding argument in `BertForSequenceClassification.forward` and have been ignored: text. If text are not expected by `BertForSequenceClassification.forward`,  you can safely ignore this message.\n",
            "***** Running Prediction *****\n",
            "  Num examples = 186\n",
            "  Batch size = 8\n"
          ]
        },
        {
          "output_type": "display_data",
          "data": {
            "text/plain": [
              "<IPython.core.display.HTML object>"
            ],
            "text/html": []
          },
          "metadata": {}
        }
      ]
    },
    {
      "cell_type": "code",
      "source": [
        "pred"
      ],
      "metadata": {
        "colab": {
          "base_uri": "https://localhost:8080/"
        },
        "id": "AdvLJWec0ExX",
        "outputId": "57835962-d60d-40a4-b598-76978d0fdbe7"
      },
      "execution_count": null,
      "outputs": [
        {
          "output_type": "execute_result",
          "data": {
            "text/plain": [
              "PredictionOutput(predictions=array([[ 1.9090799 , -2.505173  ],\n",
              "       [ 1.9857026 , -2.5887842 ],\n",
              "       [ 2.1701326 , -2.7997596 ],\n",
              "       [-2.6510255 ,  2.662407  ],\n",
              "       [ 2.264606  , -2.9690094 ],\n",
              "       [ 1.9565281 , -2.5573483 ],\n",
              "       [-2.5978484 ,  2.6313307 ],\n",
              "       [-1.4003897 ,  1.3518386 ],\n",
              "       [ 1.8395075 , -2.4241245 ],\n",
              "       [ 1.7592556 , -2.3186812 ],\n",
              "       [ 1.8330545 , -2.4161987 ],\n",
              "       [-1.9297658 ,  1.9635146 ],\n",
              "       [-1.8502088 ,  1.8341221 ],\n",
              "       [-2.6840293 ,  2.6815255 ],\n",
              "       [-2.5235696 ,  2.5860803 ],\n",
              "       [ 1.8966713 , -2.4911957 ],\n",
              "       [ 2.0207653 , -2.6264217 ],\n",
              "       [ 1.5580504 , -1.9605328 ],\n",
              "       [ 2.232439  , -2.8974144 ],\n",
              "       [ 0.26663008,  0.19346486],\n",
              "       [ 1.5016903 , -1.8192823 ],\n",
              "       [ 1.6726072 , -2.181174  ],\n",
              "       [ 1.8822106 , -2.4746728 ],\n",
              "       [ 1.7704036 , -2.3343766 ],\n",
              "       [ 2.2393398 , -2.9109268 ],\n",
              "       [ 1.9710037 , -2.5729601 ],\n",
              "       [ 1.5390624 , -1.9164563 ],\n",
              "       [ 1.5106225 , -1.8427716 ],\n",
              "       [ 1.5106225 , -1.8427716 ],\n",
              "       [ 1.527536  , -1.8879275 ],\n",
              "       [ 2.498837  , -3.717518  ],\n",
              "       [-2.5655894 ,  2.6120276 ],\n",
              "       [ 0.20241363,  0.43974388],\n",
              "       [-2.5655894 ,  2.6120276 ],\n",
              "       [ 2.183261  , -2.8178492 ],\n",
              "       [-2.5655894 ,  2.6120276 ],\n",
              "       [ 1.7068185 , -2.2391167 ],\n",
              "       [-2.5655894 ,  2.6120276 ],\n",
              "       [-2.5655894 ,  2.6120276 ],\n",
              "       [ 1.7704036 , -2.3343766 ],\n",
              "       [-2.5655894 ,  2.6120276 ],\n",
              "       [-2.5655894 ,  2.6120276 ],\n",
              "       [-2.5655894 ,  2.6120276 ],\n",
              "       [-2.5655894 ,  2.6120276 ],\n",
              "       [-2.5655894 ,  2.6120276 ],\n",
              "       [-2.5655894 ,  2.6120276 ],\n",
              "       [-2.5303268 ,  2.5903234 ],\n",
              "       [-2.5655894 ,  2.6120276 ],\n",
              "       [-2.5655894 ,  2.6120276 ],\n",
              "       [-2.4523425 ,  2.539383  ],\n",
              "       [-2.5655894 ,  2.6120276 ],\n",
              "       [-2.5655894 ,  2.6120276 ],\n",
              "       [-2.5655894 ,  2.6120276 ],\n",
              "       [-2.5655894 ,  2.6120276 ],\n",
              "       [ 1.9473472 , -2.5473368 ],\n",
              "       [-2.5655894 ,  2.6120276 ],\n",
              "       [-2.3865771 ,  2.4925098 ],\n",
              "       [ 1.4826187 , -1.7608013 ],\n",
              "       [-2.5655894 ,  2.6120276 ],\n",
              "       [-2.4095056 ,  2.5093095 ],\n",
              "       [-2.5655894 ,  2.6120276 ],\n",
              "       [-2.4523425 ,  2.539383  ],\n",
              "       [-2.5655894 ,  2.6120276 ],\n",
              "       [-2.5655894 ,  2.6120276 ],\n",
              "       [-2.5655894 ,  2.6120276 ],\n",
              "       [ 1.4826187 , -1.7608013 ],\n",
              "       [-2.2735245 ,  2.4001398 ],\n",
              "       [-2.5655894 ,  2.6120276 ],\n",
              "       [-2.5655894 ,  2.6120276 ],\n",
              "       [-2.5655894 ,  2.6120276 ],\n",
              "       [-2.5409248 ,  2.5969224 ],\n",
              "       [-2.5655894 ,  2.6120276 ],\n",
              "       [ 1.4826187 , -1.7608013 ],\n",
              "       [-2.543967  ,  2.5988054 ],\n",
              "       [-2.5655894 ,  2.6120276 ],\n",
              "       [-1.2607273 ,  1.2660404 ],\n",
              "       [-2.5655894 ,  2.6120276 ],\n",
              "       [-2.5655894 ,  2.6120276 ],\n",
              "       [-2.5655894 ,  2.6120276 ],\n",
              "       [-2.5655894 ,  2.6120276 ],\n",
              "       [-2.5655894 ,  2.6120276 ],\n",
              "       [-2.5655894 ,  2.6120276 ],\n",
              "       [ 2.3079169 , -3.1248584 ],\n",
              "       [ 2.0306895 , -2.6371248 ],\n",
              "       [ 1.7704036 , -2.3343766 ],\n",
              "       [ 0.25052357,  0.20344022],\n",
              "       [ 1.9710037 , -2.5729601 ],\n",
              "       [ 2.1911917 , -2.8292453 ],\n",
              "       [-1.4169248 ,  1.3630947 ],\n",
              "       [ 2.0650833 , -2.6745985 ],\n",
              "       [ 2.3572106 , -3.3360739 ],\n",
              "       [ 1.7704036 , -2.3343766 ],\n",
              "       [ 1.8611405 , -2.4500728 ],\n",
              "       [-2.6961763 ,  2.6885874 ],\n",
              "       [-1.768051  ,  1.7039478 ],\n",
              "       [ 1.7704036 , -2.3343766 ],\n",
              "       [ 1.6502337 , -2.1407514 ],\n",
              "       [-2.3178027 ,  2.4385104 ],\n",
              "       [ 2.1362412 , -2.7564642 ],\n",
              "       [-1.5427984 ,  1.4579446 ],\n",
              "       [ 1.7704036 , -2.3343766 ],\n",
              "       [ 2.2181702 , -2.8717499 ],\n",
              "       [ 2.4524589 , -3.6119652 ],\n",
              "       [ 2.2204127 , -2.8756218 ],\n",
              "       [ 2.2170475 , -2.8698468 ],\n",
              "       [-2.3306596 ,  2.4490762 ],\n",
              "       [-2.2324297 ,  2.3611872 ],\n",
              "       [ 2.2481723 , -2.92946   ],\n",
              "       [ 0.20241363,  0.43974388],\n",
              "       [ 2.313004  , -3.148729  ],\n",
              "       [ 2.210173  , -2.8584695 ],\n",
              "       [ 0.20241363,  0.43974388],\n",
              "       [ 2.3235757 , -3.1989403 ],\n",
              "       [ 1.4915508 , -1.7943008 ],\n",
              "       [ 2.210173  , -2.8584695 ],\n",
              "       [ 1.6499187 , -2.1402333 ],\n",
              "       [ 2.5037246 , -3.7273347 ],\n",
              "       [ 2.1902666 , -2.827893  ],\n",
              "       [ 1.4478351 , -1.6480868 ],\n",
              "       [ 2.5037246 , -3.7273347 ],\n",
              "       [ 2.2931294 , -3.0611825 ],\n",
              "       [ 2.5037246 , -3.7273347 ],\n",
              "       [ 2.3010235 , -3.093897  ],\n",
              "       [ 2.5037246 , -3.7273347 ],\n",
              "       [ 2.5037246 , -3.7273347 ],\n",
              "       [ 2.5028603 , -3.72562   ],\n",
              "       [ 2.5037246 , -3.7273347 ],\n",
              "       [ 2.5037246 , -3.7273347 ],\n",
              "       [ 2.5037246 , -3.7273347 ],\n",
              "       [ 2.5014389 , -3.722783  ],\n",
              "       [ 1.7704036 , -2.3343766 ],\n",
              "       [-1.67077   ,  1.5800408 ],\n",
              "       [-1.67077   ,  1.5800408 ],\n",
              "       [ 1.6030955 , -2.0509274 ],\n",
              "       [ 1.7704036 , -2.3343766 ],\n",
              "       [ 1.7704036 , -2.3343766 ],\n",
              "       [ 1.7704036 , -2.3343766 ],\n",
              "       [ 2.0343416 , -2.6410372 ],\n",
              "       [ 1.8343141 , -2.4177713 ],\n",
              "       [-2.1236496 ,  2.238274  ],\n",
              "       [-2.2790554 ,  2.4051235 ],\n",
              "       [ 2.048413  , -2.6563234 ],\n",
              "       [ 1.4316916 , -1.5651683 ],\n",
              "       [-1.8073351 ,  1.7641157 ],\n",
              "       [-1.7819762 ,  1.7246518 ],\n",
              "       [-1.7819762 ,  1.7246518 ],\n",
              "       [ 2.2167566 , -2.8693576 ],\n",
              "       [ 1.8777612 , -2.4695065 ],\n",
              "       [ 1.4587754 , -1.6173859 ],\n",
              "       [ 2.1570988 , -2.7826066 ],\n",
              "       [-2.002544  ,  2.0726917 ],\n",
              "       [-2.4584374 ,  2.543529  ],\n",
              "       [ 1.593211  , -2.0312667 ],\n",
              "       [ 1.715452  , -2.2529755 ],\n",
              "       [-0.7498504 ,  0.94313955],\n",
              "       [ 1.545135  , -1.9316232 ],\n",
              "       [ 2.1891878 , -2.8263288 ],\n",
              "       [ 0.20241363,  0.43974388],\n",
              "       [ 1.8976907 , -2.492345  ],\n",
              "       [ 1.630406  , -2.1035092 ],\n",
              "       [ 2.4329803 , -3.5619159 ],\n",
              "       [ 2.0896268 , -2.7019465 ],\n",
              "       [ 1.7708032 , -2.3349202 ],\n",
              "       [ 1.0210977 , -0.745573  ],\n",
              "       [-1.1653677 ,  1.2089264 ],\n",
              "       [ 1.6151557 , -2.0740685 ],\n",
              "       [-1.9904964 ,  2.0551984 ],\n",
              "       [ 1.803404  , -2.3786662 ],\n",
              "       [ 1.803404  , -2.3786662 ],\n",
              "       [ 1.630406  , -2.1035092 ],\n",
              "       [ 2.4329803 , -3.5619159 ],\n",
              "       [ 2.0896268 , -2.7019465 ],\n",
              "       [ 1.0210977 , -0.745573  ],\n",
              "       [-1.1653677 ,  1.2089264 ],\n",
              "       [ 1.6151557 , -2.0740685 ],\n",
              "       [-1.9904964 ,  2.0551984 ],\n",
              "       [ 1.803404  , -2.3786662 ],\n",
              "       [ 1.803404  , -2.3786662 ],\n",
              "       [ 0.20241363,  0.43974388],\n",
              "       [ 1.7283629 , -2.2731194 ],\n",
              "       [ 2.4681935 , -3.6501396 ],\n",
              "       [-1.6483359 ,  1.5559931 ],\n",
              "       [ 2.4099615 , -3.499051  ],\n",
              "       [-2.2461436 ,  2.3745878 ],\n",
              "       [ 1.5448893 , -1.9319471 ],\n",
              "       [ 2.4821908 , -3.682088  ]], dtype=float32), label_ids=None, metrics={'test_runtime': 5.5616, 'test_samples_per_second': 33.443, 'test_steps_per_second': 4.315})"
            ]
          },
          "metadata": {},
          "execution_count": 489
        }
      ]
    },
    {
      "cell_type": "code",
      "source": [
        "# logits, labels = pred.predictions\n",
        "np.argmax(pred.predictions, axis=-1)"
      ],
      "metadata": {
        "colab": {
          "base_uri": "https://localhost:8080/"
        },
        "id": "wt0zMBMU0ExX",
        "outputId": "ffbd949c-1a70-4070-e223-deac239cf7ae"
      },
      "execution_count": null,
      "outputs": [
        {
          "output_type": "execute_result",
          "data": {
            "text/plain": [
              "array([0, 0, 0, 1, 0, 0, 1, 1, 0, 0, 0, 1, 1, 1, 1, 0, 0, 0, 0, 0, 0, 0,\n",
              "       0, 0, 0, 0, 0, 0, 0, 0, 0, 1, 1, 1, 0, 1, 0, 1, 1, 0, 1, 1, 1, 1,\n",
              "       1, 1, 1, 1, 1, 1, 1, 1, 1, 1, 0, 1, 1, 0, 1, 1, 1, 1, 1, 1, 1, 0,\n",
              "       1, 1, 1, 1, 1, 1, 0, 1, 1, 1, 1, 1, 1, 1, 1, 1, 0, 0, 0, 0, 0, 0,\n",
              "       1, 0, 0, 0, 0, 1, 1, 0, 0, 1, 0, 1, 0, 0, 0, 0, 0, 1, 1, 0, 1, 0,\n",
              "       0, 1, 0, 0, 0, 0, 0, 0, 0, 0, 0, 0, 0, 0, 0, 0, 0, 0, 0, 0, 0, 1,\n",
              "       1, 0, 0, 0, 0, 0, 0, 1, 1, 0, 0, 1, 1, 1, 0, 0, 0, 0, 1, 1, 0, 0,\n",
              "       1, 0, 0, 1, 0, 0, 0, 0, 0, 0, 1, 0, 1, 0, 0, 0, 0, 0, 0, 1, 0, 1,\n",
              "       0, 0, 1, 0, 0, 1, 0, 1, 0, 0])"
            ]
          },
          "metadata": {},
          "execution_count": 490
        }
      ]
    },
    {
      "cell_type": "code",
      "source": [
        "testing_pd['pred'] = np.argmax(pred.predictions, axis=-1)"
      ],
      "metadata": {
        "id": "bkbQiQA-0ExX"
      },
      "execution_count": null,
      "outputs": []
    },
    {
      "cell_type": "code",
      "source": [
        "#final table\n",
        "testing_pd"
      ],
      "metadata": {
        "colab": {
          "base_uri": "https://localhost:8080/"
        },
        "id": "_x8EbsVA0ExY",
        "outputId": "dbcc11dc-4dbb-4018-d1a7-1ffa8fa67f48"
      },
      "execution_count": null,
      "outputs": [
        {
          "output_type": "execute_result",
          "data": {
            "text/plain": [
              "                                                  text  pred\n",
              "0    声光伴读作者：只抽侠移居台湾的YouTuber拍片，用亲身经历告诉大家：移民台湾撞板多个食饭...     0\n",
              "1    粤读博览作者：说书人当地有记者问拜登：「乌克兰现在真的必须割地才能换取和平吗？」拜登如此回应...     0\n",
              "2    據台灣中時新聞網16日報道，台民進黨近期諸多爭議引發討論，針對民進黨前主席許信良胞弟、前“立...     0\n",
              "3    蔡英文20日宣布由现年91岁的台积电创办人张忠谋担任代表，出席11月18日至19日在泰国举行...     1\n",
              "4    #湾湾发电姬# 陈时中的仇恨值为什么这么高？他自己说不知道，我们就来帮他知道。台湾老百姓在防...     0\n",
              "..                                                 ...   ...\n",
              "181                        #赠台大熊猫“团团”不幸离世# L台海网的微博视频 ​     1\n",
              "182            「小英」技窮？ //蔡英文獨孤一味搞政治，台灣民眾仲咁蠢想繼續捱窮咩？// ​     0\n",
              "183  Residentes de ambos lados del estrecho de Taiw...     1\n",
              "184  大陆赠台大熊猫“团团”离世，岛内民众和许多政治人物都相当不舍。但蔡英文和其他民进党政客几乎都...     0\n",
              "185     赵少康痛批蔡英文冷血：对“团团”离世不吭声，拜登的狗死了立即哀悼 L中国台湾网的微博视频 ​     0\n",
              "\n",
              "[186 rows x 2 columns]"
            ],
            "text/html": [
              "\n",
              "  <div id=\"df-94c687ec-fa6f-49ed-902a-1b7dea75ecc2\">\n",
              "    <div class=\"colab-df-container\">\n",
              "      <div>\n",
              "<style scoped>\n",
              "    .dataframe tbody tr th:only-of-type {\n",
              "        vertical-align: middle;\n",
              "    }\n",
              "\n",
              "    .dataframe tbody tr th {\n",
              "        vertical-align: top;\n",
              "    }\n",
              "\n",
              "    .dataframe thead th {\n",
              "        text-align: right;\n",
              "    }\n",
              "</style>\n",
              "<table border=\"1\" class=\"dataframe\">\n",
              "  <thead>\n",
              "    <tr style=\"text-align: right;\">\n",
              "      <th></th>\n",
              "      <th>text</th>\n",
              "      <th>pred</th>\n",
              "    </tr>\n",
              "  </thead>\n",
              "  <tbody>\n",
              "    <tr>\n",
              "      <th>0</th>\n",
              "      <td>声光伴读作者：只抽侠移居台湾的YouTuber拍片，用亲身经历告诉大家：移民台湾撞板多个食饭...</td>\n",
              "      <td>0</td>\n",
              "    </tr>\n",
              "    <tr>\n",
              "      <th>1</th>\n",
              "      <td>粤读博览作者：说书人当地有记者问拜登：「乌克兰现在真的必须割地才能换取和平吗？」拜登如此回应...</td>\n",
              "      <td>0</td>\n",
              "    </tr>\n",
              "    <tr>\n",
              "      <th>2</th>\n",
              "      <td>據台灣中時新聞網16日報道，台民進黨近期諸多爭議引發討論，針對民進黨前主席許信良胞弟、前“立...</td>\n",
              "      <td>0</td>\n",
              "    </tr>\n",
              "    <tr>\n",
              "      <th>3</th>\n",
              "      <td>蔡英文20日宣布由现年91岁的台积电创办人张忠谋担任代表，出席11月18日至19日在泰国举行...</td>\n",
              "      <td>1</td>\n",
              "    </tr>\n",
              "    <tr>\n",
              "      <th>4</th>\n",
              "      <td>#湾湾发电姬# 陈时中的仇恨值为什么这么高？他自己说不知道，我们就来帮他知道。台湾老百姓在防...</td>\n",
              "      <td>0</td>\n",
              "    </tr>\n",
              "    <tr>\n",
              "      <th>...</th>\n",
              "      <td>...</td>\n",
              "      <td>...</td>\n",
              "    </tr>\n",
              "    <tr>\n",
              "      <th>181</th>\n",
              "      <td>#赠台大熊猫“团团”不幸离世# L台海网的微博视频 ​</td>\n",
              "      <td>1</td>\n",
              "    </tr>\n",
              "    <tr>\n",
              "      <th>182</th>\n",
              "      <td>「小英」技窮？ //蔡英文獨孤一味搞政治，台灣民眾仲咁蠢想繼續捱窮咩？// ​</td>\n",
              "      <td>0</td>\n",
              "    </tr>\n",
              "    <tr>\n",
              "      <th>183</th>\n",
              "      <td>Residentes de ambos lados del estrecho de Taiw...</td>\n",
              "      <td>1</td>\n",
              "    </tr>\n",
              "    <tr>\n",
              "      <th>184</th>\n",
              "      <td>大陆赠台大熊猫“团团”离世，岛内民众和许多政治人物都相当不舍。但蔡英文和其他民进党政客几乎都...</td>\n",
              "      <td>0</td>\n",
              "    </tr>\n",
              "    <tr>\n",
              "      <th>185</th>\n",
              "      <td>赵少康痛批蔡英文冷血：对“团团”离世不吭声，拜登的狗死了立即哀悼 L中国台湾网的微博视频 ​</td>\n",
              "      <td>0</td>\n",
              "    </tr>\n",
              "  </tbody>\n",
              "</table>\n",
              "<p>186 rows × 2 columns</p>\n",
              "</div>\n",
              "      <button class=\"colab-df-convert\" onclick=\"convertToInteractive('df-94c687ec-fa6f-49ed-902a-1b7dea75ecc2')\"\n",
              "              title=\"Convert this dataframe to an interactive table.\"\n",
              "              style=\"display:none;\">\n",
              "        \n",
              "  <svg xmlns=\"http://www.w3.org/2000/svg\" height=\"24px\"viewBox=\"0 0 24 24\"\n",
              "       width=\"24px\">\n",
              "    <path d=\"M0 0h24v24H0V0z\" fill=\"none\"/>\n",
              "    <path d=\"M18.56 5.44l.94 2.06.94-2.06 2.06-.94-2.06-.94-.94-2.06-.94 2.06-2.06.94zm-11 1L8.5 8.5l.94-2.06 2.06-.94-2.06-.94L8.5 2.5l-.94 2.06-2.06.94zm10 10l.94 2.06.94-2.06 2.06-.94-2.06-.94-.94-2.06-.94 2.06-2.06.94z\"/><path d=\"M17.41 7.96l-1.37-1.37c-.4-.4-.92-.59-1.43-.59-.52 0-1.04.2-1.43.59L10.3 9.45l-7.72 7.72c-.78.78-.78 2.05 0 2.83L4 21.41c.39.39.9.59 1.41.59.51 0 1.02-.2 1.41-.59l7.78-7.78 2.81-2.81c.8-.78.8-2.07 0-2.86zM5.41 20L4 18.59l7.72-7.72 1.47 1.35L5.41 20z\"/>\n",
              "  </svg>\n",
              "      </button>\n",
              "      \n",
              "  <style>\n",
              "    .colab-df-container {\n",
              "      display:flex;\n",
              "      flex-wrap:wrap;\n",
              "      gap: 12px;\n",
              "    }\n",
              "\n",
              "    .colab-df-convert {\n",
              "      background-color: #E8F0FE;\n",
              "      border: none;\n",
              "      border-radius: 50%;\n",
              "      cursor: pointer;\n",
              "      display: none;\n",
              "      fill: #1967D2;\n",
              "      height: 32px;\n",
              "      padding: 0 0 0 0;\n",
              "      width: 32px;\n",
              "    }\n",
              "\n",
              "    .colab-df-convert:hover {\n",
              "      background-color: #E2EBFA;\n",
              "      box-shadow: 0px 1px 2px rgba(60, 64, 67, 0.3), 0px 1px 3px 1px rgba(60, 64, 67, 0.15);\n",
              "      fill: #174EA6;\n",
              "    }\n",
              "\n",
              "    [theme=dark] .colab-df-convert {\n",
              "      background-color: #3B4455;\n",
              "      fill: #D2E3FC;\n",
              "    }\n",
              "\n",
              "    [theme=dark] .colab-df-convert:hover {\n",
              "      background-color: #434B5C;\n",
              "      box-shadow: 0px 1px 3px 1px rgba(0, 0, 0, 0.15);\n",
              "      filter: drop-shadow(0px 1px 2px rgba(0, 0, 0, 0.3));\n",
              "      fill: #FFFFFF;\n",
              "    }\n",
              "  </style>\n",
              "\n",
              "      <script>\n",
              "        const buttonEl =\n",
              "          document.querySelector('#df-94c687ec-fa6f-49ed-902a-1b7dea75ecc2 button.colab-df-convert');\n",
              "        buttonEl.style.display =\n",
              "          google.colab.kernel.accessAllowed ? 'block' : 'none';\n",
              "\n",
              "        async function convertToInteractive(key) {\n",
              "          const element = document.querySelector('#df-94c687ec-fa6f-49ed-902a-1b7dea75ecc2');\n",
              "          const dataTable =\n",
              "            await google.colab.kernel.invokeFunction('convertToInteractive',\n",
              "                                                     [key], {});\n",
              "          if (!dataTable) return;\n",
              "\n",
              "          const docLinkHtml = 'Like what you see? Visit the ' +\n",
              "            '<a target=\"_blank\" href=https://colab.research.google.com/notebooks/data_table.ipynb>data table notebook</a>'\n",
              "            + ' to learn more about interactive tables.';\n",
              "          element.innerHTML = '';\n",
              "          dataTable['output_type'] = 'display_data';\n",
              "          await google.colab.output.renderOutput(dataTable, element);\n",
              "          const docLink = document.createElement('div');\n",
              "          docLink.innerHTML = docLinkHtml;\n",
              "          element.appendChild(docLink);\n",
              "        }\n",
              "      </script>\n",
              "    </div>\n",
              "  </div>\n",
              "  "
            ]
          },
          "metadata": {},
          "execution_count": 492
        }
      ]
    },
    {
      "cell_type": "markdown",
      "source": [
        "# graphs"
      ],
      "metadata": {
        "id": "U696PuB_efHw"
      }
    },
    {
      "cell_type": "code",
      "source": [
        "count0 = (testing_pd['pred'] == 0).sum()\n",
        "count1 = (testing_pd['pred'] == 1).sum()\n",
        "print(count0, count1)"
      ],
      "metadata": {
        "colab": {
          "base_uri": "https://localhost:8080/"
        },
        "id": "7kpcFhL90ExY",
        "outputId": "a0436211-d822-4ed9-ba7b-c308555136bd"
      },
      "execution_count": null,
      "outputs": [
        {
          "output_type": "stream",
          "name": "stdout",
          "text": [
            "108 78\n"
          ]
        }
      ]
    },
    {
      "cell_type": "code",
      "source": [
        "#plot in total amounts. Remember, 0 = negative, 1 = positive\n",
        "import matplotlib.pyplot as plt\n",
        "count0 = (testing_pd['pred'] == 0).sum()\n",
        "count1 = (testing_pd['pred'] == 1).sum()\n",
        "df_plot=pd.DataFrame({'result in numbers': ['_'], 'negative':[count0], 'positive': [count1]})\n",
        "df_plot.plot.bar(x='result in numbers', figsize=(10, 10))\n",
        "plt.show()"
      ],
      "metadata": {
        "id": "-ZyrPcvlZ9DO",
        "colab": {
          "base_uri": "https://localhost:8080/",
          "height": 601
        },
        "outputId": "cf0844fd-d6f7-4826-ca40-a5fc1be55797"
      },
      "execution_count": null,
      "outputs": [
        {
          "output_type": "display_data",
          "data": {
            "text/plain": [
              "<Figure size 720x720 with 1 Axes>"
            ],
            "image/png": "[encoded data removed]"
          },
          "metadata": {
            "needs_background": "light"
          }
        }
      ]
    },
    {
      "cell_type": "code",
      "source": [
        "#def Percentage(num1, num2):\n",
        "#    return num1 / (num1 + num2) * 100\n",
        "    \n",
        "#print(Percentage(count0, count1))\n",
        "#print(Percentage(count1, count0))\n",
        "\n",
        "def Percentage(num1, num2):\n",
        "    return num1 / (num1 + num2) * 100\n",
        "\n",
        "#plot in percentage. Remember, 0 = negative, 1 = positive\n",
        "per1=Percentage(count0, count1)\n",
        "per2=Percentage(count1, count0)\n",
        "\n",
        "label = ['negative', 'positive']\n",
        "shares = [per1, per2]\n",
        "fig, ax = plt.subplots(figsize=(10,10))\n",
        "ax.pie(shares, labels=label, autopct='%.2f%%', shadow=False, labeldistance=1.1,  textprops={'fontsize': 14})\n",
        "ax.set_title('Tsai Ing-wen before', fontsize=18, y=0.95);"
      ],
      "metadata": {
        "colab": {
          "base_uri": "https://localhost:8080/",
          "height": 575
        },
        "id": "Xgguu1760ExY",
        "outputId": "5d076658-0a5d-4ea8-e6cc-3917305a39c3"
      },
      "execution_count": null,
      "outputs": [
        {
          "output_type": "display_data",
          "data": {
            "text/plain": [
              "<Figure size 720x720 with 1 Axes>"
            ],
            "image/png": "[encoded data removed]"
          },
          "metadata": {}
        }
      ]
    },
    {
      "cell_type": "markdown",
      "source": [
        "#**蔡英文_after**"
      ],
      "metadata": {
        "id": "T9M8gX35zkTR"
      }
    },
    {
      "cell_type": "markdown",
      "source": [
        "# 1. load and clean data"
      ],
      "metadata": {
        "id": "JiGMLGJvztFw"
      }
    },
    {
      "cell_type": "code",
      "source": [
        "#insert new xlsx file here\n",
        "! wget -nc https://raw.githubusercontent.com/advapplab/sentiment_analysis_election_2022/main/data/challange/蔡英文_after.xlsx"
      ],
      "metadata": {
        "colab": {
          "base_uri": "https://localhost:8080/"
        },
        "outputId": "58c33dea-762b-488d-8370-7a7a37dede06",
        "id": "6o7suTNQztF6"
      },
      "execution_count": null,
      "outputs": [
        {
          "output_type": "stream",
          "name": "stdout",
          "text": [
            "File ‘蔡英文_after.xlsx’ already there; not retrieving.\n",
            "\n"
          ]
        }
      ]
    },
    {
      "cell_type": "code",
      "source": [
        "import pandas as pd"
      ],
      "metadata": {
        "id": "XMEUyLj6ztF7"
      },
      "execution_count": null,
      "outputs": []
    },
    {
      "cell_type": "code",
      "source": [
        "#insert new xlsx file here\n",
        "testing_pd = pd.read_excel('/content/蔡英文_after.xlsx')\n",
        "\n",
        "testing_pd.rename(columns={'博文': 'text'},\n",
        "          inplace=True, errors='raise')\n",
        "\n",
        "testing_pd = testing_pd[['text']]"
      ],
      "metadata": {
        "colab": {
          "base_uri": "https://localhost:8080/"
        },
        "outputId": "b706a8f3-a216-4d2f-960f-de8eeb9caff3",
        "id": "NRWwI3vZztF7"
      },
      "execution_count": null,
      "outputs": [
        {
          "output_type": "stream",
          "name": "stderr",
          "text": [
            "/usr/local/lib/python3.8/dist-packages/openpyxl/styles/stylesheet.py:226: UserWarning: Workbook contains no default style, apply openpyxl's default\n",
            "  warn(\"Workbook contains no default style, apply openpyxl's default\")\n"
          ]
        }
      ]
    },
    {
      "cell_type": "code",
      "source": [
        "#dirty data\n",
        "testing_pd"
      ],
      "metadata": {
        "outputId": "66a29544-1b93-4fed-eec7-d7dfb409feda",
        "colab": {
          "base_uri": "https://localhost:8080/"
        },
        "id": "Ze7LxGObztF7"
      },
      "execution_count": null,
      "outputs": [
        {
          "output_type": "execute_result",
          "data": {
            "text/plain": [
              "                                                  text\n",
              "0    【#台湾“九合一”选举#今登场 朱立伦斥民进党“由绿转黑”】台湾的“九合一”选举26日投票，...\n",
              "1    蔡英文宣布辞去民进党主席职务。  #蔡英文宣布辞去民进党主席职务##蔡英文辞去民进党主席职务...\n",
              "2                                     【#蔡英文辞去民进党主席职务#】\n",
              "3    【台湾地区领导人辞去执政党主席职务】据台湾中央社报道，台湾地区行政长官蔡英文在市政选举失败后...\n",
              "4    【国台办发言人就台湾地区“九合一”选举结果答记者问】国台办发言人朱凤莲26日晚就台湾地区“九...\n",
              "..                                                 ...\n",
              "242  【这，就是引狼入室的下场】刚刚结束的台湾地区基层公职人员“九合一”选举结果显示，在已选举产生...\n",
              "243  #蔡英文宣布辞去民进党主席职务##两岸头条# 【“九合一”：蒋万安当选台北市长 民进党大败 ...\n",
              "244          “九合一”大溃败，台湾民众为何给民进党和蔡英文颜色看？ L中国台湾网的微博视频 ​\n",
              "245         【#蔡英文辞去民进党主席职务#】//@河北长安网: 【#蔡英文辞去民进党主席职务#】\n",
              "246  【温吞吞的蒋介石曾孙蒋万安 何以打败蔡英文的红人陈时中？】#台湾地区九合一选举结果揭晓# 台...\n",
              "\n",
              "[247 rows x 1 columns]"
            ],
            "text/html": [
              "\n",
              "  <div id=\"df-84085384-366a-40bd-83a0-39f495b6298a\">\n",
              "    <div class=\"colab-df-container\">\n",
              "      <div>\n",
              "<style scoped>\n",
              "    .dataframe tbody tr th:only-of-type {\n",
              "        vertical-align: middle;\n",
              "    }\n",
              "\n",
              "    .dataframe tbody tr th {\n",
              "        vertical-align: top;\n",
              "    }\n",
              "\n",
              "    .dataframe thead th {\n",
              "        text-align: right;\n",
              "    }\n",
              "</style>\n",
              "<table border=\"1\" class=\"dataframe\">\n",
              "  <thead>\n",
              "    <tr style=\"text-align: right;\">\n",
              "      <th></th>\n",
              "      <th>text</th>\n",
              "    </tr>\n",
              "  </thead>\n",
              "  <tbody>\n",
              "    <tr>\n",
              "      <th>0</th>\n",
              "      <td>【#台湾“九合一”选举#今登场 朱立伦斥民进党“由绿转黑”】台湾的“九合一”选举26日投票，...</td>\n",
              "    </tr>\n",
              "    <tr>\n",
              "      <th>1</th>\n",
              "      <td>蔡英文宣布辞去民进党主席职务。  #蔡英文宣布辞去民进党主席职务##蔡英文辞去民进党主席职务...</td>\n",
              "    </tr>\n",
              "    <tr>\n",
              "      <th>2</th>\n",
              "      <td>【#蔡英文辞去民进党主席职务#】</td>\n",
              "    </tr>\n",
              "    <tr>\n",
              "      <th>3</th>\n",
              "      <td>【台湾地区领导人辞去执政党主席职务】据台湾中央社报道，台湾地区行政长官蔡英文在市政选举失败后...</td>\n",
              "    </tr>\n",
              "    <tr>\n",
              "      <th>4</th>\n",
              "      <td>【国台办发言人就台湾地区“九合一”选举结果答记者问】国台办发言人朱凤莲26日晚就台湾地区“九...</td>\n",
              "    </tr>\n",
              "    <tr>\n",
              "      <th>...</th>\n",
              "      <td>...</td>\n",
              "    </tr>\n",
              "    <tr>\n",
              "      <th>242</th>\n",
              "      <td>【这，就是引狼入室的下场】刚刚结束的台湾地区基层公职人员“九合一”选举结果显示，在已选举产生...</td>\n",
              "    </tr>\n",
              "    <tr>\n",
              "      <th>243</th>\n",
              "      <td>#蔡英文宣布辞去民进党主席职务##两岸头条# 【“九合一”：蒋万安当选台北市长 民进党大败 ...</td>\n",
              "    </tr>\n",
              "    <tr>\n",
              "      <th>244</th>\n",
              "      <td>“九合一”大溃败，台湾民众为何给民进党和蔡英文颜色看？ L中国台湾网的微博视频 ​</td>\n",
              "    </tr>\n",
              "    <tr>\n",
              "      <th>245</th>\n",
              "      <td>【#蔡英文辞去民进党主席职务#】//@河北长安网: 【#蔡英文辞去民进党主席职务#】</td>\n",
              "    </tr>\n",
              "    <tr>\n",
              "      <th>246</th>\n",
              "      <td>【温吞吞的蒋介石曾孙蒋万安 何以打败蔡英文的红人陈时中？】#台湾地区九合一选举结果揭晓# 台...</td>\n",
              "    </tr>\n",
              "  </tbody>\n",
              "</table>\n",
              "<p>247 rows × 1 columns</p>\n",
              "</div>\n",
              "      <button class=\"colab-df-convert\" onclick=\"convertToInteractive('df-84085384-366a-40bd-83a0-39f495b6298a')\"\n",
              "              title=\"Convert this dataframe to an interactive table.\"\n",
              "              style=\"display:none;\">\n",
              "        \n",
              "  <svg xmlns=\"http://www.w3.org/2000/svg\" height=\"24px\"viewBox=\"0 0 24 24\"\n",
              "       width=\"24px\">\n",
              "    <path d=\"M0 0h24v24H0V0z\" fill=\"none\"/>\n",
              "    <path d=\"M18.56 5.44l.94 2.06.94-2.06 2.06-.94-2.06-.94-.94-2.06-.94 2.06-2.06.94zm-11 1L8.5 8.5l.94-2.06 2.06-.94-2.06-.94L8.5 2.5l-.94 2.06-2.06.94zm10 10l.94 2.06.94-2.06 2.06-.94-2.06-.94-.94-2.06-.94 2.06-2.06.94z\"/><path d=\"M17.41 7.96l-1.37-1.37c-.4-.4-.92-.59-1.43-.59-.52 0-1.04.2-1.43.59L10.3 9.45l-7.72 7.72c-.78.78-.78 2.05 0 2.83L4 21.41c.39.39.9.59 1.41.59.51 0 1.02-.2 1.41-.59l7.78-7.78 2.81-2.81c.8-.78.8-2.07 0-2.86zM5.41 20L4 18.59l7.72-7.72 1.47 1.35L5.41 20z\"/>\n",
              "  </svg>\n",
              "      </button>\n",
              "      \n",
              "  <style>\n",
              "    .colab-df-container {\n",
              "      display:flex;\n",
              "      flex-wrap:wrap;\n",
              "      gap: 12px;\n",
              "    }\n",
              "\n",
              "    .colab-df-convert {\n",
              "      background-color: #E8F0FE;\n",
              "      border: none;\n",
              "      border-radius: 50%;\n",
              "      cursor: pointer;\n",
              "      display: none;\n",
              "      fill: #1967D2;\n",
              "      height: 32px;\n",
              "      padding: 0 0 0 0;\n",
              "      width: 32px;\n",
              "    }\n",
              "\n",
              "    .colab-df-convert:hover {\n",
              "      background-color: #E2EBFA;\n",
              "      box-shadow: 0px 1px 2px rgba(60, 64, 67, 0.3), 0px 1px 3px 1px rgba(60, 64, 67, 0.15);\n",
              "      fill: #174EA6;\n",
              "    }\n",
              "\n",
              "    [theme=dark] .colab-df-convert {\n",
              "      background-color: #3B4455;\n",
              "      fill: #D2E3FC;\n",
              "    }\n",
              "\n",
              "    [theme=dark] .colab-df-convert:hover {\n",
              "      background-color: #434B5C;\n",
              "      box-shadow: 0px 1px 3px 1px rgba(0, 0, 0, 0.15);\n",
              "      filter: drop-shadow(0px 1px 2px rgba(0, 0, 0, 0.3));\n",
              "      fill: #FFFFFF;\n",
              "    }\n",
              "  </style>\n",
              "\n",
              "      <script>\n",
              "        const buttonEl =\n",
              "          document.querySelector('#df-84085384-366a-40bd-83a0-39f495b6298a button.colab-df-convert');\n",
              "        buttonEl.style.display =\n",
              "          google.colab.kernel.accessAllowed ? 'block' : 'none';\n",
              "\n",
              "        async function convertToInteractive(key) {\n",
              "          const element = document.querySelector('#df-84085384-366a-40bd-83a0-39f495b6298a');\n",
              "          const dataTable =\n",
              "            await google.colab.kernel.invokeFunction('convertToInteractive',\n",
              "                                                     [key], {});\n",
              "          if (!dataTable) return;\n",
              "\n",
              "          const docLinkHtml = 'Like what you see? Visit the ' +\n",
              "            '<a target=\"_blank\" href=https://colab.research.google.com/notebooks/data_table.ipynb>data table notebook</a>'\n",
              "            + ' to learn more about interactive tables.';\n",
              "          element.innerHTML = '';\n",
              "          dataTable['output_type'] = 'display_data';\n",
              "          await google.colab.output.renderOutput(dataTable, element);\n",
              "          const docLink = document.createElement('div');\n",
              "          docLink.innerHTML = docLinkHtml;\n",
              "          element.appendChild(docLink);\n",
              "        }\n",
              "      </script>\n",
              "    </div>\n",
              "  </div>\n",
              "  "
            ]
          },
          "metadata": {},
          "execution_count": 499
        }
      ]
    },
    {
      "cell_type": "code",
      "source": [
        "#we can consider not deleting the titles. This will be up to the ICI project group to decide\n",
        "#if you wish to preserve the titles. replace the corresponding block of code below with this one \n",
        "\n",
        "#testing_pd['text'] = testing_pd['text'].replace(span_pattern,'',regex=True).replace(span_pattern,'',regex=True)\n",
        "#testing_pd['text'] = testing_pd['text'].replace(http_pattern,'',regex=True).replace(html_pattern,'',regex=True)\n",
        "#testing_pd['text'] = testing_pd['text'].replace(image_pattern,'',regex=True)#.replace(title_pattern_1,'',regex=True)\n",
        "#testing_pd['text'] = testing_pd['text'].re place(link_pattern,'',regex=True).replace(html_pattern,'',regex=True)\n",
        "##testing_pd['text'] = testing_pd['text'].replace(title_pattern_2,'',regex=True)\n",
        "#________________________________________________________________________________________________________________________\n",
        "\n",
        "testing_pd = testing_pd[~testing_pd['text'].str.contains('a href', regex=True)]\n",
        "\n",
        "\n",
        "import re\n",
        "html_pattern = \"<(?:\\\"[^\\\"]*\\\"['\\\"]*|'[^']*'['\\\"]*|[^'\\\">])+>\"\n",
        "http_pattern = \"http\\S+\"\n",
        "image_pattern = \"<img\\s[^>]*?src\\s*=\\s*['\\\"]([^'\\\"]*?)['\\\"][^>]*?>\" \n",
        "#title_pattern = \"[【|《*】|》]\"\n",
        "title_pattern_1 = \"(?=【)(.*)(?<=】)\"\n",
        "title_pattern_2 = \"(?=《)(.*)(?<=》)\"\n",
        "link_pattern=\"网页链接\"\n",
        "span_pattern='<span.*?>(.+?)</span>'\n",
        "\n",
        "#replace with this block. Do some more research because it looks like some titles are still removed, like index 41\n",
        "testing_pd['text'] = testing_pd['text'].replace(span_pattern,'',regex=True).replace(span_pattern,'',regex=True)\n",
        "testing_pd['text'] = testing_pd['text'].replace(http_pattern,'',regex=True).replace(html_pattern,'',regex=True)\n",
        "testing_pd['text'] = testing_pd['text'].replace(image_pattern,'',regex=True).replace(title_pattern_1,'',regex=True)\n",
        "testing_pd['text'] = testing_pd['text'].replace(link_pattern,'',regex=True).replace(html_pattern,'',regex=True)\n",
        "testing_pd['text'] = testing_pd['text'].replace(title_pattern_2,'',regex=True)"
      ],
      "metadata": {
        "id": "Gl8vp0IqztF8"
      },
      "execution_count": null,
      "outputs": []
    },
    {
      "cell_type": "code",
      "source": [
        "#delete empty rows\n",
        "testing_pd = testing_pd[testing_pd['text'].str.len()>2]   \n",
        "testing_pd = testing_pd[['text']]\n",
        "testing_pd = testing_pd.reset_index(drop=True)\n",
        "testing_pd"
      ],
      "metadata": {
        "outputId": "d2fe84e3-ffde-4691-eab0-2bf10f6d3060",
        "colab": {
          "base_uri": "https://localhost:8080/"
        },
        "id": "xUAGeD3hztF8"
      },
      "execution_count": null,
      "outputs": [
        {
          "output_type": "execute_result",
          "data": {
            "text/plain": [
              "                                                  text\n",
              "0    台湾的“九合一”选举26日投票，蓝绿阵营25日尽最后努力拉票。台湾地区领导人蔡英文到多个县市...\n",
              "1    蔡英文宣布辞去民进党主席职务。  #蔡英文宣布辞去民进党主席职务##蔡英文辞去民进党主席职务...\n",
              "2    据台湾中央社报道，台湾地区行政长官蔡英文在市政选举失败后于周六辞去执政的民进党主席一职。O台...\n",
              "3    国台办发言人朱凤莲26日晚就台湾地区“九合一”选举结果应询表示，我们注意到这次选举的结果。这...\n",
              "4    #蔡英文辞去民进党主席职务#据新华社消息：11月26日晚间，蔡英文宣布辞去民进党主席职务，以...\n",
              "..                                                 ...\n",
              "236  台湾领导人蔡英文在民进党地方选举失败后辞去民进党主席一职。莫斯科国立国际关系学院国际研究所高...\n",
              "237  刚刚结束的台湾地区基层公职人员“九合一”选举结果显示，在已选举产生的21个县市长中，民进党仅...\n",
              "238  #蔡英文宣布辞去民进党主席职务##两岸头条# 台湾地区“九合一”选举民进党大败，蔡英文辞去党...\n",
              "239          “九合一”大溃败，台湾民众为何给民进党和蔡英文颜色看？ L中国台湾网的微博视频 ​\n",
              "240  #台湾地区九合一选举结果揭晓# 台湾“九合一”选举11月26日结束，在野的国民党继2018年...\n",
              "\n",
              "[241 rows x 1 columns]"
            ],
            "text/html": [
              "\n",
              "  <div id=\"df-75c20fff-fce4-4f99-98e3-e88234fe5538\">\n",
              "    <div class=\"colab-df-container\">\n",
              "      <div>\n",
              "<style scoped>\n",
              "    .dataframe tbody tr th:only-of-type {\n",
              "        vertical-align: middle;\n",
              "    }\n",
              "\n",
              "    .dataframe tbody tr th {\n",
              "        vertical-align: top;\n",
              "    }\n",
              "\n",
              "    .dataframe thead th {\n",
              "        text-align: right;\n",
              "    }\n",
              "</style>\n",
              "<table border=\"1\" class=\"dataframe\">\n",
              "  <thead>\n",
              "    <tr style=\"text-align: right;\">\n",
              "      <th></th>\n",
              "      <th>text</th>\n",
              "    </tr>\n",
              "  </thead>\n",
              "  <tbody>\n",
              "    <tr>\n",
              "      <th>0</th>\n",
              "      <td>台湾的“九合一”选举26日投票，蓝绿阵营25日尽最后努力拉票。台湾地区领导人蔡英文到多个县市...</td>\n",
              "    </tr>\n",
              "    <tr>\n",
              "      <th>1</th>\n",
              "      <td>蔡英文宣布辞去民进党主席职务。  #蔡英文宣布辞去民进党主席职务##蔡英文辞去民进党主席职务...</td>\n",
              "    </tr>\n",
              "    <tr>\n",
              "      <th>2</th>\n",
              "      <td>据台湾中央社报道，台湾地区行政长官蔡英文在市政选举失败后于周六辞去执政的民进党主席一职。O台...</td>\n",
              "    </tr>\n",
              "    <tr>\n",
              "      <th>3</th>\n",
              "      <td>国台办发言人朱凤莲26日晚就台湾地区“九合一”选举结果应询表示，我们注意到这次选举的结果。这...</td>\n",
              "    </tr>\n",
              "    <tr>\n",
              "      <th>4</th>\n",
              "      <td>#蔡英文辞去民进党主席职务#据新华社消息：11月26日晚间，蔡英文宣布辞去民进党主席职务，以...</td>\n",
              "    </tr>\n",
              "    <tr>\n",
              "      <th>...</th>\n",
              "      <td>...</td>\n",
              "    </tr>\n",
              "    <tr>\n",
              "      <th>236</th>\n",
              "      <td>台湾领导人蔡英文在民进党地方选举失败后辞去民进党主席一职。莫斯科国立国际关系学院国际研究所高...</td>\n",
              "    </tr>\n",
              "    <tr>\n",
              "      <th>237</th>\n",
              "      <td>刚刚结束的台湾地区基层公职人员“九合一”选举结果显示，在已选举产生的21个县市长中，民进党仅...</td>\n",
              "    </tr>\n",
              "    <tr>\n",
              "      <th>238</th>\n",
              "      <td>#蔡英文宣布辞去民进党主席职务##两岸头条# 台湾地区“九合一”选举民进党大败，蔡英文辞去党...</td>\n",
              "    </tr>\n",
              "    <tr>\n",
              "      <th>239</th>\n",
              "      <td>“九合一”大溃败，台湾民众为何给民进党和蔡英文颜色看？ L中国台湾网的微博视频 ​</td>\n",
              "    </tr>\n",
              "    <tr>\n",
              "      <th>240</th>\n",
              "      <td>#台湾地区九合一选举结果揭晓# 台湾“九合一”选举11月26日结束，在野的国民党继2018年...</td>\n",
              "    </tr>\n",
              "  </tbody>\n",
              "</table>\n",
              "<p>241 rows × 1 columns</p>\n",
              "</div>\n",
              "      <button class=\"colab-df-convert\" onclick=\"convertToInteractive('df-75c20fff-fce4-4f99-98e3-e88234fe5538')\"\n",
              "              title=\"Convert this dataframe to an interactive table.\"\n",
              "              style=\"display:none;\">\n",
              "        \n",
              "  <svg xmlns=\"http://www.w3.org/2000/svg\" height=\"24px\"viewBox=\"0 0 24 24\"\n",
              "       width=\"24px\">\n",
              "    <path d=\"M0 0h24v24H0V0z\" fill=\"none\"/>\n",
              "    <path d=\"M18.56 5.44l.94 2.06.94-2.06 2.06-.94-2.06-.94-.94-2.06-.94 2.06-2.06.94zm-11 1L8.5 8.5l.94-2.06 2.06-.94-2.06-.94L8.5 2.5l-.94 2.06-2.06.94zm10 10l.94 2.06.94-2.06 2.06-.94-2.06-.94-.94-2.06-.94 2.06-2.06.94z\"/><path d=\"M17.41 7.96l-1.37-1.37c-.4-.4-.92-.59-1.43-.59-.52 0-1.04.2-1.43.59L10.3 9.45l-7.72 7.72c-.78.78-.78 2.05 0 2.83L4 21.41c.39.39.9.59 1.41.59.51 0 1.02-.2 1.41-.59l7.78-7.78 2.81-2.81c.8-.78.8-2.07 0-2.86zM5.41 20L4 18.59l7.72-7.72 1.47 1.35L5.41 20z\"/>\n",
              "  </svg>\n",
              "      </button>\n",
              "      \n",
              "  <style>\n",
              "    .colab-df-container {\n",
              "      display:flex;\n",
              "      flex-wrap:wrap;\n",
              "      gap: 12px;\n",
              "    }\n",
              "\n",
              "    .colab-df-convert {\n",
              "      background-color: #E8F0FE;\n",
              "      border: none;\n",
              "      border-radius: 50%;\n",
              "      cursor: pointer;\n",
              "      display: none;\n",
              "      fill: #1967D2;\n",
              "      height: 32px;\n",
              "      padding: 0 0 0 0;\n",
              "      width: 32px;\n",
              "    }\n",
              "\n",
              "    .colab-df-convert:hover {\n",
              "      background-color: #E2EBFA;\n",
              "      box-shadow: 0px 1px 2px rgba(60, 64, 67, 0.3), 0px 1px 3px 1px rgba(60, 64, 67, 0.15);\n",
              "      fill: #174EA6;\n",
              "    }\n",
              "\n",
              "    [theme=dark] .colab-df-convert {\n",
              "      background-color: #3B4455;\n",
              "      fill: #D2E3FC;\n",
              "    }\n",
              "\n",
              "    [theme=dark] .colab-df-convert:hover {\n",
              "      background-color: #434B5C;\n",
              "      box-shadow: 0px 1px 3px 1px rgba(0, 0, 0, 0.15);\n",
              "      filter: drop-shadow(0px 1px 2px rgba(0, 0, 0, 0.3));\n",
              "      fill: #FFFFFF;\n",
              "    }\n",
              "  </style>\n",
              "\n",
              "      <script>\n",
              "        const buttonEl =\n",
              "          document.querySelector('#df-75c20fff-fce4-4f99-98e3-e88234fe5538 button.colab-df-convert');\n",
              "        buttonEl.style.display =\n",
              "          google.colab.kernel.accessAllowed ? 'block' : 'none';\n",
              "\n",
              "        async function convertToInteractive(key) {\n",
              "          const element = document.querySelector('#df-75c20fff-fce4-4f99-98e3-e88234fe5538');\n",
              "          const dataTable =\n",
              "            await google.colab.kernel.invokeFunction('convertToInteractive',\n",
              "                                                     [key], {});\n",
              "          if (!dataTable) return;\n",
              "\n",
              "          const docLinkHtml = 'Like what you see? Visit the ' +\n",
              "            '<a target=\"_blank\" href=https://colab.research.google.com/notebooks/data_table.ipynb>data table notebook</a>'\n",
              "            + ' to learn more about interactive tables.';\n",
              "          element.innerHTML = '';\n",
              "          dataTable['output_type'] = 'display_data';\n",
              "          await google.colab.output.renderOutput(dataTable, element);\n",
              "          const docLink = document.createElement('div');\n",
              "          docLink.innerHTML = docLinkHtml;\n",
              "          element.appendChild(docLink);\n",
              "        }\n",
              "      </script>\n",
              "    </div>\n",
              "  </div>\n",
              "  "
            ]
          },
          "metadata": {},
          "execution_count": 501
        }
      ]
    },
    {
      "cell_type": "markdown",
      "source": [
        "## 1-2 Tokenization"
      ],
      "metadata": {
        "id": "VTV-ooLSztF9"
      }
    },
    {
      "cell_type": "code",
      "source": [
        "from datasets import Dataset, DatasetDict\n",
        "\n",
        "weibo_dict = {\n",
        "              'test' : Dataset.from_pandas(testing_pd)\n",
        "              }\n",
        "\n",
        "weibo_ds = DatasetDict(weibo_dict)"
      ],
      "metadata": {
        "id": "NDyBbNMlztF9"
      },
      "execution_count": null,
      "outputs": []
    },
    {
      "cell_type": "code",
      "source": [
        "from transformers import AutoTokenizer"
      ],
      "metadata": {
        "id": "C-lnExjSztF9"
      },
      "execution_count": null,
      "outputs": []
    },
    {
      "cell_type": "code",
      "source": [
        "tokenizer = AutoTokenizer.from_pretrained(model_tokenizer)"
      ],
      "metadata": {
        "colab": {
          "base_uri": "https://localhost:8080/"
        },
        "outputId": "21a920e2-eb44-4a79-8a47-f01795c7284e",
        "id": "rsF-MhNWztF9"
      },
      "execution_count": null,
      "outputs": [
        {
          "output_type": "stream",
          "name": "stderr",
          "text": [
            "loading configuration file config.json from cache at /root/.cache/huggingface/hub/models--hfl--chinese-bert-wwm/snapshots/ab0aa81da273504efc8540aa4d0bbaa3016a1bb5/config.json\n",
            "Model config BertConfig {\n",
            "  \"_name_or_path\": \"hfl/chinese-bert-wwm\",\n",
            "  \"architectures\": [\n",
            "    \"BertForMaskedLM\"\n",
            "  ],\n",
            "  \"attention_probs_dropout_prob\": 0.1,\n",
            "  \"classifier_dropout\": null,\n",
            "  \"directionality\": \"bidi\",\n",
            "  \"hidden_act\": \"gelu\",\n",
            "  \"hidden_dropout_prob\": 0.1,\n",
            "  \"hidden_size\": 768,\n",
            "  \"initializer_range\": 0.02,\n",
            "  \"intermediate_size\": 3072,\n",
            "  \"layer_norm_eps\": 1e-12,\n",
            "  \"max_position_embeddings\": 512,\n",
            "  \"model_type\": \"bert\",\n",
            "  \"num_attention_heads\": 12,\n",
            "  \"num_hidden_layers\": 12,\n",
            "  \"output_past\": true,\n",
            "  \"pad_token_id\": 0,\n",
            "  \"pooler_fc_size\": 768,\n",
            "  \"pooler_num_attention_heads\": 12,\n",
            "  \"pooler_num_fc_layers\": 3,\n",
            "  \"pooler_size_per_head\": 128,\n",
            "  \"pooler_type\": \"first_token_transform\",\n",
            "  \"position_embedding_type\": \"absolute\",\n",
            "  \"transformers_version\": \"4.25.1\",\n",
            "  \"type_vocab_size\": 2,\n",
            "  \"use_cache\": true,\n",
            "  \"vocab_size\": 21128\n",
            "}\n",
            "\n",
            "loading file vocab.txt from cache at /root/.cache/huggingface/hub/models--hfl--chinese-bert-wwm/snapshots/ab0aa81da273504efc8540aa4d0bbaa3016a1bb5/vocab.txt\n",
            "loading file tokenizer.json from cache at /root/.cache/huggingface/hub/models--hfl--chinese-bert-wwm/snapshots/ab0aa81da273504efc8540aa4d0bbaa3016a1bb5/tokenizer.json\n",
            "loading file added_tokens.json from cache at /root/.cache/huggingface/hub/models--hfl--chinese-bert-wwm/snapshots/ab0aa81da273504efc8540aa4d0bbaa3016a1bb5/added_tokens.json\n",
            "loading file special_tokens_map.json from cache at /root/.cache/huggingface/hub/models--hfl--chinese-bert-wwm/snapshots/ab0aa81da273504efc8540aa4d0bbaa3016a1bb5/special_tokens_map.json\n",
            "loading file tokenizer_config.json from cache at /root/.cache/huggingface/hub/models--hfl--chinese-bert-wwm/snapshots/ab0aa81da273504efc8540aa4d0bbaa3016a1bb5/tokenizer_config.json\n",
            "loading configuration file config.json from cache at /root/.cache/huggingface/hub/models--hfl--chinese-bert-wwm/snapshots/ab0aa81da273504efc8540aa4d0bbaa3016a1bb5/config.json\n",
            "Model config BertConfig {\n",
            "  \"_name_or_path\": \"hfl/chinese-bert-wwm\",\n",
            "  \"architectures\": [\n",
            "    \"BertForMaskedLM\"\n",
            "  ],\n",
            "  \"attention_probs_dropout_prob\": 0.1,\n",
            "  \"classifier_dropout\": null,\n",
            "  \"directionality\": \"bidi\",\n",
            "  \"hidden_act\": \"gelu\",\n",
            "  \"hidden_dropout_prob\": 0.1,\n",
            "  \"hidden_size\": 768,\n",
            "  \"initializer_range\": 0.02,\n",
            "  \"intermediate_size\": 3072,\n",
            "  \"layer_norm_eps\": 1e-12,\n",
            "  \"max_position_embeddings\": 512,\n",
            "  \"model_type\": \"bert\",\n",
            "  \"num_attention_heads\": 12,\n",
            "  \"num_hidden_layers\": 12,\n",
            "  \"output_past\": true,\n",
            "  \"pad_token_id\": 0,\n",
            "  \"pooler_fc_size\": 768,\n",
            "  \"pooler_num_attention_heads\": 12,\n",
            "  \"pooler_num_fc_layers\": 3,\n",
            "  \"pooler_size_per_head\": 128,\n",
            "  \"pooler_type\": \"first_token_transform\",\n",
            "  \"position_embedding_type\": \"absolute\",\n",
            "  \"transformers_version\": \"4.25.1\",\n",
            "  \"type_vocab_size\": 2,\n",
            "  \"use_cache\": true,\n",
            "  \"vocab_size\": 21128\n",
            "}\n",
            "\n"
          ]
        }
      ]
    },
    {
      "cell_type": "code",
      "source": [
        "def tokenize_function(examples):\n",
        "    return tokenizer(examples[\"text\"], \n",
        "                     padding=\"max_length\", \n",
        "                     truncation=True, \n",
        "                     max_length=512)\n",
        "\n",
        "tokenized_datasets = weibo_ds.map(tokenize_function, batched=True)"
      ],
      "metadata": {
        "colab": {
          "base_uri": "https://localhost:8080/",
          "referenced_widgets": [
            "dbf56ad45dcf45d5933bae1e3efbd5dd",
            "ab5f8fe3dcd1465b9c5b30ce041416f7",
            "2b83c797ebad4b15a2eb3087ca60391f",
            "d0779a929cd5440bac71a1208f362d58",
            "3c07fa9c27654e10bff9a6fa7b0f2b2c",
            "801d86a0fef24e40a144e09cf14befaa",
            "38b7d88327e44139ac2040a9c3bea89e",
            "ffce2da9337d4a2a8d4d0ca5017524be",
            "b928f505e20644a7968d2aa657ad5985",
            "e1c3c04266b14813a5b4cf85b41cc63a",
            "b52ede3db9824b8dbfea9cc9ff28d3b6"
          ]
        },
        "outputId": "342303f8-6f55-4df3-8ae0-ddc0c79d6286",
        "id": "TBEdeLTwztF9"
      },
      "execution_count": null,
      "outputs": [
        {
          "output_type": "display_data",
          "data": {
            "text/plain": [
              "  0%|          | 0/1 [00:00<?, ?ba/s]"
            ],
            "application/vnd.jupyter.widget-view+json": {
              "version_major": 2,
              "version_minor": 0,
              "model_id": "dbf56ad45dcf45d5933bae1e3efbd5dd"
            }
          },
          "metadata": {}
        }
      ]
    },
    {
      "cell_type": "code",
      "source": [
        "full_test_dataset = tokenized_datasets[\"test\"]"
      ],
      "metadata": {
        "id": "-RPfxvJzztF-"
      },
      "execution_count": null,
      "outputs": []
    },
    {
      "cell_type": "markdown",
      "source": [
        "# 2. preparing BERT\n"
      ],
      "metadata": {
        "id": "b_--z1W3ztF-"
      }
    },
    {
      "cell_type": "code",
      "source": [
        "from transformers import AutoModelForSequenceClassification\n",
        "\n",
        "# available chinese models: https://github.com/ymcui/Chinese-BERT-wwm\n",
        "\n",
        "model = AutoModelForSequenceClassification.from_pretrained(model_classifier, \n",
        "                                                           num_labels=2)"
      ],
      "metadata": {
        "colab": {
          "base_uri": "https://localhost:8080/"
        },
        "outputId": "aabc171a-7b93-4a70-cde4-168a8cd2dfd1",
        "id": "zAYr0zxOztF-"
      },
      "execution_count": null,
      "outputs": [
        {
          "output_type": "stream",
          "name": "stderr",
          "text": [
            "loading configuration file config.json from cache at /root/.cache/huggingface/hub/models--owen198--weibo-wmmbert-2/snapshots/1c8b069ca4f42474887b1be5ddb45d0b190b785d/config.json\n",
            "Model config BertConfig {\n",
            "  \"_name_or_path\": \"owen198/weibo-wmmbert-2\",\n",
            "  \"architectures\": [\n",
            "    \"BertForSequenceClassification\"\n",
            "  ],\n",
            "  \"attention_probs_dropout_prob\": 0.1,\n",
            "  \"classifier_dropout\": null,\n",
            "  \"directionality\": \"bidi\",\n",
            "  \"hidden_act\": \"gelu\",\n",
            "  \"hidden_dropout_prob\": 0.1,\n",
            "  \"hidden_size\": 768,\n",
            "  \"initializer_range\": 0.02,\n",
            "  \"intermediate_size\": 3072,\n",
            "  \"layer_norm_eps\": 1e-12,\n",
            "  \"max_position_embeddings\": 512,\n",
            "  \"model_type\": \"bert\",\n",
            "  \"num_attention_heads\": 12,\n",
            "  \"num_hidden_layers\": 12,\n",
            "  \"output_past\": true,\n",
            "  \"pad_token_id\": 0,\n",
            "  \"pooler_fc_size\": 768,\n",
            "  \"pooler_num_attention_heads\": 12,\n",
            "  \"pooler_num_fc_layers\": 3,\n",
            "  \"pooler_size_per_head\": 128,\n",
            "  \"pooler_type\": \"first_token_transform\",\n",
            "  \"position_embedding_type\": \"absolute\",\n",
            "  \"problem_type\": \"single_label_classification\",\n",
            "  \"torch_dtype\": \"float32\",\n",
            "  \"transformers_version\": \"4.25.1\",\n",
            "  \"type_vocab_size\": 2,\n",
            "  \"use_cache\": true,\n",
            "  \"vocab_size\": 21128\n",
            "}\n",
            "\n",
            "loading weights file pytorch_model.bin from cache at /root/.cache/huggingface/hub/models--owen198--weibo-wmmbert-2/snapshots/1c8b069ca4f42474887b1be5ddb45d0b190b785d/pytorch_model.bin\n",
            "All model checkpoint weights were used when initializing BertForSequenceClassification.\n",
            "\n",
            "All the weights of BertForSequenceClassification were initialized from the model checkpoint at owen198/weibo-wmmbert-2.\n",
            "If your task is similar to the task the model of the checkpoint was trained on, you can already use BertForSequenceClassification for predictions without further training.\n"
          ]
        }
      ]
    },
    {
      "cell_type": "code",
      "source": [
        "from datasets import load_metric\n",
        "\n",
        "metric = load_metric(\"accuracy\")\n",
        "\n",
        "def compute_metrics(eval_pred):\n",
        "    logits, labels = eval_pred\n",
        "    predictions = np.argmax(logits, axis=-1)\n",
        "    return metric.compute(predictions=predictions, references=labels)"
      ],
      "metadata": {
        "id": "ZULRGH4FztF-"
      },
      "execution_count": null,
      "outputs": []
    },
    {
      "cell_type": "code",
      "source": [
        "from transformers import Trainer\n",
        "\n",
        "trainer = Trainer(\n",
        "    model=model, \n",
        "    eval_dataset=full_test_dataset,\n",
        "    compute_metrics=compute_metrics,\n",
        ")"
      ],
      "metadata": {
        "colab": {
          "base_uri": "https://localhost:8080/"
        },
        "outputId": "74c2d9da-0da3-4734-cb55-b92d404654d0",
        "id": "-EKYgq1xztF_"
      },
      "execution_count": null,
      "outputs": [
        {
          "output_type": "stream",
          "name": "stderr",
          "text": [
            "No `TrainingArguments` passed, using `output_dir=tmp_trainer`.\n",
            "PyTorch: setting up devices\n",
            "The default value for the training argument `--report_to` will change in v5 (from all installed integrations to none). In v5, you will need to use `--report_to all` to get the same behavior as now. You should start updating your code and make this info disappear :-).\n"
          ]
        }
      ]
    },
    {
      "cell_type": "code",
      "source": [
        "import numpy as np"
      ],
      "metadata": {
        "id": "BanthUlaztF_"
      },
      "execution_count": null,
      "outputs": []
    },
    {
      "cell_type": "markdown",
      "source": [
        "#prediction results\n"
      ],
      "metadata": {
        "id": "KkAbua19ztF_"
      }
    },
    {
      "cell_type": "code",
      "source": [
        "pred = trainer.predict(test_dataset=full_test_dataset)"
      ],
      "metadata": {
        "colab": {
          "base_uri": "https://localhost:8080/"
        },
        "outputId": "4e9d9945-60c5-48a9-9277-509df5823e98",
        "id": "4WvC6V8oztF_"
      },
      "execution_count": null,
      "outputs": [
        {
          "output_type": "stream",
          "name": "stderr",
          "text": [
            "The following columns in the test set don't have a corresponding argument in `BertForSequenceClassification.forward` and have been ignored: text. If text are not expected by `BertForSequenceClassification.forward`,  you can safely ignore this message.\n",
            "***** Running Prediction *****\n",
            "  Num examples = 241\n",
            "  Batch size = 8\n"
          ]
        },
        {
          "output_type": "display_data",
          "data": {
            "text/plain": [
              "<IPython.core.display.HTML object>"
            ],
            "text/html": []
          },
          "metadata": {}
        }
      ]
    },
    {
      "cell_type": "code",
      "source": [
        "pred"
      ],
      "metadata": {
        "outputId": "897c3e6a-e82b-4879-f770-ed2affa69ced",
        "colab": {
          "base_uri": "https://localhost:8080/"
        },
        "id": "dUffCA6sztGA"
      },
      "execution_count": null,
      "outputs": [
        {
          "output_type": "execute_result",
          "data": {
            "text/plain": [
              "PredictionOutput(predictions=array([[ 1.7683254 , -2.331489  ],\n",
              "       [ 1.5304403 , -1.8928704 ],\n",
              "       [ 2.4166534 , -3.5177443 ],\n",
              "       [-2.679561  ,  2.6789322 ],\n",
              "       [-0.2962486 ,  0.7383735 ],\n",
              "       [ 2.1061296 , -2.7207685 ],\n",
              "       [-2.5859306 ,  2.624255  ],\n",
              "       [-2.6270993 ,  2.6485035 ],\n",
              "       [-2.6270993 ,  2.6485035 ],\n",
              "       [-1.772682  ,  1.7107605 ],\n",
              "       [ 2.0333538 , -2.6400042 ],\n",
              "       [ 1.7803727 , -2.348051  ],\n",
              "       [ 1.7297972 , -2.2753239 ],\n",
              "       [-1.9376376 ,  1.9757713 ],\n",
              "       [-1.9376376 ,  1.9757713 ],\n",
              "       [ 1.7297972 , -2.2753239 ],\n",
              "       [ 2.1061296 , -2.7207685 ],\n",
              "       [-1.9972774 ,  2.06507   ],\n",
              "       [ 1.6435193 , -2.1281898 ],\n",
              "       [-2.0650373 ,  2.1607034 ],\n",
              "       [ 1.735233  , -2.2835538 ],\n",
              "       [ 1.7806976 , -2.3485284 ],\n",
              "       [ 1.6678098 , -2.172773  ],\n",
              "       [ 2.0986996 , -2.7122366 ],\n",
              "       [ 2.296345  , -3.0741253 ],\n",
              "       [ 2.1061296 , -2.7207685 ],\n",
              "       [ 1.5609497 , -1.9663738 ],\n",
              "       [-1.3433001 ,  1.314548  ],\n",
              "       [ 2.1061296 , -2.7207685 ],\n",
              "       [ 2.1061296 , -2.7207685 ],\n",
              "       [-1.8028914 ,  1.7569902 ],\n",
              "       [ 1.5408168 , -1.9205071 ],\n",
              "       [-1.534996  ,  1.451362  ],\n",
              "       [ 2.1061296 , -2.7207685 ],\n",
              "       [ 1.7297972 , -2.2753239 ],\n",
              "       [ 1.5712274 , -1.9880078 ],\n",
              "       [ 1.6435193 , -2.1281898 ],\n",
              "       [ 1.4191003 , -1.1815107 ],\n",
              "       [ 1.531342  , -1.900425  ],\n",
              "       [ 1.6435193 , -2.1281898 ],\n",
              "       [ 1.8165927 , -2.3956096 ],\n",
              "       [ 1.5609497 , -1.9663738 ],\n",
              "       [ 1.7364439 , -2.2853513 ],\n",
              "       [ 2.1061296 , -2.7207685 ],\n",
              "       [ 1.7806976 , -2.3485284 ],\n",
              "       [ 1.7806976 , -2.3485284 ],\n",
              "       [ 2.1061296 , -2.7207685 ],\n",
              "       [ 2.296345  , -3.0741253 ],\n",
              "       [ 2.296345  , -3.0741253 ],\n",
              "       [ 1.6904191 , -2.212061  ],\n",
              "       [-0.11259893,  0.45969817],\n",
              "       [ 1.7297972 , -2.2753239 ],\n",
              "       [ 1.7806976 , -2.3485284 ],\n",
              "       [ 2.1061296 , -2.7207685 ],\n",
              "       [ 1.5609497 , -1.9663738 ],\n",
              "       [ 1.8953547 , -2.4896958 ],\n",
              "       [ 2.1061296 , -2.7207685 ],\n",
              "       [ 2.18356   , -2.8182766 ],\n",
              "       [-1.7610805 ,  1.6937778 ],\n",
              "       [ 0.76776516, -0.1812777 ],\n",
              "       [ 2.1061296 , -2.7207685 ],\n",
              "       [ 2.3494027 , -3.3077369 ],\n",
              "       [ 1.6436392 , -2.1283953 ],\n",
              "       [ 2.296345  , -3.0741253 ],\n",
              "       [ 1.6435193 , -2.1281898 ],\n",
              "       [ 1.7976013 , -2.3710866 ],\n",
              "       [ 2.1061296 , -2.7207685 ],\n",
              "       [ 1.6435193 , -2.1281898 ],\n",
              "       [ 0.65450835, -1.1627066 ],\n",
              "       [ 2.1061296 , -2.7207685 ],\n",
              "       [ 1.7723446 , -2.3370593 ],\n",
              "       [ 1.7297972 , -2.2753239 ],\n",
              "       [ 2.1061296 , -2.7207685 ],\n",
              "       [ 2.1061296 , -2.7207685 ],\n",
              "       [ 1.7297972 , -2.2753239 ],\n",
              "       [ 1.7297972 , -2.2753239 ],\n",
              "       [ 0.65450835, -1.1627066 ],\n",
              "       [ 0.65450835, -1.1627066 ],\n",
              "       [ 1.6436392 , -2.1283953 ],\n",
              "       [ 2.1061296 , -2.7207685 ],\n",
              "       [ 1.6682237 , -2.1734424 ],\n",
              "       [ 1.8416637 , -2.4267302 ],\n",
              "       [ 1.7297972 , -2.2753239 ],\n",
              "       [ 2.1061296 , -2.7207685 ],\n",
              "       [ 1.6880692 , -2.2080536 ],\n",
              "       [ 2.296345  , -3.0741253 ],\n",
              "       [ 2.1061296 , -2.7207685 ],\n",
              "       [ 1.7297972 , -2.2753239 ],\n",
              "       [ 0.84377533, -1.1222333 ],\n",
              "       [ 1.6435193 , -2.1281898 ],\n",
              "       [-0.11158767,  0.4549175 ],\n",
              "       [ 2.1061296 , -2.7207685 ],\n",
              "       [ 1.7297972 , -2.2753239 ],\n",
              "       [-2.1569781 ,  2.2791538 ],\n",
              "       [ 2.2796407 , -3.012988  ],\n",
              "       [ 1.580814  , -2.0061688 ],\n",
              "       [ 2.1426387 , -2.7643225 ],\n",
              "       [ 1.6435193 , -2.1281898 ],\n",
              "       [ 1.7806976 , -2.3485284 ],\n",
              "       [-2.3292572 ,  2.4479284 ],\n",
              "       [-1.8654824 ,  1.8594398 ],\n",
              "       [ 1.6813891 , -2.196603  ],\n",
              "       [ 2.1061296 , -2.7207685 ],\n",
              "       [ 1.5609497 , -1.9663738 ],\n",
              "       [ 1.4450984 , -1.6187321 ],\n",
              "       [ 1.5609497 , -1.9663738 ],\n",
              "       [-1.8526865 ,  1.8382207 ],\n",
              "       [ 1.7297972 , -2.2753239 ],\n",
              "       [-2.0367656 ,  2.121444  ],\n",
              "       [ 2.1383657 , -2.7590606 ],\n",
              "       [ 2.2923193 , -3.0579777 ],\n",
              "       [ 2.1061296 , -2.7207685 ],\n",
              "       [ 1.5609497 , -1.9663738 ],\n",
              "       [-1.8363432 ,  1.8111845 ],\n",
              "       [ 1.735233  , -2.2835538 ],\n",
              "       [ 1.7806976 , -2.3485284 ],\n",
              "       [ 1.735233  , -2.2835538 ],\n",
              "       [-1.6716225 ,  1.5809714 ],\n",
              "       [ 2.1061296 , -2.7207685 ],\n",
              "       [ 2.296345  , -3.0741253 ],\n",
              "       [ 1.580814  , -2.0061688 ],\n",
              "       [ 2.296345  , -3.0741253 ],\n",
              "       [ 1.8503858 , -2.4372566 ],\n",
              "       [-1.8941618 ,  1.9066168 ],\n",
              "       [-1.6716225 ,  1.5809714 ],\n",
              "       [ 1.6435193 , -2.1281898 ],\n",
              "       [ 1.6678098 , -2.172773  ],\n",
              "       [-0.03486697,  0.39820734],\n",
              "       [ 1.8841078 , -2.4768362 ],\n",
              "       [ 1.7297972 , -2.2753239 ],\n",
              "       [-1.6716225 ,  1.5809714 ],\n",
              "       [ 2.296345  , -3.0741253 ],\n",
              "       [ 2.1061296 , -2.7207685 ],\n",
              "       [ 1.7568151 , -2.3152277 ],\n",
              "       [ 2.296345  , -3.0741253 ],\n",
              "       [ 2.12017   , -2.7371569 ],\n",
              "       [ 1.6435193 , -2.1281898 ],\n",
              "       [ 1.5609497 , -1.9663738 ],\n",
              "       [ 2.0813954 , -2.6926804 ],\n",
              "       [ 1.7704036 , -2.3343766 ],\n",
              "       [ 2.1061296 , -2.7207685 ],\n",
              "       [ 1.7723446 , -2.3370593 ],\n",
              "       [ 2.1886926 , -2.825609  ],\n",
              "       [ 1.777439  , -2.3440819 ],\n",
              "       [ 2.296345  , -3.0741253 ],\n",
              "       [-2.0929945 ,  2.1984675 ],\n",
              "       [-2.4100776 ,  2.5097218 ],\n",
              "       [ 2.3438303 , -3.2863197 ],\n",
              "       [ 2.0529075 , -2.661231  ],\n",
              "       [-1.5882792 ,  1.4974908 ],\n",
              "       [-2.7030864 ,  2.6926136 ],\n",
              "       [ 2.296345  , -3.0741253 ],\n",
              "       [ 1.4768748 , -1.7480885 ],\n",
              "       [ 1.6435193 , -2.1281898 ],\n",
              "       [-2.3428411 ,  2.4588618 ],\n",
              "       [ 1.6447383 , -2.1303782 ],\n",
              "       [ 1.9924839 , -2.5960279 ],\n",
              "       [ 2.3438303 , -3.2863197 ],\n",
              "       [ 1.6212604 , -2.0855134 ],\n",
              "       [ 1.7297972 , -2.2753239 ],\n",
              "       [ 0.01408943,  0.51142454],\n",
              "       [ 1.935737  , -2.5346534 ],\n",
              "       [-1.7919805 ,  1.7399685 ],\n",
              "       [ 1.6435193 , -2.1281898 ],\n",
              "       [ 1.6682237 , -2.1734424 ],\n",
              "       [ 2.1372087 , -2.757644  ],\n",
              "       [-1.8777324 ,  1.8796967 ],\n",
              "       [-2.2646391 ,  2.3920207 ],\n",
              "       [-2.2615595 ,  2.389162  ],\n",
              "       [ 1.5609497 , -1.9663738 ],\n",
              "       [ 1.5301412 , -1.8970308 ],\n",
              "       [ 2.0519533 , -2.6601644 ],\n",
              "       [-1.7321159 ,  1.6539164 ],\n",
              "       [ 1.5241185 , -1.1511573 ],\n",
              "       [ 1.841926  , -2.427073  ],\n",
              "       [ 1.6880056 , -2.2079213 ],\n",
              "       [ 2.1640286 , -2.7916336 ],\n",
              "       [ 1.5803598 , -2.0059605 ],\n",
              "       [ 1.5803598 , -2.0059605 ],\n",
              "       [ 1.7631139 , -2.3241615 ],\n",
              "       [ 1.6302238 , -2.1029446 ],\n",
              "       [-2.1522102 ,  2.2734723 ],\n",
              "       [-1.8124852 ,  1.7722976 ],\n",
              "       [ 1.8669468 , -2.4569101 ],\n",
              "       [ 1.9459751 , -2.545833  ],\n",
              "       [ 2.3438303 , -3.2863197 ],\n",
              "       [ 1.6682237 , -2.1734424 ],\n",
              "       [ 1.7297972 , -2.2753239 ],\n",
              "       [ 1.5609497 , -1.9663738 ],\n",
              "       [ 2.3438303 , -3.2863197 ],\n",
              "       [ 1.7297972 , -2.2753239 ],\n",
              "       [ 0.12119776,  0.50524175],\n",
              "       [-1.8570931 ,  1.8455335 ],\n",
              "       [ 1.7723446 , -2.3370593 ],\n",
              "       [ 2.3489866 , -3.306136  ],\n",
              "       [ 2.3655355 , -3.364485  ],\n",
              "       [ 2.3655355 , -3.364485  ],\n",
              "       [ 2.3438303 , -3.2863197 ],\n",
              "       [-2.4892824 ,  2.5640724 ],\n",
              "       [ 2.1061296 , -2.7207685 ],\n",
              "       [ 1.4463094 , -1.4076617 ],\n",
              "       [ 2.3489866 , -3.306136  ],\n",
              "       [-1.8551823 ,  1.8423661 ],\n",
              "       [ 2.3106642 , -3.1377091 ],\n",
              "       [ 2.3438303 , -3.2863197 ],\n",
              "       [ 2.3001692 , -3.090213  ],\n",
              "       [ 2.353047  , -3.3211467 ],\n",
              "       [ 2.3880959 , -3.4355278 ],\n",
              "       [ 2.3296716 , -3.2268553 ],\n",
              "       [ 2.3581967 , -3.3394864 ],\n",
              "       [ 1.777439  , -2.3440819 ],\n",
              "       [ 1.5680659 , -1.9804112 ],\n",
              "       [ 1.5680659 , -1.9804112 ],\n",
              "       [ 2.353047  , -3.3211467 ],\n",
              "       [ 2.0924845 , -2.705185  ],\n",
              "       [ 1.742689  , -2.2946072 ],\n",
              "       [ 2.4025955 , -3.4780805 ],\n",
              "       [ 2.4025955 , -3.4780805 ],\n",
              "       [ 2.2052538 , -2.8505824 ],\n",
              "       [ 2.1409318 , -2.7622316 ],\n",
              "       [ 2.1409318 , -2.7622316 ],\n",
              "       [-1.7800514 ,  1.72177   ],\n",
              "       [-1.9545739 ,  2.0017455 ],\n",
              "       [ 1.588132  , -2.021642  ],\n",
              "       [ 1.7800957 , -2.3477066 ],\n",
              "       [ 1.6334101 , -2.1089637 ],\n",
              "       [ 1.7302357 , -2.2759438 ],\n",
              "       [ 1.7189804 , -2.2585707 ],\n",
              "       [ 1.7189804 , -2.2585707 ],\n",
              "       [ 1.7302357 , -2.2759438 ],\n",
              "       [ 2.353047  , -3.3211467 ],\n",
              "       [ 1.902444  , -2.497713  ],\n",
              "       [ 2.353047  , -3.3211467 ],\n",
              "       [ 2.2943447 , -3.0660546 ],\n",
              "       [-1.5844111 ,  1.4940739 ],\n",
              "       [-2.0505404 ,  2.1406932 ],\n",
              "       [-2.2785912 ,  2.4047103 ],\n",
              "       [-1.5737903 ,  1.4845736 ],\n",
              "       [ 1.910646  , -2.506898  ],\n",
              "       [ 2.4574723 , -3.6243684 ],\n",
              "       [-2.4957001 ,  2.5682554 ]], dtype=float32), label_ids=None, metrics={'test_runtime': 7.2422, 'test_samples_per_second': 33.277, 'test_steps_per_second': 4.28})"
            ]
          },
          "metadata": {},
          "execution_count": 512
        }
      ]
    },
    {
      "cell_type": "code",
      "source": [
        "# logits, labels = pred.predictions\n",
        "np.argmax(pred.predictions, axis=-1)"
      ],
      "metadata": {
        "outputId": "078b2b6b-750b-408f-f6f8-48bfa90b2b63",
        "colab": {
          "base_uri": "https://localhost:8080/"
        },
        "id": "8uyjWn8WztGA"
      },
      "execution_count": null,
      "outputs": [
        {
          "output_type": "execute_result",
          "data": {
            "text/plain": [
              "array([0, 0, 0, 1, 1, 0, 1, 1, 1, 1, 0, 0, 0, 1, 1, 0, 0, 1, 0, 1, 0, 0,\n",
              "       0, 0, 0, 0, 0, 1, 0, 0, 1, 0, 1, 0, 0, 0, 0, 0, 0, 0, 0, 0, 0, 0,\n",
              "       0, 0, 0, 0, 0, 0, 1, 0, 0, 0, 0, 0, 0, 0, 1, 0, 0, 0, 0, 0, 0, 0,\n",
              "       0, 0, 0, 0, 0, 0, 0, 0, 0, 0, 0, 0, 0, 0, 0, 0, 0, 0, 0, 0, 0, 0,\n",
              "       0, 0, 1, 0, 0, 1, 0, 0, 0, 0, 0, 1, 1, 0, 0, 0, 0, 0, 1, 0, 1, 0,\n",
              "       0, 0, 0, 1, 0, 0, 0, 1, 0, 0, 0, 0, 0, 1, 1, 0, 0, 1, 0, 0, 1, 0,\n",
              "       0, 0, 0, 0, 0, 0, 0, 0, 0, 0, 0, 0, 0, 1, 1, 0, 0, 1, 1, 0, 0, 0,\n",
              "       1, 0, 0, 0, 0, 0, 1, 0, 1, 0, 0, 0, 1, 1, 1, 0, 0, 0, 1, 0, 0, 0,\n",
              "       0, 0, 0, 0, 0, 1, 1, 0, 0, 0, 0, 0, 0, 0, 0, 1, 1, 0, 0, 0, 0, 0,\n",
              "       1, 0, 0, 0, 1, 0, 0, 0, 0, 0, 0, 0, 0, 0, 0, 0, 0, 0, 0, 0, 0, 0,\n",
              "       0, 1, 1, 0, 0, 0, 0, 0, 0, 0, 0, 0, 0, 0, 1, 1, 1, 1, 0, 0, 1])"
            ]
          },
          "metadata": {},
          "execution_count": 513
        }
      ]
    },
    {
      "cell_type": "code",
      "source": [
        "testing_pd['pred'] = np.argmax(pred.predictions, axis=-1)"
      ],
      "metadata": {
        "id": "L9R90linztGA"
      },
      "execution_count": null,
      "outputs": []
    },
    {
      "cell_type": "code",
      "source": [
        "#final table\n",
        "testing_pd"
      ],
      "metadata": {
        "outputId": "3bfdc0f5-e713-4216-a5fa-1e3d8938d44c",
        "colab": {
          "base_uri": "https://localhost:8080/"
        },
        "id": "RkoVNBBhztGA"
      },
      "execution_count": null,
      "outputs": [
        {
          "output_type": "execute_result",
          "data": {
            "text/plain": [
              "                                                  text  pred\n",
              "0    台湾的“九合一”选举26日投票，蓝绿阵营25日尽最后努力拉票。台湾地区领导人蔡英文到多个县市...     0\n",
              "1    蔡英文宣布辞去民进党主席职务。  #蔡英文宣布辞去民进党主席职务##蔡英文辞去民进党主席职务...     0\n",
              "2    据台湾中央社报道，台湾地区行政长官蔡英文在市政选举失败后于周六辞去执政的民进党主席一职。O台...     0\n",
              "3    国台办发言人朱凤莲26日晚就台湾地区“九合一”选举结果应询表示，我们注意到这次选举的结果。这...     1\n",
              "4    #蔡英文辞去民进党主席职务#据新华社消息：11月26日晚间，蔡英文宣布辞去民进党主席职务，以...     1\n",
              "..                                                 ...   ...\n",
              "236  台湾领导人蔡英文在民进党地方选举失败后辞去民进党主席一职。莫斯科国立国际关系学院国际研究所高...     1\n",
              "237  刚刚结束的台湾地区基层公职人员“九合一”选举结果显示，在已选举产生的21个县市长中，民进党仅...     1\n",
              "238  #蔡英文宣布辞去民进党主席职务##两岸头条# 台湾地区“九合一”选举民进党大败，蔡英文辞去党...     0\n",
              "239          “九合一”大溃败，台湾民众为何给民进党和蔡英文颜色看？ L中国台湾网的微博视频 ​     0\n",
              "240  #台湾地区九合一选举结果揭晓# 台湾“九合一”选举11月26日结束，在野的国民党继2018年...     1\n",
              "\n",
              "[241 rows x 2 columns]"
            ],
            "text/html": [
              "\n",
              "  <div id=\"df-fb86f31f-22e7-4c24-9ca9-14b49f222c8e\">\n",
              "    <div class=\"colab-df-container\">\n",
              "      <div>\n",
              "<style scoped>\n",
              "    .dataframe tbody tr th:only-of-type {\n",
              "        vertical-align: middle;\n",
              "    }\n",
              "\n",
              "    .dataframe tbody tr th {\n",
              "        vertical-align: top;\n",
              "    }\n",
              "\n",
              "    .dataframe thead th {\n",
              "        text-align: right;\n",
              "    }\n",
              "</style>\n",
              "<table border=\"1\" class=\"dataframe\">\n",
              "  <thead>\n",
              "    <tr style=\"text-align: right;\">\n",
              "      <th></th>\n",
              "      <th>text</th>\n",
              "      <th>pred</th>\n",
              "    </tr>\n",
              "  </thead>\n",
              "  <tbody>\n",
              "    <tr>\n",
              "      <th>0</th>\n",
              "      <td>台湾的“九合一”选举26日投票，蓝绿阵营25日尽最后努力拉票。台湾地区领导人蔡英文到多个县市...</td>\n",
              "      <td>0</td>\n",
              "    </tr>\n",
              "    <tr>\n",
              "      <th>1</th>\n",
              "      <td>蔡英文宣布辞去民进党主席职务。  #蔡英文宣布辞去民进党主席职务##蔡英文辞去民进党主席职务...</td>\n",
              "      <td>0</td>\n",
              "    </tr>\n",
              "    <tr>\n",
              "      <th>2</th>\n",
              "      <td>据台湾中央社报道，台湾地区行政长官蔡英文在市政选举失败后于周六辞去执政的民进党主席一职。O台...</td>\n",
              "      <td>0</td>\n",
              "    </tr>\n",
              "    <tr>\n",
              "      <th>3</th>\n",
              "      <td>国台办发言人朱凤莲26日晚就台湾地区“九合一”选举结果应询表示，我们注意到这次选举的结果。这...</td>\n",
              "      <td>1</td>\n",
              "    </tr>\n",
              "    <tr>\n",
              "      <th>4</th>\n",
              "      <td>#蔡英文辞去民进党主席职务#据新华社消息：11月26日晚间，蔡英文宣布辞去民进党主席职务，以...</td>\n",
              "      <td>1</td>\n",
              "    </tr>\n",
              "    <tr>\n",
              "      <th>...</th>\n",
              "      <td>...</td>\n",
              "      <td>...</td>\n",
              "    </tr>\n",
              "    <tr>\n",
              "      <th>236</th>\n",
              "      <td>台湾领导人蔡英文在民进党地方选举失败后辞去民进党主席一职。莫斯科国立国际关系学院国际研究所高...</td>\n",
              "      <td>1</td>\n",
              "    </tr>\n",
              "    <tr>\n",
              "      <th>237</th>\n",
              "      <td>刚刚结束的台湾地区基层公职人员“九合一”选举结果显示，在已选举产生的21个县市长中，民进党仅...</td>\n",
              "      <td>1</td>\n",
              "    </tr>\n",
              "    <tr>\n",
              "      <th>238</th>\n",
              "      <td>#蔡英文宣布辞去民进党主席职务##两岸头条# 台湾地区“九合一”选举民进党大败，蔡英文辞去党...</td>\n",
              "      <td>0</td>\n",
              "    </tr>\n",
              "    <tr>\n",
              "      <th>239</th>\n",
              "      <td>“九合一”大溃败，台湾民众为何给民进党和蔡英文颜色看？ L中国台湾网的微博视频 ​</td>\n",
              "      <td>0</td>\n",
              "    </tr>\n",
              "    <tr>\n",
              "      <th>240</th>\n",
              "      <td>#台湾地区九合一选举结果揭晓# 台湾“九合一”选举11月26日结束，在野的国民党继2018年...</td>\n",
              "      <td>1</td>\n",
              "    </tr>\n",
              "  </tbody>\n",
              "</table>\n",
              "<p>241 rows × 2 columns</p>\n",
              "</div>\n",
              "      <button class=\"colab-df-convert\" onclick=\"convertToInteractive('df-fb86f31f-22e7-4c24-9ca9-14b49f222c8e')\"\n",
              "              title=\"Convert this dataframe to an interactive table.\"\n",
              "              style=\"display:none;\">\n",
              "        \n",
              "  <svg xmlns=\"http://www.w3.org/2000/svg\" height=\"24px\"viewBox=\"0 0 24 24\"\n",
              "       width=\"24px\">\n",
              "    <path d=\"M0 0h24v24H0V0z\" fill=\"none\"/>\n",
              "    <path d=\"M18.56 5.44l.94 2.06.94-2.06 2.06-.94-2.06-.94-.94-2.06-.94 2.06-2.06.94zm-11 1L8.5 8.5l.94-2.06 2.06-.94-2.06-.94L8.5 2.5l-.94 2.06-2.06.94zm10 10l.94 2.06.94-2.06 2.06-.94-2.06-.94-.94-2.06-.94 2.06-2.06.94z\"/><path d=\"M17.41 7.96l-1.37-1.37c-.4-.4-.92-.59-1.43-.59-.52 0-1.04.2-1.43.59L10.3 9.45l-7.72 7.72c-.78.78-.78 2.05 0 2.83L4 21.41c.39.39.9.59 1.41.59.51 0 1.02-.2 1.41-.59l7.78-7.78 2.81-2.81c.8-.78.8-2.07 0-2.86zM5.41 20L4 18.59l7.72-7.72 1.47 1.35L5.41 20z\"/>\n",
              "  </svg>\n",
              "      </button>\n",
              "      \n",
              "  <style>\n",
              "    .colab-df-container {\n",
              "      display:flex;\n",
              "      flex-wrap:wrap;\n",
              "      gap: 12px;\n",
              "    }\n",
              "\n",
              "    .colab-df-convert {\n",
              "      background-color: #E8F0FE;\n",
              "      border: none;\n",
              "      border-radius: 50%;\n",
              "      cursor: pointer;\n",
              "      display: none;\n",
              "      fill: #1967D2;\n",
              "      height: 32px;\n",
              "      padding: 0 0 0 0;\n",
              "      width: 32px;\n",
              "    }\n",
              "\n",
              "    .colab-df-convert:hover {\n",
              "      background-color: #E2EBFA;\n",
              "      box-shadow: 0px 1px 2px rgba(60, 64, 67, 0.3), 0px 1px 3px 1px rgba(60, 64, 67, 0.15);\n",
              "      fill: #174EA6;\n",
              "    }\n",
              "\n",
              "    [theme=dark] .colab-df-convert {\n",
              "      background-color: #3B4455;\n",
              "      fill: #D2E3FC;\n",
              "    }\n",
              "\n",
              "    [theme=dark] .colab-df-convert:hover {\n",
              "      background-color: #434B5C;\n",
              "      box-shadow: 0px 1px 3px 1px rgba(0, 0, 0, 0.15);\n",
              "      filter: drop-shadow(0px 1px 2px rgba(0, 0, 0, 0.3));\n",
              "      fill: #FFFFFF;\n",
              "    }\n",
              "  </style>\n",
              "\n",
              "      <script>\n",
              "        const buttonEl =\n",
              "          document.querySelector('#df-fb86f31f-22e7-4c24-9ca9-14b49f222c8e button.colab-df-convert');\n",
              "        buttonEl.style.display =\n",
              "          google.colab.kernel.accessAllowed ? 'block' : 'none';\n",
              "\n",
              "        async function convertToInteractive(key) {\n",
              "          const element = document.querySelector('#df-fb86f31f-22e7-4c24-9ca9-14b49f222c8e');\n",
              "          const dataTable =\n",
              "            await google.colab.kernel.invokeFunction('convertToInteractive',\n",
              "                                                     [key], {});\n",
              "          if (!dataTable) return;\n",
              "\n",
              "          const docLinkHtml = 'Like what you see? Visit the ' +\n",
              "            '<a target=\"_blank\" href=https://colab.research.google.com/notebooks/data_table.ipynb>data table notebook</a>'\n",
              "            + ' to learn more about interactive tables.';\n",
              "          element.innerHTML = '';\n",
              "          dataTable['output_type'] = 'display_data';\n",
              "          await google.colab.output.renderOutput(dataTable, element);\n",
              "          const docLink = document.createElement('div');\n",
              "          docLink.innerHTML = docLinkHtml;\n",
              "          element.appendChild(docLink);\n",
              "        }\n",
              "      </script>\n",
              "    </div>\n",
              "  </div>\n",
              "  "
            ]
          },
          "metadata": {},
          "execution_count": 515
        }
      ]
    },
    {
      "cell_type": "markdown",
      "source": [
        "# graphs"
      ],
      "metadata": {
        "id": "6UnVXDqZeb1n"
      }
    },
    {
      "cell_type": "code",
      "source": [
        "count0 = (testing_pd['pred'] == 0).sum()\n",
        "count1 = (testing_pd['pred'] == 1).sum()\n",
        "print(count0, count1)"
      ],
      "metadata": {
        "colab": {
          "base_uri": "https://localhost:8080/"
        },
        "outputId": "8163f621-63fc-44fe-dfe9-41ce338d1b1a",
        "id": "egtgzEwzztGA"
      },
      "execution_count": null,
      "outputs": [
        {
          "output_type": "stream",
          "name": "stdout",
          "text": [
            "190 51\n"
          ]
        }
      ]
    },
    {
      "cell_type": "code",
      "source": [
        "#plot in total amounts. Remember, 0 = negative, 1 = positive\n",
        "import matplotlib.pyplot as plt\n",
        "count0 = (testing_pd['pred'] == 0).sum()\n",
        "count1 = (testing_pd['pred'] == 1).sum()\n",
        "df_plot=pd.DataFrame({'result in numbers': ['_'], 'negative':[count0], 'positive': [count1]})\n",
        "df_plot.plot.bar(x='result in numbers', figsize=(10, 10))\n",
        "plt.show()"
      ],
      "metadata": {
        "colab": {
          "base_uri": "https://localhost:8080/",
          "height": 601
        },
        "id": "sPfNPRVneBeP",
        "outputId": "513c23d9-426e-417e-fdf3-bc14e99a25b0"
      },
      "execution_count": null,
      "outputs": [
        {
          "output_type": "display_data",
          "data": {
            "text/plain": [
              "<Figure size 720x720 with 1 Axes>"
            ],
            "image/png": "[encoded data removed]"
          },
          "metadata": {
            "needs_background": "light"
          }
        }
      ]
    },
    {
      "cell_type": "code",
      "source": [
        "#def Percentage(num1, num2):\n",
        "#    return num1 / (num1 + num2) * 100\n",
        "    \n",
        "#print(Percentage(count0, count1))\n",
        "#print(Percentage(count1, count0))\n",
        "\n",
        "def Percentage(num1, num2):\n",
        "    return num1 / (num1 + num2) * 100\n",
        "\n",
        "#plot in percentage. Remember, 0 = negative, 1 = positive\n",
        "per1=Percentage(count0, count1)\n",
        "per2=Percentage(count1, count0)\n",
        "\n",
        "label = ['negative', 'positive']\n",
        "shares = [per1, per2]\n",
        "fig, ax = plt.subplots(figsize=(10,10))\n",
        "ax.pie(shares, labels=label, autopct='%.2f%%', shadow=False, labeldistance=1.1,  textprops={'fontsize': 14})\n",
        "ax.set_title('Tsai Ing-wen after', fontsize=18, y=0.95);"
      ],
      "metadata": {
        "colab": {
          "base_uri": "https://localhost:8080/",
          "height": 575
        },
        "outputId": "2945e113-8d89-4328-c76d-359310d3134a",
        "id": "JPFSNwCWztGB"
      },
      "execution_count": null,
      "outputs": [
        {
          "output_type": "display_data",
          "data": {
            "text/plain": [
              "<Figure size 720x720 with 1 Axes>"
            ],
            "image/png": "[encoded data removed]"
          },
          "metadata": {}
        }
      ]
    },
    {
      "cell_type": "markdown",
      "source": [
        "#**Chiang before**"
      ],
      "metadata": {
        "id": "xx1P9IlK1-q_"
      }
    },
    {
      "cell_type": "markdown",
      "source": [
        "# 1. load and clean data"
      ],
      "metadata": {
        "id": "WERIEQ3u2FSD"
      }
    },
    {
      "cell_type": "code",
      "source": [
        "#insert new xlsx file here\n",
        "! wget -nc https://raw.githubusercontent.com/advapplab/sentiment_analysis_election_2022/main/data/challange/Chiang_before.xlsx"
      ],
      "metadata": {
        "colab": {
          "base_uri": "https://localhost:8080/"
        },
        "outputId": "674c33cf-ce57-415b-8cf8-d1bf6e22f7ac",
        "id": "UChvU6zL2FSE"
      },
      "execution_count": null,
      "outputs": [
        {
          "output_type": "stream",
          "name": "stdout",
          "text": [
            "File ‘Chiang_before.xlsx’ already there; not retrieving.\n",
            "\n"
          ]
        }
      ]
    },
    {
      "cell_type": "code",
      "source": [
        "import pandas as pd"
      ],
      "metadata": {
        "id": "xzwuUS3j2FSE"
      },
      "execution_count": null,
      "outputs": []
    },
    {
      "cell_type": "code",
      "source": [
        "#insert new xlsx file here\n",
        "testing_pd = pd.read_excel('/content/Chiang_before.xlsx')\n",
        "\n",
        "testing_pd.rename(columns={'博文': 'text'},\n",
        "          inplace=True, errors='raise')\n",
        "\n",
        "testing_pd = testing_pd[['text']]"
      ],
      "metadata": {
        "id": "-7xoRQP62FSF",
        "colab": {
          "base_uri": "https://localhost:8080/"
        },
        "outputId": "18ace50b-0f69-48b0-c93f-7adc34adbec2"
      },
      "execution_count": null,
      "outputs": [
        {
          "output_type": "stream",
          "name": "stderr",
          "text": [
            "/usr/local/lib/python3.8/dist-packages/openpyxl/styles/stylesheet.py:226: UserWarning: Workbook contains no default style, apply openpyxl's default\n",
            "  warn(\"Workbook contains no default style, apply openpyxl's default\")\n"
          ]
        }
      ]
    },
    {
      "cell_type": "code",
      "source": [
        "#dirty data\n",
        "testing_pd"
      ],
      "metadata": {
        "outputId": "cf24dca4-60ef-4995-b953-c8f1c64cda7d",
        "colab": {
          "base_uri": "https://localhost:8080/"
        },
        "id": "MhqFj4Uj2FSF"
      },
      "execution_count": null,
      "outputs": [
        {
          "output_type": "execute_result",
          "data": {
            "text/plain": [
              "                                                  text\n",
              "0    【不只徐巧芯被泼脏水！绿侧翼抹黑高虹安手段曝光 惊人4字现形】9日绿营侧翼流传一份伪造文件，...\n",
              "1            就说七伤拳嘛并且搞了半天好像只有蒋万安一个人辞职，同党和别党立委都不辞，噗嗤。 ​\n",
              "2    【台北市长民调跌破眼镜！网一看酸爆陈时中：笑死人】距离九合一选举投票日不到20天，中华亚太菁...\n",
              "3    最后预言一下，本月26日台湾省九合一大选可能出现的选举结果。（此次选举会影响未来两岸关系发展...\n",
              "4       台北民调！蒋万安29.8%领先，蒋笃定、黄超车，陈哭哭，蔡咋办？ - 今日头条O网页链接 ​\n",
              "..                                                 ...\n",
              "785  【台北市长选举民调曝光 3人差距小选情白热化】台北市长选战开打，若由中国国民党推出的“立委”...\n",
              "786  【台北市长选情最新民调曝光 网惊呼：死忠的这么多】拉锯战！TVBS民调中心昨(29日)发布《...\n",
              "787                           喜猪妹才会投陈时台吧，通讯录当然选蒋万安啊。 ​\n",
              "788                                    最新民調，蔣萬安褲暫時領先 ​\n",
              "789                    台北市最新民调：蒋万安36%，黄珊珊26%，陈时中23%。 ​\n",
              "\n",
              "[790 rows x 1 columns]"
            ],
            "text/html": [
              "\n",
              "  <div id=\"df-5c50b1ca-954c-49a1-bef6-56ebdf1b1107\">\n",
              "    <div class=\"colab-df-container\">\n",
              "      <div>\n",
              "<style scoped>\n",
              "    .dataframe tbody tr th:only-of-type {\n",
              "        vertical-align: middle;\n",
              "    }\n",
              "\n",
              "    .dataframe tbody tr th {\n",
              "        vertical-align: top;\n",
              "    }\n",
              "\n",
              "    .dataframe thead th {\n",
              "        text-align: right;\n",
              "    }\n",
              "</style>\n",
              "<table border=\"1\" class=\"dataframe\">\n",
              "  <thead>\n",
              "    <tr style=\"text-align: right;\">\n",
              "      <th></th>\n",
              "      <th>text</th>\n",
              "    </tr>\n",
              "  </thead>\n",
              "  <tbody>\n",
              "    <tr>\n",
              "      <th>0</th>\n",
              "      <td>【不只徐巧芯被泼脏水！绿侧翼抹黑高虹安手段曝光 惊人4字现形】9日绿营侧翼流传一份伪造文件，...</td>\n",
              "    </tr>\n",
              "    <tr>\n",
              "      <th>1</th>\n",
              "      <td>就说七伤拳嘛并且搞了半天好像只有蒋万安一个人辞职，同党和别党立委都不辞，噗嗤。 ​</td>\n",
              "    </tr>\n",
              "    <tr>\n",
              "      <th>2</th>\n",
              "      <td>【台北市长民调跌破眼镜！网一看酸爆陈时中：笑死人】距离九合一选举投票日不到20天，中华亚太菁...</td>\n",
              "    </tr>\n",
              "    <tr>\n",
              "      <th>3</th>\n",
              "      <td>最后预言一下，本月26日台湾省九合一大选可能出现的选举结果。（此次选举会影响未来两岸关系发展...</td>\n",
              "    </tr>\n",
              "    <tr>\n",
              "      <th>4</th>\n",
              "      <td>台北民调！蒋万安29.8%领先，蒋笃定、黄超车，陈哭哭，蔡咋办？ - 今日头条O网页链接 ​</td>\n",
              "    </tr>\n",
              "    <tr>\n",
              "      <th>...</th>\n",
              "      <td>...</td>\n",
              "    </tr>\n",
              "    <tr>\n",
              "      <th>785</th>\n",
              "      <td>【台北市长选举民调曝光 3人差距小选情白热化】台北市长选战开打，若由中国国民党推出的“立委”...</td>\n",
              "    </tr>\n",
              "    <tr>\n",
              "      <th>786</th>\n",
              "      <td>【台北市长选情最新民调曝光 网惊呼：死忠的这么多】拉锯战！TVBS民调中心昨(29日)发布《...</td>\n",
              "    </tr>\n",
              "    <tr>\n",
              "      <th>787</th>\n",
              "      <td>喜猪妹才会投陈时台吧，通讯录当然选蒋万安啊。 ​</td>\n",
              "    </tr>\n",
              "    <tr>\n",
              "      <th>788</th>\n",
              "      <td>最新民調，蔣萬安褲暫時領先 ​</td>\n",
              "    </tr>\n",
              "    <tr>\n",
              "      <th>789</th>\n",
              "      <td>台北市最新民调：蒋万安36%，黄珊珊26%，陈时中23%。 ​</td>\n",
              "    </tr>\n",
              "  </tbody>\n",
              "</table>\n",
              "<p>790 rows × 1 columns</p>\n",
              "</div>\n",
              "      <button class=\"colab-df-convert\" onclick=\"convertToInteractive('df-5c50b1ca-954c-49a1-bef6-56ebdf1b1107')\"\n",
              "              title=\"Convert this dataframe to an interactive table.\"\n",
              "              style=\"display:none;\">\n",
              "        \n",
              "  <svg xmlns=\"http://www.w3.org/2000/svg\" height=\"24px\"viewBox=\"0 0 24 24\"\n",
              "       width=\"24px\">\n",
              "    <path d=\"M0 0h24v24H0V0z\" fill=\"none\"/>\n",
              "    <path d=\"M18.56 5.44l.94 2.06.94-2.06 2.06-.94-2.06-.94-.94-2.06-.94 2.06-2.06.94zm-11 1L8.5 8.5l.94-2.06 2.06-.94-2.06-.94L8.5 2.5l-.94 2.06-2.06.94zm10 10l.94 2.06.94-2.06 2.06-.94-2.06-.94-.94-2.06-.94 2.06-2.06.94z\"/><path d=\"M17.41 7.96l-1.37-1.37c-.4-.4-.92-.59-1.43-.59-.52 0-1.04.2-1.43.59L10.3 9.45l-7.72 7.72c-.78.78-.78 2.05 0 2.83L4 21.41c.39.39.9.59 1.41.59.51 0 1.02-.2 1.41-.59l7.78-7.78 2.81-2.81c.8-.78.8-2.07 0-2.86zM5.41 20L4 18.59l7.72-7.72 1.47 1.35L5.41 20z\"/>\n",
              "  </svg>\n",
              "      </button>\n",
              "      \n",
              "  <style>\n",
              "    .colab-df-container {\n",
              "      display:flex;\n",
              "      flex-wrap:wrap;\n",
              "      gap: 12px;\n",
              "    }\n",
              "\n",
              "    .colab-df-convert {\n",
              "      background-color: #E8F0FE;\n",
              "      border: none;\n",
              "      border-radius: 50%;\n",
              "      cursor: pointer;\n",
              "      display: none;\n",
              "      fill: #1967D2;\n",
              "      height: 32px;\n",
              "      padding: 0 0 0 0;\n",
              "      width: 32px;\n",
              "    }\n",
              "\n",
              "    .colab-df-convert:hover {\n",
              "      background-color: #E2EBFA;\n",
              "      box-shadow: 0px 1px 2px rgba(60, 64, 67, 0.3), 0px 1px 3px 1px rgba(60, 64, 67, 0.15);\n",
              "      fill: #174EA6;\n",
              "    }\n",
              "\n",
              "    [theme=dark] .colab-df-convert {\n",
              "      background-color: #3B4455;\n",
              "      fill: #D2E3FC;\n",
              "    }\n",
              "\n",
              "    [theme=dark] .colab-df-convert:hover {\n",
              "      background-color: #434B5C;\n",
              "      box-shadow: 0px 1px 3px 1px rgba(0, 0, 0, 0.15);\n",
              "      filter: drop-shadow(0px 1px 2px rgba(0, 0, 0, 0.3));\n",
              "      fill: #FFFFFF;\n",
              "    }\n",
              "  </style>\n",
              "\n",
              "      <script>\n",
              "        const buttonEl =\n",
              "          document.querySelector('#df-5c50b1ca-954c-49a1-bef6-56ebdf1b1107 button.colab-df-convert');\n",
              "        buttonEl.style.display =\n",
              "          google.colab.kernel.accessAllowed ? 'block' : 'none';\n",
              "\n",
              "        async function convertToInteractive(key) {\n",
              "          const element = document.querySelector('#df-5c50b1ca-954c-49a1-bef6-56ebdf1b1107');\n",
              "          const dataTable =\n",
              "            await google.colab.kernel.invokeFunction('convertToInteractive',\n",
              "                                                     [key], {});\n",
              "          if (!dataTable) return;\n",
              "\n",
              "          const docLinkHtml = 'Like what you see? Visit the ' +\n",
              "            '<a target=\"_blank\" href=https://colab.research.google.com/notebooks/data_table.ipynb>data table notebook</a>'\n",
              "            + ' to learn more about interactive tables.';\n",
              "          element.innerHTML = '';\n",
              "          dataTable['output_type'] = 'display_data';\n",
              "          await google.colab.output.renderOutput(dataTable, element);\n",
              "          const docLink = document.createElement('div');\n",
              "          docLink.innerHTML = docLinkHtml;\n",
              "          element.appendChild(docLink);\n",
              "        }\n",
              "      </script>\n",
              "    </div>\n",
              "  </div>\n",
              "  "
            ]
          },
          "metadata": {},
          "execution_count": 522
        }
      ]
    },
    {
      "cell_type": "code",
      "source": [
        "#we can consider not deleting the titles. This will be up to the ICI project group to decide\n",
        "#if you wish to preserve the titles. replace the corresponding block of code below with this one \n",
        "\n",
        "#testing_pd['text'] = testing_pd['text'].replace(span_pattern,'',regex=True).replace(span_pattern,'',regex=True)\n",
        "#testing_pd['text'] = testing_pd['text'].replace(http_pattern,'',regex=True).replace(html_pattern,'',regex=True)\n",
        "#testing_pd['text'] = testing_pd['text'].replace(image_pattern,'',regex=True)#.replace(title_pattern_1,'',regex=True)\n",
        "#testing_pd['text'] = testing_pd['text'].re place(link_pattern,'',regex=True).replace(html_pattern,'',regex=True)\n",
        "##testing_pd['text'] = testing_pd['text'].replace(title_pattern_2,'',regex=True)\n",
        "#________________________________________________________________________________________________________________________\n",
        "\n",
        "testing_pd = testing_pd[~testing_pd['text'].str.contains('a href', regex=True)]\n",
        "\n",
        "\n",
        "import re\n",
        "html_pattern = \"<(?:\\\"[^\\\"]*\\\"['\\\"]*|'[^']*'['\\\"]*|[^'\\\">])+>\"\n",
        "http_pattern = \"http\\S+\"\n",
        "image_pattern = \"<img\\s[^>]*?src\\s*=\\s*['\\\"]([^'\\\"]*?)['\\\"][^>]*?>\" \n",
        "#title_pattern = \"[【|《*】|》]\"\n",
        "title_pattern_1 = \"(?=【)(.*)(?<=】)\"\n",
        "title_pattern_2 = \"(?=《)(.*)(?<=》)\"\n",
        "link_pattern=\"网页链接\"\n",
        "span_pattern='<span.*?>(.+?)</span>'\n",
        "\n",
        "#replace with this block. Do some more research because it looks like some titles are still removed, like index 41\n",
        "testing_pd['text'] = testing_pd['text'].replace(span_pattern,'',regex=True).replace(span_pattern,'',regex=True)\n",
        "testing_pd['text'] = testing_pd['text'].replace(http_pattern,'',regex=True).replace(html_pattern,'',regex=True)\n",
        "testing_pd['text'] = testing_pd['text'].replace(image_pattern,'',regex=True).replace(title_pattern_1,'',regex=True)\n",
        "testing_pd['text'] = testing_pd['text'].replace(link_pattern,'',regex=True).replace(html_pattern,'',regex=True)\n",
        "testing_pd['text'] = testing_pd['text'].replace(title_pattern_2,'',regex=True)"
      ],
      "metadata": {
        "id": "9tcqEEhg2FSF"
      },
      "execution_count": null,
      "outputs": []
    },
    {
      "cell_type": "code",
      "source": [
        "#delete empty rows\n",
        "testing_pd = testing_pd[testing_pd['text'].str.len()>2]   \n",
        "testing_pd = testing_pd[['text']]\n",
        "testing_pd = testing_pd.reset_index(drop=True)\n",
        "testing_pd"
      ],
      "metadata": {
        "outputId": "bffe2528-5ce8-4ad3-caca-4a854f4a1b40",
        "colab": {
          "base_uri": "https://localhost:8080/"
        },
        "id": "WGCfQfmW2FSG"
      },
      "execution_count": null,
      "outputs": [
        {
          "output_type": "execute_result",
          "data": {
            "text/plain": [
              "                                                  text\n",
              "0    9日绿营侧翼流传一份伪造文件，指称国民党计划找狗仔跟拍县市长候选人行程，重点针对“黑金、贿选...\n",
              "1            就说七伤拳嘛并且搞了半天好像只有蒋万安一个人辞职，同党和别党立委都不辞，噗嗤。 ​\n",
              "2    距离九合一选举投票日不到20天，中华亚太菁英交流协会10日公布台北市长选举最新民调，民进党台...\n",
              "3    最后预言一下，本月26日台湾省九合一大选可能出现的选举结果。（此次选举会影响未来两岸关系发展...\n",
              "4           台北民调！蒋万安29.8%领先，蒋笃定、黄超车，陈哭哭，蔡咋办？ - 今日头条O ​\n",
              "..                                                 ...\n",
              "785  台北市长选战开打，若由中国国民党推出的“立委”蒋万安、民进党征召的前“卫福部长”陈时中及台北...\n",
              "786  拉锯战！TVBS民调中心昨(29日)发布报告，国民党参选人蒋万安支持度微降至36%，刚辞职的...\n",
              "787                           喜猪妹才会投陈时台吧，通讯录当然选蒋万安啊。 ​\n",
              "788                                    最新民調，蔣萬安褲暫時領先 ​\n",
              "789                    台北市最新民调：蒋万安36%，黄珊珊26%，陈时中23%。 ​\n",
              "\n",
              "[790 rows x 1 columns]"
            ],
            "text/html": [
              "\n",
              "  <div id=\"df-5853efa8-2e2f-4616-80bc-610bc60d66fe\">\n",
              "    <div class=\"colab-df-container\">\n",
              "      <div>\n",
              "<style scoped>\n",
              "    .dataframe tbody tr th:only-of-type {\n",
              "        vertical-align: middle;\n",
              "    }\n",
              "\n",
              "    .dataframe tbody tr th {\n",
              "        vertical-align: top;\n",
              "    }\n",
              "\n",
              "    .dataframe thead th {\n",
              "        text-align: right;\n",
              "    }\n",
              "</style>\n",
              "<table border=\"1\" class=\"dataframe\">\n",
              "  <thead>\n",
              "    <tr style=\"text-align: right;\">\n",
              "      <th></th>\n",
              "      <th>text</th>\n",
              "    </tr>\n",
              "  </thead>\n",
              "  <tbody>\n",
              "    <tr>\n",
              "      <th>0</th>\n",
              "      <td>9日绿营侧翼流传一份伪造文件，指称国民党计划找狗仔跟拍县市长候选人行程，重点针对“黑金、贿选...</td>\n",
              "    </tr>\n",
              "    <tr>\n",
              "      <th>1</th>\n",
              "      <td>就说七伤拳嘛并且搞了半天好像只有蒋万安一个人辞职，同党和别党立委都不辞，噗嗤。 ​</td>\n",
              "    </tr>\n",
              "    <tr>\n",
              "      <th>2</th>\n",
              "      <td>距离九合一选举投票日不到20天，中华亚太菁英交流协会10日公布台北市长选举最新民调，民进党台...</td>\n",
              "    </tr>\n",
              "    <tr>\n",
              "      <th>3</th>\n",
              "      <td>最后预言一下，本月26日台湾省九合一大选可能出现的选举结果。（此次选举会影响未来两岸关系发展...</td>\n",
              "    </tr>\n",
              "    <tr>\n",
              "      <th>4</th>\n",
              "      <td>台北民调！蒋万安29.8%领先，蒋笃定、黄超车，陈哭哭，蔡咋办？ - 今日头条O ​</td>\n",
              "    </tr>\n",
              "    <tr>\n",
              "      <th>...</th>\n",
              "      <td>...</td>\n",
              "    </tr>\n",
              "    <tr>\n",
              "      <th>785</th>\n",
              "      <td>台北市长选战开打，若由中国国民党推出的“立委”蒋万安、民进党征召的前“卫福部长”陈时中及台北...</td>\n",
              "    </tr>\n",
              "    <tr>\n",
              "      <th>786</th>\n",
              "      <td>拉锯战！TVBS民调中心昨(29日)发布报告，国民党参选人蒋万安支持度微降至36%，刚辞职的...</td>\n",
              "    </tr>\n",
              "    <tr>\n",
              "      <th>787</th>\n",
              "      <td>喜猪妹才会投陈时台吧，通讯录当然选蒋万安啊。 ​</td>\n",
              "    </tr>\n",
              "    <tr>\n",
              "      <th>788</th>\n",
              "      <td>最新民調，蔣萬安褲暫時領先 ​</td>\n",
              "    </tr>\n",
              "    <tr>\n",
              "      <th>789</th>\n",
              "      <td>台北市最新民调：蒋万安36%，黄珊珊26%，陈时中23%。 ​</td>\n",
              "    </tr>\n",
              "  </tbody>\n",
              "</table>\n",
              "<p>790 rows × 1 columns</p>\n",
              "</div>\n",
              "      <button class=\"colab-df-convert\" onclick=\"convertToInteractive('df-5853efa8-2e2f-4616-80bc-610bc60d66fe')\"\n",
              "              title=\"Convert this dataframe to an interactive table.\"\n",
              "              style=\"display:none;\">\n",
              "        \n",
              "  <svg xmlns=\"http://www.w3.org/2000/svg\" height=\"24px\"viewBox=\"0 0 24 24\"\n",
              "       width=\"24px\">\n",
              "    <path d=\"M0 0h24v24H0V0z\" fill=\"none\"/>\n",
              "    <path d=\"M18.56 5.44l.94 2.06.94-2.06 2.06-.94-2.06-.94-.94-2.06-.94 2.06-2.06.94zm-11 1L8.5 8.5l.94-2.06 2.06-.94-2.06-.94L8.5 2.5l-.94 2.06-2.06.94zm10 10l.94 2.06.94-2.06 2.06-.94-2.06-.94-.94-2.06-.94 2.06-2.06.94z\"/><path d=\"M17.41 7.96l-1.37-1.37c-.4-.4-.92-.59-1.43-.59-.52 0-1.04.2-1.43.59L10.3 9.45l-7.72 7.72c-.78.78-.78 2.05 0 2.83L4 21.41c.39.39.9.59 1.41.59.51 0 1.02-.2 1.41-.59l7.78-7.78 2.81-2.81c.8-.78.8-2.07 0-2.86zM5.41 20L4 18.59l7.72-7.72 1.47 1.35L5.41 20z\"/>\n",
              "  </svg>\n",
              "      </button>\n",
              "      \n",
              "  <style>\n",
              "    .colab-df-container {\n",
              "      display:flex;\n",
              "      flex-wrap:wrap;\n",
              "      gap: 12px;\n",
              "    }\n",
              "\n",
              "    .colab-df-convert {\n",
              "      background-color: #E8F0FE;\n",
              "      border: none;\n",
              "      border-radius: 50%;\n",
              "      cursor: pointer;\n",
              "      display: none;\n",
              "      fill: #1967D2;\n",
              "      height: 32px;\n",
              "      padding: 0 0 0 0;\n",
              "      width: 32px;\n",
              "    }\n",
              "\n",
              "    .colab-df-convert:hover {\n",
              "      background-color: #E2EBFA;\n",
              "      box-shadow: 0px 1px 2px rgba(60, 64, 67, 0.3), 0px 1px 3px 1px rgba(60, 64, 67, 0.15);\n",
              "      fill: #174EA6;\n",
              "    }\n",
              "\n",
              "    [theme=dark] .colab-df-convert {\n",
              "      background-color: #3B4455;\n",
              "      fill: #D2E3FC;\n",
              "    }\n",
              "\n",
              "    [theme=dark] .colab-df-convert:hover {\n",
              "      background-color: #434B5C;\n",
              "      box-shadow: 0px 1px 3px 1px rgba(0, 0, 0, 0.15);\n",
              "      filter: drop-shadow(0px 1px 2px rgba(0, 0, 0, 0.3));\n",
              "      fill: #FFFFFF;\n",
              "    }\n",
              "  </style>\n",
              "\n",
              "      <script>\n",
              "        const buttonEl =\n",
              "          document.querySelector('#df-5853efa8-2e2f-4616-80bc-610bc60d66fe button.colab-df-convert');\n",
              "        buttonEl.style.display =\n",
              "          google.colab.kernel.accessAllowed ? 'block' : 'none';\n",
              "\n",
              "        async function convertToInteractive(key) {\n",
              "          const element = document.querySelector('#df-5853efa8-2e2f-4616-80bc-610bc60d66fe');\n",
              "          const dataTable =\n",
              "            await google.colab.kernel.invokeFunction('convertToInteractive',\n",
              "                                                     [key], {});\n",
              "          if (!dataTable) return;\n",
              "\n",
              "          const docLinkHtml = 'Like what you see? Visit the ' +\n",
              "            '<a target=\"_blank\" href=https://colab.research.google.com/notebooks/data_table.ipynb>data table notebook</a>'\n",
              "            + ' to learn more about interactive tables.';\n",
              "          element.innerHTML = '';\n",
              "          dataTable['output_type'] = 'display_data';\n",
              "          await google.colab.output.renderOutput(dataTable, element);\n",
              "          const docLink = document.createElement('div');\n",
              "          docLink.innerHTML = docLinkHtml;\n",
              "          element.appendChild(docLink);\n",
              "        }\n",
              "      </script>\n",
              "    </div>\n",
              "  </div>\n",
              "  "
            ]
          },
          "metadata": {},
          "execution_count": 524
        }
      ]
    },
    {
      "cell_type": "markdown",
      "source": [
        "## 1-2 Tokenization"
      ],
      "metadata": {
        "id": "MYdpv78M2FSG"
      }
    },
    {
      "cell_type": "code",
      "source": [
        "from datasets import Dataset, DatasetDict\n",
        "\n",
        "weibo_dict = {\n",
        "              'test' : Dataset.from_pandas(testing_pd)\n",
        "              }\n",
        "\n",
        "weibo_ds = DatasetDict(weibo_dict)"
      ],
      "metadata": {
        "id": "B4lunhIS2FSG"
      },
      "execution_count": null,
      "outputs": []
    },
    {
      "cell_type": "code",
      "source": [
        "from transformers import AutoTokenizer"
      ],
      "metadata": {
        "id": "BK8gGLLM2FSG"
      },
      "execution_count": null,
      "outputs": []
    },
    {
      "cell_type": "code",
      "source": [
        "tokenizer = AutoTokenizer.from_pretrained(model_tokenizer)"
      ],
      "metadata": {
        "colab": {
          "base_uri": "https://localhost:8080/"
        },
        "outputId": "4b60c729-2942-479a-f999-d1a46d5740d4",
        "id": "-XuQ97Ib2FSH"
      },
      "execution_count": null,
      "outputs": [
        {
          "output_type": "stream",
          "name": "stderr",
          "text": [
            "loading configuration file config.json from cache at /root/.cache/huggingface/hub/models--hfl--chinese-bert-wwm/snapshots/ab0aa81da273504efc8540aa4d0bbaa3016a1bb5/config.json\n",
            "Model config BertConfig {\n",
            "  \"_name_or_path\": \"hfl/chinese-bert-wwm\",\n",
            "  \"architectures\": [\n",
            "    \"BertForMaskedLM\"\n",
            "  ],\n",
            "  \"attention_probs_dropout_prob\": 0.1,\n",
            "  \"classifier_dropout\": null,\n",
            "  \"directionality\": \"bidi\",\n",
            "  \"hidden_act\": \"gelu\",\n",
            "  \"hidden_dropout_prob\": 0.1,\n",
            "  \"hidden_size\": 768,\n",
            "  \"initializer_range\": 0.02,\n",
            "  \"intermediate_size\": 3072,\n",
            "  \"layer_norm_eps\": 1e-12,\n",
            "  \"max_position_embeddings\": 512,\n",
            "  \"model_type\": \"bert\",\n",
            "  \"num_attention_heads\": 12,\n",
            "  \"num_hidden_layers\": 12,\n",
            "  \"output_past\": true,\n",
            "  \"pad_token_id\": 0,\n",
            "  \"pooler_fc_size\": 768,\n",
            "  \"pooler_num_attention_heads\": 12,\n",
            "  \"pooler_num_fc_layers\": 3,\n",
            "  \"pooler_size_per_head\": 128,\n",
            "  \"pooler_type\": \"first_token_transform\",\n",
            "  \"position_embedding_type\": \"absolute\",\n",
            "  \"transformers_version\": \"4.25.1\",\n",
            "  \"type_vocab_size\": 2,\n",
            "  \"use_cache\": true,\n",
            "  \"vocab_size\": 21128\n",
            "}\n",
            "\n",
            "loading file vocab.txt from cache at /root/.cache/huggingface/hub/models--hfl--chinese-bert-wwm/snapshots/ab0aa81da273504efc8540aa4d0bbaa3016a1bb5/vocab.txt\n",
            "loading file tokenizer.json from cache at /root/.cache/huggingface/hub/models--hfl--chinese-bert-wwm/snapshots/ab0aa81da273504efc8540aa4d0bbaa3016a1bb5/tokenizer.json\n",
            "loading file added_tokens.json from cache at /root/.cache/huggingface/hub/models--hfl--chinese-bert-wwm/snapshots/ab0aa81da273504efc8540aa4d0bbaa3016a1bb5/added_tokens.json\n",
            "loading file special_tokens_map.json from cache at /root/.cache/huggingface/hub/models--hfl--chinese-bert-wwm/snapshots/ab0aa81da273504efc8540aa4d0bbaa3016a1bb5/special_tokens_map.json\n",
            "loading file tokenizer_config.json from cache at /root/.cache/huggingface/hub/models--hfl--chinese-bert-wwm/snapshots/ab0aa81da273504efc8540aa4d0bbaa3016a1bb5/tokenizer_config.json\n",
            "loading configuration file config.json from cache at /root/.cache/huggingface/hub/models--hfl--chinese-bert-wwm/snapshots/ab0aa81da273504efc8540aa4d0bbaa3016a1bb5/config.json\n",
            "Model config BertConfig {\n",
            "  \"_name_or_path\": \"hfl/chinese-bert-wwm\",\n",
            "  \"architectures\": [\n",
            "    \"BertForMaskedLM\"\n",
            "  ],\n",
            "  \"attention_probs_dropout_prob\": 0.1,\n",
            "  \"classifier_dropout\": null,\n",
            "  \"directionality\": \"bidi\",\n",
            "  \"hidden_act\": \"gelu\",\n",
            "  \"hidden_dropout_prob\": 0.1,\n",
            "  \"hidden_size\": 768,\n",
            "  \"initializer_range\": 0.02,\n",
            "  \"intermediate_size\": 3072,\n",
            "  \"layer_norm_eps\": 1e-12,\n",
            "  \"max_position_embeddings\": 512,\n",
            "  \"model_type\": \"bert\",\n",
            "  \"num_attention_heads\": 12,\n",
            "  \"num_hidden_layers\": 12,\n",
            "  \"output_past\": true,\n",
            "  \"pad_token_id\": 0,\n",
            "  \"pooler_fc_size\": 768,\n",
            "  \"pooler_num_attention_heads\": 12,\n",
            "  \"pooler_num_fc_layers\": 3,\n",
            "  \"pooler_size_per_head\": 128,\n",
            "  \"pooler_type\": \"first_token_transform\",\n",
            "  \"position_embedding_type\": \"absolute\",\n",
            "  \"transformers_version\": \"4.25.1\",\n",
            "  \"type_vocab_size\": 2,\n",
            "  \"use_cache\": true,\n",
            "  \"vocab_size\": 21128\n",
            "}\n",
            "\n"
          ]
        }
      ]
    },
    {
      "cell_type": "code",
      "source": [
        "def tokenize_function(examples):\n",
        "    return tokenizer(examples[\"text\"], \n",
        "                     padding=\"max_length\", \n",
        "                     truncation=True, \n",
        "                     max_length=512)\n",
        "\n",
        "tokenized_datasets = weibo_ds.map(tokenize_function, batched=True)"
      ],
      "metadata": {
        "colab": {
          "base_uri": "https://localhost:8080/",
          "referenced_widgets": [
            "e5bfc2cda9884011ac5db6c1426866af",
            "63972fcc99514dc2b491c8b864198e6c",
            "0181bee1b5b742a1bcff499e61f80a38",
            "fd36d48f3581495e8c005abbda5a9bdd",
            "fc35245ea3824d64bb12e416e7feabdf",
            "8a77c4af7bab43da90dd20aa0857bafb",
            "3a3f4295490f487db5a443f6cc91c03f",
            "7a03887363114223bd4070d555b3e94d",
            "bd42f6e65137469892ce639d70e1191f",
            "ee604da0af5a4ecb80c6143c5e56cd90",
            "232fbaf5623e4e9eb8565040f2561793"
          ]
        },
        "outputId": "c2bcddfb-0ee8-4962-e74b-e05123ddc357",
        "id": "h1datJG42FSH"
      },
      "execution_count": null,
      "outputs": [
        {
          "output_type": "display_data",
          "data": {
            "text/plain": [
              "  0%|          | 0/1 [00:00<?, ?ba/s]"
            ],
            "application/vnd.jupyter.widget-view+json": {
              "version_major": 2,
              "version_minor": 0,
              "model_id": "e5bfc2cda9884011ac5db6c1426866af"
            }
          },
          "metadata": {}
        }
      ]
    },
    {
      "cell_type": "code",
      "source": [
        "full_test_dataset = tokenized_datasets[\"test\"]"
      ],
      "metadata": {
        "id": "UMO9e6Ub2FSH"
      },
      "execution_count": null,
      "outputs": []
    },
    {
      "cell_type": "markdown",
      "source": [
        "# 2. preparing BERT\n"
      ],
      "metadata": {
        "id": "dt3REbqv2FSH"
      }
    },
    {
      "cell_type": "code",
      "source": [
        "from transformers import AutoModelForSequenceClassification\n",
        "\n",
        "# available chinese models: https://github.com/ymcui/Chinese-BERT-wwm\n",
        "\n",
        "model = AutoModelForSequenceClassification.from_pretrained(model_classifier, \n",
        "                                                           num_labels=2)"
      ],
      "metadata": {
        "colab": {
          "base_uri": "https://localhost:8080/"
        },
        "outputId": "79128496-5764-405c-b500-acc13c28ff90",
        "id": "ZpBPHxqZ2FSH"
      },
      "execution_count": null,
      "outputs": [
        {
          "output_type": "stream",
          "name": "stderr",
          "text": [
            "loading configuration file config.json from cache at /root/.cache/huggingface/hub/models--owen198--weibo-wmmbert-2/snapshots/1c8b069ca4f42474887b1be5ddb45d0b190b785d/config.json\n",
            "Model config BertConfig {\n",
            "  \"_name_or_path\": \"owen198/weibo-wmmbert-2\",\n",
            "  \"architectures\": [\n",
            "    \"BertForSequenceClassification\"\n",
            "  ],\n",
            "  \"attention_probs_dropout_prob\": 0.1,\n",
            "  \"classifier_dropout\": null,\n",
            "  \"directionality\": \"bidi\",\n",
            "  \"hidden_act\": \"gelu\",\n",
            "  \"hidden_dropout_prob\": 0.1,\n",
            "  \"hidden_size\": 768,\n",
            "  \"initializer_range\": 0.02,\n",
            "  \"intermediate_size\": 3072,\n",
            "  \"layer_norm_eps\": 1e-12,\n",
            "  \"max_position_embeddings\": 512,\n",
            "  \"model_type\": \"bert\",\n",
            "  \"num_attention_heads\": 12,\n",
            "  \"num_hidden_layers\": 12,\n",
            "  \"output_past\": true,\n",
            "  \"pad_token_id\": 0,\n",
            "  \"pooler_fc_size\": 768,\n",
            "  \"pooler_num_attention_heads\": 12,\n",
            "  \"pooler_num_fc_layers\": 3,\n",
            "  \"pooler_size_per_head\": 128,\n",
            "  \"pooler_type\": \"first_token_transform\",\n",
            "  \"position_embedding_type\": \"absolute\",\n",
            "  \"problem_type\": \"single_label_classification\",\n",
            "  \"torch_dtype\": \"float32\",\n",
            "  \"transformers_version\": \"4.25.1\",\n",
            "  \"type_vocab_size\": 2,\n",
            "  \"use_cache\": true,\n",
            "  \"vocab_size\": 21128\n",
            "}\n",
            "\n",
            "loading weights file pytorch_model.bin from cache at /root/.cache/huggingface/hub/models--owen198--weibo-wmmbert-2/snapshots/1c8b069ca4f42474887b1be5ddb45d0b190b785d/pytorch_model.bin\n",
            "All model checkpoint weights were used when initializing BertForSequenceClassification.\n",
            "\n",
            "All the weights of BertForSequenceClassification were initialized from the model checkpoint at owen198/weibo-wmmbert-2.\n",
            "If your task is similar to the task the model of the checkpoint was trained on, you can already use BertForSequenceClassification for predictions without further training.\n"
          ]
        }
      ]
    },
    {
      "cell_type": "code",
      "source": [
        "from datasets import load_metric\n",
        "\n",
        "metric = load_metric(\"accuracy\")\n",
        "\n",
        "def compute_metrics(eval_pred):\n",
        "    logits, labels = eval_pred\n",
        "    predictions = np.argmax(logits, axis=-1)\n",
        "    return metric.compute(predictions=predictions, references=labels)"
      ],
      "metadata": {
        "id": "idqI1yHC2FSI"
      },
      "execution_count": null,
      "outputs": []
    },
    {
      "cell_type": "code",
      "source": [
        "from transformers import Trainer\n",
        "\n",
        "trainer = Trainer(\n",
        "    model=model, \n",
        "    eval_dataset=full_test_dataset,\n",
        "    compute_metrics=compute_metrics,\n",
        ")"
      ],
      "metadata": {
        "colab": {
          "base_uri": "https://localhost:8080/"
        },
        "outputId": "7e4c3b79-e790-44de-c2ef-1b4426662163",
        "id": "vOYbjVUq2FSI"
      },
      "execution_count": null,
      "outputs": [
        {
          "output_type": "stream",
          "name": "stderr",
          "text": [
            "No `TrainingArguments` passed, using `output_dir=tmp_trainer`.\n",
            "PyTorch: setting up devices\n",
            "The default value for the training argument `--report_to` will change in v5 (from all installed integrations to none). In v5, you will need to use `--report_to all` to get the same behavior as now. You should start updating your code and make this info disappear :-).\n"
          ]
        }
      ]
    },
    {
      "cell_type": "code",
      "source": [
        "import numpy as np"
      ],
      "metadata": {
        "id": "-Dw2Qf2J2FSI"
      },
      "execution_count": null,
      "outputs": []
    },
    {
      "cell_type": "code",
      "source": [],
      "metadata": {
        "id": "qmXs_Mzt2FSI"
      },
      "execution_count": null,
      "outputs": []
    },
    {
      "cell_type": "markdown",
      "source": [
        "#prediction results\n"
      ],
      "metadata": {
        "id": "mjrLm7SY2FSJ"
      }
    },
    {
      "cell_type": "code",
      "source": [
        "pred = trainer.predict(test_dataset=full_test_dataset)"
      ],
      "metadata": {
        "colab": {
          "base_uri": "https://localhost:8080/",
          "height": 106
        },
        "outputId": "cb3b6f01-b2e9-45d7-e9fa-6790a53e3526",
        "id": "1sl5w-DU2FSJ"
      },
      "execution_count": null,
      "outputs": [
        {
          "output_type": "stream",
          "name": "stderr",
          "text": [
            "The following columns in the test set don't have a corresponding argument in `BertForSequenceClassification.forward` and have been ignored: text. If text are not expected by `BertForSequenceClassification.forward`,  you can safely ignore this message.\n",
            "***** Running Prediction *****\n",
            "  Num examples = 790\n",
            "  Batch size = 8\n"
          ]
        },
        {
          "output_type": "display_data",
          "data": {
            "text/plain": [
              "<IPython.core.display.HTML object>"
            ],
            "text/html": []
          },
          "metadata": {}
        }
      ]
    },
    {
      "cell_type": "code",
      "source": [
        "pred"
      ],
      "metadata": {
        "colab": {
          "base_uri": "https://localhost:8080/"
        },
        "outputId": "623f98f5-ad7a-46ab-8bc7-24093c7a7025",
        "id": "bzmEM17B2FSJ"
      },
      "execution_count": null,
      "outputs": [
        {
          "output_type": "execute_result",
          "data": {
            "text/plain": [
              "PredictionOutput(predictions=array([[ 2.277855 , -3.0073154],\n",
              "       [ 2.403945 , -3.4819772],\n",
              "       [-2.0893133,  2.1935635],\n",
              "       ...,\n",
              "       [ 1.6261932, -2.095405 ],\n",
              "       [-2.5244975,  2.5866694],\n",
              "       [-2.4184296,  2.5157166]], dtype=float32), label_ids=None, metrics={'test_runtime': 24.0971, 'test_samples_per_second': 32.784, 'test_steps_per_second': 4.108})"
            ]
          },
          "metadata": {},
          "execution_count": 535
        }
      ]
    },
    {
      "cell_type": "code",
      "source": [
        "# logits, labels = pred.predictions\n",
        "np.argmax(pred.predictions, axis=-1)"
      ],
      "metadata": {
        "colab": {
          "base_uri": "https://localhost:8080/"
        },
        "outputId": "18d50ab5-b9b3-4b16-e967-3c5a320e9a5f",
        "id": "3euHPQDd2FSJ"
      },
      "execution_count": null,
      "outputs": [
        {
          "output_type": "execute_result",
          "data": {
            "text/plain": [
              "array([0, 0, 1, 1, 0, 0, 0, 1, 1, 0, 0, 0, 1, 1, 0, 0, 1, 1, 1, 0, 1, 0,\n",
              "       1, 0, 0, 0, 0, 0, 0, 0, 0, 0, 0, 1, 1, 0, 0, 0, 0, 1, 0, 0, 1, 0,\n",
              "       0, 1, 0, 0, 0, 1, 0, 0, 0, 1, 1, 0, 0, 0, 0, 0, 0, 0, 1, 1, 0, 1,\n",
              "       0, 0, 0, 0, 0, 1, 0, 1, 1, 0, 0, 0, 0, 1, 1, 0, 1, 1, 0, 1, 0, 1,\n",
              "       0, 0, 1, 1, 1, 0, 0, 1, 0, 0, 0, 0, 1, 0, 0, 0, 0, 0, 0, 0, 0, 0,\n",
              "       1, 0, 1, 0, 0, 1, 0, 1, 0, 0, 0, 1, 1, 1, 1, 0, 0, 1, 1, 0, 1, 0,\n",
              "       0, 0, 0, 1, 0, 0, 1, 1, 0, 0, 1, 0, 1, 1, 0, 1, 1, 0, 0, 0, 0, 0,\n",
              "       1, 0, 0, 0, 1, 0, 1, 1, 1, 0, 1, 0, 0, 1, 1, 1, 0, 0, 1, 0, 1, 1,\n",
              "       1, 0, 0, 1, 0, 0, 1, 0, 1, 1, 0, 0, 1, 0, 1, 1, 1, 0, 1, 0, 0, 1,\n",
              "       1, 0, 0, 0, 1, 1, 1, 0, 1, 0, 0, 0, 1, 0, 0, 1, 0, 0, 1, 1, 0, 0,\n",
              "       0, 0, 1, 1, 0, 1, 0, 1, 0, 1, 1, 0, 0, 1, 0, 0, 0, 1, 0, 0, 1, 1,\n",
              "       1, 0, 1, 0, 1, 0, 0, 0, 0, 0, 0, 0, 0, 0, 0, 0, 0, 0, 0, 1, 0, 0,\n",
              "       0, 1, 0, 0, 0, 0, 0, 1, 0, 0, 1, 1, 0, 1, 0, 0, 1, 0, 0, 0, 1, 0,\n",
              "       0, 0, 0, 0, 0, 0, 0, 0, 0, 0, 0, 0, 0, 0, 1, 0, 0, 0, 0, 0, 0, 0,\n",
              "       1, 0, 0, 1, 1, 0, 1, 1, 0, 0, 0, 0, 1, 0, 0, 1, 0, 0, 0, 0, 0, 0,\n",
              "       0, 1, 0, 0, 0, 1, 0, 0, 0, 1, 0, 0, 0, 0, 0, 0, 0, 0, 0, 0, 1, 0,\n",
              "       0, 0, 0, 0, 0, 0, 0, 0, 1, 0, 0, 0, 0, 1, 0, 0, 1, 0, 1, 0, 1, 0,\n",
              "       0, 0, 0, 0, 0, 1, 0, 0, 0, 1, 0, 0, 0, 0, 0, 0, 0, 0, 0, 0, 0, 1,\n",
              "       0, 0, 1, 0, 0, 0, 0, 0, 0, 0, 1, 0, 0, 0, 0, 0, 1, 1, 0, 1, 0, 0,\n",
              "       0, 0, 0, 0, 0, 0, 0, 1, 1, 0, 0, 0, 0, 0, 0, 0, 0, 0, 0, 0, 0, 0,\n",
              "       0, 0, 0, 0, 0, 0, 0, 0, 1, 0, 0, 0, 0, 0, 0, 1, 0, 0, 0, 0, 0, 1,\n",
              "       1, 1, 0, 1, 0, 0, 1, 1, 1, 1, 0, 0, 0, 1, 1, 0, 1, 0, 1, 1, 0, 0,\n",
              "       1, 1, 1, 0, 0, 1, 1, 0, 1, 0, 0, 0, 0, 0, 0, 0, 0, 1, 0, 1, 1, 0,\n",
              "       0, 0, 0, 0, 0, 0, 0, 1, 0, 1, 0, 0, 0, 0, 0, 0, 0, 0, 1, 0, 1, 1,\n",
              "       0, 1, 1, 0, 0, 0, 0, 0, 1, 0, 1, 1, 1, 1, 0, 1, 1, 1, 1, 1, 0, 0,\n",
              "       0, 1, 0, 1, 0, 1, 1, 1, 1, 0, 0, 1, 0, 1, 0, 0, 0, 1, 0, 1, 1, 0,\n",
              "       0, 0, 0, 1, 1, 0, 1, 0, 0, 0, 0, 0, 1, 0, 0, 0, 0, 1, 1, 0, 0, 0,\n",
              "       1, 1, 0, 0, 0, 1, 0, 0, 0, 0, 0, 0, 1, 1, 1, 1, 0, 0, 0, 0, 1, 1,\n",
              "       0, 0, 1, 0, 0, 1, 0, 0, 1, 1, 0, 0, 1, 1, 1, 0, 0, 0, 0, 0, 1, 0,\n",
              "       1, 1, 1, 1, 1, 1, 1, 0, 0, 1, 1, 0, 1, 0, 1, 1, 1, 0, 0, 0, 0, 0,\n",
              "       0, 0, 1, 1, 0, 1, 1, 1, 0, 0, 0, 0, 0, 1, 1, 0, 1, 0, 0, 1, 0, 0,\n",
              "       0, 0, 1, 0, 1, 0, 0, 1, 0, 0, 0, 0, 0, 0, 0, 0, 1, 0, 0, 0, 1, 1,\n",
              "       1, 0, 0, 0, 0, 0, 0, 1, 0, 0, 0, 0, 1, 1, 1, 0, 0, 0, 0, 1, 0, 0,\n",
              "       0, 1, 1, 0, 0, 1, 1, 0, 0, 0, 0, 0, 0, 0, 1, 0, 1, 0, 0, 0, 0, 0,\n",
              "       0, 0, 0, 0, 0, 0, 1, 0, 0, 1, 1, 0, 0, 0, 0, 0, 0, 1, 1, 0, 1, 0,\n",
              "       1, 0, 1, 1, 1, 0, 0, 0, 1, 1, 0, 0, 0, 1, 1, 1, 1, 0, 1, 1])"
            ]
          },
          "metadata": {},
          "execution_count": 536
        }
      ]
    },
    {
      "cell_type": "code",
      "source": [
        "testing_pd['pred'] = np.argmax(pred.predictions, axis=-1)"
      ],
      "metadata": {
        "id": "MDMAhnq92FSK"
      },
      "execution_count": null,
      "outputs": []
    },
    {
      "cell_type": "code",
      "source": [
        "#final table\n",
        "testing_pd"
      ],
      "metadata": {
        "colab": {
          "base_uri": "https://localhost:8080/",
          "height": 424
        },
        "outputId": "e5625ce8-f837-4075-e5bf-3f9de9296b1c",
        "id": "f9TLzu4A2FSK"
      },
      "execution_count": null,
      "outputs": [
        {
          "output_type": "execute_result",
          "data": {
            "text/plain": [
              "                                                  text  pred\n",
              "0    9日绿营侧翼流传一份伪造文件，指称国民党计划找狗仔跟拍县市长候选人行程，重点针对“黑金、贿选...     0\n",
              "1            就说七伤拳嘛并且搞了半天好像只有蒋万安一个人辞职，同党和别党立委都不辞，噗嗤。 ​     0\n",
              "2    距离九合一选举投票日不到20天，中华亚太菁英交流协会10日公布台北市长选举最新民调，民进党台...     1\n",
              "3    最后预言一下，本月26日台湾省九合一大选可能出现的选举结果。（此次选举会影响未来两岸关系发展...     1\n",
              "4           台北民调！蒋万安29.8%领先，蒋笃定、黄超车，陈哭哭，蔡咋办？ - 今日头条O ​     0\n",
              "..                                                 ...   ...\n",
              "785  台北市长选战开打，若由中国国民党推出的“立委”蒋万安、民进党征召的前“卫福部长”陈时中及台北...     1\n",
              "786  拉锯战！TVBS民调中心昨(29日)发布报告，国民党参选人蒋万安支持度微降至36%，刚辞职的...     1\n",
              "787                           喜猪妹才会投陈时台吧，通讯录当然选蒋万安啊。 ​     0\n",
              "788                                    最新民調，蔣萬安褲暫時領先 ​     1\n",
              "789                    台北市最新民调：蒋万安36%，黄珊珊26%，陈时中23%。 ​     1\n",
              "\n",
              "[790 rows x 2 columns]"
            ],
            "text/html": [
              "\n",
              "  <div id=\"df-5022279c-60f9-4b0a-8098-c2fe842e017e\">\n",
              "    <div class=\"colab-df-container\">\n",
              "      <div>\n",
              "<style scoped>\n",
              "    .dataframe tbody tr th:only-of-type {\n",
              "        vertical-align: middle;\n",
              "    }\n",
              "\n",
              "    .dataframe tbody tr th {\n",
              "        vertical-align: top;\n",
              "    }\n",
              "\n",
              "    .dataframe thead th {\n",
              "        text-align: right;\n",
              "    }\n",
              "</style>\n",
              "<table border=\"1\" class=\"dataframe\">\n",
              "  <thead>\n",
              "    <tr style=\"text-align: right;\">\n",
              "      <th></th>\n",
              "      <th>text</th>\n",
              "      <th>pred</th>\n",
              "    </tr>\n",
              "  </thead>\n",
              "  <tbody>\n",
              "    <tr>\n",
              "      <th>0</th>\n",
              "      <td>9日绿营侧翼流传一份伪造文件，指称国民党计划找狗仔跟拍县市长候选人行程，重点针对“黑金、贿选...</td>\n",
              "      <td>0</td>\n",
              "    </tr>\n",
              "    <tr>\n",
              "      <th>1</th>\n",
              "      <td>就说七伤拳嘛并且搞了半天好像只有蒋万安一个人辞职，同党和别党立委都不辞，噗嗤。 ​</td>\n",
              "      <td>0</td>\n",
              "    </tr>\n",
              "    <tr>\n",
              "      <th>2</th>\n",
              "      <td>距离九合一选举投票日不到20天，中华亚太菁英交流协会10日公布台北市长选举最新民调，民进党台...</td>\n",
              "      <td>1</td>\n",
              "    </tr>\n",
              "    <tr>\n",
              "      <th>3</th>\n",
              "      <td>最后预言一下，本月26日台湾省九合一大选可能出现的选举结果。（此次选举会影响未来两岸关系发展...</td>\n",
              "      <td>1</td>\n",
              "    </tr>\n",
              "    <tr>\n",
              "      <th>4</th>\n",
              "      <td>台北民调！蒋万安29.8%领先，蒋笃定、黄超车，陈哭哭，蔡咋办？ - 今日头条O ​</td>\n",
              "      <td>0</td>\n",
              "    </tr>\n",
              "    <tr>\n",
              "      <th>...</th>\n",
              "      <td>...</td>\n",
              "      <td>...</td>\n",
              "    </tr>\n",
              "    <tr>\n",
              "      <th>785</th>\n",
              "      <td>台北市长选战开打，若由中国国民党推出的“立委”蒋万安、民进党征召的前“卫福部长”陈时中及台北...</td>\n",
              "      <td>1</td>\n",
              "    </tr>\n",
              "    <tr>\n",
              "      <th>786</th>\n",
              "      <td>拉锯战！TVBS民调中心昨(29日)发布报告，国民党参选人蒋万安支持度微降至36%，刚辞职的...</td>\n",
              "      <td>1</td>\n",
              "    </tr>\n",
              "    <tr>\n",
              "      <th>787</th>\n",
              "      <td>喜猪妹才会投陈时台吧，通讯录当然选蒋万安啊。 ​</td>\n",
              "      <td>0</td>\n",
              "    </tr>\n",
              "    <tr>\n",
              "      <th>788</th>\n",
              "      <td>最新民調，蔣萬安褲暫時領先 ​</td>\n",
              "      <td>1</td>\n",
              "    </tr>\n",
              "    <tr>\n",
              "      <th>789</th>\n",
              "      <td>台北市最新民调：蒋万安36%，黄珊珊26%，陈时中23%。 ​</td>\n",
              "      <td>1</td>\n",
              "    </tr>\n",
              "  </tbody>\n",
              "</table>\n",
              "<p>790 rows × 2 columns</p>\n",
              "</div>\n",
              "      <button class=\"colab-df-convert\" onclick=\"convertToInteractive('df-5022279c-60f9-4b0a-8098-c2fe842e017e')\"\n",
              "              title=\"Convert this dataframe to an interactive table.\"\n",
              "              style=\"display:none;\">\n",
              "        \n",
              "  <svg xmlns=\"http://www.w3.org/2000/svg\" height=\"24px\"viewBox=\"0 0 24 24\"\n",
              "       width=\"24px\">\n",
              "    <path d=\"M0 0h24v24H0V0z\" fill=\"none\"/>\n",
              "    <path d=\"M18.56 5.44l.94 2.06.94-2.06 2.06-.94-2.06-.94-.94-2.06-.94 2.06-2.06.94zm-11 1L8.5 8.5l.94-2.06 2.06-.94-2.06-.94L8.5 2.5l-.94 2.06-2.06.94zm10 10l.94 2.06.94-2.06 2.06-.94-2.06-.94-.94-2.06-.94 2.06-2.06.94z\"/><path d=\"M17.41 7.96l-1.37-1.37c-.4-.4-.92-.59-1.43-.59-.52 0-1.04.2-1.43.59L10.3 9.45l-7.72 7.72c-.78.78-.78 2.05 0 2.83L4 21.41c.39.39.9.59 1.41.59.51 0 1.02-.2 1.41-.59l7.78-7.78 2.81-2.81c.8-.78.8-2.07 0-2.86zM5.41 20L4 18.59l7.72-7.72 1.47 1.35L5.41 20z\"/>\n",
              "  </svg>\n",
              "      </button>\n",
              "      \n",
              "  <style>\n",
              "    .colab-df-container {\n",
              "      display:flex;\n",
              "      flex-wrap:wrap;\n",
              "      gap: 12px;\n",
              "    }\n",
              "\n",
              "    .colab-df-convert {\n",
              "      background-color: #E8F0FE;\n",
              "      border: none;\n",
              "      border-radius: 50%;\n",
              "      cursor: pointer;\n",
              "      display: none;\n",
              "      fill: #1967D2;\n",
              "      height: 32px;\n",
              "      padding: 0 0 0 0;\n",
              "      width: 32px;\n",
              "    }\n",
              "\n",
              "    .colab-df-convert:hover {\n",
              "      background-color: #E2EBFA;\n",
              "      box-shadow: 0px 1px 2px rgba(60, 64, 67, 0.3), 0px 1px 3px 1px rgba(60, 64, 67, 0.15);\n",
              "      fill: #174EA6;\n",
              "    }\n",
              "\n",
              "    [theme=dark] .colab-df-convert {\n",
              "      background-color: #3B4455;\n",
              "      fill: #D2E3FC;\n",
              "    }\n",
              "\n",
              "    [theme=dark] .colab-df-convert:hover {\n",
              "      background-color: #434B5C;\n",
              "      box-shadow: 0px 1px 3px 1px rgba(0, 0, 0, 0.15);\n",
              "      filter: drop-shadow(0px 1px 2px rgba(0, 0, 0, 0.3));\n",
              "      fill: #FFFFFF;\n",
              "    }\n",
              "  </style>\n",
              "\n",
              "      <script>\n",
              "        const buttonEl =\n",
              "          document.querySelector('#df-5022279c-60f9-4b0a-8098-c2fe842e017e button.colab-df-convert');\n",
              "        buttonEl.style.display =\n",
              "          google.colab.kernel.accessAllowed ? 'block' : 'none';\n",
              "\n",
              "        async function convertToInteractive(key) {\n",
              "          const element = document.querySelector('#df-5022279c-60f9-4b0a-8098-c2fe842e017e');\n",
              "          const dataTable =\n",
              "            await google.colab.kernel.invokeFunction('convertToInteractive',\n",
              "                                                     [key], {});\n",
              "          if (!dataTable) return;\n",
              "\n",
              "          const docLinkHtml = 'Like what you see? Visit the ' +\n",
              "            '<a target=\"_blank\" href=https://colab.research.google.com/notebooks/data_table.ipynb>data table notebook</a>'\n",
              "            + ' to learn more about interactive tables.';\n",
              "          element.innerHTML = '';\n",
              "          dataTable['output_type'] = 'display_data';\n",
              "          await google.colab.output.renderOutput(dataTable, element);\n",
              "          const docLink = document.createElement('div');\n",
              "          docLink.innerHTML = docLinkHtml;\n",
              "          element.appendChild(docLink);\n",
              "        }\n",
              "      </script>\n",
              "    </div>\n",
              "  </div>\n",
              "  "
            ]
          },
          "metadata": {},
          "execution_count": 538
        }
      ]
    },
    {
      "cell_type": "markdown",
      "source": [
        "# graphs"
      ],
      "metadata": {
        "id": "EC9XT-CHeYsV"
      }
    },
    {
      "cell_type": "code",
      "source": [
        "count0 = (testing_pd['pred'] == 0).sum()\n",
        "count1 = (testing_pd['pred'] == 1).sum()\n",
        "print(count0, count1)"
      ],
      "metadata": {
        "colab": {
          "base_uri": "https://localhost:8080/"
        },
        "outputId": "a8194b34-ab4b-4215-cbf5-a765efd01445",
        "id": "ou69W3Rc2FSK"
      },
      "execution_count": null,
      "outputs": [
        {
          "output_type": "stream",
          "name": "stdout",
          "text": [
            "522 268\n"
          ]
        }
      ]
    },
    {
      "cell_type": "code",
      "source": [
        "#plot in total amounts. Remember, 0 = negative, 1 = positive\n",
        "import matplotlib.pyplot as plt\n",
        "count0 = (testing_pd['pred'] == 0).sum()\n",
        "count1 = (testing_pd['pred'] == 1).sum()\n",
        "df_plot=pd.DataFrame({'result in numbers': ['_'], 'negative':[count0], 'positive': [count1]})\n",
        "df_plot.plot.bar(x='result in numbers', figsize=(10, 10))\n",
        "plt.show()"
      ],
      "metadata": {
        "id": "QnBagsANaObm",
        "colab": {
          "base_uri": "https://localhost:8080/",
          "height": 601
        },
        "outputId": "737c397a-a2a8-46ff-928e-dde0c8ddd3aa"
      },
      "execution_count": null,
      "outputs": [
        {
          "output_type": "display_data",
          "data": {
            "text/plain": [
              "<Figure size 720x720 with 1 Axes>"
            ],
            "image/png": "[encoded data removed]"
          },
          "metadata": {
            "needs_background": "light"
          }
        }
      ]
    },
    {
      "cell_type": "code",
      "source": [
        "#def Percentage(num1, num2):\n",
        "#    return num1 / (num1 + num2) * 100\n",
        "    \n",
        "#print(Percentage(count0, count1))\n",
        "#print(Percentage(count1, count0))\n",
        "\n",
        "def Percentage(num1, num2):\n",
        "    return num1 / (num1 + num2) * 100\n",
        "\n",
        "#plot in percentage. Remember, 0 = negative, 1 = positive\n",
        "per1=Percentage(count0, count1)\n",
        "per2=Percentage(count1, count0)\n",
        "\n",
        "label = ['negative', 'positive']\n",
        "shares = [per1, per2]\n",
        "fig, ax = plt.subplots(figsize=(10,10))\n",
        "ax.pie(shares, labels=label, autopct='%.2f%%', shadow=False, labeldistance=1.1,  textprops={'fontsize': 14})\n",
        "ax.set_title('Chiang Wan-an before', fontsize=18, y=0.95);"
      ],
      "metadata": {
        "colab": {
          "base_uri": "https://localhost:8080/",
          "height": 575
        },
        "outputId": "a118d5eb-b16d-4ddb-9dcd-bea9be42478d",
        "id": "xMm052hm2FSK"
      },
      "execution_count": null,
      "outputs": [
        {
          "output_type": "display_data",
          "data": {
            "text/plain": [
              "<Figure size 720x720 with 1 Axes>"
            ],
            "image/png": "[encoded data removed]"
          },
          "metadata": {}
        }
      ]
    },
    {
      "cell_type": "markdown",
      "source": [
        "#**Chiang_after**"
      ],
      "metadata": {
        "id": "P-asUuzm2F90"
      }
    },
    {
      "cell_type": "markdown",
      "source": [
        "# 1. load and clean data"
      ],
      "metadata": {
        "id": "BwWiYKbL2OjO"
      }
    },
    {
      "cell_type": "code",
      "source": [
        "#insert new xlsx file here\n",
        "! wget -nc https://raw.githubusercontent.com/advapplab/sentiment_analysis_election_2022/main/data/challange/Chiang_after.xlsx"
      ],
      "metadata": {
        "colab": {
          "base_uri": "https://localhost:8080/"
        },
        "outputId": "7da35a8f-cc21-4092-b2a0-caf4e2e20696",
        "id": "T-rSuTyn2OjP"
      },
      "execution_count": null,
      "outputs": [
        {
          "output_type": "stream",
          "name": "stdout",
          "text": [
            "File ‘Chiang_after.xlsx’ already there; not retrieving.\n",
            "\n"
          ]
        }
      ]
    },
    {
      "cell_type": "code",
      "source": [
        "import pandas as pd"
      ],
      "metadata": {
        "id": "aDC7b5_d2OjQ"
      },
      "execution_count": null,
      "outputs": []
    },
    {
      "cell_type": "code",
      "source": [
        "#insert new xlsx file here\n",
        "testing_pd = pd.read_excel('/content/Chiang_after.xlsx')\n",
        "\n",
        "testing_pd.rename(columns={'博文': 'text'},\n",
        "          inplace=True, errors='raise')\n",
        "\n",
        "testing_pd = testing_pd[['text']]"
      ],
      "metadata": {
        "colab": {
          "base_uri": "https://localhost:8080/"
        },
        "outputId": "fadb42cd-06cf-434c-8f33-c1bdaa8bc985",
        "id": "N3DI-hJ52OjQ"
      },
      "execution_count": null,
      "outputs": [
        {
          "output_type": "stream",
          "name": "stderr",
          "text": [
            "/usr/local/lib/python3.8/dist-packages/openpyxl/styles/stylesheet.py:226: UserWarning: Workbook contains no default style, apply openpyxl's default\n",
            "  warn(\"Workbook contains no default style, apply openpyxl's default\")\n"
          ]
        }
      ]
    },
    {
      "cell_type": "code",
      "source": [
        "#dirty data\n",
        "testing_pd"
      ],
      "metadata": {
        "outputId": "1988ecfb-43b4-498c-8d85-b2303172754c",
        "colab": {
          "base_uri": "https://localhost:8080/"
        },
        "id": "wy_brl8N2OjQ"
      },
      "execution_count": null,
      "outputs": [
        {
          "output_type": "execute_result",
          "data": {
            "text/plain": [
              "                                                  text\n",
              "0    预祝帅气的蒋公曾孙参选台北市长成功。是参选，竞选，是台北人民一张张选票出来的那种。5:/ Z...\n",
              "1                        蒋万安是我看过最认真，最努力的台北市长参选人，他值得赢 ​\n",
              "2    还是坚持我月初的预测中国国民党：14民主进步党： 6台湾民众党：1无党籍：1台北 蒋万安新北...\n",
              "3                   蔣萬安，單選臺北市市長加油#蒋万安# L高兴15014的微博视频 ​\n",
              "4    《蒋万安将参选台北市市长，表态将直面蒋家功与过》蒋万安将参选台北市市长，表态将直面蒋家功与过...\n",
              "..                                                 ...\n",
              "349  【蒋万安公布小内阁用人标准 ：柯市府优秀首长可留任】台北市长当选人蒋万安小内阁备受关注。蒋万...\n",
              "350  【立委补选“今天内确认人选” 蒋万安：一定要守住这一席】国民党台北市长当选人蒋万安选前辞去立...\n",
              "351  【柯蒋会来了 蒋万安12／5 访柯市府、林奕华任交接窗口】九合一大选落幕，台北市政府将改朝换...\n",
              "352                               蒋万安赢得中国台湾省台北市市长选选举 ​\n",
              "353                       没别的意思，但是微博有蒋万安梦女吗，有的话算我一个（ ​\n",
              "\n",
              "[354 rows x 1 columns]"
            ],
            "text/html": [
              "\n",
              "  <div id=\"df-30888f50-77c3-4a5c-9257-53f244da0f9d\">\n",
              "    <div class=\"colab-df-container\">\n",
              "      <div>\n",
              "<style scoped>\n",
              "    .dataframe tbody tr th:only-of-type {\n",
              "        vertical-align: middle;\n",
              "    }\n",
              "\n",
              "    .dataframe tbody tr th {\n",
              "        vertical-align: top;\n",
              "    }\n",
              "\n",
              "    .dataframe thead th {\n",
              "        text-align: right;\n",
              "    }\n",
              "</style>\n",
              "<table border=\"1\" class=\"dataframe\">\n",
              "  <thead>\n",
              "    <tr style=\"text-align: right;\">\n",
              "      <th></th>\n",
              "      <th>text</th>\n",
              "    </tr>\n",
              "  </thead>\n",
              "  <tbody>\n",
              "    <tr>\n",
              "      <th>0</th>\n",
              "      <td>预祝帅气的蒋公曾孙参选台北市长成功。是参选，竞选，是台北人民一张张选票出来的那种。5:/ Z...</td>\n",
              "    </tr>\n",
              "    <tr>\n",
              "      <th>1</th>\n",
              "      <td>蒋万安是我看过最认真，最努力的台北市长参选人，他值得赢 ​</td>\n",
              "    </tr>\n",
              "    <tr>\n",
              "      <th>2</th>\n",
              "      <td>还是坚持我月初的预测中国国民党：14民主进步党： 6台湾民众党：1无党籍：1台北 蒋万安新北...</td>\n",
              "    </tr>\n",
              "    <tr>\n",
              "      <th>3</th>\n",
              "      <td>蔣萬安，單選臺北市市長加油#蒋万安# L高兴15014的微博视频 ​</td>\n",
              "    </tr>\n",
              "    <tr>\n",
              "      <th>4</th>\n",
              "      <td>《蒋万安将参选台北市市长，表态将直面蒋家功与过》蒋万安将参选台北市市长，表态将直面蒋家功与过...</td>\n",
              "    </tr>\n",
              "    <tr>\n",
              "      <th>...</th>\n",
              "      <td>...</td>\n",
              "    </tr>\n",
              "    <tr>\n",
              "      <th>349</th>\n",
              "      <td>【蒋万安公布小内阁用人标准 ：柯市府优秀首长可留任】台北市长当选人蒋万安小内阁备受关注。蒋万...</td>\n",
              "    </tr>\n",
              "    <tr>\n",
              "      <th>350</th>\n",
              "      <td>【立委补选“今天内确认人选” 蒋万安：一定要守住这一席】国民党台北市长当选人蒋万安选前辞去立...</td>\n",
              "    </tr>\n",
              "    <tr>\n",
              "      <th>351</th>\n",
              "      <td>【柯蒋会来了 蒋万安12／5 访柯市府、林奕华任交接窗口】九合一大选落幕，台北市政府将改朝换...</td>\n",
              "    </tr>\n",
              "    <tr>\n",
              "      <th>352</th>\n",
              "      <td>蒋万安赢得中国台湾省台北市市长选选举 ​</td>\n",
              "    </tr>\n",
              "    <tr>\n",
              "      <th>353</th>\n",
              "      <td>没别的意思，但是微博有蒋万安梦女吗，有的话算我一个（ ​</td>\n",
              "    </tr>\n",
              "  </tbody>\n",
              "</table>\n",
              "<p>354 rows × 1 columns</p>\n",
              "</div>\n",
              "      <button class=\"colab-df-convert\" onclick=\"convertToInteractive('df-30888f50-77c3-4a5c-9257-53f244da0f9d')\"\n",
              "              title=\"Convert this dataframe to an interactive table.\"\n",
              "              style=\"display:none;\">\n",
              "        \n",
              "  <svg xmlns=\"http://www.w3.org/2000/svg\" height=\"24px\"viewBox=\"0 0 24 24\"\n",
              "       width=\"24px\">\n",
              "    <path d=\"M0 0h24v24H0V0z\" fill=\"none\"/>\n",
              "    <path d=\"M18.56 5.44l.94 2.06.94-2.06 2.06-.94-2.06-.94-.94-2.06-.94 2.06-2.06.94zm-11 1L8.5 8.5l.94-2.06 2.06-.94-2.06-.94L8.5 2.5l-.94 2.06-2.06.94zm10 10l.94 2.06.94-2.06 2.06-.94-2.06-.94-.94-2.06-.94 2.06-2.06.94z\"/><path d=\"M17.41 7.96l-1.37-1.37c-.4-.4-.92-.59-1.43-.59-.52 0-1.04.2-1.43.59L10.3 9.45l-7.72 7.72c-.78.78-.78 2.05 0 2.83L4 21.41c.39.39.9.59 1.41.59.51 0 1.02-.2 1.41-.59l7.78-7.78 2.81-2.81c.8-.78.8-2.07 0-2.86zM5.41 20L4 18.59l7.72-7.72 1.47 1.35L5.41 20z\"/>\n",
              "  </svg>\n",
              "      </button>\n",
              "      \n",
              "  <style>\n",
              "    .colab-df-container {\n",
              "      display:flex;\n",
              "      flex-wrap:wrap;\n",
              "      gap: 12px;\n",
              "    }\n",
              "\n",
              "    .colab-df-convert {\n",
              "      background-color: #E8F0FE;\n",
              "      border: none;\n",
              "      border-radius: 50%;\n",
              "      cursor: pointer;\n",
              "      display: none;\n",
              "      fill: #1967D2;\n",
              "      height: 32px;\n",
              "      padding: 0 0 0 0;\n",
              "      width: 32px;\n",
              "    }\n",
              "\n",
              "    .colab-df-convert:hover {\n",
              "      background-color: #E2EBFA;\n",
              "      box-shadow: 0px 1px 2px rgba(60, 64, 67, 0.3), 0px 1px 3px 1px rgba(60, 64, 67, 0.15);\n",
              "      fill: #174EA6;\n",
              "    }\n",
              "\n",
              "    [theme=dark] .colab-df-convert {\n",
              "      background-color: #3B4455;\n",
              "      fill: #D2E3FC;\n",
              "    }\n",
              "\n",
              "    [theme=dark] .colab-df-convert:hover {\n",
              "      background-color: #434B5C;\n",
              "      box-shadow: 0px 1px 3px 1px rgba(0, 0, 0, 0.15);\n",
              "      filter: drop-shadow(0px 1px 2px rgba(0, 0, 0, 0.3));\n",
              "      fill: #FFFFFF;\n",
              "    }\n",
              "  </style>\n",
              "\n",
              "      <script>\n",
              "        const buttonEl =\n",
              "          document.querySelector('#df-30888f50-77c3-4a5c-9257-53f244da0f9d button.colab-df-convert');\n",
              "        buttonEl.style.display =\n",
              "          google.colab.kernel.accessAllowed ? 'block' : 'none';\n",
              "\n",
              "        async function convertToInteractive(key) {\n",
              "          const element = document.querySelector('#df-30888f50-77c3-4a5c-9257-53f244da0f9d');\n",
              "          const dataTable =\n",
              "            await google.colab.kernel.invokeFunction('convertToInteractive',\n",
              "                                                     [key], {});\n",
              "          if (!dataTable) return;\n",
              "\n",
              "          const docLinkHtml = 'Like what you see? Visit the ' +\n",
              "            '<a target=\"_blank\" href=https://colab.research.google.com/notebooks/data_table.ipynb>data table notebook</a>'\n",
              "            + ' to learn more about interactive tables.';\n",
              "          element.innerHTML = '';\n",
              "          dataTable['output_type'] = 'display_data';\n",
              "          await google.colab.output.renderOutput(dataTable, element);\n",
              "          const docLink = document.createElement('div');\n",
              "          docLink.innerHTML = docLinkHtml;\n",
              "          element.appendChild(docLink);\n",
              "        }\n",
              "      </script>\n",
              "    </div>\n",
              "  </div>\n",
              "  "
            ]
          },
          "metadata": {},
          "execution_count": 545
        }
      ]
    },
    {
      "cell_type": "code",
      "source": [
        "#we can consider not deleting the titles. This will be up to the ICI project group to decide\n",
        "#if you wish to preserve the titles. replace the corresponding block of code below with this one \n",
        "\n",
        "#testing_pd['text'] = testing_pd['text'].replace(span_pattern,'',regex=True).replace(span_pattern,'',regex=True)\n",
        "#testing_pd['text'] = testing_pd['text'].replace(http_pattern,'',regex=True).replace(html_pattern,'',regex=True)\n",
        "#testing_pd['text'] = testing_pd['text'].replace(image_pattern,'',regex=True)#.replace(title_pattern_1,'',regex=True)\n",
        "#testing_pd['text'] = testing_pd['text'].re place(link_pattern,'',regex=True).replace(html_pattern,'',regex=True)\n",
        "##testing_pd['text'] = testing_pd['text'].replace(title_pattern_2,'',regex=True)\n",
        "#________________________________________________________________________________________________________________________\n",
        "\n",
        "testing_pd = testing_pd[~testing_pd['text'].str.contains('a href', regex=True)]\n",
        "\n",
        "\n",
        "import re\n",
        "html_pattern = \"<(?:\\\"[^\\\"]*\\\"['\\\"]*|'[^']*'['\\\"]*|[^'\\\">])+>\"\n",
        "http_pattern = \"http\\S+\"\n",
        "image_pattern = \"<img\\s[^>]*?src\\s*=\\s*['\\\"]([^'\\\"]*?)['\\\"][^>]*?>\" \n",
        "#title_pattern = \"[【|《*】|》]\"\n",
        "title_pattern_1 = \"(?=【)(.*)(?<=】)\"\n",
        "title_pattern_2 = \"(?=《)(.*)(?<=》)\"\n",
        "link_pattern=\"网页链接\"\n",
        "span_pattern='<span.*?>(.+?)</span>'\n",
        "\n",
        "#replace with this block. Do some more research because it looks like some titles are still removed, like index 41\n",
        "testing_pd['text'] = testing_pd['text'].replace(span_pattern,'',regex=True).replace(span_pattern,'',regex=True)\n",
        "testing_pd['text'] = testing_pd['text'].replace(http_pattern,'',regex=True).replace(html_pattern,'',regex=True)\n",
        "testing_pd['text'] = testing_pd['text'].replace(image_pattern,'',regex=True).replace(title_pattern_1,'',regex=True)\n",
        "testing_pd['text'] = testing_pd['text'].replace(link_pattern,'',regex=True).replace(html_pattern,'',regex=True)\n",
        "testing_pd['text'] = testing_pd['text'].replace(title_pattern_2,'',regex=True)"
      ],
      "metadata": {
        "id": "FiZPIJ7G2OjQ"
      },
      "execution_count": null,
      "outputs": []
    },
    {
      "cell_type": "code",
      "source": [
        "#delete empty rows\n",
        "testing_pd = testing_pd[testing_pd['text'].str.len()>2]   \n",
        "testing_pd = testing_pd[['text']]\n",
        "testing_pd = testing_pd.reset_index(drop=True)\n",
        "testing_pd"
      ],
      "metadata": {
        "outputId": "dc74fe31-c57a-4f23-830a-359a75753a8a",
        "colab": {
          "base_uri": "https://localhost:8080/"
        },
        "id": "nq0buzHT2OjR"
      },
      "execution_count": null,
      "outputs": [
        {
          "output_type": "execute_result",
          "data": {
            "text/plain": [
              "                                                  text\n",
              "0    预祝帅气的蒋公曾孙参选台北市长成功。是参选，竞选，是台北人民一张张选票出来的那种。5:/ Z...\n",
              "1                        蒋万安是我看过最认真，最努力的台北市长参选人，他值得赢 ​\n",
              "2    还是坚持我月初的预测中国国民党：14民主进步党： 6台湾民众党：1无党籍：1台北 蒋万安新北...\n",
              "3                   蔣萬安，單選臺北市市長加油#蒋万安# L高兴15014的微博视频 ​\n",
              "4                            蒋万安将参选台北市市长，表态将直面蒋家功与过O ​\n",
              "..                                                 ...\n",
              "349  台北市长当选人蒋万安小内阁备受关注。蒋万安今天表示，他的用人标准非常清楚，就是专业、品格、用...\n",
              "350  国民党台北市长当选人蒋万安选前辞去立委一职，留下北市第3选举区（中山、北松山）立委悬缺，国民...\n",
              "351  九合一大选落幕，台北市政府将改朝换代，国民党台北市长当选人蒋万安今天上午表示，下周一早上10...\n",
              "352                               蒋万安赢得中国台湾省台北市市长选选举 ​\n",
              "353                       没别的意思，但是微博有蒋万安梦女吗，有的话算我一个（ ​\n",
              "\n",
              "[354 rows x 1 columns]"
            ],
            "text/html": [
              "\n",
              "  <div id=\"df-0f4b6d8b-49c2-4368-ba91-81f45f98942e\">\n",
              "    <div class=\"colab-df-container\">\n",
              "      <div>\n",
              "<style scoped>\n",
              "    .dataframe tbody tr th:only-of-type {\n",
              "        vertical-align: middle;\n",
              "    }\n",
              "\n",
              "    .dataframe tbody tr th {\n",
              "        vertical-align: top;\n",
              "    }\n",
              "\n",
              "    .dataframe thead th {\n",
              "        text-align: right;\n",
              "    }\n",
              "</style>\n",
              "<table border=\"1\" class=\"dataframe\">\n",
              "  <thead>\n",
              "    <tr style=\"text-align: right;\">\n",
              "      <th></th>\n",
              "      <th>text</th>\n",
              "    </tr>\n",
              "  </thead>\n",
              "  <tbody>\n",
              "    <tr>\n",
              "      <th>0</th>\n",
              "      <td>预祝帅气的蒋公曾孙参选台北市长成功。是参选，竞选，是台北人民一张张选票出来的那种。5:/ Z...</td>\n",
              "    </tr>\n",
              "    <tr>\n",
              "      <th>1</th>\n",
              "      <td>蒋万安是我看过最认真，最努力的台北市长参选人，他值得赢 ​</td>\n",
              "    </tr>\n",
              "    <tr>\n",
              "      <th>2</th>\n",
              "      <td>还是坚持我月初的预测中国国民党：14民主进步党： 6台湾民众党：1无党籍：1台北 蒋万安新北...</td>\n",
              "    </tr>\n",
              "    <tr>\n",
              "      <th>3</th>\n",
              "      <td>蔣萬安，單選臺北市市長加油#蒋万安# L高兴15014的微博视频 ​</td>\n",
              "    </tr>\n",
              "    <tr>\n",
              "      <th>4</th>\n",
              "      <td>蒋万安将参选台北市市长，表态将直面蒋家功与过O ​</td>\n",
              "    </tr>\n",
              "    <tr>\n",
              "      <th>...</th>\n",
              "      <td>...</td>\n",
              "    </tr>\n",
              "    <tr>\n",
              "      <th>349</th>\n",
              "      <td>台北市长当选人蒋万安小内阁备受关注。蒋万安今天表示，他的用人标准非常清楚，就是专业、品格、用...</td>\n",
              "    </tr>\n",
              "    <tr>\n",
              "      <th>350</th>\n",
              "      <td>国民党台北市长当选人蒋万安选前辞去立委一职，留下北市第3选举区（中山、北松山）立委悬缺，国民...</td>\n",
              "    </tr>\n",
              "    <tr>\n",
              "      <th>351</th>\n",
              "      <td>九合一大选落幕，台北市政府将改朝换代，国民党台北市长当选人蒋万安今天上午表示，下周一早上10...</td>\n",
              "    </tr>\n",
              "    <tr>\n",
              "      <th>352</th>\n",
              "      <td>蒋万安赢得中国台湾省台北市市长选选举 ​</td>\n",
              "    </tr>\n",
              "    <tr>\n",
              "      <th>353</th>\n",
              "      <td>没别的意思，但是微博有蒋万安梦女吗，有的话算我一个（ ​</td>\n",
              "    </tr>\n",
              "  </tbody>\n",
              "</table>\n",
              "<p>354 rows × 1 columns</p>\n",
              "</div>\n",
              "      <button class=\"colab-df-convert\" onclick=\"convertToInteractive('df-0f4b6d8b-49c2-4368-ba91-81f45f98942e')\"\n",
              "              title=\"Convert this dataframe to an interactive table.\"\n",
              "              style=\"display:none;\">\n",
              "        \n",
              "  <svg xmlns=\"http://www.w3.org/2000/svg\" height=\"24px\"viewBox=\"0 0 24 24\"\n",
              "       width=\"24px\">\n",
              "    <path d=\"M0 0h24v24H0V0z\" fill=\"none\"/>\n",
              "    <path d=\"M18.56 5.44l.94 2.06.94-2.06 2.06-.94-2.06-.94-.94-2.06-.94 2.06-2.06.94zm-11 1L8.5 8.5l.94-2.06 2.06-.94-2.06-.94L8.5 2.5l-.94 2.06-2.06.94zm10 10l.94 2.06.94-2.06 2.06-.94-2.06-.94-.94-2.06-.94 2.06-2.06.94z\"/><path d=\"M17.41 7.96l-1.37-1.37c-.4-.4-.92-.59-1.43-.59-.52 0-1.04.2-1.43.59L10.3 9.45l-7.72 7.72c-.78.78-.78 2.05 0 2.83L4 21.41c.39.39.9.59 1.41.59.51 0 1.02-.2 1.41-.59l7.78-7.78 2.81-2.81c.8-.78.8-2.07 0-2.86zM5.41 20L4 18.59l7.72-7.72 1.47 1.35L5.41 20z\"/>\n",
              "  </svg>\n",
              "      </button>\n",
              "      \n",
              "  <style>\n",
              "    .colab-df-container {\n",
              "      display:flex;\n",
              "      flex-wrap:wrap;\n",
              "      gap: 12px;\n",
              "    }\n",
              "\n",
              "    .colab-df-convert {\n",
              "      background-color: #E8F0FE;\n",
              "      border: none;\n",
              "      border-radius: 50%;\n",
              "      cursor: pointer;\n",
              "      display: none;\n",
              "      fill: #1967D2;\n",
              "      height: 32px;\n",
              "      padding: 0 0 0 0;\n",
              "      width: 32px;\n",
              "    }\n",
              "\n",
              "    .colab-df-convert:hover {\n",
              "      background-color: #E2EBFA;\n",
              "      box-shadow: 0px 1px 2px rgba(60, 64, 67, 0.3), 0px 1px 3px 1px rgba(60, 64, 67, 0.15);\n",
              "      fill: #174EA6;\n",
              "    }\n",
              "\n",
              "    [theme=dark] .colab-df-convert {\n",
              "      background-color: #3B4455;\n",
              "      fill: #D2E3FC;\n",
              "    }\n",
              "\n",
              "    [theme=dark] .colab-df-convert:hover {\n",
              "      background-color: #434B5C;\n",
              "      box-shadow: 0px 1px 3px 1px rgba(0, 0, 0, 0.15);\n",
              "      filter: drop-shadow(0px 1px 2px rgba(0, 0, 0, 0.3));\n",
              "      fill: #FFFFFF;\n",
              "    }\n",
              "  </style>\n",
              "\n",
              "      <script>\n",
              "        const buttonEl =\n",
              "          document.querySelector('#df-0f4b6d8b-49c2-4368-ba91-81f45f98942e button.colab-df-convert');\n",
              "        buttonEl.style.display =\n",
              "          google.colab.kernel.accessAllowed ? 'block' : 'none';\n",
              "\n",
              "        async function convertToInteractive(key) {\n",
              "          const element = document.querySelector('#df-0f4b6d8b-49c2-4368-ba91-81f45f98942e');\n",
              "          const dataTable =\n",
              "            await google.colab.kernel.invokeFunction('convertToInteractive',\n",
              "                                                     [key], {});\n",
              "          if (!dataTable) return;\n",
              "\n",
              "          const docLinkHtml = 'Like what you see? Visit the ' +\n",
              "            '<a target=\"_blank\" href=https://colab.research.google.com/notebooks/data_table.ipynb>data table notebook</a>'\n",
              "            + ' to learn more about interactive tables.';\n",
              "          element.innerHTML = '';\n",
              "          dataTable['output_type'] = 'display_data';\n",
              "          await google.colab.output.renderOutput(dataTable, element);\n",
              "          const docLink = document.createElement('div');\n",
              "          docLink.innerHTML = docLinkHtml;\n",
              "          element.appendChild(docLink);\n",
              "        }\n",
              "      </script>\n",
              "    </div>\n",
              "  </div>\n",
              "  "
            ]
          },
          "metadata": {},
          "execution_count": 547
        }
      ]
    },
    {
      "cell_type": "markdown",
      "source": [
        "## 1-2 Tokenization"
      ],
      "metadata": {
        "id": "GngXoQCM2OjR"
      }
    },
    {
      "cell_type": "code",
      "source": [
        "from datasets import Dataset, DatasetDict\n",
        "\n",
        "weibo_dict = {\n",
        "              'test' : Dataset.from_pandas(testing_pd)\n",
        "              }\n",
        "\n",
        "weibo_ds = DatasetDict(weibo_dict)"
      ],
      "metadata": {
        "id": "Uem9ey9H2OjR"
      },
      "execution_count": null,
      "outputs": []
    },
    {
      "cell_type": "code",
      "source": [
        "from transformers import AutoTokenizer"
      ],
      "metadata": {
        "id": "7En1G_hi2OjS"
      },
      "execution_count": null,
      "outputs": []
    },
    {
      "cell_type": "code",
      "source": [
        "tokenizer = AutoTokenizer.from_pretrained(model_tokenizer)"
      ],
      "metadata": {
        "colab": {
          "base_uri": "https://localhost:8080/"
        },
        "outputId": "ff9434ad-cb9a-48d9-d354-03507d9711b6",
        "id": "1HUFyI702OjS"
      },
      "execution_count": null,
      "outputs": [
        {
          "output_type": "stream",
          "name": "stderr",
          "text": [
            "loading configuration file config.json from cache at /root/.cache/huggingface/hub/models--hfl--chinese-bert-wwm/snapshots/ab0aa81da273504efc8540aa4d0bbaa3016a1bb5/config.json\n",
            "Model config BertConfig {\n",
            "  \"_name_or_path\": \"hfl/chinese-bert-wwm\",\n",
            "  \"architectures\": [\n",
            "    \"BertForMaskedLM\"\n",
            "  ],\n",
            "  \"attention_probs_dropout_prob\": 0.1,\n",
            "  \"classifier_dropout\": null,\n",
            "  \"directionality\": \"bidi\",\n",
            "  \"hidden_act\": \"gelu\",\n",
            "  \"hidden_dropout_prob\": 0.1,\n",
            "  \"hidden_size\": 768,\n",
            "  \"initializer_range\": 0.02,\n",
            "  \"intermediate_size\": 3072,\n",
            "  \"layer_norm_eps\": 1e-12,\n",
            "  \"max_position_embeddings\": 512,\n",
            "  \"model_type\": \"bert\",\n",
            "  \"num_attention_heads\": 12,\n",
            "  \"num_hidden_layers\": 12,\n",
            "  \"output_past\": true,\n",
            "  \"pad_token_id\": 0,\n",
            "  \"pooler_fc_size\": 768,\n",
            "  \"pooler_num_attention_heads\": 12,\n",
            "  \"pooler_num_fc_layers\": 3,\n",
            "  \"pooler_size_per_head\": 128,\n",
            "  \"pooler_type\": \"first_token_transform\",\n",
            "  \"position_embedding_type\": \"absolute\",\n",
            "  \"transformers_version\": \"4.25.1\",\n",
            "  \"type_vocab_size\": 2,\n",
            "  \"use_cache\": true,\n",
            "  \"vocab_size\": 21128\n",
            "}\n",
            "\n",
            "loading file vocab.txt from cache at /root/.cache/huggingface/hub/models--hfl--chinese-bert-wwm/snapshots/ab0aa81da273504efc8540aa4d0bbaa3016a1bb5/vocab.txt\n",
            "loading file tokenizer.json from cache at /root/.cache/huggingface/hub/models--hfl--chinese-bert-wwm/snapshots/ab0aa81da273504efc8540aa4d0bbaa3016a1bb5/tokenizer.json\n",
            "loading file added_tokens.json from cache at /root/.cache/huggingface/hub/models--hfl--chinese-bert-wwm/snapshots/ab0aa81da273504efc8540aa4d0bbaa3016a1bb5/added_tokens.json\n",
            "loading file special_tokens_map.json from cache at /root/.cache/huggingface/hub/models--hfl--chinese-bert-wwm/snapshots/ab0aa81da273504efc8540aa4d0bbaa3016a1bb5/special_tokens_map.json\n",
            "loading file tokenizer_config.json from cache at /root/.cache/huggingface/hub/models--hfl--chinese-bert-wwm/snapshots/ab0aa81da273504efc8540aa4d0bbaa3016a1bb5/tokenizer_config.json\n",
            "loading configuration file config.json from cache at /root/.cache/huggingface/hub/models--hfl--chinese-bert-wwm/snapshots/ab0aa81da273504efc8540aa4d0bbaa3016a1bb5/config.json\n",
            "Model config BertConfig {\n",
            "  \"_name_or_path\": \"hfl/chinese-bert-wwm\",\n",
            "  \"architectures\": [\n",
            "    \"BertForMaskedLM\"\n",
            "  ],\n",
            "  \"attention_probs_dropout_prob\": 0.1,\n",
            "  \"classifier_dropout\": null,\n",
            "  \"directionality\": \"bidi\",\n",
            "  \"hidden_act\": \"gelu\",\n",
            "  \"hidden_dropout_prob\": 0.1,\n",
            "  \"hidden_size\": 768,\n",
            "  \"initializer_range\": 0.02,\n",
            "  \"intermediate_size\": 3072,\n",
            "  \"layer_norm_eps\": 1e-12,\n",
            "  \"max_position_embeddings\": 512,\n",
            "  \"model_type\": \"bert\",\n",
            "  \"num_attention_heads\": 12,\n",
            "  \"num_hidden_layers\": 12,\n",
            "  \"output_past\": true,\n",
            "  \"pad_token_id\": 0,\n",
            "  \"pooler_fc_size\": 768,\n",
            "  \"pooler_num_attention_heads\": 12,\n",
            "  \"pooler_num_fc_layers\": 3,\n",
            "  \"pooler_size_per_head\": 128,\n",
            "  \"pooler_type\": \"first_token_transform\",\n",
            "  \"position_embedding_type\": \"absolute\",\n",
            "  \"transformers_version\": \"4.25.1\",\n",
            "  \"type_vocab_size\": 2,\n",
            "  \"use_cache\": true,\n",
            "  \"vocab_size\": 21128\n",
            "}\n",
            "\n"
          ]
        }
      ]
    },
    {
      "cell_type": "code",
      "source": [
        "def tokenize_function(examples):\n",
        "    return tokenizer(examples[\"text\"], \n",
        "                     padding=\"max_length\", \n",
        "                     truncation=True, \n",
        "                     max_length=512)\n",
        "\n",
        "tokenized_datasets = weibo_ds.map(tokenize_function, batched=True)"
      ],
      "metadata": {
        "colab": {
          "base_uri": "https://localhost:8080/",
          "referenced_widgets": [
            "e068dddebec2463485eae0792f0e84e1",
            "6115016909c647c8a0db53bf02d04dec",
            "d07aab7f0d2f4fe1b6dff21cb4b63ec2",
            "90ab2238db9145fd8c455b81e92143e0",
            "f964ce5ef14a43509f6118f09e248172",
            "24997f1f56014e3d830139e4d5edee92",
            "0ed4340c5076496d8cc66b32522e7ef9",
            "f26ebe6429414c63a68feade4e4e5781",
            "e1e67136f8ed42c8a56e5a059c881502",
            "19335200081245ba94b14cdc80304578",
            "a8e70750f1f74e5fa2d02323619f0e29"
          ]
        },
        "outputId": "d07c56bf-26bc-48cf-ac5c-7a59e16aa980",
        "id": "pQQSTMr72OjS"
      },
      "execution_count": null,
      "outputs": [
        {
          "output_type": "display_data",
          "data": {
            "text/plain": [
              "  0%|          | 0/1 [00:00<?, ?ba/s]"
            ],
            "application/vnd.jupyter.widget-view+json": {
              "version_major": 2,
              "version_minor": 0,
              "model_id": "e068dddebec2463485eae0792f0e84e1"
            }
          },
          "metadata": {}
        }
      ]
    },
    {
      "cell_type": "code",
      "source": [
        "full_test_dataset = tokenized_datasets[\"test\"]"
      ],
      "metadata": {
        "id": "L7r4XcXd2OjS"
      },
      "execution_count": null,
      "outputs": []
    },
    {
      "cell_type": "markdown",
      "source": [
        "# 2. preparing BERT\n"
      ],
      "metadata": {
        "id": "CVG-oji92OjS"
      }
    },
    {
      "cell_type": "code",
      "source": [
        "from transformers import AutoModelForSequenceClassification\n",
        "\n",
        "# available chinese models: https://github.com/ymcui/Chinese-BERT-wwm\n",
        "\n",
        "model = AutoModelForSequenceClassification.from_pretrained(model_classifier, \n",
        "                                                           num_labels=2)"
      ],
      "metadata": {
        "colab": {
          "base_uri": "https://localhost:8080/"
        },
        "outputId": "0cbf603f-a93e-4669-f829-317462c9e325",
        "id": "hu9zrFB02OjT"
      },
      "execution_count": null,
      "outputs": [
        {
          "output_type": "stream",
          "name": "stderr",
          "text": [
            "loading configuration file config.json from cache at /root/.cache/huggingface/hub/models--owen198--weibo-wmmbert-2/snapshots/1c8b069ca4f42474887b1be5ddb45d0b190b785d/config.json\n",
            "Model config BertConfig {\n",
            "  \"_name_or_path\": \"owen198/weibo-wmmbert-2\",\n",
            "  \"architectures\": [\n",
            "    \"BertForSequenceClassification\"\n",
            "  ],\n",
            "  \"attention_probs_dropout_prob\": 0.1,\n",
            "  \"classifier_dropout\": null,\n",
            "  \"directionality\": \"bidi\",\n",
            "  \"hidden_act\": \"gelu\",\n",
            "  \"hidden_dropout_prob\": 0.1,\n",
            "  \"hidden_size\": 768,\n",
            "  \"initializer_range\": 0.02,\n",
            "  \"intermediate_size\": 3072,\n",
            "  \"layer_norm_eps\": 1e-12,\n",
            "  \"max_position_embeddings\": 512,\n",
            "  \"model_type\": \"bert\",\n",
            "  \"num_attention_heads\": 12,\n",
            "  \"num_hidden_layers\": 12,\n",
            "  \"output_past\": true,\n",
            "  \"pad_token_id\": 0,\n",
            "  \"pooler_fc_size\": 768,\n",
            "  \"pooler_num_attention_heads\": 12,\n",
            "  \"pooler_num_fc_layers\": 3,\n",
            "  \"pooler_size_per_head\": 128,\n",
            "  \"pooler_type\": \"first_token_transform\",\n",
            "  \"position_embedding_type\": \"absolute\",\n",
            "  \"problem_type\": \"single_label_classification\",\n",
            "  \"torch_dtype\": \"float32\",\n",
            "  \"transformers_version\": \"4.25.1\",\n",
            "  \"type_vocab_size\": 2,\n",
            "  \"use_cache\": true,\n",
            "  \"vocab_size\": 21128\n",
            "}\n",
            "\n",
            "loading weights file pytorch_model.bin from cache at /root/.cache/huggingface/hub/models--owen198--weibo-wmmbert-2/snapshots/1c8b069ca4f42474887b1be5ddb45d0b190b785d/pytorch_model.bin\n",
            "All model checkpoint weights were used when initializing BertForSequenceClassification.\n",
            "\n",
            "All the weights of BertForSequenceClassification were initialized from the model checkpoint at owen198/weibo-wmmbert-2.\n",
            "If your task is similar to the task the model of the checkpoint was trained on, you can already use BertForSequenceClassification for predictions without further training.\n"
          ]
        }
      ]
    },
    {
      "cell_type": "code",
      "source": [
        "from datasets import load_metric\n",
        "\n",
        "metric = load_metric(\"accuracy\")\n",
        "\n",
        "def compute_metrics(eval_pred):\n",
        "    logits, labels = eval_pred\n",
        "    predictions = np.argmax(logits, axis=-1)\n",
        "    return metric.compute(predictions=predictions, references=labels)"
      ],
      "metadata": {
        "id": "Ur2OZfI62OjT"
      },
      "execution_count": null,
      "outputs": []
    },
    {
      "cell_type": "code",
      "source": [
        "from transformers import Trainer\n",
        "\n",
        "trainer = Trainer(\n",
        "    model=model, \n",
        "    eval_dataset=full_test_dataset,\n",
        "    compute_metrics=compute_metrics,\n",
        ")"
      ],
      "metadata": {
        "colab": {
          "base_uri": "https://localhost:8080/"
        },
        "outputId": "cc407d96-c51f-48e1-9e81-8d60095211d7",
        "id": "4lzwrI_R2OjT"
      },
      "execution_count": null,
      "outputs": [
        {
          "output_type": "stream",
          "name": "stderr",
          "text": [
            "No `TrainingArguments` passed, using `output_dir=tmp_trainer`.\n",
            "PyTorch: setting up devices\n",
            "The default value for the training argument `--report_to` will change in v5 (from all installed integrations to none). In v5, you will need to use `--report_to all` to get the same behavior as now. You should start updating your code and make this info disappear :-).\n"
          ]
        }
      ]
    },
    {
      "cell_type": "code",
      "source": [
        "import numpy as np"
      ],
      "metadata": {
        "id": "pjMytwep2OjU"
      },
      "execution_count": null,
      "outputs": []
    },
    {
      "cell_type": "code",
      "source": [],
      "metadata": {
        "id": "CAoM7Oaz2OjU"
      },
      "execution_count": null,
      "outputs": []
    },
    {
      "cell_type": "markdown",
      "source": [
        "#prediction results\n"
      ],
      "metadata": {
        "id": "INn0f0AC2OjU"
      }
    },
    {
      "cell_type": "code",
      "source": [
        "pred = trainer.predict(test_dataset=full_test_dataset)"
      ],
      "metadata": {
        "colab": {
          "base_uri": "https://localhost:8080/"
        },
        "outputId": "8408b8a3-9701-4cfd-ecb1-4ebd9a18d794",
        "id": "Wh5-w3be2OjU"
      },
      "execution_count": null,
      "outputs": [
        {
          "output_type": "stream",
          "name": "stderr",
          "text": [
            "The following columns in the test set don't have a corresponding argument in `BertForSequenceClassification.forward` and have been ignored: text. If text are not expected by `BertForSequenceClassification.forward`,  you can safely ignore this message.\n",
            "***** Running Prediction *****\n",
            "  Num examples = 354\n",
            "  Batch size = 8\n"
          ]
        },
        {
          "output_type": "display_data",
          "data": {
            "text/plain": [
              "<IPython.core.display.HTML object>"
            ],
            "text/html": []
          },
          "metadata": {}
        }
      ]
    },
    {
      "cell_type": "code",
      "source": [
        "pred"
      ],
      "metadata": {
        "colab": {
          "base_uri": "https://localhost:8080/"
        },
        "outputId": "5293c747-a33c-46ed-ee45-264cdc013a65",
        "id": "R3JLSfzb2OjV"
      },
      "execution_count": null,
      "outputs": [
        {
          "output_type": "execute_result",
          "data": {
            "text/plain": [
              "PredictionOutput(predictions=array([[-2.3605614 ,  2.472766  ],\n",
              "       [-2.6912239 ,  2.6857    ],\n",
              "       [-2.352408  ,  2.466415  ],\n",
              "       [-2.570216  ,  2.614823  ],\n",
              "       [-2.386003  ,  2.4920828 ],\n",
              "       [-2.7356567 ,  2.7118466 ],\n",
              "       [-1.8392448 ,  1.8159657 ],\n",
              "       [-2.1451442 ,  2.2649488 ],\n",
              "       [ 2.343806  , -3.2862785 ],\n",
              "       [-2.149518  ,  2.270241  ],\n",
              "       [-2.3962026 ,  2.4996262 ],\n",
              "       [-2.6880114 ,  2.6838374 ],\n",
              "       [-2.6660714 ,  2.6711206 ],\n",
              "       [-2.480002  ,  2.5579655 ],\n",
              "       [-1.6873095 ,  1.5985425 ],\n",
              "       [ 2.2020204 , -2.8455532 ],\n",
              "       [-1.2660329 ,  1.267198  ],\n",
              "       [-2.441676  ,  2.532044  ],\n",
              "       [ 1.6299474 , -2.1025872 ],\n",
              "       [-2.5619729 ,  2.6098332 ],\n",
              "       [ 1.480382  , -1.7593968 ],\n",
              "       [ 1.4691122 , -1.719526  ],\n",
              "       [-1.9195586 ,  1.9474345 ],\n",
              "       [-2.5132458 ,  2.5795383 ],\n",
              "       [-0.4208244 ,  0.6921186 ],\n",
              "       [-2.4747612 ,  2.554497  ],\n",
              "       [-1.6239815 ,  1.5312507 ],\n",
              "       [ 1.9309659 , -2.5294225 ],\n",
              "       [-2.2828612 ,  2.408516  ],\n",
              "       [-1.6961824 ,  1.6090661 ],\n",
              "       [-1.7148969 ,  1.6319108 ],\n",
              "       [-2.6083817 ,  2.6375444 ],\n",
              "       [-2.520945  ,  2.5844235 ],\n",
              "       [-2.4747612 ,  2.554497  ],\n",
              "       [ 1.9127607 , -2.5092568 ],\n",
              "       [ 2.0674224 , -2.6771548 ],\n",
              "       [ 2.209644  , -2.8575783 ],\n",
              "       [-2.7235637 ,  2.7046487 ],\n",
              "       [-1.8328056 ,  1.8053771 ],\n",
              "       [-2.714067  ,  2.6990476 ],\n",
              "       [-1.7680626 ,  1.7039478 ],\n",
              "       [-2.6282692 ,  2.649185  ],\n",
              "       [ 1.6976604 , -2.2241907 ],\n",
              "       [-2.6548603 ,  2.6646297 ],\n",
              "       [-2.520945  ,  2.5844235 ],\n",
              "       [-1.9705055 ,  2.0257082 ],\n",
              "       [-2.648104  ,  2.6607127 ],\n",
              "       [-2.5347886 ,  2.5931122 ],\n",
              "       [-2.1229198 ,  2.2373447 ],\n",
              "       [ 1.5900086 , -2.0251813 ],\n",
              "       [ 2.1133485 , -2.72915   ],\n",
              "       [-2.3077493 ,  2.4300845 ],\n",
              "       [ 1.5392731 , -1.9180845 ],\n",
              "       [-2.4813635 ,  2.5588686 ],\n",
              "       [-2.5693674 ,  2.6143157 ],\n",
              "       [-1.9332283 ,  1.9689157 ],\n",
              "       [-1.4644655 ,  1.3962913 ],\n",
              "       [-2.6606345 ,  2.6679718 ],\n",
              "       [-2.15391   ,  2.2755086 ],\n",
              "       [-2.5497842 ,  2.6023872 ],\n",
              "       [-2.1774554 ,  2.3028712 ],\n",
              "       [ 2.169845  , -2.7993634 ],\n",
              "       [ 2.3773189 , -3.4024909 ],\n",
              "       [-1.5287188 ,  1.4464229 ],\n",
              "       [-2.388938  ,  2.4942641 ],\n",
              "       [-2.3962026 ,  2.4996262 ],\n",
              "       [ 0.27771452,  0.3976872 ],\n",
              "       [-2.045642  ,  2.1338758 ],\n",
              "       [-2.4771068 ,  2.5560598 ],\n",
              "       [ 1.6219678 , -2.087275  ],\n",
              "       [-2.3018074 ,  2.4250255 ],\n",
              "       [-2.4489615 ,  2.537068  ],\n",
              "       [ 2.499905  , -3.7196627 ],\n",
              "       [-2.6572561 ,  2.6660128 ],\n",
              "       [-2.5244312 ,  2.5866206 ],\n",
              "       [ 2.1090195 , -2.724082  ],\n",
              "       [ 1.4285545 , -1.4401704 ],\n",
              "       [-1.7046279 ,  1.6191388 ],\n",
              "       [-1.101026  ,  1.1708977 ],\n",
              "       [-2.354484  ,  2.4680452 ],\n",
              "       [ 1.7627692 , -2.3236754 ],\n",
              "       [-2.1796162 ,  2.3053179 ],\n",
              "       [-2.1885612 ,  2.3152788 ],\n",
              "       [ 2.3074393 , -3.122671  ],\n",
              "       [-2.0344007 ,  2.1181152 ],\n",
              "       [-2.4187062 ,  2.5159168 ],\n",
              "       [ 1.0395977 , -0.698959  ],\n",
              "       [ 2.4247644 , -3.5399199 ],\n",
              "       [-1.9452921 ,  1.98758   ],\n",
              "       [ 2.377836  , -3.4041116 ],\n",
              "       [-1.7309023 ,  1.6523501 ],\n",
              "       [-1.8830402 ,  1.8884294 ],\n",
              "       [-2.1569781 ,  2.2791538 ],\n",
              "       [-2.3292572 ,  2.4479284 ],\n",
              "       [ 2.2238839 , -2.8816793 ],\n",
              "       [-2.3292572 ,  2.4479284 ],\n",
              "       [-2.561671  ,  2.6096482 ],\n",
              "       [-1.0216238 ,  1.1240218 ],\n",
              "       [ 2.3899417 , -3.441075  ],\n",
              "       [-2.0367656 ,  2.121444  ],\n",
              "       [-2.3712196 ,  2.4809394 ],\n",
              "       [-1.4622843 ,  1.3948318 ],\n",
              "       [-2.2379751 ,  2.3666584 ],\n",
              "       [-2.427753  ,  2.5223231 ],\n",
              "       [-2.3685017 ,  2.4788656 ],\n",
              "       [ 1.7384117 , -2.2882984 ],\n",
              "       [-2.0170517 ,  2.09353   ],\n",
              "       [ 2.2826657 , -3.0230181 ],\n",
              "       [-2.5615625 ,  2.6095824 ],\n",
              "       [-1.4009062 ,  1.3524828 ],\n",
              "       [-2.3087115 ,  2.4308934 ],\n",
              "       [-1.7849314 ,  1.7290889 ],\n",
              "       [-2.065915  ,  2.1619122 ],\n",
              "       [-2.561671  ,  2.6096482 ],\n",
              "       [ 2.47852   , -3.6738553 ],\n",
              "       [-2.5167806 ,  2.5817857 ],\n",
              "       [-2.6669464 ,  2.6716287 ],\n",
              "       [-2.512638  ,  2.5791514 ],\n",
              "       [-2.559354  ,  2.6082404 ],\n",
              "       [ 1.5316135 , -1.9013033 ],\n",
              "       [-2.659889  ,  2.6675453 ],\n",
              "       [-2.4976966 ,  2.5695488 ],\n",
              "       [ 1.3874514 , -1.059247  ],\n",
              "       [-2.083951  ,  2.1863823 ],\n",
              "       [-2.437349  ,  2.5290356 ],\n",
              "       [-2.5247614 ,  2.586833  ],\n",
              "       [-2.6572669 ,  2.6660254 ],\n",
              "       [-1.9766366 ,  2.0348244 ],\n",
              "       [-2.5132458 ,  2.5795383 ],\n",
              "       [-2.4366174 ,  2.5285268 ],\n",
              "       [-2.561671  ,  2.6096482 ],\n",
              "       [ 1.6900768 , -2.211487  ],\n",
              "       [-2.5349674 ,  2.5932178 ],\n",
              "       [-2.561671  ,  2.6096482 ],\n",
              "       [-2.6714032 ,  2.6742136 ],\n",
              "       [ 0.18285076,  0.2365846 ],\n",
              "       [-2.4037395 ,  2.5051386 ],\n",
              "       [-2.561671  ,  2.6096482 ],\n",
              "       [-2.0533688 ,  2.1446161 ],\n",
              "       [-2.1977093 ,  2.325255  ],\n",
              "       [-2.246705  ,  2.3751264 ],\n",
              "       [ 2.26622   , -2.9733527 ],\n",
              "       [-2.45802   ,  2.543246  ],\n",
              "       [ 2.3173594 , -3.1695025 ],\n",
              "       [-2.09204   ,  2.1971922 ],\n",
              "       [-2.0753186 ,  2.174723  ],\n",
              "       [-2.4008825 ,  2.5030508 ],\n",
              "       [-2.5639465 ,  2.6110334 ],\n",
              "       [-2.4451623 ,  2.5344532 ],\n",
              "       [-2.1508512 ,  2.2718444 ],\n",
              "       [-2.3382185 ,  2.455164  ],\n",
              "       [-2.0367656 ,  2.121444  ],\n",
              "       [-2.481892  ,  2.5592124 ],\n",
              "       [-2.1618018 ,  2.2848406 ],\n",
              "       [-2.556231  ,  2.6063347 ],\n",
              "       [-2.5062242 ,  2.5750475 ],\n",
              "       [-2.712059  ,  2.697877  ],\n",
              "       [-2.0367656 ,  2.121444  ],\n",
              "       [-1.9602724 ,  2.0103714 ],\n",
              "       [-2.6977289 ,  2.6894886 ],\n",
              "       [ 2.144109  , -2.7661707 ],\n",
              "       [-2.061946  ,  2.1564574 ],\n",
              "       [-2.0864017 ,  2.1896741 ],\n",
              "       [ 2.1308131 , -2.7498617 ],\n",
              "       [-2.6782231 ,  2.6781645 ],\n",
              "       [ 2.5101168 , -3.7396894 ],\n",
              "       [-2.4549515 ,  2.541155  ],\n",
              "       [-2.420446  ,  2.5171478 ],\n",
              "       [-2.1297116 ,  2.245902  ],\n",
              "       [ 2.377836  , -3.4041116 ],\n",
              "       [-2.4465847 ,  2.5354376 ],\n",
              "       [ 1.8314974 , -2.4142573 ],\n",
              "       [-2.5691555 ,  2.6141863 ],\n",
              "       [-2.2809107 ,  2.406777  ],\n",
              "       [-2.4239037 ,  2.5196066 ],\n",
              "       [-2.4863071 ,  2.5621202 ],\n",
              "       [-1.8388321 ,  1.8153019 ],\n",
              "       [ 1.543654  , -1.9285419 ],\n",
              "       [-2.6989536 ,  2.6902025 ],\n",
              "       [-1.0244939 ,  1.1246397 ],\n",
              "       [-1.9667085 ,  2.0200405 ],\n",
              "       [-2.2686546 ,  2.3957071 ],\n",
              "       [-2.7272787 ,  2.7068524 ],\n",
              "       [-1.7478881 ,  1.6752882 ],\n",
              "       [-2.062959  ,  2.1578524 ],\n",
              "       [-1.9642045 ,  2.0162835 ],\n",
              "       [-2.6715355 ,  2.6742857 ],\n",
              "       [-2.4008825 ,  2.5030508 ],\n",
              "       [-1.8836031 ,  1.8893416 ],\n",
              "       [-1.8388321 ,  1.8153019 ],\n",
              "       [ 1.5201557 , -1.8665335 ],\n",
              "       [-1.8415525 ,  1.8197888 ],\n",
              "       [ 2.297193  , -3.0776463 ],\n",
              "       [-1.823921  ,  1.7908298 ],\n",
              "       [-2.054339  ,  2.1459641 ],\n",
              "       [-2.3741064 ,  2.483143  ],\n",
              "       [ 2.432691  , -3.5611567 ],\n",
              "       [ 1.6910698 , -2.2131674 ],\n",
              "       [ 1.4630185 , -1.7020485 ],\n",
              "       [-2.2643623 ,  2.3917582 ],\n",
              "       [-2.429831  ,  2.5237815 ],\n",
              "       [-1.7680516 ,  1.703898  ],\n",
              "       [-1.8388321 ,  1.8153019 ],\n",
              "       [-1.8388321 ,  1.8153019 ],\n",
              "       [-2.127397  ,  2.2429936 ],\n",
              "       [-2.2766063 ,  2.40292   ],\n",
              "       [-2.6984832 ,  2.6899347 ],\n",
              "       [-2.5277987 ,  2.5887406 ],\n",
              "       [-2.6655827 ,  2.6708364 ],\n",
              "       [-1.5923648 ,  1.5013554 ],\n",
              "       [-2.4599788 ,  2.5445755 ],\n",
              "       [-2.6193068 ,  2.6439517 ],\n",
              "       [-1.8684809 ,  1.8643932 ],\n",
              "       [-1.8684809 ,  1.8643932 ],\n",
              "       [-2.0110872 ,  2.0849876 ],\n",
              "       [-2.4747612 ,  2.554497  ],\n",
              "       [ 1.8149796 , -2.393464  ],\n",
              "       [-2.6757896 ,  2.676745  ],\n",
              "       [ 1.5982639 , -2.0413985 ],\n",
              "       [ 1.595379  , -2.0356436 ],\n",
              "       [ 2.221486  , -2.877462  ],\n",
              "       [-2.607506  ,  2.6370301 ],\n",
              "       [-2.6372747 ,  2.6544259 ],\n",
              "       [-2.4892824 ,  2.5640724 ],\n",
              "       [-2.6454363 ,  2.659166  ],\n",
              "       [-1.8498108 ,  1.833456  ],\n",
              "       [-2.6540608 ,  2.6641645 ],\n",
              "       [-2.6540608 ,  2.6641645 ],\n",
              "       [-1.8005271 ,  1.753289  ],\n",
              "       [-1.4702917 ,  1.4011958 ],\n",
              "       [ 1.9803095 , -2.5829544 ],\n",
              "       [ 0.9341326 , -0.70979565],\n",
              "       [ 1.5617793 , -1.9661609 ],\n",
              "       [ 1.4312681 , -1.4947525 ],\n",
              "       [-2.0324402 ,  2.1153548 ],\n",
              "       [-2.353584  ,  2.4673336 ],\n",
              "       [-2.5537407 ,  2.6048114 ],\n",
              "       [-2.4239037 ,  2.5196066 ],\n",
              "       [-2.2964077 ,  2.4203818 ],\n",
              "       [ 2.4265425 , -3.544699  ],\n",
              "       [-2.0617652 ,  2.1562064 ],\n",
              "       [ 2.3011386 , -3.0943465 ],\n",
              "       [-2.7185316 ,  2.701681  ],\n",
              "       [ 1.9211562 , -2.5186388 ],\n",
              "       [-2.1681356 ,  2.2922106 ],\n",
              "       [-2.2624292 ,  2.3899765 ],\n",
              "       [ 1.8909472 , -2.4846902 ],\n",
              "       [-2.4270568 ,  2.5218313 ],\n",
              "       [ 2.1468754 , -2.7695901 ],\n",
              "       [-2.3440294 ,  2.4598072 ],\n",
              "       [ 2.2386255 , -2.9094913 ],\n",
              "       [ 2.2697728 , -2.9831755 ],\n",
              "       [ 2.13019   , -2.7491112 ],\n",
              "       [ 2.1933088 , -2.8323429 ],\n",
              "       [ 1.4678588 , -1.34523   ],\n",
              "       [-2.3626287 ,  2.4743614 ],\n",
              "       [-1.8048509 ,  1.760161  ],\n",
              "       [ 2.001696  , -2.6059349 ],\n",
              "       [-2.1527197 ,  2.2740853 ],\n",
              "       [-1.8295519 ,  1.8000546 ],\n",
              "       [ 2.241822  , -2.9159255 ],\n",
              "       [-2.0058804 ,  2.0775115 ],\n",
              "       [ 0.64515096,  0.05747986],\n",
              "       [-1.7138195 ,  1.6304989 ],\n",
              "       [ 1.5057445 , -1.8293575 ],\n",
              "       [ 1.7598572 , -2.3195574 ],\n",
              "       [-2.1745086 ,  2.299528  ],\n",
              "       [ 2.3918946 , -3.44691   ],\n",
              "       [-1.9140192 ,  1.9386476 ],\n",
              "       [-2.429485  ,  2.5235386 ],\n",
              "       [-2.0769994 ,  2.177009  ],\n",
              "       [-2.6896107 ,  2.6847632 ],\n",
              "       [-2.6893244 ,  2.6846042 ],\n",
              "       [-1.9296918 ,  1.9634013 ],\n",
              "       [ 1.8784673 , -2.4703732 ],\n",
              "       [ 2.2155485 , -2.8672998 ],\n",
              "       [ 1.6444997 , -2.1301122 ],\n",
              "       [ 2.0917943 , -2.7043982 ],\n",
              "       [ 0.33865124,  0.1416377 ],\n",
              "       [-1.8843476 ,  1.890576  ],\n",
              "       [-1.8122319 ,  1.7718836 ],\n",
              "       [ 2.368426  , -3.3740635 ],\n",
              "       [-2.7340388 ,  2.7108734 ],\n",
              "       [ 1.7613097 , -2.3216572 ],\n",
              "       [-2.327326  ,  2.4463577 ],\n",
              "       [-2.1549575 ,  2.2767503 ],\n",
              "       [ 2.1150355 , -2.7311347 ],\n",
              "       [ 1.6547757 , -2.1491418 ],\n",
              "       [-2.397611  ,  2.500659  ],\n",
              "       [-2.5127766 ,  2.5792375 ],\n",
              "       [ 2.0435004 , -2.6509879 ],\n",
              "       [-2.482035  ,  2.5593085 ],\n",
              "       [ 1.97475   , -2.5769792 ],\n",
              "       [ 1.910646  , -2.506898  ],\n",
              "       [-2.0793319 ,  2.1801636 ],\n",
              "       [-1.7812304 ,  1.7235498 ],\n",
              "       [ 2.2888715 , -3.0449293 ],\n",
              "       [ 2.1456795 , -2.768092  ],\n",
              "       [ 1.8784673 , -2.4703732 ],\n",
              "       [-2.4835966 ,  2.560334  ],\n",
              "       [ 2.3879483 , -3.4350846 ],\n",
              "       [ 0.8184603 , -0.25227243],\n",
              "       [-1.4781964 ,  1.4068917 ],\n",
              "       [ 1.5437568 , -1.9296314 ],\n",
              "       [-1.7919114 ,  1.7398643 ],\n",
              "       [-2.6274228 ,  2.648691  ],\n",
              "       [-2.4490335 ,  2.5371184 ],\n",
              "       [-1.8777337 ,  1.879708  ],\n",
              "       [ 2.130628  , -2.7496655 ],\n",
              "       [-2.5247614 ,  2.586833  ],\n",
              "       [-2.1735563 ,  2.2984447 ],\n",
              "       [ 1.5983425 , -2.0417974 ],\n",
              "       [ 2.4356549 , -3.5689797 ],\n",
              "       [ 0.9916791 , -1.0828019 ],\n",
              "       [-1.5580125 ,  1.4708574 ],\n",
              "       [ 1.5474714 , -1.9347792 ],\n",
              "       [-1.7435944 ,  1.6694064 ],\n",
              "       [-2.4095502 ,  2.5093358 ],\n",
              "       [-2.353428  ,  2.467212  ],\n",
              "       [ 1.9615366 , -2.5627384 ],\n",
              "       [-2.1500902 ,  2.270927  ],\n",
              "       [ 2.3120024 , -3.14404   ],\n",
              "       [-2.2780597 ,  2.4042284 ],\n",
              "       [ 1.5437568 , -1.9296314 ],\n",
              "       [ 1.5437568 , -1.9296314 ],\n",
              "       [ 2.2865646 , -3.0366035 ],\n",
              "       [ 2.2249398 , -2.8835912 ],\n",
              "       [-2.6783497 ,  2.6782317 ],\n",
              "       [ 1.9840766 , -2.5869772 ],\n",
              "       [-2.551311  ,  2.6033237 ],\n",
              "       [-1.7842994 ,  1.7281897 ],\n",
              "       [-2.6761224 ,  2.6769378 ],\n",
              "       [ 2.2921553 , -3.0573826 ],\n",
              "       [-2.244854  ,  2.3733506 ],\n",
              "       [-1.8534222 ,  1.8394576 ],\n",
              "       [-1.8185697 ,  1.7821454 ],\n",
              "       [-1.9313593 ,  1.9659997 ],\n",
              "       [-0.5671538 ,  0.80689764],\n",
              "       [ 1.6747493 , -2.185051  ],\n",
              "       [-1.9049745 ,  1.9241322 ],\n",
              "       [-2.724411  ,  2.7051551 ],\n",
              "       [ 2.2163725 , -2.868684  ],\n",
              "       [-2.0044234 ,  2.075409  ],\n",
              "       [-2.046407  ,  2.1349418 ],\n",
              "       [-1.9049745 ,  1.9241322 ],\n",
              "       [ 1.7387139 , -2.2887645 ],\n",
              "       [-2.1656482 ,  2.2893345 ],\n",
              "       [-2.2064357 ,  2.3345654 ],\n",
              "       [ 0.83001566, -1.0592723 ],\n",
              "       [-2.434558  ,  2.5270996 ],\n",
              "       [-2.4975138 ,  2.5694375 ],\n",
              "       [-2.0602508 ,  2.1541264 ],\n",
              "       [-2.2337496 ,  2.3624957 ],\n",
              "       [ 2.1114156 , -2.7268896 ]], dtype=float32), label_ids=None, metrics={'test_runtime': 10.6633, 'test_samples_per_second': 33.198, 'test_steps_per_second': 4.22})"
            ]
          },
          "metadata": {},
          "execution_count": 558
        }
      ]
    },
    {
      "cell_type": "code",
      "source": [
        "# logits, labels = pred.predictions\n",
        "np.argmax(pred.predictions, axis=-1)"
      ],
      "metadata": {
        "colab": {
          "base_uri": "https://localhost:8080/"
        },
        "outputId": "64794d53-9717-49e6-d131-9b9a30fe5f17",
        "id": "-N64KiyS2OjV"
      },
      "execution_count": null,
      "outputs": [
        {
          "output_type": "execute_result",
          "data": {
            "text/plain": [
              "array([1, 1, 1, 1, 1, 1, 1, 1, 0, 1, 1, 1, 1, 1, 1, 0, 1, 1, 0, 1, 0, 0,\n",
              "       1, 1, 1, 1, 1, 0, 1, 1, 1, 1, 1, 1, 0, 0, 0, 1, 1, 1, 1, 1, 0, 1,\n",
              "       1, 1, 1, 1, 1, 0, 0, 1, 0, 1, 1, 1, 1, 1, 1, 1, 1, 0, 0, 1, 1, 1,\n",
              "       1, 1, 1, 0, 1, 1, 0, 1, 1, 0, 0, 1, 1, 1, 0, 1, 1, 0, 1, 1, 0, 0,\n",
              "       1, 0, 1, 1, 1, 1, 0, 1, 1, 1, 0, 1, 1, 1, 1, 1, 1, 0, 1, 0, 1, 1,\n",
              "       1, 1, 1, 1, 0, 1, 1, 1, 1, 0, 1, 1, 0, 1, 1, 1, 1, 1, 1, 1, 1, 0,\n",
              "       1, 1, 1, 1, 1, 1, 1, 1, 1, 0, 1, 0, 1, 1, 1, 1, 1, 1, 1, 1, 1, 1,\n",
              "       1, 1, 1, 1, 1, 1, 0, 1, 1, 0, 1, 0, 1, 1, 1, 0, 1, 0, 1, 1, 1, 1,\n",
              "       1, 0, 1, 1, 1, 1, 1, 1, 1, 1, 1, 1, 1, 1, 0, 1, 0, 1, 1, 1, 0, 0,\n",
              "       0, 1, 1, 1, 1, 1, 1, 1, 1, 1, 1, 1, 1, 1, 1, 1, 1, 1, 0, 1, 0, 0,\n",
              "       0, 1, 1, 1, 1, 1, 1, 1, 1, 1, 0, 0, 0, 0, 1, 1, 1, 1, 1, 0, 1, 0,\n",
              "       1, 0, 1, 1, 0, 1, 0, 1, 0, 0, 0, 0, 0, 1, 1, 0, 1, 1, 0, 1, 0, 1,\n",
              "       0, 0, 1, 0, 1, 1, 1, 1, 1, 1, 0, 0, 0, 0, 0, 1, 1, 0, 1, 0, 1, 1,\n",
              "       0, 0, 1, 1, 0, 1, 0, 0, 1, 1, 0, 0, 0, 1, 0, 0, 1, 0, 1, 1, 1, 1,\n",
              "       0, 1, 1, 0, 0, 0, 1, 0, 1, 1, 1, 0, 1, 0, 1, 0, 0, 0, 0, 1, 0, 1,\n",
              "       1, 1, 0, 1, 1, 1, 1, 1, 0, 1, 1, 0, 1, 1, 1, 0, 1, 1, 0, 1, 1, 1,\n",
              "       1, 0])"
            ]
          },
          "metadata": {},
          "execution_count": 559
        }
      ]
    },
    {
      "cell_type": "code",
      "source": [
        "testing_pd['pred'] = np.argmax(pred.predictions, axis=-1)"
      ],
      "metadata": {
        "id": "ehwRiTeI2OjV"
      },
      "execution_count": null,
      "outputs": []
    },
    {
      "cell_type": "code",
      "source": [
        "#final table\n",
        "testing_pd"
      ],
      "metadata": {
        "colab": {
          "base_uri": "https://localhost:8080/"
        },
        "outputId": "eeff262a-4c58-4e94-a380-f840f88fc440",
        "id": "1yvR6kzb2OjV"
      },
      "execution_count": null,
      "outputs": [
        {
          "output_type": "execute_result",
          "data": {
            "text/plain": [
              "                                                  text  pred\n",
              "0    预祝帅气的蒋公曾孙参选台北市长成功。是参选，竞选，是台北人民一张张选票出来的那种。5:/ Z...     1\n",
              "1                        蒋万安是我看过最认真，最努力的台北市长参选人，他值得赢 ​     1\n",
              "2    还是坚持我月初的预测中国国民党：14民主进步党： 6台湾民众党：1无党籍：1台北 蒋万安新北...     1\n",
              "3                   蔣萬安，單選臺北市市長加油#蒋万安# L高兴15014的微博视频 ​     1\n",
              "4                            蒋万安将参选台北市市长，表态将直面蒋家功与过O ​     1\n",
              "..                                                 ...   ...\n",
              "349  台北市长当选人蒋万安小内阁备受关注。蒋万安今天表示，他的用人标准非常清楚，就是专业、品格、用...     1\n",
              "350  国民党台北市长当选人蒋万安选前辞去立委一职，留下北市第3选举区（中山、北松山）立委悬缺，国民...     1\n",
              "351  九合一大选落幕，台北市政府将改朝换代，国民党台北市长当选人蒋万安今天上午表示，下周一早上10...     1\n",
              "352                               蒋万安赢得中国台湾省台北市市长选选举 ​     1\n",
              "353                       没别的意思，但是微博有蒋万安梦女吗，有的话算我一个（ ​     0\n",
              "\n",
              "[354 rows x 2 columns]"
            ],
            "text/html": [
              "\n",
              "  <div id=\"df-42d7e23a-5533-4dff-98f5-1bd6f4d6234a\">\n",
              "    <div class=\"colab-df-container\">\n",
              "      <div>\n",
              "<style scoped>\n",
              "    .dataframe tbody tr th:only-of-type {\n",
              "        vertical-align: middle;\n",
              "    }\n",
              "\n",
              "    .dataframe tbody tr th {\n",
              "        vertical-align: top;\n",
              "    }\n",
              "\n",
              "    .dataframe thead th {\n",
              "        text-align: right;\n",
              "    }\n",
              "</style>\n",
              "<table border=\"1\" class=\"dataframe\">\n",
              "  <thead>\n",
              "    <tr style=\"text-align: right;\">\n",
              "      <th></th>\n",
              "      <th>text</th>\n",
              "      <th>pred</th>\n",
              "    </tr>\n",
              "  </thead>\n",
              "  <tbody>\n",
              "    <tr>\n",
              "      <th>0</th>\n",
              "      <td>预祝帅气的蒋公曾孙参选台北市长成功。是参选，竞选，是台北人民一张张选票出来的那种。5:/ Z...</td>\n",
              "      <td>1</td>\n",
              "    </tr>\n",
              "    <tr>\n",
              "      <th>1</th>\n",
              "      <td>蒋万安是我看过最认真，最努力的台北市长参选人，他值得赢 ​</td>\n",
              "      <td>1</td>\n",
              "    </tr>\n",
              "    <tr>\n",
              "      <th>2</th>\n",
              "      <td>还是坚持我月初的预测中国国民党：14民主进步党： 6台湾民众党：1无党籍：1台北 蒋万安新北...</td>\n",
              "      <td>1</td>\n",
              "    </tr>\n",
              "    <tr>\n",
              "      <th>3</th>\n",
              "      <td>蔣萬安，單選臺北市市長加油#蒋万安# L高兴15014的微博视频 ​</td>\n",
              "      <td>1</td>\n",
              "    </tr>\n",
              "    <tr>\n",
              "      <th>4</th>\n",
              "      <td>蒋万安将参选台北市市长，表态将直面蒋家功与过O ​</td>\n",
              "      <td>1</td>\n",
              "    </tr>\n",
              "    <tr>\n",
              "      <th>...</th>\n",
              "      <td>...</td>\n",
              "      <td>...</td>\n",
              "    </tr>\n",
              "    <tr>\n",
              "      <th>349</th>\n",
              "      <td>台北市长当选人蒋万安小内阁备受关注。蒋万安今天表示，他的用人标准非常清楚，就是专业、品格、用...</td>\n",
              "      <td>1</td>\n",
              "    </tr>\n",
              "    <tr>\n",
              "      <th>350</th>\n",
              "      <td>国民党台北市长当选人蒋万安选前辞去立委一职，留下北市第3选举区（中山、北松山）立委悬缺，国民...</td>\n",
              "      <td>1</td>\n",
              "    </tr>\n",
              "    <tr>\n",
              "      <th>351</th>\n",
              "      <td>九合一大选落幕，台北市政府将改朝换代，国民党台北市长当选人蒋万安今天上午表示，下周一早上10...</td>\n",
              "      <td>1</td>\n",
              "    </tr>\n",
              "    <tr>\n",
              "      <th>352</th>\n",
              "      <td>蒋万安赢得中国台湾省台北市市长选选举 ​</td>\n",
              "      <td>1</td>\n",
              "    </tr>\n",
              "    <tr>\n",
              "      <th>353</th>\n",
              "      <td>没别的意思，但是微博有蒋万安梦女吗，有的话算我一个（ ​</td>\n",
              "      <td>0</td>\n",
              "    </tr>\n",
              "  </tbody>\n",
              "</table>\n",
              "<p>354 rows × 2 columns</p>\n",
              "</div>\n",
              "      <button class=\"colab-df-convert\" onclick=\"convertToInteractive('df-42d7e23a-5533-4dff-98f5-1bd6f4d6234a')\"\n",
              "              title=\"Convert this dataframe to an interactive table.\"\n",
              "              style=\"display:none;\">\n",
              "        \n",
              "  <svg xmlns=\"http://www.w3.org/2000/svg\" height=\"24px\"viewBox=\"0 0 24 24\"\n",
              "       width=\"24px\">\n",
              "    <path d=\"M0 0h24v24H0V0z\" fill=\"none\"/>\n",
              "    <path d=\"M18.56 5.44l.94 2.06.94-2.06 2.06-.94-2.06-.94-.94-2.06-.94 2.06-2.06.94zm-11 1L8.5 8.5l.94-2.06 2.06-.94-2.06-.94L8.5 2.5l-.94 2.06-2.06.94zm10 10l.94 2.06.94-2.06 2.06-.94-2.06-.94-.94-2.06-.94 2.06-2.06.94z\"/><path d=\"M17.41 7.96l-1.37-1.37c-.4-.4-.92-.59-1.43-.59-.52 0-1.04.2-1.43.59L10.3 9.45l-7.72 7.72c-.78.78-.78 2.05 0 2.83L4 21.41c.39.39.9.59 1.41.59.51 0 1.02-.2 1.41-.59l7.78-7.78 2.81-2.81c.8-.78.8-2.07 0-2.86zM5.41 20L4 18.59l7.72-7.72 1.47 1.35L5.41 20z\"/>\n",
              "  </svg>\n",
              "      </button>\n",
              "      \n",
              "  <style>\n",
              "    .colab-df-container {\n",
              "      display:flex;\n",
              "      flex-wrap:wrap;\n",
              "      gap: 12px;\n",
              "    }\n",
              "\n",
              "    .colab-df-convert {\n",
              "      background-color: #E8F0FE;\n",
              "      border: none;\n",
              "      border-radius: 50%;\n",
              "      cursor: pointer;\n",
              "      display: none;\n",
              "      fill: #1967D2;\n",
              "      height: 32px;\n",
              "      padding: 0 0 0 0;\n",
              "      width: 32px;\n",
              "    }\n",
              "\n",
              "    .colab-df-convert:hover {\n",
              "      background-color: #E2EBFA;\n",
              "      box-shadow: 0px 1px 2px rgba(60, 64, 67, 0.3), 0px 1px 3px 1px rgba(60, 64, 67, 0.15);\n",
              "      fill: #174EA6;\n",
              "    }\n",
              "\n",
              "    [theme=dark] .colab-df-convert {\n",
              "      background-color: #3B4455;\n",
              "      fill: #D2E3FC;\n",
              "    }\n",
              "\n",
              "    [theme=dark] .colab-df-convert:hover {\n",
              "      background-color: #434B5C;\n",
              "      box-shadow: 0px 1px 3px 1px rgba(0, 0, 0, 0.15);\n",
              "      filter: drop-shadow(0px 1px 2px rgba(0, 0, 0, 0.3));\n",
              "      fill: #FFFFFF;\n",
              "    }\n",
              "  </style>\n",
              "\n",
              "      <script>\n",
              "        const buttonEl =\n",
              "          document.querySelector('#df-42d7e23a-5533-4dff-98f5-1bd6f4d6234a button.colab-df-convert');\n",
              "        buttonEl.style.display =\n",
              "          google.colab.kernel.accessAllowed ? 'block' : 'none';\n",
              "\n",
              "        async function convertToInteractive(key) {\n",
              "          const element = document.querySelector('#df-42d7e23a-5533-4dff-98f5-1bd6f4d6234a');\n",
              "          const dataTable =\n",
              "            await google.colab.kernel.invokeFunction('convertToInteractive',\n",
              "                                                     [key], {});\n",
              "          if (!dataTable) return;\n",
              "\n",
              "          const docLinkHtml = 'Like what you see? Visit the ' +\n",
              "            '<a target=\"_blank\" href=https://colab.research.google.com/notebooks/data_table.ipynb>data table notebook</a>'\n",
              "            + ' to learn more about interactive tables.';\n",
              "          element.innerHTML = '';\n",
              "          dataTable['output_type'] = 'display_data';\n",
              "          await google.colab.output.renderOutput(dataTable, element);\n",
              "          const docLink = document.createElement('div');\n",
              "          docLink.innerHTML = docLinkHtml;\n",
              "          element.appendChild(docLink);\n",
              "        }\n",
              "      </script>\n",
              "    </div>\n",
              "  </div>\n",
              "  "
            ]
          },
          "metadata": {},
          "execution_count": 561
        }
      ]
    },
    {
      "cell_type": "markdown",
      "source": [
        "# graphs"
      ],
      "metadata": {
        "id": "p_dPOa86ePdV"
      }
    },
    {
      "cell_type": "code",
      "source": [
        "count0 = (testing_pd['pred'] == 0).sum()\n",
        "count1 = (testing_pd['pred'] == 1).sum()\n",
        "print(count0, count1)"
      ],
      "metadata": {
        "colab": {
          "base_uri": "https://localhost:8080/"
        },
        "outputId": "61162b24-faef-4f4a-e24c-daa03f70663a",
        "id": "GI2h2d6m2OjV"
      },
      "execution_count": null,
      "outputs": [
        {
          "output_type": "stream",
          "name": "stdout",
          "text": [
            "105 249\n"
          ]
        }
      ]
    },
    {
      "cell_type": "code",
      "source": [
        "#plot in total amounts. Remember, 0 = negative, 1 = positive\n",
        "import matplotlib.pyplot as plt\n",
        "count0 = (testing_pd['pred'] == 0).sum()\n",
        "count1 = (testing_pd['pred'] == 1).sum()\n",
        "df_plot=pd.DataFrame({'result in numbers': ['_'], 'negative':[count0], 'positive': [count1]})\n",
        "df_plot.plot.bar(x='result in numbers', figsize=(10, 10))\n",
        "plt.show()"
      ],
      "metadata": {
        "id": "wvusEMxGaoil",
        "colab": {
          "base_uri": "https://localhost:8080/",
          "height": 601
        },
        "outputId": "87b2e1dc-20a3-4115-dec1-da7d40d5e9b0"
      },
      "execution_count": null,
      "outputs": [
        {
          "output_type": "display_data",
          "data": {
            "text/plain": [
              "<Figure size 720x720 with 1 Axes>"
            ],
            "image/png": "[encoded data removed]"
          },
          "metadata": {
            "needs_background": "light"
          }
        }
      ]
    },
    {
      "cell_type": "code",
      "source": [
        "#def Percentage(num1, num2):\n",
        "#    return num1 / (num1 + num2) * 100\n",
        "    \n",
        "#print(Percentage(count0, count1))\n",
        "#print(Percentage(count1, count0))\n",
        "\n",
        "def Percentage(num1, num2):\n",
        "    return num1 / (num1 + num2) * 100\n",
        "\n",
        "#plot in percentage. Remember, 0 = negative, 1 = positive\n",
        "per1=Percentage(count0, count1)\n",
        "per2=Percentage(count1, count0)\n",
        "\n",
        "label = ['negative', 'positive']\n",
        "shares = [per1, per2]\n",
        "fig, ax = plt.subplots(figsize=(10,10))\n",
        "ax.pie(shares, labels=label, autopct='%.2f%%', shadow=False, labeldistance=1.1,  textprops={'fontsize': 14})\n",
        "ax.set_title('Chiang Wan-an after', fontsize=18, y=0.95);"
      ],
      "metadata": {
        "colab": {
          "base_uri": "https://localhost:8080/",
          "height": 575
        },
        "outputId": "bae25d2e-7597-456c-af18-325526944102",
        "id": "z5iaob442OjW"
      },
      "execution_count": null,
      "outputs": [
        {
          "output_type": "display_data",
          "data": {
            "text/plain": [
              "<Figure size 720x720 with 1 Axes>"
            ],
            "image/png": "[encoded data removed]"
          },
          "metadata": {}
        }
      ]
    },
    {
      "cell_type": "code",
      "source": [],
      "metadata": {
        "id": "l-DzoSNb2i6o"
      },
      "execution_count": null,
      "outputs": []
    }
  ]
}